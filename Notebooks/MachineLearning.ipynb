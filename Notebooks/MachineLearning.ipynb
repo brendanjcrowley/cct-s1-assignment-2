{
 "cells": [
  {
   "cell_type": "markdown",
   "metadata": {
    "id": "6G8vEEDB3lbZ"
   },
   "source": [
    "### Prerequisites for running notebook"
   ]
  },
  {
   "cell_type": "code",
   "execution_count": 2,
   "metadata": {
    "colab": {
     "base_uri": "https://localhost:8080/"
    },
    "executionInfo": {
     "elapsed": 6014,
     "status": "ok",
     "timestamp": 1652368682050,
     "user": {
      "displayName": "Brendan Crowley",
      "userId": "09355744342736110324"
     },
     "user_tz": -60
    },
    "id": "ma8ONwkxDBdW",
    "outputId": "87383f6b-d812-4c4a-dc7b-392544c9a4f5"
   },
   "outputs": [
    {
     "name": "stdout",
     "output_type": "stream",
     "text": [
      "\u001b[K     |████████████████████████████████| 57 kB 5.4 MB/s \n",
      "\u001b[K     |████████████████████████████████| 60 kB 7.5 MB/s \n",
      "\u001b[?25h"
     ]
    }
   ],
   "source": [
    "!pip install kora -q"
   ]
  },
  {
   "cell_type": "code",
   "execution_count": 1,
   "metadata": {
    "executionInfo": {
     "elapsed": 1325,
     "status": "ok",
     "timestamp": 1652368683358,
     "user": {
      "displayName": "Brendan Crowley",
      "userId": "09355744342736110324"
     },
     "user_tz": -60
    },
    "id": "lhzXgpvVFKQI"
   },
   "outputs": [],
   "source": [
    "##Standard imports for project\n",
    "import pandas as pd\n",
    "import numpy as np\n",
    "from datetime import datetime\n",
    "\n",
    "#Functions for use\n",
    "from sklearn.base import clone\n",
    "\n",
    "#models\n",
    "from sklearn.linear_model import LogisticRegression\n",
    "from sklearn.ensemble import RandomForestRegressor\n",
    "from sklearn.tree import DecisionTreeRegressor\n",
    "from sklearn.neighbors import KNeighborsRegressor\n",
    "\n",
    "#Evaluation\n",
    "from sklearn.model_selection import train_test_split\n",
    "from sklearn.model_selection import cross_val_score, StratifiedKFold, KFold\n",
    "from sklearn.metrics import mean_absolute_error, accuracy_score\n",
    "\n",
    "#Feature selection\n",
    "from sklearn.feature_selection import SelectKBest, f_regression\n",
    "from sklearn.feature_selection import RFE\n",
    "from sklearn.feature_selection import RFECV\n",
    "\n",
    "#Hyperparameter optimization\n",
    "from sklearn.model_selection import GridSearchCV, RandomizedSearchCV"
   ]
  },
  {
   "cell_type": "markdown",
   "metadata": {
    "id": "Ow_OPnrfLIp7"
   },
   "source": [
    "## Required execution for notebook\n",
    "\n",
    "The below verifies if the notebook is being executed in a local environment (Anaconda) or if the notebook is being hosted (Google Drive), and sets certain variables based on the requirement (\"cwd\" being the reference of the project directory; the notebook is always assumed to be executed at the root or the highest level of the project folder)"
   ]
  },
  {
   "cell_type": "code",
   "execution_count": 2,
   "metadata": {
    "colab": {
     "base_uri": "https://localhost:8080/"
    },
    "executionInfo": {
     "elapsed": 39146,
     "status": "ok",
     "timestamp": 1652368727829,
     "user": {
      "displayName": "Brendan Crowley",
      "userId": "09355744342736110324"
     },
     "user_tz": -60
    },
    "id": "apHikYwkGjDg",
    "outputId": "dc2237c1-0842-4b5b-8a0f-d64b31a8a1de"
   },
   "outputs": [
    {
     "name": "stdout",
     "output_type": "stream",
     "text": [
      "Is this being run offline? (Y = offline (i.e. Jupyter notebook), N = online (i.e. Google Colab notebook)): Y\n"
     ]
    }
   ],
   "source": [
    "#Red pill or blue pill\n",
    "\n",
    "import os\n",
    "\n",
    "is_drive = False\n",
    "cwd = os.path.abspath(os.path.join(os.getcwd(), os.pardir)) + \"/Datasets/\"\n",
    "\n",
    "while True:\n",
    "  offon = input(\"Is this being run offline? (Y = offline (i.e. Jupyter notebook), N = online (i.e. Google Colab notebook)): \")\n",
    "  try:\n",
    "    if offon.lower() not in [\"y\", \"n\"]:\n",
    "      raise ValueError\n",
    "    else:\n",
    "      if offon.lower() == \"n\":\n",
    "        from google.colab import drive\n",
    "        from kora import drive as drives\n",
    "        drive.mount('/content/drive')\n",
    "        is_drive = True\n",
    "        cwd = str(drives.chdir_notebook())\n",
    "        cwd = os.path.abspath(os.path.join(os.getcwd(), os.pardir)) + \"/Datasets/\"\n",
    "      break\n",
    "  except ValueError:\n",
    "    print(\"Error! Please only type one of the following: Y, y, N, n\")"
   ]
  },
  {
   "cell_type": "code",
   "execution_count": 2,
   "metadata": {
    "executionInfo": {
     "elapsed": 24,
     "status": "aborted",
     "timestamp": 1652368686333,
     "user": {
      "displayName": "Brendan Crowley",
      "userId": "09355744342736110324"
     },
     "user_tz": -60
    },
    "id": "ClrS0VwWJgOF"
   },
   "outputs": [],
   "source": [
    "import os\n",
    "cwd = os.path.abspath(os.path.join(os.getcwd(), os.pardir)) + \"/Datasets/\""
   ]
  },
  {
   "cell_type": "code",
   "execution_count": null,
   "metadata": {
    "executionInfo": {
     "elapsed": 326,
     "status": "ok",
     "timestamp": 1652368732327,
     "user": {
      "displayName": "Brendan Crowley",
      "userId": "09355744342736110324"
     },
     "user_tz": -60
    },
    "id": "VKQVSrQznbT5"
   },
   "outputs": [],
   "source": []
  },
  {
   "cell_type": "code",
   "execution_count": null,
   "metadata": {
    "executionInfo": {
     "elapsed": 2,
     "status": "ok",
     "timestamp": 1652368732327,
     "user": {
      "displayName": "Brendan Crowley",
      "userId": "09355744342736110324"
     },
     "user_tz": -60
    },
    "id": "McnfML2anbk_"
   },
   "outputs": [],
   "source": []
  },
  {
   "cell_type": "code",
   "execution_count": null,
   "metadata": {
    "executionInfo": {
     "elapsed": 2,
     "status": "ok",
     "timestamp": 1652368732327,
     "user": {
      "displayName": "Brendan Crowley",
      "userId": "09355744342736110324"
     },
     "user_tz": -60
    },
    "id": "AFEnFBCgnbnd"
   },
   "outputs": [],
   "source": []
  },
  {
   "cell_type": "code",
   "execution_count": null,
   "metadata": {
    "executionInfo": {
     "elapsed": 2,
     "status": "ok",
     "timestamp": 1652368732593,
     "user": {
      "displayName": "Brendan Crowley",
      "userId": "09355744342736110324"
     },
     "user_tz": -60
    },
    "id": "NAgifFTRnbpr"
   },
   "outputs": [],
   "source": []
  },
  {
   "cell_type": "code",
   "execution_count": null,
   "metadata": {
    "executionInfo": {
     "elapsed": 2,
     "status": "ok",
     "timestamp": 1652368732594,
     "user": {
      "displayName": "Brendan Crowley",
      "userId": "09355744342736110324"
     },
     "user_tz": -60
    },
    "id": "Axeaa001nbsB"
   },
   "outputs": [],
   "source": []
  },
  {
   "cell_type": "code",
   "execution_count": 61,
   "metadata": {
    "executionInfo": {
     "elapsed": 982,
     "status": "ok",
     "timestamp": 1652368733874,
     "user": {
      "displayName": "Brendan Crowley",
      "userId": "09355744342736110324"
     },
     "user_tz": -60
    },
    "id": "NvVJvL6rnbug"
   },
   "outputs": [],
   "source": [
    "df1 = pd.read_csv(cwd+\"milk dataset 1.csv\")\n",
    "df2 = pd.read_csv(cwd+\"milk dataset 2.csv\")\n",
    "dfn = pd.read_csv(cwd+\"netherlands dataset output.csv\")"
   ]
  },
  {
   "cell_type": "markdown",
   "metadata": {
    "id": "4830AbsIm_BH"
   },
   "source": [
    "df1"
   ]
  },
  {
   "cell_type": "code",
   "execution_count": 62,
   "metadata": {
    "colab": {
     "base_uri": "https://localhost:8080/",
     "height": 502
    },
    "executionInfo": {
     "elapsed": 592,
     "status": "ok",
     "timestamp": 1652368745497,
     "user": {
      "displayName": "Brendan Crowley",
      "userId": "09355744342736110324"
     },
     "user_tz": -60
    },
    "id": "3FfLVsJNn_j5",
    "outputId": "d55fdddb-034f-457f-de07-f79ec5ccc110"
   },
   "outputs": [
    {
     "data": {
      "text/html": [
       "<div>\n",
       "<style scoped>\n",
       "    .dataframe tbody tr th:only-of-type {\n",
       "        vertical-align: middle;\n",
       "    }\n",
       "\n",
       "    .dataframe tbody tr th {\n",
       "        vertical-align: top;\n",
       "    }\n",
       "\n",
       "    .dataframe thead th {\n",
       "        text-align: right;\n",
       "    }\n",
       "</style>\n",
       "<table border=\"1\" class=\"dataframe\">\n",
       "  <thead>\n",
       "    <tr style=\"text-align: right;\">\n",
       "      <th></th>\n",
       "      <th>Unnamed: 0</th>\n",
       "      <th>Year</th>\n",
       "      <th>Month</th>\n",
       "      <th>Average price of raw milk from Ireland (Euro per 100kg)</th>\n",
       "      <th>Butter (Thousand tonnes)</th>\n",
       "      <th>Calf nuts and cubes (16-18% protein) (Euro per Tonne)</th>\n",
       "      <th>Cheese (Thousand tonnes)</th>\n",
       "      <th>Cow slaughterings (Thousand tonnes)</th>\n",
       "      <th>Dairy meal (16-18% protein) (Euro per Tonne)</th>\n",
       "      <th>Dairy nuts and cubes (16-18% protein) (Euro per Tonne)</th>\n",
       "      <th>...</th>\n",
       "      <th>Heifers 200-249kg</th>\n",
       "      <th>Heifers 250-299kg</th>\n",
       "      <th>Heifers 300-349kg</th>\n",
       "      <th>Heifers 350-399kg</th>\n",
       "      <th>Heifers 400-449kg</th>\n",
       "      <th>Imported milk intake (Million litres)</th>\n",
       "      <th>Maize meal (Euro per Tonne)</th>\n",
       "      <th>Skimmed &amp; semi-skimmed milk sales (Million litres)</th>\n",
       "      <th>Skimmed milk powder (Thousand tonnes)</th>\n",
       "      <th>Whole milk sales (Million litres)</th>\n",
       "    </tr>\n",
       "  </thead>\n",
       "  <tbody>\n",
       "    <tr>\n",
       "      <th>0</th>\n",
       "      <td>0</td>\n",
       "      <td>2014</td>\n",
       "      <td>1</td>\n",
       "      <td>42.34</td>\n",
       "      <td>4.4</td>\n",
       "      <td>329.0</td>\n",
       "      <td>2.3</td>\n",
       "      <td>49.4</td>\n",
       "      <td>300.0</td>\n",
       "      <td>302.0</td>\n",
       "      <td>...</td>\n",
       "      <td>498.38</td>\n",
       "      <td>597.40</td>\n",
       "      <td>704.50</td>\n",
       "      <td>789.13</td>\n",
       "      <td>867.04</td>\n",
       "      <td>38.8</td>\n",
       "      <td>252.0</td>\n",
       "      <td>16.9</td>\n",
       "      <td>0.0</td>\n",
       "      <td>23.5</td>\n",
       "    </tr>\n",
       "    <tr>\n",
       "      <th>1</th>\n",
       "      <td>1</td>\n",
       "      <td>2014</td>\n",
       "      <td>2</td>\n",
       "      <td>41.76</td>\n",
       "      <td>6.2</td>\n",
       "      <td>329.0</td>\n",
       "      <td>6.5</td>\n",
       "      <td>45.4</td>\n",
       "      <td>303.0</td>\n",
       "      <td>303.0</td>\n",
       "      <td>...</td>\n",
       "      <td>506.55</td>\n",
       "      <td>612.72</td>\n",
       "      <td>704.99</td>\n",
       "      <td>790.58</td>\n",
       "      <td>884.23</td>\n",
       "      <td>37.6</td>\n",
       "      <td>248.0</td>\n",
       "      <td>15.4</td>\n",
       "      <td>0.8</td>\n",
       "      <td>21.3</td>\n",
       "    </tr>\n",
       "    <tr>\n",
       "      <th>2</th>\n",
       "      <td>2</td>\n",
       "      <td>2014</td>\n",
       "      <td>3</td>\n",
       "      <td>39.04</td>\n",
       "      <td>14.4</td>\n",
       "      <td>305.0</td>\n",
       "      <td>18.4</td>\n",
       "      <td>48.6</td>\n",
       "      <td>290.0</td>\n",
       "      <td>288.0</td>\n",
       "      <td>...</td>\n",
       "      <td>497.04</td>\n",
       "      <td>588.64</td>\n",
       "      <td>682.82</td>\n",
       "      <td>789.94</td>\n",
       "      <td>906.31</td>\n",
       "      <td>40.8</td>\n",
       "      <td>244.0</td>\n",
       "      <td>18.7</td>\n",
       "      <td>3.9</td>\n",
       "      <td>25.4</td>\n",
       "    </tr>\n",
       "    <tr>\n",
       "      <th>3</th>\n",
       "      <td>3</td>\n",
       "      <td>2014</td>\n",
       "      <td>4</td>\n",
       "      <td>38.55</td>\n",
       "      <td>17.3</td>\n",
       "      <td>313.0</td>\n",
       "      <td>22.8</td>\n",
       "      <td>49.3</td>\n",
       "      <td>276.0</td>\n",
       "      <td>289.0</td>\n",
       "      <td>...</td>\n",
       "      <td>472.67</td>\n",
       "      <td>589.84</td>\n",
       "      <td>689.85</td>\n",
       "      <td>806.49</td>\n",
       "      <td>908.97</td>\n",
       "      <td>43.6</td>\n",
       "      <td>233.0</td>\n",
       "      <td>15.0</td>\n",
       "      <td>6.5</td>\n",
       "      <td>21.9</td>\n",
       "    </tr>\n",
       "    <tr>\n",
       "      <th>4</th>\n",
       "      <td>4</td>\n",
       "      <td>2014</td>\n",
       "      <td>5</td>\n",
       "      <td>37.10</td>\n",
       "      <td>21.7</td>\n",
       "      <td>315.0</td>\n",
       "      <td>24.8</td>\n",
       "      <td>48.8</td>\n",
       "      <td>284.0</td>\n",
       "      <td>292.0</td>\n",
       "      <td>...</td>\n",
       "      <td>509.21</td>\n",
       "      <td>595.29</td>\n",
       "      <td>691.55</td>\n",
       "      <td>808.22</td>\n",
       "      <td>893.82</td>\n",
       "      <td>51.1</td>\n",
       "      <td>240.0</td>\n",
       "      <td>17.4</td>\n",
       "      <td>11.9</td>\n",
       "      <td>24.9</td>\n",
       "    </tr>\n",
       "    <tr>\n",
       "      <th>...</th>\n",
       "      <td>...</td>\n",
       "      <td>...</td>\n",
       "      <td>...</td>\n",
       "      <td>...</td>\n",
       "      <td>...</td>\n",
       "      <td>...</td>\n",
       "      <td>...</td>\n",
       "      <td>...</td>\n",
       "      <td>...</td>\n",
       "      <td>...</td>\n",
       "      <td>...</td>\n",
       "      <td>...</td>\n",
       "      <td>...</td>\n",
       "      <td>...</td>\n",
       "      <td>...</td>\n",
       "      <td>...</td>\n",
       "      <td>...</td>\n",
       "      <td>...</td>\n",
       "      <td>...</td>\n",
       "      <td>...</td>\n",
       "      <td>...</td>\n",
       "    </tr>\n",
       "    <tr>\n",
       "      <th>91</th>\n",
       "      <td>91</td>\n",
       "      <td>2021</td>\n",
       "      <td>8</td>\n",
       "      <td>39.23</td>\n",
       "      <td>28.8</td>\n",
       "      <td>355.0</td>\n",
       "      <td>29.3</td>\n",
       "      <td>53.3</td>\n",
       "      <td>316.0</td>\n",
       "      <td>324.0</td>\n",
       "      <td>...</td>\n",
       "      <td>480.00</td>\n",
       "      <td>598.07</td>\n",
       "      <td>689.20</td>\n",
       "      <td>801.61</td>\n",
       "      <td>913.59</td>\n",
       "      <td>0.0</td>\n",
       "      <td>293.0</td>\n",
       "      <td>15.8</td>\n",
       "      <td>16.4</td>\n",
       "      <td>29.0</td>\n",
       "    </tr>\n",
       "    <tr>\n",
       "      <th>92</th>\n",
       "      <td>92</td>\n",
       "      <td>2021</td>\n",
       "      <td>9</td>\n",
       "      <td>42.44</td>\n",
       "      <td>26.5</td>\n",
       "      <td>360.0</td>\n",
       "      <td>33.2</td>\n",
       "      <td>55.7</td>\n",
       "      <td>323.0</td>\n",
       "      <td>332.0</td>\n",
       "      <td>...</td>\n",
       "      <td>450.74</td>\n",
       "      <td>570.54</td>\n",
       "      <td>694.88</td>\n",
       "      <td>804.71</td>\n",
       "      <td>915.68</td>\n",
       "      <td>0.0</td>\n",
       "      <td>299.0</td>\n",
       "      <td>15.1</td>\n",
       "      <td>11.1</td>\n",
       "      <td>26.6</td>\n",
       "    </tr>\n",
       "    <tr>\n",
       "      <th>93</th>\n",
       "      <td>93</td>\n",
       "      <td>2021</td>\n",
       "      <td>10</td>\n",
       "      <td>46.52</td>\n",
       "      <td>21.6</td>\n",
       "      <td>365.0</td>\n",
       "      <td>27.5</td>\n",
       "      <td>53.5</td>\n",
       "      <td>328.0</td>\n",
       "      <td>339.0</td>\n",
       "      <td>...</td>\n",
       "      <td>516.00</td>\n",
       "      <td>529.67</td>\n",
       "      <td>656.53</td>\n",
       "      <td>777.37</td>\n",
       "      <td>890.95</td>\n",
       "      <td>0.0</td>\n",
       "      <td>309.0</td>\n",
       "      <td>15.8</td>\n",
       "      <td>5.5</td>\n",
       "      <td>26.1</td>\n",
       "    </tr>\n",
       "    <tr>\n",
       "      <th>94</th>\n",
       "      <td>94</td>\n",
       "      <td>2021</td>\n",
       "      <td>11</td>\n",
       "      <td>48.65</td>\n",
       "      <td>17.8</td>\n",
       "      <td>370.0</td>\n",
       "      <td>20.9</td>\n",
       "      <td>55.9</td>\n",
       "      <td>333.0</td>\n",
       "      <td>344.0</td>\n",
       "      <td>...</td>\n",
       "      <td>419.66</td>\n",
       "      <td>547.42</td>\n",
       "      <td>641.39</td>\n",
       "      <td>762.83</td>\n",
       "      <td>888.34</td>\n",
       "      <td>0.0</td>\n",
       "      <td>314.0</td>\n",
       "      <td>15.4</td>\n",
       "      <td>0.0</td>\n",
       "      <td>25.5</td>\n",
       "    </tr>\n",
       "    <tr>\n",
       "      <th>95</th>\n",
       "      <td>95</td>\n",
       "      <td>2021</td>\n",
       "      <td>12</td>\n",
       "      <td>48.46</td>\n",
       "      <td>12.2</td>\n",
       "      <td>374.0</td>\n",
       "      <td>7.5</td>\n",
       "      <td>46.0</td>\n",
       "      <td>341.0</td>\n",
       "      <td>350.0</td>\n",
       "      <td>...</td>\n",
       "      <td>490.37</td>\n",
       "      <td>623.57</td>\n",
       "      <td>693.47</td>\n",
       "      <td>806.00</td>\n",
       "      <td>912.35</td>\n",
       "      <td>0.0</td>\n",
       "      <td>323.0</td>\n",
       "      <td>15.0</td>\n",
       "      <td>7.4</td>\n",
       "      <td>25.2</td>\n",
       "    </tr>\n",
       "  </tbody>\n",
       "</table>\n",
       "<p>96 rows × 22 columns</p>\n",
       "</div>"
      ],
      "text/plain": [
       "    Unnamed: 0  Year  Month  \\\n",
       "0            0  2014      1   \n",
       "1            1  2014      2   \n",
       "2            2  2014      3   \n",
       "3            3  2014      4   \n",
       "4            4  2014      5   \n",
       "..         ...   ...    ...   \n",
       "91          91  2021      8   \n",
       "92          92  2021      9   \n",
       "93          93  2021     10   \n",
       "94          94  2021     11   \n",
       "95          95  2021     12   \n",
       "\n",
       "    Average price of raw milk from Ireland (Euro per 100kg)  \\\n",
       "0                                               42.34         \n",
       "1                                               41.76         \n",
       "2                                               39.04         \n",
       "3                                               38.55         \n",
       "4                                               37.10         \n",
       "..                                                ...         \n",
       "91                                              39.23         \n",
       "92                                              42.44         \n",
       "93                                              46.52         \n",
       "94                                              48.65         \n",
       "95                                              48.46         \n",
       "\n",
       "    Butter (Thousand tonnes)  \\\n",
       "0                        4.4   \n",
       "1                        6.2   \n",
       "2                       14.4   \n",
       "3                       17.3   \n",
       "4                       21.7   \n",
       "..                       ...   \n",
       "91                      28.8   \n",
       "92                      26.5   \n",
       "93                      21.6   \n",
       "94                      17.8   \n",
       "95                      12.2   \n",
       "\n",
       "    Calf nuts and cubes (16-18% protein) (Euro per Tonne)  \\\n",
       "0                                               329.0       \n",
       "1                                               329.0       \n",
       "2                                               305.0       \n",
       "3                                               313.0       \n",
       "4                                               315.0       \n",
       "..                                                ...       \n",
       "91                                              355.0       \n",
       "92                                              360.0       \n",
       "93                                              365.0       \n",
       "94                                              370.0       \n",
       "95                                              374.0       \n",
       "\n",
       "    Cheese (Thousand tonnes)  Cow slaughterings (Thousand tonnes)  \\\n",
       "0                        2.3                                 49.4   \n",
       "1                        6.5                                 45.4   \n",
       "2                       18.4                                 48.6   \n",
       "3                       22.8                                 49.3   \n",
       "4                       24.8                                 48.8   \n",
       "..                       ...                                  ...   \n",
       "91                      29.3                                 53.3   \n",
       "92                      33.2                                 55.7   \n",
       "93                      27.5                                 53.5   \n",
       "94                      20.9                                 55.9   \n",
       "95                       7.5                                 46.0   \n",
       "\n",
       "    Dairy meal (16-18% protein) (Euro per Tonne)  \\\n",
       "0                                          300.0   \n",
       "1                                          303.0   \n",
       "2                                          290.0   \n",
       "3                                          276.0   \n",
       "4                                          284.0   \n",
       "..                                           ...   \n",
       "91                                         316.0   \n",
       "92                                         323.0   \n",
       "93                                         328.0   \n",
       "94                                         333.0   \n",
       "95                                         341.0   \n",
       "\n",
       "    Dairy nuts and cubes (16-18% protein) (Euro per Tonne)  ...  \\\n",
       "0                                               302.0       ...   \n",
       "1                                               303.0       ...   \n",
       "2                                               288.0       ...   \n",
       "3                                               289.0       ...   \n",
       "4                                               292.0       ...   \n",
       "..                                                ...       ...   \n",
       "91                                              324.0       ...   \n",
       "92                                              332.0       ...   \n",
       "93                                              339.0       ...   \n",
       "94                                              344.0       ...   \n",
       "95                                              350.0       ...   \n",
       "\n",
       "    Heifers 200-249kg  Heifers 250-299kg  Heifers 300-349kg  \\\n",
       "0              498.38             597.40             704.50   \n",
       "1              506.55             612.72             704.99   \n",
       "2              497.04             588.64             682.82   \n",
       "3              472.67             589.84             689.85   \n",
       "4              509.21             595.29             691.55   \n",
       "..                ...                ...                ...   \n",
       "91             480.00             598.07             689.20   \n",
       "92             450.74             570.54             694.88   \n",
       "93             516.00             529.67             656.53   \n",
       "94             419.66             547.42             641.39   \n",
       "95             490.37             623.57             693.47   \n",
       "\n",
       "    Heifers 350-399kg  Heifers 400-449kg  \\\n",
       "0              789.13             867.04   \n",
       "1              790.58             884.23   \n",
       "2              789.94             906.31   \n",
       "3              806.49             908.97   \n",
       "4              808.22             893.82   \n",
       "..                ...                ...   \n",
       "91             801.61             913.59   \n",
       "92             804.71             915.68   \n",
       "93             777.37             890.95   \n",
       "94             762.83             888.34   \n",
       "95             806.00             912.35   \n",
       "\n",
       "    Imported milk intake (Million litres)  Maize meal (Euro per Tonne)  \\\n",
       "0                                    38.8                        252.0   \n",
       "1                                    37.6                        248.0   \n",
       "2                                    40.8                        244.0   \n",
       "3                                    43.6                        233.0   \n",
       "4                                    51.1                        240.0   \n",
       "..                                    ...                          ...   \n",
       "91                                    0.0                        293.0   \n",
       "92                                    0.0                        299.0   \n",
       "93                                    0.0                        309.0   \n",
       "94                                    0.0                        314.0   \n",
       "95                                    0.0                        323.0   \n",
       "\n",
       "    Skimmed & semi-skimmed milk sales (Million litres)  \\\n",
       "0                                                16.9    \n",
       "1                                                15.4    \n",
       "2                                                18.7    \n",
       "3                                                15.0    \n",
       "4                                                17.4    \n",
       "..                                                ...    \n",
       "91                                               15.8    \n",
       "92                                               15.1    \n",
       "93                                               15.8    \n",
       "94                                               15.4    \n",
       "95                                               15.0    \n",
       "\n",
       "    Skimmed milk powder (Thousand tonnes)  Whole milk sales (Million litres)  \n",
       "0                                     0.0                               23.5  \n",
       "1                                     0.8                               21.3  \n",
       "2                                     3.9                               25.4  \n",
       "3                                     6.5                               21.9  \n",
       "4                                    11.9                               24.9  \n",
       "..                                    ...                                ...  \n",
       "91                                   16.4                               29.0  \n",
       "92                                   11.1                               26.6  \n",
       "93                                    5.5                               26.1  \n",
       "94                                    0.0                               25.5  \n",
       "95                                    7.4                               25.2  \n",
       "\n",
       "[96 rows x 22 columns]"
      ]
     },
     "execution_count": 62,
     "metadata": {},
     "output_type": "execute_result"
    }
   ],
   "source": [
    "df1"
   ]
  },
  {
   "cell_type": "code",
   "execution_count": 63,
   "metadata": {
    "colab": {
     "base_uri": "https://localhost:8080/",
     "height": 502
    },
    "executionInfo": {
     "elapsed": 26,
     "status": "ok",
     "timestamp": 1652368746975,
     "user": {
      "displayName": "Brendan Crowley",
      "userId": "09355744342736110324"
     },
     "user_tz": -60
    },
    "id": "JoousHxRn_j6",
    "outputId": "11e72d6f-3135-496e-a255-696cfa62af5d"
   },
   "outputs": [
    {
     "data": {
      "text/html": [
       "<div>\n",
       "<style scoped>\n",
       "    .dataframe tbody tr th:only-of-type {\n",
       "        vertical-align: middle;\n",
       "    }\n",
       "\n",
       "    .dataframe tbody tr th {\n",
       "        vertical-align: top;\n",
       "    }\n",
       "\n",
       "    .dataframe thead th {\n",
       "        text-align: right;\n",
       "    }\n",
       "</style>\n",
       "<table border=\"1\" class=\"dataframe\">\n",
       "  <thead>\n",
       "    <tr style=\"text-align: right;\">\n",
       "      <th></th>\n",
       "      <th>Unnamed: 0</th>\n",
       "      <th>Year</th>\n",
       "      <th>Month</th>\n",
       "      <th>Average price of raw milk from Ireland (Euro per 100kg)</th>\n",
       "      <th>Butter (Thousand tonnes)</th>\n",
       "      <th>Cheese (Thousand tonnes)</th>\n",
       "      <th>Domestic milk intake (Million litres)</th>\n",
       "      <th>Fat content (Percent)</th>\n",
       "      <th>Heifers 200-249kg</th>\n",
       "      <th>Heifers 250-299kg</th>\n",
       "      <th>Heifers 300-349kg</th>\n",
       "      <th>Heifers 350-399kg</th>\n",
       "      <th>Heifers 400-449kg</th>\n",
       "      <th>Imported milk intake (Million litres)</th>\n",
       "      <th>Skimmed &amp; semi-skimmed milk sales (Million litres)</th>\n",
       "      <th>Skimmed milk powder (Thousand tonnes)</th>\n",
       "      <th>Whole milk sales (Million litres)</th>\n",
       "    </tr>\n",
       "  </thead>\n",
       "  <tbody>\n",
       "    <tr>\n",
       "      <th>0</th>\n",
       "      <td>0</td>\n",
       "      <td>2007</td>\n",
       "      <td>1</td>\n",
       "      <td>28.30</td>\n",
       "      <td>3.8</td>\n",
       "      <td>1.3</td>\n",
       "      <td>123.0</td>\n",
       "      <td>3.87</td>\n",
       "      <td>363.58</td>\n",
       "      <td>431.76</td>\n",
       "      <td>520.38</td>\n",
       "      <td>574.80</td>\n",
       "      <td>661.13</td>\n",
       "      <td>54.6</td>\n",
       "      <td>12.3</td>\n",
       "      <td>2.4</td>\n",
       "      <td>32.1</td>\n",
       "    </tr>\n",
       "    <tr>\n",
       "      <th>1</th>\n",
       "      <td>1</td>\n",
       "      <td>2007</td>\n",
       "      <td>2</td>\n",
       "      <td>27.18</td>\n",
       "      <td>5.0</td>\n",
       "      <td>2.4</td>\n",
       "      <td>185.4</td>\n",
       "      <td>3.87</td>\n",
       "      <td>386.08</td>\n",
       "      <td>462.94</td>\n",
       "      <td>539.81</td>\n",
       "      <td>587.47</td>\n",
       "      <td>646.99</td>\n",
       "      <td>38.0</td>\n",
       "      <td>12.6</td>\n",
       "      <td>1.9</td>\n",
       "      <td>29.3</td>\n",
       "    </tr>\n",
       "    <tr>\n",
       "      <th>2</th>\n",
       "      <td>2</td>\n",
       "      <td>2007</td>\n",
       "      <td>3</td>\n",
       "      <td>25.64</td>\n",
       "      <td>10.1</td>\n",
       "      <td>10.2</td>\n",
       "      <td>386.5</td>\n",
       "      <td>3.80</td>\n",
       "      <td>409.33</td>\n",
       "      <td>474.93</td>\n",
       "      <td>539.83</td>\n",
       "      <td>603.81</td>\n",
       "      <td>670.93</td>\n",
       "      <td>35.8</td>\n",
       "      <td>12.8</td>\n",
       "      <td>5.0</td>\n",
       "      <td>32.4</td>\n",
       "    </tr>\n",
       "    <tr>\n",
       "      <th>3</th>\n",
       "      <td>3</td>\n",
       "      <td>2007</td>\n",
       "      <td>4</td>\n",
       "      <td>27.29</td>\n",
       "      <td>14.8</td>\n",
       "      <td>17.6</td>\n",
       "      <td>581.0</td>\n",
       "      <td>3.59</td>\n",
       "      <td>399.75</td>\n",
       "      <td>457.74</td>\n",
       "      <td>535.86</td>\n",
       "      <td>625.49</td>\n",
       "      <td>690.35</td>\n",
       "      <td>38.7</td>\n",
       "      <td>12.1</td>\n",
       "      <td>10.1</td>\n",
       "      <td>30.4</td>\n",
       "    </tr>\n",
       "    <tr>\n",
       "      <th>4</th>\n",
       "      <td>4</td>\n",
       "      <td>2007</td>\n",
       "      <td>5</td>\n",
       "      <td>29.76</td>\n",
       "      <td>19.1</td>\n",
       "      <td>19.3</td>\n",
       "      <td>688.3</td>\n",
       "      <td>3.62</td>\n",
       "      <td>398.11</td>\n",
       "      <td>461.66</td>\n",
       "      <td>536.39</td>\n",
       "      <td>607.95</td>\n",
       "      <td>673.32</td>\n",
       "      <td>46.9</td>\n",
       "      <td>12.8</td>\n",
       "      <td>13.2</td>\n",
       "      <td>31.8</td>\n",
       "    </tr>\n",
       "    <tr>\n",
       "      <th>...</th>\n",
       "      <td>...</td>\n",
       "      <td>...</td>\n",
       "      <td>...</td>\n",
       "      <td>...</td>\n",
       "      <td>...</td>\n",
       "      <td>...</td>\n",
       "      <td>...</td>\n",
       "      <td>...</td>\n",
       "      <td>...</td>\n",
       "      <td>...</td>\n",
       "      <td>...</td>\n",
       "      <td>...</td>\n",
       "      <td>...</td>\n",
       "      <td>...</td>\n",
       "      <td>...</td>\n",
       "      <td>...</td>\n",
       "      <td>...</td>\n",
       "    </tr>\n",
       "    <tr>\n",
       "      <th>175</th>\n",
       "      <td>175</td>\n",
       "      <td>2021</td>\n",
       "      <td>8</td>\n",
       "      <td>39.23</td>\n",
       "      <td>28.8</td>\n",
       "      <td>29.3</td>\n",
       "      <td>917.4</td>\n",
       "      <td>4.19</td>\n",
       "      <td>480.00</td>\n",
       "      <td>598.07</td>\n",
       "      <td>689.20</td>\n",
       "      <td>801.61</td>\n",
       "      <td>913.59</td>\n",
       "      <td>0.0</td>\n",
       "      <td>15.8</td>\n",
       "      <td>16.4</td>\n",
       "      <td>29.0</td>\n",
       "    </tr>\n",
       "    <tr>\n",
       "      <th>176</th>\n",
       "      <td>176</td>\n",
       "      <td>2021</td>\n",
       "      <td>9</td>\n",
       "      <td>42.44</td>\n",
       "      <td>26.5</td>\n",
       "      <td>33.2</td>\n",
       "      <td>776.7</td>\n",
       "      <td>4.43</td>\n",
       "      <td>450.74</td>\n",
       "      <td>570.54</td>\n",
       "      <td>694.88</td>\n",
       "      <td>804.71</td>\n",
       "      <td>915.68</td>\n",
       "      <td>0.0</td>\n",
       "      <td>15.1</td>\n",
       "      <td>11.1</td>\n",
       "      <td>26.6</td>\n",
       "    </tr>\n",
       "    <tr>\n",
       "      <th>177</th>\n",
       "      <td>177</td>\n",
       "      <td>2021</td>\n",
       "      <td>10</td>\n",
       "      <td>46.52</td>\n",
       "      <td>21.6</td>\n",
       "      <td>27.5</td>\n",
       "      <td>652.8</td>\n",
       "      <td>4.77</td>\n",
       "      <td>516.00</td>\n",
       "      <td>529.67</td>\n",
       "      <td>656.53</td>\n",
       "      <td>777.37</td>\n",
       "      <td>890.95</td>\n",
       "      <td>0.0</td>\n",
       "      <td>15.8</td>\n",
       "      <td>5.5</td>\n",
       "      <td>26.1</td>\n",
       "    </tr>\n",
       "    <tr>\n",
       "      <th>178</th>\n",
       "      <td>178</td>\n",
       "      <td>2021</td>\n",
       "      <td>11</td>\n",
       "      <td>48.65</td>\n",
       "      <td>17.8</td>\n",
       "      <td>20.9</td>\n",
       "      <td>460.6</td>\n",
       "      <td>4.90</td>\n",
       "      <td>419.66</td>\n",
       "      <td>547.42</td>\n",
       "      <td>641.39</td>\n",
       "      <td>762.83</td>\n",
       "      <td>888.34</td>\n",
       "      <td>0.0</td>\n",
       "      <td>15.4</td>\n",
       "      <td>0.0</td>\n",
       "      <td>25.5</td>\n",
       "    </tr>\n",
       "    <tr>\n",
       "      <th>179</th>\n",
       "      <td>179</td>\n",
       "      <td>2021</td>\n",
       "      <td>12</td>\n",
       "      <td>48.46</td>\n",
       "      <td>12.2</td>\n",
       "      <td>7.5</td>\n",
       "      <td>256.3</td>\n",
       "      <td>4.74</td>\n",
       "      <td>490.37</td>\n",
       "      <td>623.57</td>\n",
       "      <td>693.47</td>\n",
       "      <td>806.00</td>\n",
       "      <td>912.35</td>\n",
       "      <td>0.0</td>\n",
       "      <td>15.0</td>\n",
       "      <td>7.4</td>\n",
       "      <td>25.2</td>\n",
       "    </tr>\n",
       "  </tbody>\n",
       "</table>\n",
       "<p>180 rows × 17 columns</p>\n",
       "</div>"
      ],
      "text/plain": [
       "     Unnamed: 0  Year  Month  \\\n",
       "0             0  2007      1   \n",
       "1             1  2007      2   \n",
       "2             2  2007      3   \n",
       "3             3  2007      4   \n",
       "4             4  2007      5   \n",
       "..          ...   ...    ...   \n",
       "175         175  2021      8   \n",
       "176         176  2021      9   \n",
       "177         177  2021     10   \n",
       "178         178  2021     11   \n",
       "179         179  2021     12   \n",
       "\n",
       "     Average price of raw milk from Ireland (Euro per 100kg)  \\\n",
       "0                                                28.30         \n",
       "1                                                27.18         \n",
       "2                                                25.64         \n",
       "3                                                27.29         \n",
       "4                                                29.76         \n",
       "..                                                 ...         \n",
       "175                                              39.23         \n",
       "176                                              42.44         \n",
       "177                                              46.52         \n",
       "178                                              48.65         \n",
       "179                                              48.46         \n",
       "\n",
       "     Butter (Thousand tonnes)  Cheese (Thousand tonnes)  \\\n",
       "0                         3.8                       1.3   \n",
       "1                         5.0                       2.4   \n",
       "2                        10.1                      10.2   \n",
       "3                        14.8                      17.6   \n",
       "4                        19.1                      19.3   \n",
       "..                        ...                       ...   \n",
       "175                      28.8                      29.3   \n",
       "176                      26.5                      33.2   \n",
       "177                      21.6                      27.5   \n",
       "178                      17.8                      20.9   \n",
       "179                      12.2                       7.5   \n",
       "\n",
       "     Domestic milk intake (Million litres)  Fat content (Percent)  \\\n",
       "0                                    123.0                   3.87   \n",
       "1                                    185.4                   3.87   \n",
       "2                                    386.5                   3.80   \n",
       "3                                    581.0                   3.59   \n",
       "4                                    688.3                   3.62   \n",
       "..                                     ...                    ...   \n",
       "175                                  917.4                   4.19   \n",
       "176                                  776.7                   4.43   \n",
       "177                                  652.8                   4.77   \n",
       "178                                  460.6                   4.90   \n",
       "179                                  256.3                   4.74   \n",
       "\n",
       "     Heifers 200-249kg  Heifers 250-299kg  Heifers 300-349kg  \\\n",
       "0               363.58             431.76             520.38   \n",
       "1               386.08             462.94             539.81   \n",
       "2               409.33             474.93             539.83   \n",
       "3               399.75             457.74             535.86   \n",
       "4               398.11             461.66             536.39   \n",
       "..                 ...                ...                ...   \n",
       "175             480.00             598.07             689.20   \n",
       "176             450.74             570.54             694.88   \n",
       "177             516.00             529.67             656.53   \n",
       "178             419.66             547.42             641.39   \n",
       "179             490.37             623.57             693.47   \n",
       "\n",
       "     Heifers 350-399kg  Heifers 400-449kg  \\\n",
       "0               574.80             661.13   \n",
       "1               587.47             646.99   \n",
       "2               603.81             670.93   \n",
       "3               625.49             690.35   \n",
       "4               607.95             673.32   \n",
       "..                 ...                ...   \n",
       "175             801.61             913.59   \n",
       "176             804.71             915.68   \n",
       "177             777.37             890.95   \n",
       "178             762.83             888.34   \n",
       "179             806.00             912.35   \n",
       "\n",
       "     Imported milk intake (Million litres)  \\\n",
       "0                                     54.6   \n",
       "1                                     38.0   \n",
       "2                                     35.8   \n",
       "3                                     38.7   \n",
       "4                                     46.9   \n",
       "..                                     ...   \n",
       "175                                    0.0   \n",
       "176                                    0.0   \n",
       "177                                    0.0   \n",
       "178                                    0.0   \n",
       "179                                    0.0   \n",
       "\n",
       "     Skimmed & semi-skimmed milk sales (Million litres)  \\\n",
       "0                                                 12.3    \n",
       "1                                                 12.6    \n",
       "2                                                 12.8    \n",
       "3                                                 12.1    \n",
       "4                                                 12.8    \n",
       "..                                                 ...    \n",
       "175                                               15.8    \n",
       "176                                               15.1    \n",
       "177                                               15.8    \n",
       "178                                               15.4    \n",
       "179                                               15.0    \n",
       "\n",
       "     Skimmed milk powder (Thousand tonnes)  Whole milk sales (Million litres)  \n",
       "0                                      2.4                               32.1  \n",
       "1                                      1.9                               29.3  \n",
       "2                                      5.0                               32.4  \n",
       "3                                     10.1                               30.4  \n",
       "4                                     13.2                               31.8  \n",
       "..                                     ...                                ...  \n",
       "175                                   16.4                               29.0  \n",
       "176                                   11.1                               26.6  \n",
       "177                                    5.5                               26.1  \n",
       "178                                    0.0                               25.5  \n",
       "179                                    7.4                               25.2  \n",
       "\n",
       "[180 rows x 17 columns]"
      ]
     },
     "execution_count": 63,
     "metadata": {},
     "output_type": "execute_result"
    }
   ],
   "source": [
    "df2"
   ]
  },
  {
   "cell_type": "code",
   "execution_count": 64,
   "metadata": {
    "colab": {
     "base_uri": "https://localhost:8080/",
     "height": 424
    },
    "executionInfo": {
     "elapsed": 25,
     "status": "ok",
     "timestamp": 1652368746976,
     "user": {
      "displayName": "Brendan Crowley",
      "userId": "09355744342736110324"
     },
     "user_tz": -60
    },
    "id": "Vy0tydGTn_j6",
    "outputId": "d0c80407-8695-4454-bf78-5cd87ce72e4a"
   },
   "outputs": [
    {
     "data": {
      "text/html": [
       "<div>\n",
       "<style scoped>\n",
       "    .dataframe tbody tr th:only-of-type {\n",
       "        vertical-align: middle;\n",
       "    }\n",
       "\n",
       "    .dataframe tbody tr th {\n",
       "        vertical-align: top;\n",
       "    }\n",
       "\n",
       "    .dataframe thead th {\n",
       "        text-align: right;\n",
       "    }\n",
       "</style>\n",
       "<table border=\"1\" class=\"dataframe\">\n",
       "  <thead>\n",
       "    <tr style=\"text-align: right;\">\n",
       "      <th></th>\n",
       "      <th>Unnamed: 0</th>\n",
       "      <th>Year</th>\n",
       "      <th>Month</th>\n",
       "      <th>Volume (Thousand tonnes)</th>\n",
       "      <th>Fat content (Percent)</th>\n",
       "      <th>Butter (Thousand tonnes)</th>\n",
       "      <th>Cheese (Thousand tonnes)</th>\n",
       "      <th>Skimmed-milk powder (Thousand tonnes)</th>\n",
       "      <th>Concentrated milk (Thousand tonnes)</th>\n",
       "    </tr>\n",
       "  </thead>\n",
       "  <tbody>\n",
       "    <tr>\n",
       "      <th>0</th>\n",
       "      <td>0</td>\n",
       "      <td>2011</td>\n",
       "      <td>1</td>\n",
       "      <td>996.942</td>\n",
       "      <td>4.56</td>\n",
       "      <td>12.130</td>\n",
       "      <td>65.490</td>\n",
       "      <td>6.402</td>\n",
       "      <td>28.106</td>\n",
       "    </tr>\n",
       "    <tr>\n",
       "      <th>1</th>\n",
       "      <td>1</td>\n",
       "      <td>2011</td>\n",
       "      <td>2</td>\n",
       "      <td>913.932</td>\n",
       "      <td>4.52</td>\n",
       "      <td>10.194</td>\n",
       "      <td>58.800</td>\n",
       "      <td>4.254</td>\n",
       "      <td>29.770</td>\n",
       "    </tr>\n",
       "    <tr>\n",
       "      <th>2</th>\n",
       "      <td>2</td>\n",
       "      <td>2011</td>\n",
       "      <td>3</td>\n",
       "      <td>1006.645</td>\n",
       "      <td>4.52</td>\n",
       "      <td>10.427</td>\n",
       "      <td>66.373</td>\n",
       "      <td>4.245</td>\n",
       "      <td>30.161</td>\n",
       "    </tr>\n",
       "    <tr>\n",
       "      <th>3</th>\n",
       "      <td>3</td>\n",
       "      <td>2011</td>\n",
       "      <td>4</td>\n",
       "      <td>1009.174</td>\n",
       "      <td>4.39</td>\n",
       "      <td>10.274</td>\n",
       "      <td>63.096</td>\n",
       "      <td>5.559</td>\n",
       "      <td>31.287</td>\n",
       "    </tr>\n",
       "    <tr>\n",
       "      <th>4</th>\n",
       "      <td>4</td>\n",
       "      <td>2011</td>\n",
       "      <td>5</td>\n",
       "      <td>1029.062</td>\n",
       "      <td>4.28</td>\n",
       "      <td>11.098</td>\n",
       "      <td>65.061</td>\n",
       "      <td>6.264</td>\n",
       "      <td>32.218</td>\n",
       "    </tr>\n",
       "    <tr>\n",
       "      <th>...</th>\n",
       "      <td>...</td>\n",
       "      <td>...</td>\n",
       "      <td>...</td>\n",
       "      <td>...</td>\n",
       "      <td>...</td>\n",
       "      <td>...</td>\n",
       "      <td>...</td>\n",
       "      <td>...</td>\n",
       "      <td>...</td>\n",
       "    </tr>\n",
       "    <tr>\n",
       "      <th>127</th>\n",
       "      <td>127</td>\n",
       "      <td>2021</td>\n",
       "      <td>8</td>\n",
       "      <td>1123.391</td>\n",
       "      <td>4.29</td>\n",
       "      <td>10.956</td>\n",
       "      <td>76.877</td>\n",
       "      <td>5.583</td>\n",
       "      <td>32.654</td>\n",
       "    </tr>\n",
       "    <tr>\n",
       "      <th>128</th>\n",
       "      <td>128</td>\n",
       "      <td>2021</td>\n",
       "      <td>9</td>\n",
       "      <td>1064.517</td>\n",
       "      <td>4.34</td>\n",
       "      <td>9.105</td>\n",
       "      <td>74.810</td>\n",
       "      <td>6.392</td>\n",
       "      <td>31.881</td>\n",
       "    </tr>\n",
       "    <tr>\n",
       "      <th>129</th>\n",
       "      <td>129</td>\n",
       "      <td>2021</td>\n",
       "      <td>10</td>\n",
       "      <td>1087.524</td>\n",
       "      <td>4.47</td>\n",
       "      <td>11.243</td>\n",
       "      <td>77.558</td>\n",
       "      <td>5.545</td>\n",
       "      <td>31.831</td>\n",
       "    </tr>\n",
       "    <tr>\n",
       "      <th>130</th>\n",
       "      <td>130</td>\n",
       "      <td>2021</td>\n",
       "      <td>11</td>\n",
       "      <td>1059.600</td>\n",
       "      <td>4.53</td>\n",
       "      <td>9.579</td>\n",
       "      <td>75.359</td>\n",
       "      <td>8.460</td>\n",
       "      <td>31.664</td>\n",
       "    </tr>\n",
       "    <tr>\n",
       "      <th>131</th>\n",
       "      <td>131</td>\n",
       "      <td>2021</td>\n",
       "      <td>12</td>\n",
       "      <td>1121.498</td>\n",
       "      <td>4.56</td>\n",
       "      <td>11.967</td>\n",
       "      <td>78.314</td>\n",
       "      <td>8.169</td>\n",
       "      <td>31.290</td>\n",
       "    </tr>\n",
       "  </tbody>\n",
       "</table>\n",
       "<p>132 rows × 9 columns</p>\n",
       "</div>"
      ],
      "text/plain": [
       "     Unnamed: 0  Year  Month  Volume (Thousand tonnes)  Fat content (Percent)  \\\n",
       "0             0  2011      1                   996.942                   4.56   \n",
       "1             1  2011      2                   913.932                   4.52   \n",
       "2             2  2011      3                  1006.645                   4.52   \n",
       "3             3  2011      4                  1009.174                   4.39   \n",
       "4             4  2011      5                  1029.062                   4.28   \n",
       "..          ...   ...    ...                       ...                    ...   \n",
       "127         127  2021      8                  1123.391                   4.29   \n",
       "128         128  2021      9                  1064.517                   4.34   \n",
       "129         129  2021     10                  1087.524                   4.47   \n",
       "130         130  2021     11                  1059.600                   4.53   \n",
       "131         131  2021     12                  1121.498                   4.56   \n",
       "\n",
       "     Butter (Thousand tonnes)  Cheese (Thousand tonnes)  \\\n",
       "0                      12.130                    65.490   \n",
       "1                      10.194                    58.800   \n",
       "2                      10.427                    66.373   \n",
       "3                      10.274                    63.096   \n",
       "4                      11.098                    65.061   \n",
       "..                        ...                       ...   \n",
       "127                    10.956                    76.877   \n",
       "128                     9.105                    74.810   \n",
       "129                    11.243                    77.558   \n",
       "130                     9.579                    75.359   \n",
       "131                    11.967                    78.314   \n",
       "\n",
       "     Skimmed-milk powder (Thousand tonnes)  \\\n",
       "0                                    6.402   \n",
       "1                                    4.254   \n",
       "2                                    4.245   \n",
       "3                                    5.559   \n",
       "4                                    6.264   \n",
       "..                                     ...   \n",
       "127                                  5.583   \n",
       "128                                  6.392   \n",
       "129                                  5.545   \n",
       "130                                  8.460   \n",
       "131                                  8.169   \n",
       "\n",
       "     Concentrated milk (Thousand tonnes)  \n",
       "0                                 28.106  \n",
       "1                                 29.770  \n",
       "2                                 30.161  \n",
       "3                                 31.287  \n",
       "4                                 32.218  \n",
       "..                                   ...  \n",
       "127                               32.654  \n",
       "128                               31.881  \n",
       "129                               31.831  \n",
       "130                               31.664  \n",
       "131                               31.290  \n",
       "\n",
       "[132 rows x 9 columns]"
      ]
     },
     "execution_count": 64,
     "metadata": {},
     "output_type": "execute_result"
    }
   ],
   "source": [
    "dfn"
   ]
  },
  {
   "cell_type": "code",
   "execution_count": 65,
   "metadata": {},
   "outputs": [],
   "source": [
    "df1 = df1[df1.columns[1:]]"
   ]
  },
  {
   "cell_type": "code",
   "execution_count": 66,
   "metadata": {
    "executionInfo": {
     "elapsed": 25,
     "status": "ok",
     "timestamp": 1652368746977,
     "user": {
      "displayName": "Brendan Crowley",
      "userId": "09355744342736110324"
     },
     "user_tz": -60
    },
    "id": "FIvwAhEtn_j6"
   },
   "outputs": [],
   "source": [
    "\n",
    "df2 = df2[df2.columns[1:]]\n",
    "dfn = dfn[dfn.columns[1:]]"
   ]
  },
  {
   "cell_type": "code",
   "execution_count": 67,
   "metadata": {
    "colab": {
     "base_uri": "https://localhost:8080/",
     "height": 502
    },
    "executionInfo": {
     "elapsed": 43,
     "status": "ok",
     "timestamp": 1652368747317,
     "user": {
      "displayName": "Brendan Crowley",
      "userId": "09355744342736110324"
     },
     "user_tz": -60
    },
    "id": "6n-h9cbJn_j7",
    "outputId": "7d8715c6-9a8c-4423-ce6b-9bc6dd895584"
   },
   "outputs": [
    {
     "data": {
      "text/html": [
       "<div>\n",
       "<style scoped>\n",
       "    .dataframe tbody tr th:only-of-type {\n",
       "        vertical-align: middle;\n",
       "    }\n",
       "\n",
       "    .dataframe tbody tr th {\n",
       "        vertical-align: top;\n",
       "    }\n",
       "\n",
       "    .dataframe thead th {\n",
       "        text-align: right;\n",
       "    }\n",
       "</style>\n",
       "<table border=\"1\" class=\"dataframe\">\n",
       "  <thead>\n",
       "    <tr style=\"text-align: right;\">\n",
       "      <th></th>\n",
       "      <th>Year</th>\n",
       "      <th>Month</th>\n",
       "      <th>Average price of raw milk from Ireland (Euro per 100kg)</th>\n",
       "      <th>Butter (Thousand tonnes)</th>\n",
       "      <th>Calf nuts and cubes (16-18% protein) (Euro per Tonne)</th>\n",
       "      <th>Cheese (Thousand tonnes)</th>\n",
       "      <th>Cow slaughterings (Thousand tonnes)</th>\n",
       "      <th>Dairy meal (16-18% protein) (Euro per Tonne)</th>\n",
       "      <th>Dairy nuts and cubes (16-18% protein) (Euro per Tonne)</th>\n",
       "      <th>Domestic milk intake (Million litres)</th>\n",
       "      <th>...</th>\n",
       "      <th>Heifers 200-249kg</th>\n",
       "      <th>Heifers 250-299kg</th>\n",
       "      <th>Heifers 300-349kg</th>\n",
       "      <th>Heifers 350-399kg</th>\n",
       "      <th>Heifers 400-449kg</th>\n",
       "      <th>Imported milk intake (Million litres)</th>\n",
       "      <th>Maize meal (Euro per Tonne)</th>\n",
       "      <th>Skimmed &amp; semi-skimmed milk sales (Million litres)</th>\n",
       "      <th>Skimmed milk powder (Thousand tonnes)</th>\n",
       "      <th>Whole milk sales (Million litres)</th>\n",
       "    </tr>\n",
       "  </thead>\n",
       "  <tbody>\n",
       "    <tr>\n",
       "      <th>0</th>\n",
       "      <td>2014</td>\n",
       "      <td>1</td>\n",
       "      <td>42.34</td>\n",
       "      <td>4.4</td>\n",
       "      <td>329.0</td>\n",
       "      <td>2.3</td>\n",
       "      <td>49.4</td>\n",
       "      <td>300.0</td>\n",
       "      <td>302.0</td>\n",
       "      <td>132.0</td>\n",
       "      <td>...</td>\n",
       "      <td>498.38</td>\n",
       "      <td>597.40</td>\n",
       "      <td>704.50</td>\n",
       "      <td>789.13</td>\n",
       "      <td>867.04</td>\n",
       "      <td>38.8</td>\n",
       "      <td>252.0</td>\n",
       "      <td>16.9</td>\n",
       "      <td>0.0</td>\n",
       "      <td>23.5</td>\n",
       "    </tr>\n",
       "    <tr>\n",
       "      <th>1</th>\n",
       "      <td>2014</td>\n",
       "      <td>2</td>\n",
       "      <td>41.76</td>\n",
       "      <td>6.2</td>\n",
       "      <td>329.0</td>\n",
       "      <td>6.5</td>\n",
       "      <td>45.4</td>\n",
       "      <td>303.0</td>\n",
       "      <td>303.0</td>\n",
       "      <td>214.0</td>\n",
       "      <td>...</td>\n",
       "      <td>506.55</td>\n",
       "      <td>612.72</td>\n",
       "      <td>704.99</td>\n",
       "      <td>790.58</td>\n",
       "      <td>884.23</td>\n",
       "      <td>37.6</td>\n",
       "      <td>248.0</td>\n",
       "      <td>15.4</td>\n",
       "      <td>0.8</td>\n",
       "      <td>21.3</td>\n",
       "    </tr>\n",
       "    <tr>\n",
       "      <th>2</th>\n",
       "      <td>2014</td>\n",
       "      <td>3</td>\n",
       "      <td>39.04</td>\n",
       "      <td>14.4</td>\n",
       "      <td>305.0</td>\n",
       "      <td>18.4</td>\n",
       "      <td>48.6</td>\n",
       "      <td>290.0</td>\n",
       "      <td>288.0</td>\n",
       "      <td>470.7</td>\n",
       "      <td>...</td>\n",
       "      <td>497.04</td>\n",
       "      <td>588.64</td>\n",
       "      <td>682.82</td>\n",
       "      <td>789.94</td>\n",
       "      <td>906.31</td>\n",
       "      <td>40.8</td>\n",
       "      <td>244.0</td>\n",
       "      <td>18.7</td>\n",
       "      <td>3.9</td>\n",
       "      <td>25.4</td>\n",
       "    </tr>\n",
       "    <tr>\n",
       "      <th>3</th>\n",
       "      <td>2014</td>\n",
       "      <td>4</td>\n",
       "      <td>38.55</td>\n",
       "      <td>17.3</td>\n",
       "      <td>313.0</td>\n",
       "      <td>22.8</td>\n",
       "      <td>49.3</td>\n",
       "      <td>276.0</td>\n",
       "      <td>289.0</td>\n",
       "      <td>697.0</td>\n",
       "      <td>...</td>\n",
       "      <td>472.67</td>\n",
       "      <td>589.84</td>\n",
       "      <td>689.85</td>\n",
       "      <td>806.49</td>\n",
       "      <td>908.97</td>\n",
       "      <td>43.6</td>\n",
       "      <td>233.0</td>\n",
       "      <td>15.0</td>\n",
       "      <td>6.5</td>\n",
       "      <td>21.9</td>\n",
       "    </tr>\n",
       "    <tr>\n",
       "      <th>4</th>\n",
       "      <td>2014</td>\n",
       "      <td>5</td>\n",
       "      <td>37.10</td>\n",
       "      <td>21.7</td>\n",
       "      <td>315.0</td>\n",
       "      <td>24.8</td>\n",
       "      <td>48.8</td>\n",
       "      <td>284.0</td>\n",
       "      <td>292.0</td>\n",
       "      <td>785.5</td>\n",
       "      <td>...</td>\n",
       "      <td>509.21</td>\n",
       "      <td>595.29</td>\n",
       "      <td>691.55</td>\n",
       "      <td>808.22</td>\n",
       "      <td>893.82</td>\n",
       "      <td>51.1</td>\n",
       "      <td>240.0</td>\n",
       "      <td>17.4</td>\n",
       "      <td>11.9</td>\n",
       "      <td>24.9</td>\n",
       "    </tr>\n",
       "    <tr>\n",
       "      <th>...</th>\n",
       "      <td>...</td>\n",
       "      <td>...</td>\n",
       "      <td>...</td>\n",
       "      <td>...</td>\n",
       "      <td>...</td>\n",
       "      <td>...</td>\n",
       "      <td>...</td>\n",
       "      <td>...</td>\n",
       "      <td>...</td>\n",
       "      <td>...</td>\n",
       "      <td>...</td>\n",
       "      <td>...</td>\n",
       "      <td>...</td>\n",
       "      <td>...</td>\n",
       "      <td>...</td>\n",
       "      <td>...</td>\n",
       "      <td>...</td>\n",
       "      <td>...</td>\n",
       "      <td>...</td>\n",
       "      <td>...</td>\n",
       "      <td>...</td>\n",
       "    </tr>\n",
       "    <tr>\n",
       "      <th>91</th>\n",
       "      <td>2021</td>\n",
       "      <td>8</td>\n",
       "      <td>39.23</td>\n",
       "      <td>28.8</td>\n",
       "      <td>355.0</td>\n",
       "      <td>29.3</td>\n",
       "      <td>53.3</td>\n",
       "      <td>316.0</td>\n",
       "      <td>324.0</td>\n",
       "      <td>917.4</td>\n",
       "      <td>...</td>\n",
       "      <td>480.00</td>\n",
       "      <td>598.07</td>\n",
       "      <td>689.20</td>\n",
       "      <td>801.61</td>\n",
       "      <td>913.59</td>\n",
       "      <td>0.0</td>\n",
       "      <td>293.0</td>\n",
       "      <td>15.8</td>\n",
       "      <td>16.4</td>\n",
       "      <td>29.0</td>\n",
       "    </tr>\n",
       "    <tr>\n",
       "      <th>92</th>\n",
       "      <td>2021</td>\n",
       "      <td>9</td>\n",
       "      <td>42.44</td>\n",
       "      <td>26.5</td>\n",
       "      <td>360.0</td>\n",
       "      <td>33.2</td>\n",
       "      <td>55.7</td>\n",
       "      <td>323.0</td>\n",
       "      <td>332.0</td>\n",
       "      <td>776.7</td>\n",
       "      <td>...</td>\n",
       "      <td>450.74</td>\n",
       "      <td>570.54</td>\n",
       "      <td>694.88</td>\n",
       "      <td>804.71</td>\n",
       "      <td>915.68</td>\n",
       "      <td>0.0</td>\n",
       "      <td>299.0</td>\n",
       "      <td>15.1</td>\n",
       "      <td>11.1</td>\n",
       "      <td>26.6</td>\n",
       "    </tr>\n",
       "    <tr>\n",
       "      <th>93</th>\n",
       "      <td>2021</td>\n",
       "      <td>10</td>\n",
       "      <td>46.52</td>\n",
       "      <td>21.6</td>\n",
       "      <td>365.0</td>\n",
       "      <td>27.5</td>\n",
       "      <td>53.5</td>\n",
       "      <td>328.0</td>\n",
       "      <td>339.0</td>\n",
       "      <td>652.8</td>\n",
       "      <td>...</td>\n",
       "      <td>516.00</td>\n",
       "      <td>529.67</td>\n",
       "      <td>656.53</td>\n",
       "      <td>777.37</td>\n",
       "      <td>890.95</td>\n",
       "      <td>0.0</td>\n",
       "      <td>309.0</td>\n",
       "      <td>15.8</td>\n",
       "      <td>5.5</td>\n",
       "      <td>26.1</td>\n",
       "    </tr>\n",
       "    <tr>\n",
       "      <th>94</th>\n",
       "      <td>2021</td>\n",
       "      <td>11</td>\n",
       "      <td>48.65</td>\n",
       "      <td>17.8</td>\n",
       "      <td>370.0</td>\n",
       "      <td>20.9</td>\n",
       "      <td>55.9</td>\n",
       "      <td>333.0</td>\n",
       "      <td>344.0</td>\n",
       "      <td>460.6</td>\n",
       "      <td>...</td>\n",
       "      <td>419.66</td>\n",
       "      <td>547.42</td>\n",
       "      <td>641.39</td>\n",
       "      <td>762.83</td>\n",
       "      <td>888.34</td>\n",
       "      <td>0.0</td>\n",
       "      <td>314.0</td>\n",
       "      <td>15.4</td>\n",
       "      <td>0.0</td>\n",
       "      <td>25.5</td>\n",
       "    </tr>\n",
       "    <tr>\n",
       "      <th>95</th>\n",
       "      <td>2021</td>\n",
       "      <td>12</td>\n",
       "      <td>48.46</td>\n",
       "      <td>12.2</td>\n",
       "      <td>374.0</td>\n",
       "      <td>7.5</td>\n",
       "      <td>46.0</td>\n",
       "      <td>341.0</td>\n",
       "      <td>350.0</td>\n",
       "      <td>256.3</td>\n",
       "      <td>...</td>\n",
       "      <td>490.37</td>\n",
       "      <td>623.57</td>\n",
       "      <td>693.47</td>\n",
       "      <td>806.00</td>\n",
       "      <td>912.35</td>\n",
       "      <td>0.0</td>\n",
       "      <td>323.0</td>\n",
       "      <td>15.0</td>\n",
       "      <td>7.4</td>\n",
       "      <td>25.2</td>\n",
       "    </tr>\n",
       "  </tbody>\n",
       "</table>\n",
       "<p>96 rows × 21 columns</p>\n",
       "</div>"
      ],
      "text/plain": [
       "    Year  Month  Average price of raw milk from Ireland (Euro per 100kg)  \\\n",
       "0   2014      1                                              42.34         \n",
       "1   2014      2                                              41.76         \n",
       "2   2014      3                                              39.04         \n",
       "3   2014      4                                              38.55         \n",
       "4   2014      5                                              37.10         \n",
       "..   ...    ...                                                ...         \n",
       "91  2021      8                                              39.23         \n",
       "92  2021      9                                              42.44         \n",
       "93  2021     10                                              46.52         \n",
       "94  2021     11                                              48.65         \n",
       "95  2021     12                                              48.46         \n",
       "\n",
       "    Butter (Thousand tonnes)  \\\n",
       "0                        4.4   \n",
       "1                        6.2   \n",
       "2                       14.4   \n",
       "3                       17.3   \n",
       "4                       21.7   \n",
       "..                       ...   \n",
       "91                      28.8   \n",
       "92                      26.5   \n",
       "93                      21.6   \n",
       "94                      17.8   \n",
       "95                      12.2   \n",
       "\n",
       "    Calf nuts and cubes (16-18% protein) (Euro per Tonne)  \\\n",
       "0                                               329.0       \n",
       "1                                               329.0       \n",
       "2                                               305.0       \n",
       "3                                               313.0       \n",
       "4                                               315.0       \n",
       "..                                                ...       \n",
       "91                                              355.0       \n",
       "92                                              360.0       \n",
       "93                                              365.0       \n",
       "94                                              370.0       \n",
       "95                                              374.0       \n",
       "\n",
       "    Cheese (Thousand tonnes)  Cow slaughterings (Thousand tonnes)  \\\n",
       "0                        2.3                                 49.4   \n",
       "1                        6.5                                 45.4   \n",
       "2                       18.4                                 48.6   \n",
       "3                       22.8                                 49.3   \n",
       "4                       24.8                                 48.8   \n",
       "..                       ...                                  ...   \n",
       "91                      29.3                                 53.3   \n",
       "92                      33.2                                 55.7   \n",
       "93                      27.5                                 53.5   \n",
       "94                      20.9                                 55.9   \n",
       "95                       7.5                                 46.0   \n",
       "\n",
       "    Dairy meal (16-18% protein) (Euro per Tonne)  \\\n",
       "0                                          300.0   \n",
       "1                                          303.0   \n",
       "2                                          290.0   \n",
       "3                                          276.0   \n",
       "4                                          284.0   \n",
       "..                                           ...   \n",
       "91                                         316.0   \n",
       "92                                         323.0   \n",
       "93                                         328.0   \n",
       "94                                         333.0   \n",
       "95                                         341.0   \n",
       "\n",
       "    Dairy nuts and cubes (16-18% protein) (Euro per Tonne)  \\\n",
       "0                                               302.0        \n",
       "1                                               303.0        \n",
       "2                                               288.0        \n",
       "3                                               289.0        \n",
       "4                                               292.0        \n",
       "..                                                ...        \n",
       "91                                              324.0        \n",
       "92                                              332.0        \n",
       "93                                              339.0        \n",
       "94                                              344.0        \n",
       "95                                              350.0        \n",
       "\n",
       "    Domestic milk intake (Million litres)  ...  Heifers 200-249kg  \\\n",
       "0                                   132.0  ...             498.38   \n",
       "1                                   214.0  ...             506.55   \n",
       "2                                   470.7  ...             497.04   \n",
       "3                                   697.0  ...             472.67   \n",
       "4                                   785.5  ...             509.21   \n",
       "..                                    ...  ...                ...   \n",
       "91                                  917.4  ...             480.00   \n",
       "92                                  776.7  ...             450.74   \n",
       "93                                  652.8  ...             516.00   \n",
       "94                                  460.6  ...             419.66   \n",
       "95                                  256.3  ...             490.37   \n",
       "\n",
       "    Heifers 250-299kg  Heifers 300-349kg  Heifers 350-399kg  \\\n",
       "0              597.40             704.50             789.13   \n",
       "1              612.72             704.99             790.58   \n",
       "2              588.64             682.82             789.94   \n",
       "3              589.84             689.85             806.49   \n",
       "4              595.29             691.55             808.22   \n",
       "..                ...                ...                ...   \n",
       "91             598.07             689.20             801.61   \n",
       "92             570.54             694.88             804.71   \n",
       "93             529.67             656.53             777.37   \n",
       "94             547.42             641.39             762.83   \n",
       "95             623.57             693.47             806.00   \n",
       "\n",
       "    Heifers 400-449kg  Imported milk intake (Million litres)  \\\n",
       "0              867.04                                   38.8   \n",
       "1              884.23                                   37.6   \n",
       "2              906.31                                   40.8   \n",
       "3              908.97                                   43.6   \n",
       "4              893.82                                   51.1   \n",
       "..                ...                                    ...   \n",
       "91             913.59                                    0.0   \n",
       "92             915.68                                    0.0   \n",
       "93             890.95                                    0.0   \n",
       "94             888.34                                    0.0   \n",
       "95             912.35                                    0.0   \n",
       "\n",
       "    Maize meal (Euro per Tonne)  \\\n",
       "0                         252.0   \n",
       "1                         248.0   \n",
       "2                         244.0   \n",
       "3                         233.0   \n",
       "4                         240.0   \n",
       "..                          ...   \n",
       "91                        293.0   \n",
       "92                        299.0   \n",
       "93                        309.0   \n",
       "94                        314.0   \n",
       "95                        323.0   \n",
       "\n",
       "    Skimmed & semi-skimmed milk sales (Million litres)  \\\n",
       "0                                                16.9    \n",
       "1                                                15.4    \n",
       "2                                                18.7    \n",
       "3                                                15.0    \n",
       "4                                                17.4    \n",
       "..                                                ...    \n",
       "91                                               15.8    \n",
       "92                                               15.1    \n",
       "93                                               15.8    \n",
       "94                                               15.4    \n",
       "95                                               15.0    \n",
       "\n",
       "    Skimmed milk powder (Thousand tonnes)  Whole milk sales (Million litres)  \n",
       "0                                     0.0                               23.5  \n",
       "1                                     0.8                               21.3  \n",
       "2                                     3.9                               25.4  \n",
       "3                                     6.5                               21.9  \n",
       "4                                    11.9                               24.9  \n",
       "..                                    ...                                ...  \n",
       "91                                   16.4                               29.0  \n",
       "92                                   11.1                               26.6  \n",
       "93                                    5.5                               26.1  \n",
       "94                                    0.0                               25.5  \n",
       "95                                    7.4                               25.2  \n",
       "\n",
       "[96 rows x 21 columns]"
      ]
     },
     "execution_count": 67,
     "metadata": {},
     "output_type": "execute_result"
    }
   ],
   "source": [
    "df1"
   ]
  },
  {
   "cell_type": "code",
   "execution_count": 68,
   "metadata": {
    "colab": {
     "base_uri": "https://localhost:8080/"
    },
    "executionInfo": {
     "elapsed": 42,
     "status": "ok",
     "timestamp": 1652368747318,
     "user": {
      "displayName": "Brendan Crowley",
      "userId": "09355744342736110324"
     },
     "user_tz": -60
    },
    "id": "noEqi2Xyn_j7",
    "outputId": "ad4b36c0-81ff-422f-9733-454c5ab0ffd6"
   },
   "outputs": [
    {
     "data": {
      "text/plain": [
       "Index(['Year', 'Month',\n",
       "       'Average price of raw milk from Ireland (Euro per 100kg)',\n",
       "       'Butter (Thousand tonnes)',\n",
       "       'Calf nuts and cubes (16-18% protein) (Euro per Tonne)',\n",
       "       'Cheese (Thousand tonnes)', 'Cow slaughterings (Thousand tonnes)',\n",
       "       'Dairy meal (16-18% protein) (Euro per Tonne)',\n",
       "       'Dairy nuts and cubes (16-18% protein) (Euro per Tonne)',\n",
       "       'Domestic milk intake (Million litres)', 'Fat content (Percent)',\n",
       "       'Heifers 200-249kg', 'Heifers 250-299kg', 'Heifers 300-349kg',\n",
       "       'Heifers 350-399kg', 'Heifers 400-449kg',\n",
       "       'Imported milk intake (Million litres)', 'Maize meal (Euro per Tonne)',\n",
       "       'Skimmed & semi-skimmed milk sales (Million litres)',\n",
       "       'Skimmed milk powder (Thousand tonnes)',\n",
       "       'Whole milk sales (Million litres)'],\n",
       "      dtype='object')"
      ]
     },
     "execution_count": 68,
     "metadata": {},
     "output_type": "execute_result"
    }
   ],
   "source": [
    "df1.columns"
   ]
  },
  {
   "cell_type": "code",
   "execution_count": 69,
   "metadata": {
    "executionInfo": {
     "elapsed": 36,
     "status": "ok",
     "timestamp": 1652368747319,
     "user": {
      "displayName": "Brendan Crowley",
      "userId": "09355744342736110324"
     },
     "user_tz": -60
    },
    "id": "0F0LdYUpn_j7"
   },
   "outputs": [],
   "source": [
    "translations = {\"Average price of raw milk from Ireland (Euro per 100kg)\": \"Raw milk price\",\n",
    "               \"Butter (Thousand tonnes)\": \"Butter\",\n",
    "                \"Cheese (Thousand tonnes)\": \"Cheese\",\n",
    "               \"Calf nuts and cubes (16-18% protein) (Euro per Tonne)\": \"Calf nuts value\",\n",
    "               \"Dairy meal (16-18% protein) (Euro per Tonne)\": \"Dairy meal value\",\n",
    "               \"Dairy nuts and cubes (16-18% protein) (Euro per Tonne)\": \"Dairy nuts value\",\n",
    "               \"Domestic milk intake (Million litres)\": \"Domestic milk intake\",\n",
    "               \"Imported milk intake (Million litres)\": \"Imported milk intake\",\n",
    "               \"Maize meal (Euro per Tonne)\": \"Maize meal value\",\n",
    "               \"Skimmed & semi-skimmed milk sales (Million litres)\": \"Skimmed milk sales\",\n",
    "               \"Skimmed milk powder (Thousand tonnes)\": \"Skimmed milk powder\",\n",
    "               \"Whole milk sales (Million litres)\": \"Whole milk sales\",\n",
    "               \"Skimmed-milk powder (Thousand tonnes)\": \"Skimmed milk powder\",\n",
    "               \"Volume (Thousand tonnes)\": \"Milk production volume\",\n",
    "               \"Concentrated milk (Thousand tonnes)\": \"Whole milk sales\"}"
   ]
  },
  {
   "cell_type": "code",
   "execution_count": 70,
   "metadata": {
    "executionInfo": {
     "elapsed": 35,
     "status": "ok",
     "timestamp": 1652368747319,
     "user": {
      "displayName": "Brendan Crowley",
      "userId": "09355744342736110324"
     },
     "user_tz": -60
    },
    "id": "5QnA8wsJn_j8"
   },
   "outputs": [],
   "source": [
    "df1 = df1.rename(translations, axis=1)"
   ]
  },
  {
   "cell_type": "code",
   "execution_count": 71,
   "metadata": {
    "colab": {
     "base_uri": "https://localhost:8080/",
     "height": 424
    },
    "executionInfo": {
     "elapsed": 28,
     "status": "ok",
     "timestamp": 1652368747724,
     "user": {
      "displayName": "Brendan Crowley",
      "userId": "09355744342736110324"
     },
     "user_tz": -60
    },
    "id": "3J1AMK4cn_j8",
    "outputId": "d0753fe9-16f2-4939-9843-b5edca042c25"
   },
   "outputs": [
    {
     "data": {
      "text/html": [
       "<div>\n",
       "<style scoped>\n",
       "    .dataframe tbody tr th:only-of-type {\n",
       "        vertical-align: middle;\n",
       "    }\n",
       "\n",
       "    .dataframe tbody tr th {\n",
       "        vertical-align: top;\n",
       "    }\n",
       "\n",
       "    .dataframe thead th {\n",
       "        text-align: right;\n",
       "    }\n",
       "</style>\n",
       "<table border=\"1\" class=\"dataframe\">\n",
       "  <thead>\n",
       "    <tr style=\"text-align: right;\">\n",
       "      <th></th>\n",
       "      <th>Year</th>\n",
       "      <th>Month</th>\n",
       "      <th>Raw milk price</th>\n",
       "      <th>Butter</th>\n",
       "      <th>Calf nuts value</th>\n",
       "      <th>Cheese</th>\n",
       "      <th>Cow slaughterings (Thousand tonnes)</th>\n",
       "      <th>Dairy meal value</th>\n",
       "      <th>Dairy nuts value</th>\n",
       "      <th>Domestic milk intake</th>\n",
       "      <th>...</th>\n",
       "      <th>Heifers 200-249kg</th>\n",
       "      <th>Heifers 250-299kg</th>\n",
       "      <th>Heifers 300-349kg</th>\n",
       "      <th>Heifers 350-399kg</th>\n",
       "      <th>Heifers 400-449kg</th>\n",
       "      <th>Imported milk intake</th>\n",
       "      <th>Maize meal value</th>\n",
       "      <th>Skimmed milk sales</th>\n",
       "      <th>Skimmed milk powder</th>\n",
       "      <th>Whole milk sales</th>\n",
       "    </tr>\n",
       "  </thead>\n",
       "  <tbody>\n",
       "    <tr>\n",
       "      <th>0</th>\n",
       "      <td>2014</td>\n",
       "      <td>1</td>\n",
       "      <td>42.34</td>\n",
       "      <td>4.4</td>\n",
       "      <td>329.0</td>\n",
       "      <td>2.3</td>\n",
       "      <td>49.4</td>\n",
       "      <td>300.0</td>\n",
       "      <td>302.0</td>\n",
       "      <td>132.0</td>\n",
       "      <td>...</td>\n",
       "      <td>498.38</td>\n",
       "      <td>597.40</td>\n",
       "      <td>704.50</td>\n",
       "      <td>789.13</td>\n",
       "      <td>867.04</td>\n",
       "      <td>38.8</td>\n",
       "      <td>252.0</td>\n",
       "      <td>16.9</td>\n",
       "      <td>0.0</td>\n",
       "      <td>23.5</td>\n",
       "    </tr>\n",
       "    <tr>\n",
       "      <th>1</th>\n",
       "      <td>2014</td>\n",
       "      <td>2</td>\n",
       "      <td>41.76</td>\n",
       "      <td>6.2</td>\n",
       "      <td>329.0</td>\n",
       "      <td>6.5</td>\n",
       "      <td>45.4</td>\n",
       "      <td>303.0</td>\n",
       "      <td>303.0</td>\n",
       "      <td>214.0</td>\n",
       "      <td>...</td>\n",
       "      <td>506.55</td>\n",
       "      <td>612.72</td>\n",
       "      <td>704.99</td>\n",
       "      <td>790.58</td>\n",
       "      <td>884.23</td>\n",
       "      <td>37.6</td>\n",
       "      <td>248.0</td>\n",
       "      <td>15.4</td>\n",
       "      <td>0.8</td>\n",
       "      <td>21.3</td>\n",
       "    </tr>\n",
       "    <tr>\n",
       "      <th>2</th>\n",
       "      <td>2014</td>\n",
       "      <td>3</td>\n",
       "      <td>39.04</td>\n",
       "      <td>14.4</td>\n",
       "      <td>305.0</td>\n",
       "      <td>18.4</td>\n",
       "      <td>48.6</td>\n",
       "      <td>290.0</td>\n",
       "      <td>288.0</td>\n",
       "      <td>470.7</td>\n",
       "      <td>...</td>\n",
       "      <td>497.04</td>\n",
       "      <td>588.64</td>\n",
       "      <td>682.82</td>\n",
       "      <td>789.94</td>\n",
       "      <td>906.31</td>\n",
       "      <td>40.8</td>\n",
       "      <td>244.0</td>\n",
       "      <td>18.7</td>\n",
       "      <td>3.9</td>\n",
       "      <td>25.4</td>\n",
       "    </tr>\n",
       "    <tr>\n",
       "      <th>3</th>\n",
       "      <td>2014</td>\n",
       "      <td>4</td>\n",
       "      <td>38.55</td>\n",
       "      <td>17.3</td>\n",
       "      <td>313.0</td>\n",
       "      <td>22.8</td>\n",
       "      <td>49.3</td>\n",
       "      <td>276.0</td>\n",
       "      <td>289.0</td>\n",
       "      <td>697.0</td>\n",
       "      <td>...</td>\n",
       "      <td>472.67</td>\n",
       "      <td>589.84</td>\n",
       "      <td>689.85</td>\n",
       "      <td>806.49</td>\n",
       "      <td>908.97</td>\n",
       "      <td>43.6</td>\n",
       "      <td>233.0</td>\n",
       "      <td>15.0</td>\n",
       "      <td>6.5</td>\n",
       "      <td>21.9</td>\n",
       "    </tr>\n",
       "    <tr>\n",
       "      <th>4</th>\n",
       "      <td>2014</td>\n",
       "      <td>5</td>\n",
       "      <td>37.10</td>\n",
       "      <td>21.7</td>\n",
       "      <td>315.0</td>\n",
       "      <td>24.8</td>\n",
       "      <td>48.8</td>\n",
       "      <td>284.0</td>\n",
       "      <td>292.0</td>\n",
       "      <td>785.5</td>\n",
       "      <td>...</td>\n",
       "      <td>509.21</td>\n",
       "      <td>595.29</td>\n",
       "      <td>691.55</td>\n",
       "      <td>808.22</td>\n",
       "      <td>893.82</td>\n",
       "      <td>51.1</td>\n",
       "      <td>240.0</td>\n",
       "      <td>17.4</td>\n",
       "      <td>11.9</td>\n",
       "      <td>24.9</td>\n",
       "    </tr>\n",
       "    <tr>\n",
       "      <th>...</th>\n",
       "      <td>...</td>\n",
       "      <td>...</td>\n",
       "      <td>...</td>\n",
       "      <td>...</td>\n",
       "      <td>...</td>\n",
       "      <td>...</td>\n",
       "      <td>...</td>\n",
       "      <td>...</td>\n",
       "      <td>...</td>\n",
       "      <td>...</td>\n",
       "      <td>...</td>\n",
       "      <td>...</td>\n",
       "      <td>...</td>\n",
       "      <td>...</td>\n",
       "      <td>...</td>\n",
       "      <td>...</td>\n",
       "      <td>...</td>\n",
       "      <td>...</td>\n",
       "      <td>...</td>\n",
       "      <td>...</td>\n",
       "      <td>...</td>\n",
       "    </tr>\n",
       "    <tr>\n",
       "      <th>91</th>\n",
       "      <td>2021</td>\n",
       "      <td>8</td>\n",
       "      <td>39.23</td>\n",
       "      <td>28.8</td>\n",
       "      <td>355.0</td>\n",
       "      <td>29.3</td>\n",
       "      <td>53.3</td>\n",
       "      <td>316.0</td>\n",
       "      <td>324.0</td>\n",
       "      <td>917.4</td>\n",
       "      <td>...</td>\n",
       "      <td>480.00</td>\n",
       "      <td>598.07</td>\n",
       "      <td>689.20</td>\n",
       "      <td>801.61</td>\n",
       "      <td>913.59</td>\n",
       "      <td>0.0</td>\n",
       "      <td>293.0</td>\n",
       "      <td>15.8</td>\n",
       "      <td>16.4</td>\n",
       "      <td>29.0</td>\n",
       "    </tr>\n",
       "    <tr>\n",
       "      <th>92</th>\n",
       "      <td>2021</td>\n",
       "      <td>9</td>\n",
       "      <td>42.44</td>\n",
       "      <td>26.5</td>\n",
       "      <td>360.0</td>\n",
       "      <td>33.2</td>\n",
       "      <td>55.7</td>\n",
       "      <td>323.0</td>\n",
       "      <td>332.0</td>\n",
       "      <td>776.7</td>\n",
       "      <td>...</td>\n",
       "      <td>450.74</td>\n",
       "      <td>570.54</td>\n",
       "      <td>694.88</td>\n",
       "      <td>804.71</td>\n",
       "      <td>915.68</td>\n",
       "      <td>0.0</td>\n",
       "      <td>299.0</td>\n",
       "      <td>15.1</td>\n",
       "      <td>11.1</td>\n",
       "      <td>26.6</td>\n",
       "    </tr>\n",
       "    <tr>\n",
       "      <th>93</th>\n",
       "      <td>2021</td>\n",
       "      <td>10</td>\n",
       "      <td>46.52</td>\n",
       "      <td>21.6</td>\n",
       "      <td>365.0</td>\n",
       "      <td>27.5</td>\n",
       "      <td>53.5</td>\n",
       "      <td>328.0</td>\n",
       "      <td>339.0</td>\n",
       "      <td>652.8</td>\n",
       "      <td>...</td>\n",
       "      <td>516.00</td>\n",
       "      <td>529.67</td>\n",
       "      <td>656.53</td>\n",
       "      <td>777.37</td>\n",
       "      <td>890.95</td>\n",
       "      <td>0.0</td>\n",
       "      <td>309.0</td>\n",
       "      <td>15.8</td>\n",
       "      <td>5.5</td>\n",
       "      <td>26.1</td>\n",
       "    </tr>\n",
       "    <tr>\n",
       "      <th>94</th>\n",
       "      <td>2021</td>\n",
       "      <td>11</td>\n",
       "      <td>48.65</td>\n",
       "      <td>17.8</td>\n",
       "      <td>370.0</td>\n",
       "      <td>20.9</td>\n",
       "      <td>55.9</td>\n",
       "      <td>333.0</td>\n",
       "      <td>344.0</td>\n",
       "      <td>460.6</td>\n",
       "      <td>...</td>\n",
       "      <td>419.66</td>\n",
       "      <td>547.42</td>\n",
       "      <td>641.39</td>\n",
       "      <td>762.83</td>\n",
       "      <td>888.34</td>\n",
       "      <td>0.0</td>\n",
       "      <td>314.0</td>\n",
       "      <td>15.4</td>\n",
       "      <td>0.0</td>\n",
       "      <td>25.5</td>\n",
       "    </tr>\n",
       "    <tr>\n",
       "      <th>95</th>\n",
       "      <td>2021</td>\n",
       "      <td>12</td>\n",
       "      <td>48.46</td>\n",
       "      <td>12.2</td>\n",
       "      <td>374.0</td>\n",
       "      <td>7.5</td>\n",
       "      <td>46.0</td>\n",
       "      <td>341.0</td>\n",
       "      <td>350.0</td>\n",
       "      <td>256.3</td>\n",
       "      <td>...</td>\n",
       "      <td>490.37</td>\n",
       "      <td>623.57</td>\n",
       "      <td>693.47</td>\n",
       "      <td>806.00</td>\n",
       "      <td>912.35</td>\n",
       "      <td>0.0</td>\n",
       "      <td>323.0</td>\n",
       "      <td>15.0</td>\n",
       "      <td>7.4</td>\n",
       "      <td>25.2</td>\n",
       "    </tr>\n",
       "  </tbody>\n",
       "</table>\n",
       "<p>96 rows × 21 columns</p>\n",
       "</div>"
      ],
      "text/plain": [
       "    Year  Month  Raw milk price  Butter  Calf nuts value  Cheese  \\\n",
       "0   2014      1           42.34     4.4            329.0     2.3   \n",
       "1   2014      2           41.76     6.2            329.0     6.5   \n",
       "2   2014      3           39.04    14.4            305.0    18.4   \n",
       "3   2014      4           38.55    17.3            313.0    22.8   \n",
       "4   2014      5           37.10    21.7            315.0    24.8   \n",
       "..   ...    ...             ...     ...              ...     ...   \n",
       "91  2021      8           39.23    28.8            355.0    29.3   \n",
       "92  2021      9           42.44    26.5            360.0    33.2   \n",
       "93  2021     10           46.52    21.6            365.0    27.5   \n",
       "94  2021     11           48.65    17.8            370.0    20.9   \n",
       "95  2021     12           48.46    12.2            374.0     7.5   \n",
       "\n",
       "    Cow slaughterings (Thousand tonnes)  Dairy meal value  Dairy nuts value  \\\n",
       "0                                  49.4             300.0             302.0   \n",
       "1                                  45.4             303.0             303.0   \n",
       "2                                  48.6             290.0             288.0   \n",
       "3                                  49.3             276.0             289.0   \n",
       "4                                  48.8             284.0             292.0   \n",
       "..                                  ...               ...               ...   \n",
       "91                                 53.3             316.0             324.0   \n",
       "92                                 55.7             323.0             332.0   \n",
       "93                                 53.5             328.0             339.0   \n",
       "94                                 55.9             333.0             344.0   \n",
       "95                                 46.0             341.0             350.0   \n",
       "\n",
       "    Domestic milk intake  ...  Heifers 200-249kg  Heifers 250-299kg  \\\n",
       "0                  132.0  ...             498.38             597.40   \n",
       "1                  214.0  ...             506.55             612.72   \n",
       "2                  470.7  ...             497.04             588.64   \n",
       "3                  697.0  ...             472.67             589.84   \n",
       "4                  785.5  ...             509.21             595.29   \n",
       "..                   ...  ...                ...                ...   \n",
       "91                 917.4  ...             480.00             598.07   \n",
       "92                 776.7  ...             450.74             570.54   \n",
       "93                 652.8  ...             516.00             529.67   \n",
       "94                 460.6  ...             419.66             547.42   \n",
       "95                 256.3  ...             490.37             623.57   \n",
       "\n",
       "    Heifers 300-349kg  Heifers 350-399kg  Heifers 400-449kg  \\\n",
       "0              704.50             789.13             867.04   \n",
       "1              704.99             790.58             884.23   \n",
       "2              682.82             789.94             906.31   \n",
       "3              689.85             806.49             908.97   \n",
       "4              691.55             808.22             893.82   \n",
       "..                ...                ...                ...   \n",
       "91             689.20             801.61             913.59   \n",
       "92             694.88             804.71             915.68   \n",
       "93             656.53             777.37             890.95   \n",
       "94             641.39             762.83             888.34   \n",
       "95             693.47             806.00             912.35   \n",
       "\n",
       "    Imported milk intake  Maize meal value  Skimmed milk sales  \\\n",
       "0                   38.8             252.0                16.9   \n",
       "1                   37.6             248.0                15.4   \n",
       "2                   40.8             244.0                18.7   \n",
       "3                   43.6             233.0                15.0   \n",
       "4                   51.1             240.0                17.4   \n",
       "..                   ...               ...                 ...   \n",
       "91                   0.0             293.0                15.8   \n",
       "92                   0.0             299.0                15.1   \n",
       "93                   0.0             309.0                15.8   \n",
       "94                   0.0             314.0                15.4   \n",
       "95                   0.0             323.0                15.0   \n",
       "\n",
       "    Skimmed milk powder  Whole milk sales  \n",
       "0                   0.0              23.5  \n",
       "1                   0.8              21.3  \n",
       "2                   3.9              25.4  \n",
       "3                   6.5              21.9  \n",
       "4                  11.9              24.9  \n",
       "..                  ...               ...  \n",
       "91                 16.4              29.0  \n",
       "92                 11.1              26.6  \n",
       "93                  5.5              26.1  \n",
       "94                  0.0              25.5  \n",
       "95                  7.4              25.2  \n",
       "\n",
       "[96 rows x 21 columns]"
      ]
     },
     "execution_count": 71,
     "metadata": {},
     "output_type": "execute_result"
    }
   ],
   "source": [
    "df1"
   ]
  },
  {
   "cell_type": "code",
   "execution_count": 72,
   "metadata": {
    "executionInfo": {
     "elapsed": 27,
     "status": "ok",
     "timestamp": 1652368747724,
     "user": {
      "displayName": "Brendan Crowley",
      "userId": "09355744342736110324"
     },
     "user_tz": -60
    },
    "id": "SwCRNg5_n_j8"
   },
   "outputs": [],
   "source": [
    "df2 = df2.rename(translations, axis=1)\n",
    "dfn = dfn.rename(translations, axis=1)"
   ]
  },
  {
   "cell_type": "code",
   "execution_count": 73,
   "metadata": {
    "colab": {
     "base_uri": "https://localhost:8080/",
     "height": 424
    },
    "executionInfo": {
     "elapsed": 27,
     "status": "ok",
     "timestamp": 1652368747725,
     "user": {
      "displayName": "Brendan Crowley",
      "userId": "09355744342736110324"
     },
     "user_tz": -60
    },
    "id": "kbDWdF_kn_j8",
    "outputId": "65cdb086-522b-4d91-bc69-3dddaba6966a"
   },
   "outputs": [
    {
     "data": {
      "text/html": [
       "<div>\n",
       "<style scoped>\n",
       "    .dataframe tbody tr th:only-of-type {\n",
       "        vertical-align: middle;\n",
       "    }\n",
       "\n",
       "    .dataframe tbody tr th {\n",
       "        vertical-align: top;\n",
       "    }\n",
       "\n",
       "    .dataframe thead th {\n",
       "        text-align: right;\n",
       "    }\n",
       "</style>\n",
       "<table border=\"1\" class=\"dataframe\">\n",
       "  <thead>\n",
       "    <tr style=\"text-align: right;\">\n",
       "      <th></th>\n",
       "      <th>Year</th>\n",
       "      <th>Month</th>\n",
       "      <th>Raw milk price</th>\n",
       "      <th>Butter</th>\n",
       "      <th>Cheese</th>\n",
       "      <th>Domestic milk intake</th>\n",
       "      <th>Fat content (Percent)</th>\n",
       "      <th>Heifers 200-249kg</th>\n",
       "      <th>Heifers 250-299kg</th>\n",
       "      <th>Heifers 300-349kg</th>\n",
       "      <th>Heifers 350-399kg</th>\n",
       "      <th>Heifers 400-449kg</th>\n",
       "      <th>Imported milk intake</th>\n",
       "      <th>Skimmed milk sales</th>\n",
       "      <th>Skimmed milk powder</th>\n",
       "      <th>Whole milk sales</th>\n",
       "    </tr>\n",
       "  </thead>\n",
       "  <tbody>\n",
       "    <tr>\n",
       "      <th>0</th>\n",
       "      <td>2007</td>\n",
       "      <td>1</td>\n",
       "      <td>28.30</td>\n",
       "      <td>3.8</td>\n",
       "      <td>1.3</td>\n",
       "      <td>123.0</td>\n",
       "      <td>3.87</td>\n",
       "      <td>363.58</td>\n",
       "      <td>431.76</td>\n",
       "      <td>520.38</td>\n",
       "      <td>574.80</td>\n",
       "      <td>661.13</td>\n",
       "      <td>54.6</td>\n",
       "      <td>12.3</td>\n",
       "      <td>2.4</td>\n",
       "      <td>32.1</td>\n",
       "    </tr>\n",
       "    <tr>\n",
       "      <th>1</th>\n",
       "      <td>2007</td>\n",
       "      <td>2</td>\n",
       "      <td>27.18</td>\n",
       "      <td>5.0</td>\n",
       "      <td>2.4</td>\n",
       "      <td>185.4</td>\n",
       "      <td>3.87</td>\n",
       "      <td>386.08</td>\n",
       "      <td>462.94</td>\n",
       "      <td>539.81</td>\n",
       "      <td>587.47</td>\n",
       "      <td>646.99</td>\n",
       "      <td>38.0</td>\n",
       "      <td>12.6</td>\n",
       "      <td>1.9</td>\n",
       "      <td>29.3</td>\n",
       "    </tr>\n",
       "    <tr>\n",
       "      <th>2</th>\n",
       "      <td>2007</td>\n",
       "      <td>3</td>\n",
       "      <td>25.64</td>\n",
       "      <td>10.1</td>\n",
       "      <td>10.2</td>\n",
       "      <td>386.5</td>\n",
       "      <td>3.80</td>\n",
       "      <td>409.33</td>\n",
       "      <td>474.93</td>\n",
       "      <td>539.83</td>\n",
       "      <td>603.81</td>\n",
       "      <td>670.93</td>\n",
       "      <td>35.8</td>\n",
       "      <td>12.8</td>\n",
       "      <td>5.0</td>\n",
       "      <td>32.4</td>\n",
       "    </tr>\n",
       "    <tr>\n",
       "      <th>3</th>\n",
       "      <td>2007</td>\n",
       "      <td>4</td>\n",
       "      <td>27.29</td>\n",
       "      <td>14.8</td>\n",
       "      <td>17.6</td>\n",
       "      <td>581.0</td>\n",
       "      <td>3.59</td>\n",
       "      <td>399.75</td>\n",
       "      <td>457.74</td>\n",
       "      <td>535.86</td>\n",
       "      <td>625.49</td>\n",
       "      <td>690.35</td>\n",
       "      <td>38.7</td>\n",
       "      <td>12.1</td>\n",
       "      <td>10.1</td>\n",
       "      <td>30.4</td>\n",
       "    </tr>\n",
       "    <tr>\n",
       "      <th>4</th>\n",
       "      <td>2007</td>\n",
       "      <td>5</td>\n",
       "      <td>29.76</td>\n",
       "      <td>19.1</td>\n",
       "      <td>19.3</td>\n",
       "      <td>688.3</td>\n",
       "      <td>3.62</td>\n",
       "      <td>398.11</td>\n",
       "      <td>461.66</td>\n",
       "      <td>536.39</td>\n",
       "      <td>607.95</td>\n",
       "      <td>673.32</td>\n",
       "      <td>46.9</td>\n",
       "      <td>12.8</td>\n",
       "      <td>13.2</td>\n",
       "      <td>31.8</td>\n",
       "    </tr>\n",
       "    <tr>\n",
       "      <th>...</th>\n",
       "      <td>...</td>\n",
       "      <td>...</td>\n",
       "      <td>...</td>\n",
       "      <td>...</td>\n",
       "      <td>...</td>\n",
       "      <td>...</td>\n",
       "      <td>...</td>\n",
       "      <td>...</td>\n",
       "      <td>...</td>\n",
       "      <td>...</td>\n",
       "      <td>...</td>\n",
       "      <td>...</td>\n",
       "      <td>...</td>\n",
       "      <td>...</td>\n",
       "      <td>...</td>\n",
       "      <td>...</td>\n",
       "    </tr>\n",
       "    <tr>\n",
       "      <th>175</th>\n",
       "      <td>2021</td>\n",
       "      <td>8</td>\n",
       "      <td>39.23</td>\n",
       "      <td>28.8</td>\n",
       "      <td>29.3</td>\n",
       "      <td>917.4</td>\n",
       "      <td>4.19</td>\n",
       "      <td>480.00</td>\n",
       "      <td>598.07</td>\n",
       "      <td>689.20</td>\n",
       "      <td>801.61</td>\n",
       "      <td>913.59</td>\n",
       "      <td>0.0</td>\n",
       "      <td>15.8</td>\n",
       "      <td>16.4</td>\n",
       "      <td>29.0</td>\n",
       "    </tr>\n",
       "    <tr>\n",
       "      <th>176</th>\n",
       "      <td>2021</td>\n",
       "      <td>9</td>\n",
       "      <td>42.44</td>\n",
       "      <td>26.5</td>\n",
       "      <td>33.2</td>\n",
       "      <td>776.7</td>\n",
       "      <td>4.43</td>\n",
       "      <td>450.74</td>\n",
       "      <td>570.54</td>\n",
       "      <td>694.88</td>\n",
       "      <td>804.71</td>\n",
       "      <td>915.68</td>\n",
       "      <td>0.0</td>\n",
       "      <td>15.1</td>\n",
       "      <td>11.1</td>\n",
       "      <td>26.6</td>\n",
       "    </tr>\n",
       "    <tr>\n",
       "      <th>177</th>\n",
       "      <td>2021</td>\n",
       "      <td>10</td>\n",
       "      <td>46.52</td>\n",
       "      <td>21.6</td>\n",
       "      <td>27.5</td>\n",
       "      <td>652.8</td>\n",
       "      <td>4.77</td>\n",
       "      <td>516.00</td>\n",
       "      <td>529.67</td>\n",
       "      <td>656.53</td>\n",
       "      <td>777.37</td>\n",
       "      <td>890.95</td>\n",
       "      <td>0.0</td>\n",
       "      <td>15.8</td>\n",
       "      <td>5.5</td>\n",
       "      <td>26.1</td>\n",
       "    </tr>\n",
       "    <tr>\n",
       "      <th>178</th>\n",
       "      <td>2021</td>\n",
       "      <td>11</td>\n",
       "      <td>48.65</td>\n",
       "      <td>17.8</td>\n",
       "      <td>20.9</td>\n",
       "      <td>460.6</td>\n",
       "      <td>4.90</td>\n",
       "      <td>419.66</td>\n",
       "      <td>547.42</td>\n",
       "      <td>641.39</td>\n",
       "      <td>762.83</td>\n",
       "      <td>888.34</td>\n",
       "      <td>0.0</td>\n",
       "      <td>15.4</td>\n",
       "      <td>0.0</td>\n",
       "      <td>25.5</td>\n",
       "    </tr>\n",
       "    <tr>\n",
       "      <th>179</th>\n",
       "      <td>2021</td>\n",
       "      <td>12</td>\n",
       "      <td>48.46</td>\n",
       "      <td>12.2</td>\n",
       "      <td>7.5</td>\n",
       "      <td>256.3</td>\n",
       "      <td>4.74</td>\n",
       "      <td>490.37</td>\n",
       "      <td>623.57</td>\n",
       "      <td>693.47</td>\n",
       "      <td>806.00</td>\n",
       "      <td>912.35</td>\n",
       "      <td>0.0</td>\n",
       "      <td>15.0</td>\n",
       "      <td>7.4</td>\n",
       "      <td>25.2</td>\n",
       "    </tr>\n",
       "  </tbody>\n",
       "</table>\n",
       "<p>180 rows × 16 columns</p>\n",
       "</div>"
      ],
      "text/plain": [
       "     Year  Month  Raw milk price  Butter  Cheese  Domestic milk intake  \\\n",
       "0    2007      1           28.30     3.8     1.3                 123.0   \n",
       "1    2007      2           27.18     5.0     2.4                 185.4   \n",
       "2    2007      3           25.64    10.1    10.2                 386.5   \n",
       "3    2007      4           27.29    14.8    17.6                 581.0   \n",
       "4    2007      5           29.76    19.1    19.3                 688.3   \n",
       "..    ...    ...             ...     ...     ...                   ...   \n",
       "175  2021      8           39.23    28.8    29.3                 917.4   \n",
       "176  2021      9           42.44    26.5    33.2                 776.7   \n",
       "177  2021     10           46.52    21.6    27.5                 652.8   \n",
       "178  2021     11           48.65    17.8    20.9                 460.6   \n",
       "179  2021     12           48.46    12.2     7.5                 256.3   \n",
       "\n",
       "     Fat content (Percent)  Heifers 200-249kg  Heifers 250-299kg  \\\n",
       "0                     3.87             363.58             431.76   \n",
       "1                     3.87             386.08             462.94   \n",
       "2                     3.80             409.33             474.93   \n",
       "3                     3.59             399.75             457.74   \n",
       "4                     3.62             398.11             461.66   \n",
       "..                     ...                ...                ...   \n",
       "175                   4.19             480.00             598.07   \n",
       "176                   4.43             450.74             570.54   \n",
       "177                   4.77             516.00             529.67   \n",
       "178                   4.90             419.66             547.42   \n",
       "179                   4.74             490.37             623.57   \n",
       "\n",
       "     Heifers 300-349kg  Heifers 350-399kg  Heifers 400-449kg  \\\n",
       "0               520.38             574.80             661.13   \n",
       "1               539.81             587.47             646.99   \n",
       "2               539.83             603.81             670.93   \n",
       "3               535.86             625.49             690.35   \n",
       "4               536.39             607.95             673.32   \n",
       "..                 ...                ...                ...   \n",
       "175             689.20             801.61             913.59   \n",
       "176             694.88             804.71             915.68   \n",
       "177             656.53             777.37             890.95   \n",
       "178             641.39             762.83             888.34   \n",
       "179             693.47             806.00             912.35   \n",
       "\n",
       "     Imported milk intake  Skimmed milk sales  Skimmed milk powder  \\\n",
       "0                    54.6                12.3                  2.4   \n",
       "1                    38.0                12.6                  1.9   \n",
       "2                    35.8                12.8                  5.0   \n",
       "3                    38.7                12.1                 10.1   \n",
       "4                    46.9                12.8                 13.2   \n",
       "..                    ...                 ...                  ...   \n",
       "175                   0.0                15.8                 16.4   \n",
       "176                   0.0                15.1                 11.1   \n",
       "177                   0.0                15.8                  5.5   \n",
       "178                   0.0                15.4                  0.0   \n",
       "179                   0.0                15.0                  7.4   \n",
       "\n",
       "     Whole milk sales  \n",
       "0                32.1  \n",
       "1                29.3  \n",
       "2                32.4  \n",
       "3                30.4  \n",
       "4                31.8  \n",
       "..                ...  \n",
       "175              29.0  \n",
       "176              26.6  \n",
       "177              26.1  \n",
       "178              25.5  \n",
       "179              25.2  \n",
       "\n",
       "[180 rows x 16 columns]"
      ]
     },
     "execution_count": 73,
     "metadata": {},
     "output_type": "execute_result"
    }
   ],
   "source": [
    "df2"
   ]
  },
  {
   "cell_type": "code",
   "execution_count": 74,
   "metadata": {
    "colab": {
     "base_uri": "https://localhost:8080/",
     "height": 424
    },
    "executionInfo": {
     "elapsed": 23,
     "status": "ok",
     "timestamp": 1652368748184,
     "user": {
      "displayName": "Brendan Crowley",
      "userId": "09355744342736110324"
     },
     "user_tz": -60
    },
    "id": "3O0cMfuvn_j8",
    "outputId": "28432d08-d4ef-416b-eea7-4eec68f38722",
    "scrolled": true
   },
   "outputs": [
    {
     "data": {
      "text/html": [
       "<div>\n",
       "<style scoped>\n",
       "    .dataframe tbody tr th:only-of-type {\n",
       "        vertical-align: middle;\n",
       "    }\n",
       "\n",
       "    .dataframe tbody tr th {\n",
       "        vertical-align: top;\n",
       "    }\n",
       "\n",
       "    .dataframe thead th {\n",
       "        text-align: right;\n",
       "    }\n",
       "</style>\n",
       "<table border=\"1\" class=\"dataframe\">\n",
       "  <thead>\n",
       "    <tr style=\"text-align: right;\">\n",
       "      <th></th>\n",
       "      <th>Year</th>\n",
       "      <th>Month</th>\n",
       "      <th>Milk production volume</th>\n",
       "      <th>Fat content (Percent)</th>\n",
       "      <th>Butter</th>\n",
       "      <th>Cheese</th>\n",
       "      <th>Skimmed milk powder</th>\n",
       "      <th>Whole milk sales</th>\n",
       "    </tr>\n",
       "  </thead>\n",
       "  <tbody>\n",
       "    <tr>\n",
       "      <th>0</th>\n",
       "      <td>2011</td>\n",
       "      <td>1</td>\n",
       "      <td>996.942</td>\n",
       "      <td>4.56</td>\n",
       "      <td>12.130</td>\n",
       "      <td>65.490</td>\n",
       "      <td>6.402</td>\n",
       "      <td>28.106</td>\n",
       "    </tr>\n",
       "    <tr>\n",
       "      <th>1</th>\n",
       "      <td>2011</td>\n",
       "      <td>2</td>\n",
       "      <td>913.932</td>\n",
       "      <td>4.52</td>\n",
       "      <td>10.194</td>\n",
       "      <td>58.800</td>\n",
       "      <td>4.254</td>\n",
       "      <td>29.770</td>\n",
       "    </tr>\n",
       "    <tr>\n",
       "      <th>2</th>\n",
       "      <td>2011</td>\n",
       "      <td>3</td>\n",
       "      <td>1006.645</td>\n",
       "      <td>4.52</td>\n",
       "      <td>10.427</td>\n",
       "      <td>66.373</td>\n",
       "      <td>4.245</td>\n",
       "      <td>30.161</td>\n",
       "    </tr>\n",
       "    <tr>\n",
       "      <th>3</th>\n",
       "      <td>2011</td>\n",
       "      <td>4</td>\n",
       "      <td>1009.174</td>\n",
       "      <td>4.39</td>\n",
       "      <td>10.274</td>\n",
       "      <td>63.096</td>\n",
       "      <td>5.559</td>\n",
       "      <td>31.287</td>\n",
       "    </tr>\n",
       "    <tr>\n",
       "      <th>4</th>\n",
       "      <td>2011</td>\n",
       "      <td>5</td>\n",
       "      <td>1029.062</td>\n",
       "      <td>4.28</td>\n",
       "      <td>11.098</td>\n",
       "      <td>65.061</td>\n",
       "      <td>6.264</td>\n",
       "      <td>32.218</td>\n",
       "    </tr>\n",
       "    <tr>\n",
       "      <th>...</th>\n",
       "      <td>...</td>\n",
       "      <td>...</td>\n",
       "      <td>...</td>\n",
       "      <td>...</td>\n",
       "      <td>...</td>\n",
       "      <td>...</td>\n",
       "      <td>...</td>\n",
       "      <td>...</td>\n",
       "    </tr>\n",
       "    <tr>\n",
       "      <th>127</th>\n",
       "      <td>2021</td>\n",
       "      <td>8</td>\n",
       "      <td>1123.391</td>\n",
       "      <td>4.29</td>\n",
       "      <td>10.956</td>\n",
       "      <td>76.877</td>\n",
       "      <td>5.583</td>\n",
       "      <td>32.654</td>\n",
       "    </tr>\n",
       "    <tr>\n",
       "      <th>128</th>\n",
       "      <td>2021</td>\n",
       "      <td>9</td>\n",
       "      <td>1064.517</td>\n",
       "      <td>4.34</td>\n",
       "      <td>9.105</td>\n",
       "      <td>74.810</td>\n",
       "      <td>6.392</td>\n",
       "      <td>31.881</td>\n",
       "    </tr>\n",
       "    <tr>\n",
       "      <th>129</th>\n",
       "      <td>2021</td>\n",
       "      <td>10</td>\n",
       "      <td>1087.524</td>\n",
       "      <td>4.47</td>\n",
       "      <td>11.243</td>\n",
       "      <td>77.558</td>\n",
       "      <td>5.545</td>\n",
       "      <td>31.831</td>\n",
       "    </tr>\n",
       "    <tr>\n",
       "      <th>130</th>\n",
       "      <td>2021</td>\n",
       "      <td>11</td>\n",
       "      <td>1059.600</td>\n",
       "      <td>4.53</td>\n",
       "      <td>9.579</td>\n",
       "      <td>75.359</td>\n",
       "      <td>8.460</td>\n",
       "      <td>31.664</td>\n",
       "    </tr>\n",
       "    <tr>\n",
       "      <th>131</th>\n",
       "      <td>2021</td>\n",
       "      <td>12</td>\n",
       "      <td>1121.498</td>\n",
       "      <td>4.56</td>\n",
       "      <td>11.967</td>\n",
       "      <td>78.314</td>\n",
       "      <td>8.169</td>\n",
       "      <td>31.290</td>\n",
       "    </tr>\n",
       "  </tbody>\n",
       "</table>\n",
       "<p>132 rows × 8 columns</p>\n",
       "</div>"
      ],
      "text/plain": [
       "     Year  Month  Milk production volume  Fat content (Percent)  Butter  \\\n",
       "0    2011      1                 996.942                   4.56  12.130   \n",
       "1    2011      2                 913.932                   4.52  10.194   \n",
       "2    2011      3                1006.645                   4.52  10.427   \n",
       "3    2011      4                1009.174                   4.39  10.274   \n",
       "4    2011      5                1029.062                   4.28  11.098   \n",
       "..    ...    ...                     ...                    ...     ...   \n",
       "127  2021      8                1123.391                   4.29  10.956   \n",
       "128  2021      9                1064.517                   4.34   9.105   \n",
       "129  2021     10                1087.524                   4.47  11.243   \n",
       "130  2021     11                1059.600                   4.53   9.579   \n",
       "131  2021     12                1121.498                   4.56  11.967   \n",
       "\n",
       "     Cheese  Skimmed milk powder  Whole milk sales  \n",
       "0    65.490                6.402            28.106  \n",
       "1    58.800                4.254            29.770  \n",
       "2    66.373                4.245            30.161  \n",
       "3    63.096                5.559            31.287  \n",
       "4    65.061                6.264            32.218  \n",
       "..      ...                  ...               ...  \n",
       "127  76.877                5.583            32.654  \n",
       "128  74.810                6.392            31.881  \n",
       "129  77.558                5.545            31.831  \n",
       "130  75.359                8.460            31.664  \n",
       "131  78.314                8.169            31.290  \n",
       "\n",
       "[132 rows x 8 columns]"
      ]
     },
     "execution_count": 74,
     "metadata": {},
     "output_type": "execute_result"
    }
   ],
   "source": [
    "dfn"
   ]
  },
  {
   "cell_type": "markdown",
   "metadata": {
    "id": "dgYPpFEmn_j9"
   },
   "source": [
    "# "
   ]
  },
  {
   "cell_type": "code",
   "execution_count": 75,
   "metadata": {
    "executionInfo": {
     "elapsed": 2,
     "status": "ok",
     "timestamp": 1652368756039,
     "user": {
      "displayName": "Brendan Crowley",
      "userId": "09355744342736110324"
     },
     "user_tz": -60
    },
    "id": "lYovgu4sn_j9"
   },
   "outputs": [],
   "source": [
    "df1[\"Milk production volume\"] = [x+y for (x,y) in zip(df1[\"Domestic milk intake\"],\n",
    "                                                     df1[\"Imported milk intake\"])]"
   ]
  },
  {
   "cell_type": "code",
   "execution_count": 76,
   "metadata": {
    "colab": {
     "base_uri": "https://localhost:8080/"
    },
    "executionInfo": {
     "elapsed": 11,
     "status": "ok",
     "timestamp": 1652368756983,
     "user": {
      "displayName": "Brendan Crowley",
      "userId": "09355744342736110324"
     },
     "user_tz": -60
    },
    "id": "bB0L4J9sn_j9",
    "outputId": "f2664297-8a2a-4ea5-afbb-a92426d00851"
   },
   "outputs": [
    {
     "data": {
      "text/plain": [
       "0     170.8\n",
       "1     251.6\n",
       "2     511.5\n",
       "3     740.6\n",
       "4     836.6\n",
       "      ...  \n",
       "91    917.4\n",
       "92    776.7\n",
       "93    652.8\n",
       "94    460.6\n",
       "95    256.3\n",
       "Name: Milk production volume, Length: 96, dtype: float64"
      ]
     },
     "execution_count": 76,
     "metadata": {},
     "output_type": "execute_result"
    }
   ],
   "source": [
    "df1[\"Milk production volume\"]"
   ]
  },
  {
   "cell_type": "code",
   "execution_count": 77,
   "metadata": {
    "executionInfo": {
     "elapsed": 232,
     "status": "ok",
     "timestamp": 1652368759039,
     "user": {
      "displayName": "Brendan Crowley",
      "userId": "09355744342736110324"
     },
     "user_tz": -60
    },
    "id": "umitEfPyn_j9"
   },
   "outputs": [],
   "source": [
    "df2[\"Milk production volume\"] = [x+y for (x,y) in zip(df2[\"Domestic milk intake\"],\n",
    "                                                     df2[\"Imported milk intake\"])]"
   ]
  },
  {
   "cell_type": "code",
   "execution_count": 78,
   "metadata": {
    "executionInfo": {
     "elapsed": 2,
     "status": "ok",
     "timestamp": 1652368760095,
     "user": {
      "displayName": "Brendan Crowley",
      "userId": "09355744342736110324"
     },
     "user_tz": -60
    },
    "id": "Q8nvGDfUn_j-"
   },
   "outputs": [],
   "source": [
    "dfn[\"Milk production volume\"] = [x*.971164 for x in dfn[\"Milk production volume\"]]\n",
    "dfn[\"Whole milk sales\"] = [x*.971164 for x in dfn[\"Whole milk sales\"]]"
   ]
  },
  {
   "cell_type": "code",
   "execution_count": 79,
   "metadata": {
    "colab": {
     "base_uri": "https://localhost:8080/"
    },
    "executionInfo": {
     "elapsed": 9,
     "status": "ok",
     "timestamp": 1652368760338,
     "user": {
      "displayName": "Brendan Crowley",
      "userId": "09355744342736110324"
     },
     "user_tz": -60
    },
    "id": "SUXC94mSn_j-",
    "outputId": "9721ae34-a1c4-4432-9938-33917c21d860"
   },
   "outputs": [
    {
     "data": {
      "text/plain": [
       "0       968.194180\n",
       "1       887.577857\n",
       "2       977.617385\n",
       "3       980.073459\n",
       "4       999.387968\n",
       "          ...     \n",
       "127    1090.996897\n",
       "128    1033.820588\n",
       "129    1056.164158\n",
       "130    1029.045374\n",
       "131    1089.158484\n",
       "Name: Milk production volume, Length: 132, dtype: float64"
      ]
     },
     "execution_count": 79,
     "metadata": {},
     "output_type": "execute_result"
    }
   ],
   "source": [
    "dfn[\"Milk production volume\"]"
   ]
  },
  {
   "cell_type": "markdown",
   "metadata": {
    "id": "5WrgiZOqn_j-"
   },
   "source": [
    "### Target value\n",
    "\n",
    "Cost of raw milk"
   ]
  },
  {
   "cell_type": "markdown",
   "metadata": {
    "id": "1P2sPVfg0G7q"
   },
   "source": [
    "# Tests"
   ]
  },
  {
   "cell_type": "markdown",
   "metadata": {
    "id": "w8GsP8Jfn_j-"
   },
   "source": [
    "### Test 1 (on df1)"
   ]
  },
  {
   "cell_type": "code",
   "execution_count": 29,
   "metadata": {
    "id": "K-MjhhREn_j-"
   },
   "outputs": [],
   "source": [
    "X = df1[(list(df1.columns[3:-1]))+[\"Month\"]]\n",
    "y = df1[\"Raw milk price\"]\n",
    "\n",
    "stratify = df1[\"Month\"]\n",
    "\n",
    "X_train, X_test, y_train, y_test = train_test_split(X, y, random_state=22122,\n",
    "                                                    stratify=stratify)"
   ]
  },
  {
   "cell_type": "code",
   "execution_count": 30,
   "metadata": {
    "id": "S7yY5Ueen_j-",
    "outputId": "cd261f61-fba8-48c2-c0c0-3a3693e9c578"
   },
   "outputs": [
    {
     "data": {
      "text/html": [
       "<div>\n",
       "<style scoped>\n",
       "    .dataframe tbody tr th:only-of-type {\n",
       "        vertical-align: middle;\n",
       "    }\n",
       "\n",
       "    .dataframe tbody tr th {\n",
       "        vertical-align: top;\n",
       "    }\n",
       "\n",
       "    .dataframe thead th {\n",
       "        text-align: right;\n",
       "    }\n",
       "</style>\n",
       "<table border=\"1\" class=\"dataframe\">\n",
       "  <thead>\n",
       "    <tr style=\"text-align: right;\">\n",
       "      <th></th>\n",
       "      <th>Butter</th>\n",
       "      <th>Cheese</th>\n",
       "      <th>Domestic milk intake</th>\n",
       "      <th>Fat content (Percent)</th>\n",
       "      <th>Heifers 200-249kg</th>\n",
       "      <th>Heifers 250-299kg</th>\n",
       "      <th>Heifers 300-349kg</th>\n",
       "      <th>Heifers 350-399kg</th>\n",
       "      <th>Heifers 400-449kg</th>\n",
       "      <th>Imported milk intake</th>\n",
       "      <th>Skimmed milk sales</th>\n",
       "      <th>Skimmed milk powder</th>\n",
       "      <th>Month</th>\n",
       "    </tr>\n",
       "  </thead>\n",
       "  <tbody>\n",
       "    <tr>\n",
       "      <th>0</th>\n",
       "      <td>3.8</td>\n",
       "      <td>1.3</td>\n",
       "      <td>123.0</td>\n",
       "      <td>3.87</td>\n",
       "      <td>363.58</td>\n",
       "      <td>431.76</td>\n",
       "      <td>520.38</td>\n",
       "      <td>574.80</td>\n",
       "      <td>661.13</td>\n",
       "      <td>54.6</td>\n",
       "      <td>12.3</td>\n",
       "      <td>2.4</td>\n",
       "      <td>1</td>\n",
       "    </tr>\n",
       "    <tr>\n",
       "      <th>1</th>\n",
       "      <td>5.0</td>\n",
       "      <td>2.4</td>\n",
       "      <td>185.4</td>\n",
       "      <td>3.87</td>\n",
       "      <td>386.08</td>\n",
       "      <td>462.94</td>\n",
       "      <td>539.81</td>\n",
       "      <td>587.47</td>\n",
       "      <td>646.99</td>\n",
       "      <td>38.0</td>\n",
       "      <td>12.6</td>\n",
       "      <td>1.9</td>\n",
       "      <td>2</td>\n",
       "    </tr>\n",
       "    <tr>\n",
       "      <th>2</th>\n",
       "      <td>10.1</td>\n",
       "      <td>10.2</td>\n",
       "      <td>386.5</td>\n",
       "      <td>3.80</td>\n",
       "      <td>409.33</td>\n",
       "      <td>474.93</td>\n",
       "      <td>539.83</td>\n",
       "      <td>603.81</td>\n",
       "      <td>670.93</td>\n",
       "      <td>35.8</td>\n",
       "      <td>12.8</td>\n",
       "      <td>5.0</td>\n",
       "      <td>3</td>\n",
       "    </tr>\n",
       "    <tr>\n",
       "      <th>3</th>\n",
       "      <td>14.8</td>\n",
       "      <td>17.6</td>\n",
       "      <td>581.0</td>\n",
       "      <td>3.59</td>\n",
       "      <td>399.75</td>\n",
       "      <td>457.74</td>\n",
       "      <td>535.86</td>\n",
       "      <td>625.49</td>\n",
       "      <td>690.35</td>\n",
       "      <td>38.7</td>\n",
       "      <td>12.1</td>\n",
       "      <td>10.1</td>\n",
       "      <td>4</td>\n",
       "    </tr>\n",
       "    <tr>\n",
       "      <th>4</th>\n",
       "      <td>19.1</td>\n",
       "      <td>19.3</td>\n",
       "      <td>688.3</td>\n",
       "      <td>3.62</td>\n",
       "      <td>398.11</td>\n",
       "      <td>461.66</td>\n",
       "      <td>536.39</td>\n",
       "      <td>607.95</td>\n",
       "      <td>673.32</td>\n",
       "      <td>46.9</td>\n",
       "      <td>12.8</td>\n",
       "      <td>13.2</td>\n",
       "      <td>5</td>\n",
       "    </tr>\n",
       "    <tr>\n",
       "      <th>...</th>\n",
       "      <td>...</td>\n",
       "      <td>...</td>\n",
       "      <td>...</td>\n",
       "      <td>...</td>\n",
       "      <td>...</td>\n",
       "      <td>...</td>\n",
       "      <td>...</td>\n",
       "      <td>...</td>\n",
       "      <td>...</td>\n",
       "      <td>...</td>\n",
       "      <td>...</td>\n",
       "      <td>...</td>\n",
       "      <td>...</td>\n",
       "    </tr>\n",
       "    <tr>\n",
       "      <th>175</th>\n",
       "      <td>28.8</td>\n",
       "      <td>29.3</td>\n",
       "      <td>917.4</td>\n",
       "      <td>4.19</td>\n",
       "      <td>480.00</td>\n",
       "      <td>598.07</td>\n",
       "      <td>689.20</td>\n",
       "      <td>801.61</td>\n",
       "      <td>913.59</td>\n",
       "      <td>0.0</td>\n",
       "      <td>15.8</td>\n",
       "      <td>16.4</td>\n",
       "      <td>8</td>\n",
       "    </tr>\n",
       "    <tr>\n",
       "      <th>176</th>\n",
       "      <td>26.5</td>\n",
       "      <td>33.2</td>\n",
       "      <td>776.7</td>\n",
       "      <td>4.43</td>\n",
       "      <td>450.74</td>\n",
       "      <td>570.54</td>\n",
       "      <td>694.88</td>\n",
       "      <td>804.71</td>\n",
       "      <td>915.68</td>\n",
       "      <td>0.0</td>\n",
       "      <td>15.1</td>\n",
       "      <td>11.1</td>\n",
       "      <td>9</td>\n",
       "    </tr>\n",
       "    <tr>\n",
       "      <th>177</th>\n",
       "      <td>21.6</td>\n",
       "      <td>27.5</td>\n",
       "      <td>652.8</td>\n",
       "      <td>4.77</td>\n",
       "      <td>516.00</td>\n",
       "      <td>529.67</td>\n",
       "      <td>656.53</td>\n",
       "      <td>777.37</td>\n",
       "      <td>890.95</td>\n",
       "      <td>0.0</td>\n",
       "      <td>15.8</td>\n",
       "      <td>5.5</td>\n",
       "      <td>10</td>\n",
       "    </tr>\n",
       "    <tr>\n",
       "      <th>178</th>\n",
       "      <td>17.8</td>\n",
       "      <td>20.9</td>\n",
       "      <td>460.6</td>\n",
       "      <td>4.90</td>\n",
       "      <td>419.66</td>\n",
       "      <td>547.42</td>\n",
       "      <td>641.39</td>\n",
       "      <td>762.83</td>\n",
       "      <td>888.34</td>\n",
       "      <td>0.0</td>\n",
       "      <td>15.4</td>\n",
       "      <td>0.0</td>\n",
       "      <td>11</td>\n",
       "    </tr>\n",
       "    <tr>\n",
       "      <th>179</th>\n",
       "      <td>12.2</td>\n",
       "      <td>7.5</td>\n",
       "      <td>256.3</td>\n",
       "      <td>4.74</td>\n",
       "      <td>490.37</td>\n",
       "      <td>623.57</td>\n",
       "      <td>693.47</td>\n",
       "      <td>806.00</td>\n",
       "      <td>912.35</td>\n",
       "      <td>0.0</td>\n",
       "      <td>15.0</td>\n",
       "      <td>7.4</td>\n",
       "      <td>12</td>\n",
       "    </tr>\n",
       "  </tbody>\n",
       "</table>\n",
       "<p>180 rows × 13 columns</p>\n",
       "</div>"
      ],
      "text/plain": [
       "     Butter  Cheese  Domestic milk intake  Fat content (Percent)  \\\n",
       "0       3.8     1.3                 123.0                   3.87   \n",
       "1       5.0     2.4                 185.4                   3.87   \n",
       "2      10.1    10.2                 386.5                   3.80   \n",
       "3      14.8    17.6                 581.0                   3.59   \n",
       "4      19.1    19.3                 688.3                   3.62   \n",
       "..      ...     ...                   ...                    ...   \n",
       "175    28.8    29.3                 917.4                   4.19   \n",
       "176    26.5    33.2                 776.7                   4.43   \n",
       "177    21.6    27.5                 652.8                   4.77   \n",
       "178    17.8    20.9                 460.6                   4.90   \n",
       "179    12.2     7.5                 256.3                   4.74   \n",
       "\n",
       "     Heifers 200-249kg  Heifers 250-299kg  Heifers 300-349kg  \\\n",
       "0               363.58             431.76             520.38   \n",
       "1               386.08             462.94             539.81   \n",
       "2               409.33             474.93             539.83   \n",
       "3               399.75             457.74             535.86   \n",
       "4               398.11             461.66             536.39   \n",
       "..                 ...                ...                ...   \n",
       "175             480.00             598.07             689.20   \n",
       "176             450.74             570.54             694.88   \n",
       "177             516.00             529.67             656.53   \n",
       "178             419.66             547.42             641.39   \n",
       "179             490.37             623.57             693.47   \n",
       "\n",
       "     Heifers 350-399kg  Heifers 400-449kg  Imported milk intake  \\\n",
       "0               574.80             661.13                  54.6   \n",
       "1               587.47             646.99                  38.0   \n",
       "2               603.81             670.93                  35.8   \n",
       "3               625.49             690.35                  38.7   \n",
       "4               607.95             673.32                  46.9   \n",
       "..                 ...                ...                   ...   \n",
       "175             801.61             913.59                   0.0   \n",
       "176             804.71             915.68                   0.0   \n",
       "177             777.37             890.95                   0.0   \n",
       "178             762.83             888.34                   0.0   \n",
       "179             806.00             912.35                   0.0   \n",
       "\n",
       "     Skimmed milk sales  Skimmed milk powder  Month  \n",
       "0                  12.3                  2.4      1  \n",
       "1                  12.6                  1.9      2  \n",
       "2                  12.8                  5.0      3  \n",
       "3                  12.1                 10.1      4  \n",
       "4                  12.8                 13.2      5  \n",
       "..                  ...                  ...    ...  \n",
       "175                15.8                 16.4      8  \n",
       "176                15.1                 11.1      9  \n",
       "177                15.8                  5.5     10  \n",
       "178                15.4                  0.0     11  \n",
       "179                15.0                  7.4     12  \n",
       "\n",
       "[180 rows x 13 columns]"
      ]
     },
     "execution_count": 30,
     "metadata": {},
     "output_type": "execute_result"
    }
   ],
   "source": [
    "X"
   ]
  },
  {
   "cell_type": "code",
   "execution_count": 31,
   "metadata": {
    "id": "DLaYhaZOn_j_",
    "outputId": "db5c2679-73e9-418c-8790-4eebde254d16"
   },
   "outputs": [
    {
     "data": {
      "text/html": [
       "<div>\n",
       "<style scoped>\n",
       "    .dataframe tbody tr th:only-of-type {\n",
       "        vertical-align: middle;\n",
       "    }\n",
       "\n",
       "    .dataframe tbody tr th {\n",
       "        vertical-align: top;\n",
       "    }\n",
       "\n",
       "    .dataframe thead th {\n",
       "        text-align: right;\n",
       "    }\n",
       "</style>\n",
       "<table border=\"1\" class=\"dataframe\">\n",
       "  <thead>\n",
       "    <tr style=\"text-align: right;\">\n",
       "      <th></th>\n",
       "      <th>Butter</th>\n",
       "      <th>Cheese</th>\n",
       "      <th>Domestic milk intake</th>\n",
       "      <th>Fat content (Percent)</th>\n",
       "      <th>Heifers 200-249kg</th>\n",
       "      <th>Heifers 250-299kg</th>\n",
       "      <th>Heifers 300-349kg</th>\n",
       "      <th>Heifers 350-399kg</th>\n",
       "      <th>Heifers 400-449kg</th>\n",
       "      <th>Imported milk intake</th>\n",
       "      <th>Skimmed milk sales</th>\n",
       "      <th>Skimmed milk powder</th>\n",
       "      <th>Month</th>\n",
       "    </tr>\n",
       "  </thead>\n",
       "  <tbody>\n",
       "    <tr>\n",
       "      <th>116</th>\n",
       "      <td>18.5</td>\n",
       "      <td>21.9</td>\n",
       "      <td>583.8</td>\n",
       "      <td>4.33</td>\n",
       "      <td>435.00</td>\n",
       "      <td>566.38</td>\n",
       "      <td>669.24</td>\n",
       "      <td>750.59</td>\n",
       "      <td>855.62</td>\n",
       "      <td>56.7</td>\n",
       "      <td>17.2</td>\n",
       "      <td>7.7</td>\n",
       "      <td>9</td>\n",
       "    </tr>\n",
       "    <tr>\n",
       "      <th>38</th>\n",
       "      <td>10.1</td>\n",
       "      <td>15.5</td>\n",
       "      <td>382.1</td>\n",
       "      <td>3.89</td>\n",
       "      <td>374.87</td>\n",
       "      <td>452.19</td>\n",
       "      <td>515.64</td>\n",
       "      <td>583.73</td>\n",
       "      <td>657.74</td>\n",
       "      <td>33.9</td>\n",
       "      <td>15.4</td>\n",
       "      <td>1.3</td>\n",
       "      <td>3</td>\n",
       "    </tr>\n",
       "    <tr>\n",
       "      <th>155</th>\n",
       "      <td>10.9</td>\n",
       "      <td>5.4</td>\n",
       "      <td>241.4</td>\n",
       "      <td>4.58</td>\n",
       "      <td>449.38</td>\n",
       "      <td>493.91</td>\n",
       "      <td>601.98</td>\n",
       "      <td>720.53</td>\n",
       "      <td>831.40</td>\n",
       "      <td>0.0</td>\n",
       "      <td>16.1</td>\n",
       "      <td>10.2</td>\n",
       "      <td>12</td>\n",
       "    </tr>\n",
       "    <tr>\n",
       "      <th>160</th>\n",
       "      <td>29.8</td>\n",
       "      <td>31.6</td>\n",
       "      <td>1115.3</td>\n",
       "      <td>3.87</td>\n",
       "      <td>593.33</td>\n",
       "      <td>661.74</td>\n",
       "      <td>741.01</td>\n",
       "      <td>853.84</td>\n",
       "      <td>903.46</td>\n",
       "      <td>0.0</td>\n",
       "      <td>15.7</td>\n",
       "      <td>24.6</td>\n",
       "      <td>5</td>\n",
       "    </tr>\n",
       "    <tr>\n",
       "      <th>93</th>\n",
       "      <td>13.5</td>\n",
       "      <td>14.8</td>\n",
       "      <td>426.3</td>\n",
       "      <td>4.49</td>\n",
       "      <td>508.42</td>\n",
       "      <td>584.94</td>\n",
       "      <td>679.65</td>\n",
       "      <td>774.27</td>\n",
       "      <td>863.35</td>\n",
       "      <td>37.4</td>\n",
       "      <td>16.5</td>\n",
       "      <td>0.0</td>\n",
       "      <td>10</td>\n",
       "    </tr>\n",
       "    <tr>\n",
       "      <th>...</th>\n",
       "      <td>...</td>\n",
       "      <td>...</td>\n",
       "      <td>...</td>\n",
       "      <td>...</td>\n",
       "      <td>...</td>\n",
       "      <td>...</td>\n",
       "      <td>...</td>\n",
       "      <td>...</td>\n",
       "      <td>...</td>\n",
       "      <td>...</td>\n",
       "      <td>...</td>\n",
       "      <td>...</td>\n",
       "      <td>...</td>\n",
       "    </tr>\n",
       "    <tr>\n",
       "      <th>115</th>\n",
       "      <td>20.3</td>\n",
       "      <td>23.3</td>\n",
       "      <td>699.3</td>\n",
       "      <td>4.08</td>\n",
       "      <td>540.33</td>\n",
       "      <td>605.63</td>\n",
       "      <td>696.53</td>\n",
       "      <td>785.09</td>\n",
       "      <td>884.48</td>\n",
       "      <td>50.8</td>\n",
       "      <td>18.2</td>\n",
       "      <td>11.0</td>\n",
       "      <td>8</td>\n",
       "    </tr>\n",
       "    <tr>\n",
       "      <th>48</th>\n",
       "      <td>4.0</td>\n",
       "      <td>2.5</td>\n",
       "      <td>146.7</td>\n",
       "      <td>3.99</td>\n",
       "      <td>445.22</td>\n",
       "      <td>541.00</td>\n",
       "      <td>614.39</td>\n",
       "      <td>663.88</td>\n",
       "      <td>737.82</td>\n",
       "      <td>28.8</td>\n",
       "      <td>14.5</td>\n",
       "      <td>0.0</td>\n",
       "      <td>1</td>\n",
       "    </tr>\n",
       "    <tr>\n",
       "      <th>108</th>\n",
       "      <td>5.0</td>\n",
       "      <td>2.0</td>\n",
       "      <td>147.6</td>\n",
       "      <td>4.17</td>\n",
       "      <td>534.57</td>\n",
       "      <td>660.13</td>\n",
       "      <td>748.13</td>\n",
       "      <td>817.96</td>\n",
       "      <td>902.65</td>\n",
       "      <td>78.6</td>\n",
       "      <td>17.8</td>\n",
       "      <td>4.4</td>\n",
       "      <td>1</td>\n",
       "    </tr>\n",
       "    <tr>\n",
       "      <th>154</th>\n",
       "      <td>15.1</td>\n",
       "      <td>23.5</td>\n",
       "      <td>418.1</td>\n",
       "      <td>4.84</td>\n",
       "      <td>367.00</td>\n",
       "      <td>475.32</td>\n",
       "      <td>580.84</td>\n",
       "      <td>685.79</td>\n",
       "      <td>792.25</td>\n",
       "      <td>0.0</td>\n",
       "      <td>16.9</td>\n",
       "      <td>0.0</td>\n",
       "      <td>11</td>\n",
       "    </tr>\n",
       "    <tr>\n",
       "      <th>23</th>\n",
       "      <td>4.7</td>\n",
       "      <td>4.7</td>\n",
       "      <td>151.3</td>\n",
       "      <td>4.05</td>\n",
       "      <td>358.54</td>\n",
       "      <td>439.71</td>\n",
       "      <td>523.56</td>\n",
       "      <td>590.67</td>\n",
       "      <td>660.95</td>\n",
       "      <td>32.4</td>\n",
       "      <td>13.4</td>\n",
       "      <td>0.0</td>\n",
       "      <td>12</td>\n",
       "    </tr>\n",
       "  </tbody>\n",
       "</table>\n",
       "<p>135 rows × 13 columns</p>\n",
       "</div>"
      ],
      "text/plain": [
       "     Butter  Cheese  Domestic milk intake  Fat content (Percent)  \\\n",
       "116    18.5    21.9                 583.8                   4.33   \n",
       "38     10.1    15.5                 382.1                   3.89   \n",
       "155    10.9     5.4                 241.4                   4.58   \n",
       "160    29.8    31.6                1115.3                   3.87   \n",
       "93     13.5    14.8                 426.3                   4.49   \n",
       "..      ...     ...                   ...                    ...   \n",
       "115    20.3    23.3                 699.3                   4.08   \n",
       "48      4.0     2.5                 146.7                   3.99   \n",
       "108     5.0     2.0                 147.6                   4.17   \n",
       "154    15.1    23.5                 418.1                   4.84   \n",
       "23      4.7     4.7                 151.3                   4.05   \n",
       "\n",
       "     Heifers 200-249kg  Heifers 250-299kg  Heifers 300-349kg  \\\n",
       "116             435.00             566.38             669.24   \n",
       "38              374.87             452.19             515.64   \n",
       "155             449.38             493.91             601.98   \n",
       "160             593.33             661.74             741.01   \n",
       "93              508.42             584.94             679.65   \n",
       "..                 ...                ...                ...   \n",
       "115             540.33             605.63             696.53   \n",
       "48              445.22             541.00             614.39   \n",
       "108             534.57             660.13             748.13   \n",
       "154             367.00             475.32             580.84   \n",
       "23              358.54             439.71             523.56   \n",
       "\n",
       "     Heifers 350-399kg  Heifers 400-449kg  Imported milk intake  \\\n",
       "116             750.59             855.62                  56.7   \n",
       "38              583.73             657.74                  33.9   \n",
       "155             720.53             831.40                   0.0   \n",
       "160             853.84             903.46                   0.0   \n",
       "93              774.27             863.35                  37.4   \n",
       "..                 ...                ...                   ...   \n",
       "115             785.09             884.48                  50.8   \n",
       "48              663.88             737.82                  28.8   \n",
       "108             817.96             902.65                  78.6   \n",
       "154             685.79             792.25                   0.0   \n",
       "23              590.67             660.95                  32.4   \n",
       "\n",
       "     Skimmed milk sales  Skimmed milk powder  Month  \n",
       "116                17.2                  7.7      9  \n",
       "38                 15.4                  1.3      3  \n",
       "155                16.1                 10.2     12  \n",
       "160                15.7                 24.6      5  \n",
       "93                 16.5                  0.0     10  \n",
       "..                  ...                  ...    ...  \n",
       "115                18.2                 11.0      8  \n",
       "48                 14.5                  0.0      1  \n",
       "108                17.8                  4.4      1  \n",
       "154                16.9                  0.0     11  \n",
       "23                 13.4                  0.0     12  \n",
       "\n",
       "[135 rows x 13 columns]"
      ]
     },
     "execution_count": 31,
     "metadata": {},
     "output_type": "execute_result"
    }
   ],
   "source": [
    "X_train"
   ]
  },
  {
   "cell_type": "code",
   "execution_count": 32,
   "metadata": {
    "id": "E6IqLKnYn_j_",
    "outputId": "8af29994-49bf-40af-c70b-8277857fb438"
   },
   "outputs": [
    {
     "data": {
      "text/plain": [
       "14     39.64\n",
       "148    31.47\n",
       "62     33.41\n",
       "133    37.00\n",
       "173    37.39\n",
       "175    39.23\n",
       "74     34.09\n",
       "131    40.59\n",
       "69     35.74\n",
       "57     38.26\n",
       "1      27.18\n",
       "34     28.63\n",
       "92     35.45\n",
       "71     33.70\n",
       "87     38.55\n",
       "150    31.08\n",
       "104    29.23\n",
       "84     42.34\n",
       "9      44.60\n",
       "63     30.88\n",
       "144    34.28\n",
       "42     31.20\n",
       "166    39.14\n",
       "52     32.05\n",
       "122    31.66\n",
       "127    37.68\n",
       "145    34.38\n",
       "70     35.93\n",
       "137    31.66\n",
       "44     33.67\n",
       "30     22.04\n",
       "5      32.64\n",
       "46     34.18\n",
       "151    31.95\n",
       "163    33.89\n",
       "11     43.25\n",
       "27     22.34\n",
       "136    31.17\n",
       "4      29.76\n",
       "0      28.30\n",
       "85     41.76\n",
       "111    24.08\n",
       "141    38.75\n",
       "174    37.20\n",
       "68     33.31\n",
       "Name: Raw milk price, dtype: float64"
      ]
     },
     "execution_count": 32,
     "metadata": {},
     "output_type": "execute_result"
    }
   ],
   "source": [
    "y_test"
   ]
  },
  {
   "cell_type": "markdown",
   "metadata": {
    "id": "KqzWgYePn_j_"
   },
   "source": [
    "#### Random Forest"
   ]
  },
  {
   "cell_type": "markdown",
   "metadata": {
    "id": "5gTNy19Wn_j_"
   },
   "source": [
    "##### 1. Basic test to test for suitability for remaining sections"
   ]
  },
  {
   "cell_type": "code",
   "execution_count": 33,
   "metadata": {
    "id": "tIwOZaUZn_j_"
   },
   "outputs": [],
   "source": [
    "#Random forest(basic features, randomized state, squared error scoring)\n",
    "rf1 = RandomForestRegressor(criterion=\"absolute_error\")\n",
    "\n",
    "#Random forest, 500 estimators, 20 samples to split a node, min 5 samples at\n",
    "#leaf nodes, squared error scoring, non-random state set\n",
    "rf2 = RandomForestRegressor(n_estimators=500, min_samples_split=20, \n",
    "                             min_samples_leaf=5, n_jobs=-1, \n",
    "                             criterion=\"absolute_error\", random_state=22122)\n",
    "\n",
    "#Random forest, 1000 estimators, squared error scoring, non-random state set\n",
    "rf3 = RandomForestRegressor(n_estimators=1000, n_jobs=-1,\n",
    "                            criterion=\"absolute_error\", random_state=22122)"
   ]
  },
  {
   "cell_type": "markdown",
   "metadata": {
    "id": "rQ4kd5aRn_kA"
   },
   "source": [
    "##### Cross-validation tests (accuracy and mean average error)"
   ]
  },
  {
   "cell_type": "code",
   "execution_count": 34,
   "metadata": {
    "id": "x-NNQIUgn_kA",
    "outputId": "8c12e039-ce62-4ac1-dd08-53e48a0a8d07"
   },
   "outputs": [
    {
     "name": "stderr",
     "output_type": "stream",
     "text": [
      "[Parallel(n_jobs=1)]: Using backend SequentialBackend with 1 concurrent workers.\n"
     ]
    },
    {
     "name": "stdout",
     "output_type": "stream",
     "text": [
      "[CV] END .................................................... total time=   0.2s\n"
     ]
    },
    {
     "name": "stderr",
     "output_type": "stream",
     "text": [
      "[Parallel(n_jobs=1)]: Done   1 out of   1 | elapsed:    0.2s remaining:    0.0s\n"
     ]
    },
    {
     "name": "stdout",
     "output_type": "stream",
     "text": [
      "[CV] END .................................................... total time=   0.2s\n",
      "[CV] END .................................................... total time=   0.2s\n",
      "[CV] END .................................................... total time=   0.2s\n",
      "[CV] END .................................................... total time=   0.2s\n"
     ]
    },
    {
     "name": "stderr",
     "output_type": "stream",
     "text": [
      "[Parallel(n_jobs=1)]: Done   5 out of   5 | elapsed:    1.5s finished\n",
      "[Parallel(n_jobs=1)]: Using backend SequentialBackend with 1 concurrent workers.\n"
     ]
    },
    {
     "name": "stdout",
     "output_type": "stream",
     "text": [
      "[CV] END .................................................... total time=   0.2s\n"
     ]
    },
    {
     "name": "stderr",
     "output_type": "stream",
     "text": [
      "[Parallel(n_jobs=1)]: Done   1 out of   1 | elapsed:    0.2s remaining:    0.0s\n"
     ]
    },
    {
     "name": "stdout",
     "output_type": "stream",
     "text": [
      "[CV] END .................................................... total time=   0.2s\n",
      "[CV] END .................................................... total time=   0.2s\n",
      "[CV] END .................................................... total time=   0.2s\n",
      "[CV] END .................................................... total time=   0.2s\n"
     ]
    },
    {
     "name": "stderr",
     "output_type": "stream",
     "text": [
      "[Parallel(n_jobs=1)]: Done   5 out of   5 | elapsed:    1.5s finished\n"
     ]
    },
    {
     "data": {
      "text/plain": [
       "(0.057592273234713366, -3.798604965465464)"
      ]
     },
     "execution_count": 34,
     "metadata": {},
     "output_type": "execute_result"
    }
   ],
   "source": [
    "(np.mean(cross_val_score(rf1, X, y, cv=KFold(5), verbose=2)),\n",
    " np.mean(cross_val_score(rf1, X, y, cv=KFold(5), verbose=2, scoring=\"neg_mean_absolute_error\")))"
   ]
  },
  {
   "cell_type": "code",
   "execution_count": 35,
   "metadata": {
    "id": "CnwZ9Cvzn_kA",
    "outputId": "7ebe5e21-42ff-41a2-f493-cfacd155cd01"
   },
   "outputs": [
    {
     "name": "stderr",
     "output_type": "stream",
     "text": [
      "[Parallel(n_jobs=1)]: Using backend SequentialBackend with 1 concurrent workers.\n"
     ]
    },
    {
     "name": "stdout",
     "output_type": "stream",
     "text": [
      "[CV] END .................................................... total time=   2.1s\n"
     ]
    },
    {
     "name": "stderr",
     "output_type": "stream",
     "text": [
      "[Parallel(n_jobs=1)]: Done   1 out of   1 | elapsed:    2.1s remaining:    0.0s\n"
     ]
    },
    {
     "name": "stdout",
     "output_type": "stream",
     "text": [
      "[CV] END .................................................... total time=   0.2s\n",
      "[CV] END .................................................... total time=   0.2s\n",
      "[CV] END .................................................... total time=   0.2s\n",
      "[CV] END .................................................... total time=   0.2s\n"
     ]
    },
    {
     "name": "stderr",
     "output_type": "stream",
     "text": [
      "[Parallel(n_jobs=1)]: Done   5 out of   5 | elapsed:    3.3s finished\n",
      "[Parallel(n_jobs=1)]: Using backend SequentialBackend with 1 concurrent workers.\n"
     ]
    },
    {
     "name": "stdout",
     "output_type": "stream",
     "text": [
      "[CV] END .................................................... total time=   0.2s\n"
     ]
    },
    {
     "name": "stderr",
     "output_type": "stream",
     "text": [
      "[Parallel(n_jobs=1)]: Done   1 out of   1 | elapsed:    0.2s remaining:    0.0s\n"
     ]
    },
    {
     "name": "stdout",
     "output_type": "stream",
     "text": [
      "[CV] END .................................................... total time=   0.2s\n",
      "[CV] END .................................................... total time=   0.2s\n",
      "[CV] END .................................................... total time=   0.2s\n",
      "[CV] END .................................................... total time=   0.2s\n"
     ]
    },
    {
     "name": "stderr",
     "output_type": "stream",
     "text": [
      "[Parallel(n_jobs=1)]: Done   5 out of   5 | elapsed:    1.3s finished\n"
     ]
    },
    {
     "data": {
      "text/plain": [
       "(0.08870893225157864, -3.7830393492158843)"
      ]
     },
     "execution_count": 35,
     "metadata": {},
     "output_type": "execute_result"
    }
   ],
   "source": [
    "(np.mean(cross_val_score(rf2, X, y, cv=KFold(5), verbose=2)),\n",
    " np.mean(cross_val_score(rf2, X, y, cv=KFold(5), verbose=2, scoring=\"neg_mean_absolute_error\")))"
   ]
  },
  {
   "cell_type": "code",
   "execution_count": 36,
   "metadata": {
    "id": "w9t4JNKGn_kA",
    "outputId": "ddb5a792-86b2-4b8c-988c-2c64146fa25c"
   },
   "outputs": [
    {
     "name": "stderr",
     "output_type": "stream",
     "text": [
      "[Parallel(n_jobs=1)]: Using backend SequentialBackend with 1 concurrent workers.\n"
     ]
    },
    {
     "name": "stdout",
     "output_type": "stream",
     "text": [
      "[CV] END .................................................... total time=   0.6s\n"
     ]
    },
    {
     "name": "stderr",
     "output_type": "stream",
     "text": [
      "[Parallel(n_jobs=1)]: Done   1 out of   1 | elapsed:    0.6s remaining:    0.0s\n"
     ]
    },
    {
     "name": "stdout",
     "output_type": "stream",
     "text": [
      "[CV] END .................................................... total time=   0.7s\n",
      "[CV] END .................................................... total time=   0.5s\n",
      "[CV] END .................................................... total time=   0.5s\n",
      "[CV] END .................................................... total time=   0.6s\n"
     ]
    },
    {
     "name": "stderr",
     "output_type": "stream",
     "text": [
      "[Parallel(n_jobs=1)]: Done   5 out of   5 | elapsed:    3.4s finished\n",
      "[Parallel(n_jobs=1)]: Using backend SequentialBackend with 1 concurrent workers.\n"
     ]
    },
    {
     "name": "stdout",
     "output_type": "stream",
     "text": [
      "[CV] END .................................................... total time=   0.5s\n"
     ]
    },
    {
     "name": "stderr",
     "output_type": "stream",
     "text": [
      "[Parallel(n_jobs=1)]: Done   1 out of   1 | elapsed:    0.5s remaining:    0.0s\n"
     ]
    },
    {
     "name": "stdout",
     "output_type": "stream",
     "text": [
      "[CV] END .................................................... total time=   0.6s\n",
      "[CV] END .................................................... total time=   0.7s\n",
      "[CV] END .................................................... total time=   0.6s\n",
      "[CV] END .................................................... total time=   0.5s\n"
     ]
    },
    {
     "name": "stderr",
     "output_type": "stream",
     "text": [
      "[Parallel(n_jobs=1)]: Done   5 out of   5 | elapsed:    3.4s finished\n"
     ]
    },
    {
     "data": {
      "text/plain": [
       "(0.05973401623878072, -3.770529270704027)"
      ]
     },
     "execution_count": 36,
     "metadata": {},
     "output_type": "execute_result"
    }
   ],
   "source": [
    "(np.mean(cross_val_score(rf3, X, y, cv=KFold(5), verbose=2)),\n",
    " np.mean(cross_val_score(rf3, X, y, cv=KFold(5), verbose=2, scoring=\"neg_mean_absolute_error\")))"
   ]
  },
  {
   "cell_type": "code",
   "execution_count": 37,
   "metadata": {
    "id": "z3ABLxIun_kB"
   },
   "outputs": [],
   "source": [
    "rf1.fit(X_train, y_train)\n",
    "y1 = rf1.predict(X_test)"
   ]
  },
  {
   "cell_type": "code",
   "execution_count": 38,
   "metadata": {
    "id": "R98L5Zbbn_kB",
    "outputId": "d745fbdf-bb0e-4453-9f09-aee69857b2ce"
   },
   "outputs": [
    {
     "data": {
      "text/plain": [
       "array([33.01705   , 34.0124    , 31.4754    , 35.0044    , 32.2909    ,\n",
       "       34.6654    , 32.756     , 40.3153    , 37.4767    , 36.4614    ,\n",
       "       28.8489    , 33.7214    , 36.01715   , 34.95254381, 34.7031    ,\n",
       "       32.6534    , 32.7183    , 36.1678    , 28.60924072, 29.997     ,\n",
       "       35.12585   , 30.30137835, 40.5613    , 34.53705   , 28.6844    ,\n",
       "       32.1849    , 35.6726    , 37.5791    , 33.6693    , 32.18043144,\n",
       "       27.33034691, 31.02499381, 36.72584691, 33.6625    , 33.3747    ,\n",
       "       32.79152835, 29.10494691, 32.6184    , 30.21819691, 28.73199381,\n",
       "       34.3339    , 31.2145    , 37.2941    , 33.9291    , 36.5775    ])"
      ]
     },
     "execution_count": 38,
     "metadata": {},
     "output_type": "execute_result"
    }
   ],
   "source": [
    "y1"
   ]
  },
  {
   "cell_type": "code",
   "execution_count": 39,
   "metadata": {
    "id": "98smrCTXn_kB",
    "outputId": "865e1a0e-d311-46ea-fde8-72a26a931993"
   },
   "outputs": [
    {
     "data": {
      "text/plain": [
       "3.173284501835168"
      ]
     },
     "execution_count": 39,
     "metadata": {},
     "output_type": "execute_result"
    }
   ],
   "source": [
    "mean_absolute_error(y_test, y1)"
   ]
  },
  {
   "cell_type": "code",
   "execution_count": null,
   "metadata": {
    "id": "SyntxTUmn_kB"
   },
   "outputs": [],
   "source": []
  },
  {
   "cell_type": "code",
   "execution_count": 40,
   "metadata": {
    "id": "_y4yMlshn_kB"
   },
   "outputs": [],
   "source": [
    "rf2.fit(X_train, y_train)\n",
    "y2 = rf2.predict(X_test)"
   ]
  },
  {
   "cell_type": "code",
   "execution_count": 41,
   "metadata": {
    "id": "OjJmtjFbn_kB",
    "outputId": "0e94578e-e41a-4995-e05c-07c42f37e7a4"
   },
   "outputs": [
    {
     "data": {
      "text/plain": [
       "array([33.86239567, 33.12164567, 29.86570345, 34.43993691, 32.24323814,\n",
       "       34.30812691, 33.08194629, 37.92143753, 36.84634098, 36.35455629,\n",
       "       29.28451629, 31.50138134, 34.9109685 , 35.08808479, 34.08332691,\n",
       "       32.84836912, 33.83786098, 34.55160505, 28.79076789, 29.69604407,\n",
       "       34.21855505, 29.93769603, 38.28481876, 34.04598629, 30.80700691,\n",
       "       32.84082629, 35.58234753, 36.74815381, 33.6232116 , 31.27822763,\n",
       "       27.73915691, 29.82092912, 34.81382789, 33.6535985 , 33.29745691,\n",
       "       28.60179356, 30.32869974, 33.42047691, 29.54797443, 28.82898629,\n",
       "       34.35767505, 32.55611629, 36.81162283, 33.08151753, 34.92139727])"
      ]
     },
     "execution_count": 41,
     "metadata": {},
     "output_type": "execute_result"
    }
   ],
   "source": [
    "y2"
   ]
  },
  {
   "cell_type": "code",
   "execution_count": 42,
   "metadata": {
    "id": "CVwPqG4Gn_kB",
    "outputId": "35ee9a27-c0b7-4791-ac9c-4210c9c1c77b"
   },
   "outputs": [
    {
     "data": {
      "text/plain": [
       "3.3263112108108097"
      ]
     },
     "execution_count": 42,
     "metadata": {},
     "output_type": "execute_result"
    }
   ],
   "source": [
    "mean_absolute_error(y_test, y2)"
   ]
  },
  {
   "cell_type": "code",
   "execution_count": 43,
   "metadata": {},
   "outputs": [
    {
     "data": {
      "text/plain": [
       "0.12873742511534458"
      ]
     },
     "execution_count": 43,
     "metadata": {},
     "output_type": "execute_result"
    }
   ],
   "source": [
    "rf2.score(X_test, y_test)"
   ]
  },
  {
   "cell_type": "code",
   "execution_count": null,
   "metadata": {
    "id": "vrDUjh3pn_kB"
   },
   "outputs": [],
   "source": []
  },
  {
   "cell_type": "code",
   "execution_count": 44,
   "metadata": {
    "id": "bbhUEgcTn_kB"
   },
   "outputs": [],
   "source": [
    "rf3.fit(X_train, y_train)\n",
    "y3 = rf3.predict(X_test)"
   ]
  },
  {
   "cell_type": "code",
   "execution_count": 45,
   "metadata": {
    "id": "iJV16AO_n_kC",
    "outputId": "d0b7c378-4d51-4d48-d5e1-51fe9ea33226"
   },
   "outputs": [
    {
     "data": {
      "text/plain": [
       "array([33.88343345, 33.543515  , 31.46519   , 34.853565  , 32.729385  ,\n",
       "       34.685475  , 32.820965  , 39.52419469, 38.10111   , 36.6002    ,\n",
       "       28.00110691, 33.82469469, 35.87848   , 35.5496032 , 34.397125  ,\n",
       "       32.33861   , 32.9427    , 35.36072907, 28.10811407, 30.3211    ,\n",
       "       35.143315  , 30.90412258, 41.5913    , 34.72124   , 29.60119   ,\n",
       "       32.25571   , 36.17858   , 37.49678876, 33.609675  , 32.34987082,\n",
       "       27.12305   , 30.26993283, 37.34172258, 33.64135   , 33.56427   ,\n",
       "       31.5934118 , 28.72687938, 33.256505  , 29.92703876, 28.46239196,\n",
       "       34.505735  , 31.12536   , 37.14515   , 33.676725  , 36.67651469])"
      ]
     },
     "execution_count": 45,
     "metadata": {},
     "output_type": "execute_result"
    }
   ],
   "source": [
    "y3"
   ]
  },
  {
   "cell_type": "code",
   "execution_count": 46,
   "metadata": {
    "id": "nVFo25Ion_kC",
    "outputId": "2382e15c-ce01-485f-b2c4-0533ca1174dd"
   },
   "outputs": [
    {
     "data": {
      "text/plain": [
       "3.227020813346702"
      ]
     },
     "execution_count": 46,
     "metadata": {},
     "output_type": "execute_result"
    }
   ],
   "source": [
    "mean_absolute_error(y_test, y3)"
   ]
  },
  {
   "cell_type": "code",
   "execution_count": null,
   "metadata": {
    "id": "huv3wTkYn_kC"
   },
   "outputs": [],
   "source": []
  },
  {
   "cell_type": "code",
   "execution_count": 47,
   "metadata": {
    "id": "PBUuJrxRn_kC"
   },
   "outputs": [],
   "source": [
    "rf4 = clone(rf2)"
   ]
  },
  {
   "cell_type": "code",
   "execution_count": 48,
   "metadata": {
    "id": "7B0Ik-T8n_kC",
    "outputId": "651e44ed-8fe4-4d62-82df-8253c56a060c"
   },
   "outputs": [
    {
     "name": "stdout",
     "output_type": "stream",
     "text": [
      "Fitting estimator with 13 features.\n"
     ]
    },
    {
     "data": {
      "text/plain": [
       "RFECV(cv=5,\n",
       "      estimator=RandomForestRegressor(criterion='absolute_error',\n",
       "                                      min_samples_leaf=5, min_samples_split=20,\n",
       "                                      n_estimators=500, n_jobs=-1,\n",
       "                                      random_state=22122),\n",
       "      min_features_to_select=7, n_jobs=-1, verbose=2)"
      ]
     },
     "execution_count": 48,
     "metadata": {},
     "output_type": "execute_result"
    }
   ],
   "source": [
    "#Create Random Feature elimination for above model\n",
    "selector1 = RFECV(rf4, cv=5, step=1, n_jobs=-1, verbose=2, min_features_to_select=7)\n",
    "\n",
    "#Fit all data\n",
    "selector1.fit(X, y)"
   ]
  },
  {
   "cell_type": "code",
   "execution_count": 49,
   "metadata": {
    "id": "DrhAkgE2n_kC",
    "outputId": "342805e0-fcc6-4b71-9aa6-e6a29780fde0"
   },
   "outputs": [
    {
     "data": {
      "text/plain": [
       "array([1, 2, 1, 1, 1, 1, 1, 1, 1, 1, 1, 1, 1])"
      ]
     },
     "execution_count": 49,
     "metadata": {},
     "output_type": "execute_result"
    }
   ],
   "source": [
    "selector1.ranking_"
   ]
  },
  {
   "cell_type": "code",
   "execution_count": 53,
   "metadata": {
    "id": "RQ8dvesSn_kC",
    "outputId": "9cc3d795-eef0-402e-f9e8-98704486b283"
   },
   "outputs": [
    {
     "data": {
      "text/plain": [
       "Index(['Butter', 'Cheese', 'Domestic milk intake', 'Fat content (Percent)',\n",
       "       'Heifers 200-249kg', 'Heifers 250-299kg', 'Heifers 300-349kg',\n",
       "       'Heifers 350-399kg', 'Heifers 400-449kg', 'Imported milk intake',\n",
       "       'Skimmed milk sales', 'Skimmed milk powder', 'Month'],\n",
       "      dtype='object')"
      ]
     },
     "execution_count": 53,
     "metadata": {},
     "output_type": "execute_result"
    }
   ],
   "source": [
    "X.columns"
   ]
  },
  {
   "cell_type": "code",
   "execution_count": 54,
   "metadata": {
    "id": "3_ZuhnR_n_kD"
   },
   "outputs": [],
   "source": [
    "rankings = selector1.ranking_\n",
    "columns_to_choose = [X.columns[i] for i in range(len(X.columns)) if rankings[i] == 1]\n",
    "rfe_rfX = X[columns_to_choose]\n",
    "rfe_rfX_train = X_train[columns_to_choose]\n",
    "rfe_rfX_test = X_test[columns_to_choose]"
   ]
  },
  {
   "cell_type": "code",
   "execution_count": 55,
   "metadata": {
    "id": "SQRGYb9on_kD",
    "outputId": "1346d6a9-b5b2-4db2-f816-8fa7df2f87f2"
   },
   "outputs": [
    {
     "data": {
      "text/plain": [
       "['Butter',\n",
       " 'Domestic milk intake',\n",
       " 'Fat content (Percent)',\n",
       " 'Heifers 200-249kg',\n",
       " 'Heifers 250-299kg',\n",
       " 'Heifers 300-349kg',\n",
       " 'Heifers 350-399kg',\n",
       " 'Heifers 400-449kg',\n",
       " 'Imported milk intake',\n",
       " 'Skimmed milk sales',\n",
       " 'Skimmed milk powder',\n",
       " 'Month']"
      ]
     },
     "execution_count": 55,
     "metadata": {},
     "output_type": "execute_result"
    }
   ],
   "source": [
    "columns_to_choose"
   ]
  },
  {
   "cell_type": "code",
   "execution_count": null,
   "metadata": {
    "id": "ASEjCkIln_kD"
   },
   "outputs": [],
   "source": []
  },
  {
   "cell_type": "code",
   "execution_count": 56,
   "metadata": {
    "id": "AyLwN650n_kD",
    "outputId": "ff545fc8-ced0-48a8-f0bd-ae4238017649"
   },
   "outputs": [
    {
     "name": "stderr",
     "output_type": "stream",
     "text": [
      "[Parallel(n_jobs=1)]: Using backend SequentialBackend with 1 concurrent workers.\n"
     ]
    },
    {
     "name": "stdout",
     "output_type": "stream",
     "text": [
      "[CV] END .................................................... total time=   0.2s\n"
     ]
    },
    {
     "name": "stderr",
     "output_type": "stream",
     "text": [
      "[Parallel(n_jobs=1)]: Done   1 out of   1 | elapsed:    0.2s remaining:    0.0s\n"
     ]
    },
    {
     "name": "stdout",
     "output_type": "stream",
     "text": [
      "[CV] END .................................................... total time=   0.2s\n",
      "[CV] END .................................................... total time=   0.2s\n",
      "[CV] END .................................................... total time=   0.2s\n",
      "[CV] END .................................................... total time=   0.2s\n"
     ]
    },
    {
     "name": "stderr",
     "output_type": "stream",
     "text": [
      "[Parallel(n_jobs=1)]: Done   5 out of   5 | elapsed:    1.4s finished\n",
      "[Parallel(n_jobs=1)]: Using backend SequentialBackend with 1 concurrent workers.\n"
     ]
    },
    {
     "name": "stdout",
     "output_type": "stream",
     "text": [
      "[CV] END .................................................... total time=   0.2s\n"
     ]
    },
    {
     "name": "stderr",
     "output_type": "stream",
     "text": [
      "[Parallel(n_jobs=1)]: Done   1 out of   1 | elapsed:    0.2s remaining:    0.0s\n"
     ]
    },
    {
     "name": "stdout",
     "output_type": "stream",
     "text": [
      "[CV] END .................................................... total time=   0.2s\n",
      "[CV] END .................................................... total time=   0.2s\n",
      "[CV] END .................................................... total time=   0.2s\n",
      "[CV] END .................................................... total time=   0.2s\n"
     ]
    },
    {
     "name": "stderr",
     "output_type": "stream",
     "text": [
      "[Parallel(n_jobs=1)]: Done   5 out of   5 | elapsed:    1.4s finished\n"
     ]
    },
    {
     "data": {
      "text/plain": [
       "(0.10021154320846926, -3.7615774554554577)"
      ]
     },
     "execution_count": 56,
     "metadata": {},
     "output_type": "execute_result"
    }
   ],
   "source": [
    "(np.mean(cross_val_score(rf4, rfe_rfX, y, cv=KFold(5), verbose=2)),\n",
    " np.mean(cross_val_score(rf4, rfe_rfX, y, cv=KFold(5), verbose=2, scoring=\"neg_mean_absolute_error\")))"
   ]
  },
  {
   "cell_type": "code",
   "execution_count": 57,
   "metadata": {
    "id": "s0lziRZ_n_kD"
   },
   "outputs": [],
   "source": [
    "rf4.fit(rfe_rfX_train, y_train)\n",
    "y4 = rf4.predict(rfe_rfX_test)"
   ]
  },
  {
   "cell_type": "code",
   "execution_count": 58,
   "metadata": {
    "id": "FQcK-9mpn_kD",
    "outputId": "826618d9-d929-4787-ae6b-37c0b58ad64c"
   },
   "outputs": [
    {
     "data": {
      "text/plain": [
       "array([33.91495567, 33.05122222, 29.67598469, 34.38548691, 32.26446345,\n",
       "       34.21439283, 33.15117629, 37.92154876, 36.89364753, 36.38381222,\n",
       "       29.10790098, 31.61915283, 35.04005912, 34.92230665, 34.37141629,\n",
       "       32.82639036, 33.74165753, 34.61022098, 28.86819814, 29.55572469,\n",
       "       34.28879098, 29.82072381, 38.35769   , 34.14108629, 30.79077345,\n",
       "       32.97949876, 35.55032753, 36.78970098, 33.54397283, 31.09909072,\n",
       "       27.86017938, 29.75596505, 35.03179629, 33.54272381, 33.45458345,\n",
       "       28.45000036, 30.26836505, 33.31950222, 29.42319036, 28.67592753,\n",
       "       34.45272567, 32.50275814, 37.03246469, 32.97893345, 34.98101912])"
      ]
     },
     "execution_count": 58,
     "metadata": {},
     "output_type": "execute_result"
    }
   ],
   "source": [
    "y4"
   ]
  },
  {
   "cell_type": "code",
   "execution_count": 59,
   "metadata": {
    "id": "qpMNVyhan_kD",
    "outputId": "104c8ed8-5129-4850-bda4-74931364e1fb"
   },
   "outputs": [
    {
     "data": {
      "text/plain": [
       "3.3118966311644966"
      ]
     },
     "execution_count": 59,
     "metadata": {},
     "output_type": "execute_result"
    }
   ],
   "source": [
    "mean_absolute_error(y4, y_test)"
   ]
  },
  {
   "cell_type": "code",
   "execution_count": 60,
   "metadata": {
    "id": "U3hFvhTun_kD"
   },
   "outputs": [],
   "source": [
    "n_estimators = [i for i in range(100, 1001, 100)]\n",
    "# Number of features to consider at every split\n",
    "max_features = ['auto', 'sqrt']\n",
    "# Maximum number of levels in tree\n",
    "max_depth = [i for i in range(10, 101, 10)]\n",
    "max_depth.append(None)\n",
    "# Minimum number of samples required to split a node\n",
    "min_samples_split = [2, 3, 4, 5, 7, 10]\n",
    "# Minimum number of samples required at each leaf node\n",
    "min_samples_leaf = [1, 2, 4]\n",
    "# Method of selecting samples for training each tree\n",
    "bootstrap = [True, False]\n",
    "# Criterion to select scoring\n",
    "criterion = [\"absolute_error\", \"squared_error\", \"gini\"]\n",
    "# Create the random grid\n",
    "random_grid = {'n_estimators': n_estimators,\n",
    "               'max_features': max_features,\n",
    "               'max_depth': max_depth,\n",
    "               'min_samples_split': min_samples_split,\n",
    "               'min_samples_leaf': min_samples_leaf,\n",
    "               'bootstrap': bootstrap,\n",
    "               'criterion': criterion}"
   ]
  },
  {
   "cell_type": "code",
   "execution_count": null,
   "metadata": {},
   "outputs": [],
   "source": []
  },
  {
   "cell_type": "code",
   "execution_count": 62,
   "metadata": {
    "id": "_CD_mJG-n_kE"
   },
   "outputs": [],
   "source": [
    "rf_best = clone(gs_random.best_estimator_)"
   ]
  },
  {
   "cell_type": "code",
   "execution_count": 63,
   "metadata": {},
   "outputs": [
    {
     "data": {
      "text/plain": [
       "RandomForestRegressor(criterion='absolute_error', max_depth=20,\n",
       "                      max_features='sqrt', min_samples_split=10,\n",
       "                      n_estimators=200, random_state=22122)"
      ]
     },
     "execution_count": 63,
     "metadata": {},
     "output_type": "execute_result"
    }
   ],
   "source": [
    "gs_random.best_estimator_"
   ]
  },
  {
   "cell_type": "markdown",
   "metadata": {
    "id": "-Ej1Wb6HVNlC"
   },
   "source": [
    "##### Cross validation (both accuracy and absolute error)"
   ]
  },
  {
   "cell_type": "code",
   "execution_count": null,
   "metadata": {
    "id": "e2vzPqKpVNlC"
   },
   "outputs": [],
   "source": [
    "(np.mean(cross_val_score(rf_best, X, y, cv=KFold(5), verbose=2)),\n",
    " np.mean(cross_val_score(rf_best, X, y, cv=KFold(5), verbose=2, scoring=\"neg_mean_absolute_error\")))"
   ]
  },
  {
   "cell_type": "markdown",
   "metadata": {
    "id": "L7nS9jbcVNlD"
   },
   "source": [
    "###### Fit"
   ]
  },
  {
   "cell_type": "code",
   "execution_count": null,
   "metadata": {
    "id": "131JH9LPVNlD"
   },
   "outputs": [],
   "source": [
    "rf_best.fit(X_train, y_train)\n",
    "ybrf = rf4.predict(X_test)"
   ]
  },
  {
   "cell_type": "markdown",
   "metadata": {
    "id": "AvEZ4_xBVNlD"
   },
   "source": [
    "###### Results"
   ]
  },
  {
   "cell_type": "code",
   "execution_count": null,
   "metadata": {
    "id": "CpUf4gv6VNlD"
   },
   "outputs": [],
   "source": [
    "ybrf"
   ]
  },
  {
   "cell_type": "markdown",
   "metadata": {
    "id": "KuR6tATnVNlD"
   },
   "source": [
    "###### Absolute error"
   ]
  },
  {
   "cell_type": "code",
   "execution_count": null,
   "metadata": {
    "id": "XYJtF1UzVNlD"
   },
   "outputs": [],
   "source": [
    "mean_absolute_error(ybrf, y_test)"
   ]
  },
  {
   "cell_type": "markdown",
   "metadata": {
    "id": "cmDGXX4vVlzW"
   },
   "source": [
    "##### 4. Best model from 3 with RFE applied"
   ]
  },
  {
   "cell_type": "markdown",
   "metadata": {
    "id": "mulbAsYaVlzW"
   },
   "source": [
    "##### Apply RFE (with cross-validation) "
   ]
  },
  {
   "cell_type": "code",
   "execution_count": null,
   "metadata": {
    "id": "ZKL3rGkYVlzW"
   },
   "outputs": [],
   "source": [
    "#Clone best performing model of previous section\n",
    "rf_best2 = clone(rf_best)\n",
    "\n",
    "#Create Random Feature elimination for above model\n",
    "selector = RFECV(rf_best2, cv=5, step=1, n_jobs=-1, verbose=2, min_features_to_select=len(X.columns) // 2)\n",
    "\n",
    "#Fit all data\n",
    "selector.fit(X, y)"
   ]
  },
  {
   "cell_type": "code",
   "execution_count": null,
   "metadata": {
    "id": "imX_Z19eVlzX"
   },
   "outputs": [],
   "source": [
    "selector.ranking_"
   ]
  },
  {
   "cell_type": "code",
   "execution_count": null,
   "metadata": {
    "id": "EA_pjAhWVlzX"
   },
   "outputs": [],
   "source": [
    "X.columns"
   ]
  },
  {
   "cell_type": "markdown",
   "metadata": {
    "id": "ZCgVjKrMVlzX"
   },
   "source": [
    "##### Define model with new data"
   ]
  },
  {
   "cell_type": "code",
   "execution_count": null,
   "metadata": {
    "id": "Xsrnk9SyVlzX"
   },
   "outputs": [],
   "source": [
    "rankings = selector.ranking_\n",
    "columns_to_choose = [X.columns[i] for i in range(len(X.columns)) if rankings[i] == 1]\n",
    "rfe_rfX_best = X[columns_to_choose]\n",
    "rfe_rfX_best_train = X_train[columns_to_choose]\n",
    "rfe_rfX_best_test = X_test[columns_to_choose]"
   ]
  },
  {
   "cell_type": "markdown",
   "metadata": {
    "id": "DGSOSdPEVlzX"
   },
   "source": [
    "##### Cross validation (both accuracy and absolute error)"
   ]
  },
  {
   "cell_type": "code",
   "execution_count": null,
   "metadata": {
    "id": "ha7Vto8wVlzX"
   },
   "outputs": [],
   "source": [
    "(np.mean(cross_val_score(rf_best2, rfe_rfX, y, cv=KFold(5), verbose=2)),\n",
    " np.mean(cross_val_score(rf_best2, rfe_rfX, y, cv=KFold(5), verbose=2, scoring=\"neg_mean_absolute_error\")))"
   ]
  },
  {
   "cell_type": "markdown",
   "metadata": {
    "id": "9wAPOexJVlzX"
   },
   "source": [
    "###### Fit"
   ]
  },
  {
   "cell_type": "code",
   "execution_count": null,
   "metadata": {
    "id": "-tk9EgC0VlzX"
   },
   "outputs": [],
   "source": [
    "rf_best2.fit(rfe_rfX_best_train, y_train)\n",
    "ybrf2 = rf4.predict(rfe_rfX_best_test)"
   ]
  },
  {
   "cell_type": "markdown",
   "metadata": {
    "id": "fnP0Vg4TVlzX"
   },
   "source": [
    "###### Results"
   ]
  },
  {
   "cell_type": "code",
   "execution_count": null,
   "metadata": {
    "id": "_Il4_hSSVlzX"
   },
   "outputs": [],
   "source": [
    "ybrf2"
   ]
  },
  {
   "cell_type": "markdown",
   "metadata": {
    "id": "JKrnaEKSVlzX"
   },
   "source": [
    "###### Absolute error"
   ]
  },
  {
   "cell_type": "code",
   "execution_count": null,
   "metadata": {
    "id": "M7eM7TvdVlzX"
   },
   "outputs": [],
   "source": [
    "mean_absolute_error(ybrf2, y_test)"
   ]
  },
  {
   "cell_type": "markdown",
   "metadata": {
    "id": "Qpz0z6-JgxYY"
   },
   "source": [
    "### K-Nearest Neighbour Regression"
   ]
  },
  {
   "cell_type": "markdown",
   "metadata": {
    "id": "PQGRMjilfg9k"
   },
   "source": [
    "### 1. Basic test models with all features"
   ]
  },
  {
   "cell_type": "code",
   "execution_count": null,
   "metadata": {
    "id": "E0XtWxJ4gxYd"
   },
   "outputs": [],
   "source": [
    "#KNeighbors Regressor, default parameters\n",
    "knn1 = KNeighborsRegressor(n_jobs=-1)\n",
    "\n",
    "#KNeighbors Regressor, estimates from 10 nearest neighbours, each leaf has 10\n",
    "#samples\n",
    "knn2 = KNeighborsRegressor(n_neighbors=10, leaf_size=50, n_jobs=-1)\n",
    "\n",
    "#KNeighbors Regressor, estimates from 10 nearest neighbours\n",
    "knn3 = KNeighborsRegressor(n_neighbors=20, n_jobs=-1)"
   ]
  },
  {
   "cell_type": "markdown",
   "metadata": {
    "id": "ZbqMk28ffiFd"
   },
   "source": [
    "#### Cross validation tests (both accuracy and average error)"
   ]
  },
  {
   "cell_type": "code",
   "execution_count": null,
   "metadata": {
    "colab": {
     "base_uri": "https://localhost:8080/"
    },
    "executionInfo": {
     "elapsed": 1454,
     "status": "ok",
     "timestamp": 1649418905748,
     "user": {
      "displayName": "Brendan Crowley",
      "userId": "09355744342736110324"
     },
     "user_tz": -60
    },
    "id": "SaInEoZYDkov",
    "outputId": "ccc4d570-7d8e-4d1a-a326-562d6214cb4c"
   },
   "outputs": [
    {
     "name": "stderr",
     "output_type": "stream",
     "text": [
      "[Parallel(n_jobs=1)]: Using backend SequentialBackend with 1 concurrent workers.\n",
      "[Parallel(n_jobs=1)]: Done   1 out of   1 | elapsed:    0.2s remaining:    0.0s\n"
     ]
    },
    {
     "name": "stdout",
     "output_type": "stream",
     "text": [
      "[CV] END .................................................... total time=   0.2s\n",
      "[CV] END .................................................... total time=   0.1s\n",
      "[CV] END .................................................... total time=   0.1s\n",
      "[CV] END .................................................... total time=   0.1s\n",
      "[CV] END .................................................... total time=   0.2s\n",
      "[CV] END .................................................... total time=   0.1s\n"
     ]
    },
    {
     "name": "stderr",
     "output_type": "stream",
     "text": [
      "[Parallel(n_jobs=1)]: Done   5 out of   5 | elapsed:    0.8s finished\n",
      "[Parallel(n_jobs=1)]: Using backend SequentialBackend with 1 concurrent workers.\n",
      "[Parallel(n_jobs=1)]: Done   1 out of   1 | elapsed:    0.1s remaining:    0.0s\n"
     ]
    },
    {
     "name": "stdout",
     "output_type": "stream",
     "text": [
      "[CV] END .................................................... total time=   0.1s\n",
      "[CV] END .................................................... total time=   0.1s\n",
      "[CV] END .................................................... total time=   0.1s\n",
      "[CV] END .................................................... total time=   0.1s\n"
     ]
    },
    {
     "name": "stderr",
     "output_type": "stream",
     "text": [
      "[Parallel(n_jobs=1)]: Done   5 out of   5 | elapsed:    0.7s finished\n"
     ]
    },
    {
     "data": {
      "text/plain": [
       "(0.9180921608506607, -368.379723482743)"
      ]
     },
     "execution_count": 69,
     "metadata": {},
     "output_type": "execute_result"
    }
   ],
   "source": [
    "(np.mean(cross_val_score(knn1, X, y, cv=KFold(5), verbose=2)),\n",
    " np.mean(cross_val_score(knn1, X, y, cv=KFold(5), verbose=2, scoring=\"neg_mean_absolute_error\")))"
   ]
  },
  {
   "cell_type": "code",
   "execution_count": null,
   "metadata": {
    "colab": {
     "base_uri": "https://localhost:8080/"
    },
    "executionInfo": {
     "elapsed": 1659,
     "status": "ok",
     "timestamp": 1649418907403,
     "user": {
      "displayName": "Brendan Crowley",
      "userId": "09355744342736110324"
     },
     "user_tz": -60
    },
    "id": "IRFQTvmkfa6q",
    "outputId": "da16a798-95ef-4753-c0ec-a5d87127dd59"
   },
   "outputs": [
    {
     "name": "stderr",
     "output_type": "stream",
     "text": [
      "[Parallel(n_jobs=1)]: Using backend SequentialBackend with 1 concurrent workers.\n",
      "[Parallel(n_jobs=1)]: Done   1 out of   1 | elapsed:    0.2s remaining:    0.0s\n"
     ]
    },
    {
     "name": "stdout",
     "output_type": "stream",
     "text": [
      "[CV] END .................................................... total time=   0.2s\n",
      "[CV] END .................................................... total time=   0.1s\n",
      "[CV] END .................................................... total time=   0.2s\n",
      "[CV] END .................................................... total time=   0.1s\n",
      "[CV] END .................................................... total time=   0.1s\n",
      "[CV] END .................................................... total time=   0.1s\n"
     ]
    },
    {
     "name": "stderr",
     "output_type": "stream",
     "text": [
      "[Parallel(n_jobs=1)]: Done   5 out of   5 | elapsed:    0.8s finished\n",
      "[Parallel(n_jobs=1)]: Using backend SequentialBackend with 1 concurrent workers.\n",
      "[Parallel(n_jobs=1)]: Done   1 out of   1 | elapsed:    0.1s remaining:    0.0s\n"
     ]
    },
    {
     "name": "stdout",
     "output_type": "stream",
     "text": [
      "[CV] END .................................................... total time=   0.2s\n",
      "[CV] END .................................................... total time=   0.1s\n",
      "[CV] END .................................................... total time=   0.1s\n",
      "[CV] END .................................................... total time=   0.2s\n"
     ]
    },
    {
     "name": "stderr",
     "output_type": "stream",
     "text": [
      "[Parallel(n_jobs=1)]: Done   5 out of   5 | elapsed:    0.8s finished\n"
     ]
    },
    {
     "data": {
      "text/plain": [
       "(0.9247140939410677, -350.91984476224167)"
      ]
     },
     "execution_count": 70,
     "metadata": {},
     "output_type": "execute_result"
    }
   ],
   "source": [
    "(np.mean(cross_val_score(knn2, X, y, cv=KFold(5), verbose=2)),\n",
    " np.mean(cross_val_score(knn2, X, y, cv=KFold(5), verbose=2, scoring=\"neg_mean_absolute_error\")))"
   ]
  },
  {
   "cell_type": "code",
   "execution_count": null,
   "metadata": {
    "colab": {
     "base_uri": "https://localhost:8080/"
    },
    "executionInfo": {
     "elapsed": 3428,
     "status": "ok",
     "timestamp": 1649418910825,
     "user": {
      "displayName": "Brendan Crowley",
      "userId": "09355744342736110324"
     },
     "user_tz": -60
    },
    "id": "kbTSXkRVfbCB",
    "outputId": "683ee76b-d9fe-42fd-b479-799ddc3dbe7c"
   },
   "outputs": [
    {
     "name": "stderr",
     "output_type": "stream",
     "text": [
      "[Parallel(n_jobs=1)]: Using backend SequentialBackend with 1 concurrent workers.\n",
      "[Parallel(n_jobs=1)]: Done   1 out of   1 | elapsed:    0.2s remaining:    0.0s\n"
     ]
    },
    {
     "name": "stdout",
     "output_type": "stream",
     "text": [
      "[CV] END .................................................... total time=   0.2s\n",
      "[CV] END .................................................... total time=   0.1s\n",
      "[CV] END .................................................... total time=   0.2s\n",
      "[CV] END .................................................... total time=   0.1s\n",
      "[CV] END .................................................... total time=   0.1s\n",
      "[CV] END .................................................... total time=   0.1s\n"
     ]
    },
    {
     "name": "stderr",
     "output_type": "stream",
     "text": [
      "[Parallel(n_jobs=1)]: Done   5 out of   5 | elapsed:    0.8s finished\n",
      "[Parallel(n_jobs=1)]: Using backend SequentialBackend with 1 concurrent workers.\n",
      "[Parallel(n_jobs=1)]: Done   1 out of   1 | elapsed:    0.1s remaining:    0.0s\n"
     ]
    },
    {
     "name": "stdout",
     "output_type": "stream",
     "text": [
      "[CV] END .................................................... total time=   0.2s\n",
      "[CV] END .................................................... total time=   0.1s\n",
      "[CV] END .................................................... total time=   0.1s\n",
      "[CV] END .................................................... total time=   0.1s\n"
     ]
    },
    {
     "name": "stderr",
     "output_type": "stream",
     "text": [
      "[Parallel(n_jobs=1)]: Done   5 out of   5 | elapsed:    0.8s finished\n"
     ]
    },
    {
     "data": {
      "text/plain": [
       "(0.9247140939410677, -350.91984476224167)"
      ]
     },
     "execution_count": 71,
     "metadata": {},
     "output_type": "execute_result"
    }
   ],
   "source": [
    "(np.mean(cross_val_score(knn2, X, y, cv=KFold(5), verbose=2)),\n",
    " np.mean(cross_val_score(knn2, X, y, cv=KFold(5), verbose=2, scoring=\"neg_mean_absolute_error\")))"
   ]
  },
  {
   "cell_type": "markdown",
   "metadata": {
    "id": "ZYVpCVo-foKB"
   },
   "source": [
    "#### KNeighbors Regressor 1"
   ]
  },
  {
   "cell_type": "markdown",
   "metadata": {
    "id": "m4yH1546foKB"
   },
   "source": [
    "###### Fit"
   ]
  },
  {
   "cell_type": "code",
   "execution_count": null,
   "metadata": {
    "id": "r-256TCMfz7p"
   },
   "outputs": [],
   "source": [
    "knn1.fit(X_train, y_train)\n",
    "yk1 = knn1.predict(X_test)"
   ]
  },
  {
   "cell_type": "markdown",
   "metadata": {
    "id": "c0UIkyytfoKB"
   },
   "source": [
    "###### Results"
   ]
  },
  {
   "cell_type": "code",
   "execution_count": null,
   "metadata": {
    "colab": {
     "base_uri": "https://localhost:8080/"
    },
    "executionInfo": {
     "elapsed": 22,
     "status": "ok",
     "timestamp": 1649418910825,
     "user": {
      "displayName": "Brendan Crowley",
      "userId": "09355744342736110324"
     },
     "user_tz": -60
    },
    "id": "fplyB5cdf2Gi",
    "outputId": "ceec09d0-fc52-4f9b-d487-e1d6693fbe85"
   },
   "outputs": [
    {
     "data": {
      "text/plain": [
       "array([4944.2,  692.8, 2102.6, 3167.2, 3299.8, 5318. , 6853.8,  668.6,\n",
       "       1491. , 4594.8, 7215. , 6197.6, 4340.8, 4506. , 5739.2, 1372.8,\n",
       "       1601.6,  571. , 3981.2, 1243.4, 6257. , 4437.2,  686.2, 5202.8,\n",
       "       2200. , 6881.8,  550.4, 5128.2, 5024.4, 4883.8, 6692. , 5513.4,\n",
       "       2963.8, 6775.8, 5420.2, 6517.4, 4489. , 1334.8, 3688.4, 1923.4,\n",
       "       4225.4, 5793.6, 2972.6, 1856.8, 5006.2, 3305.6,  933.4, 2379.2,\n",
       "       6778.8, 6631.6, 5943. , 6861.8, 4980. , 4766.2, 6220.2, 5546.2,\n",
       "       5636.2,  691. , 1980.6, 1650.2, 1595.2, 4388.4, 5740.6, 4904.6,\n",
       "       6417.4, 5408.6, 3682.8,  601.4, 5088.4, 2728.8, 3186.2, 5343.8,\n",
       "        493.2,  673.2, 3244. , 3715.4, 1555.8, 4296.6, 1588.2, 3071.8,\n",
       "       6630.8, 3454.2, 1852.8, 6622.2, 1722. , 5907.2, 5768.8, 1785.6,\n",
       "       2684.2, 6338.6, 4792. , 2179. , 2830.6, 4069.2, 5125.4, 6479.8,\n",
       "       6954.4, 3680.8, 3090. , 4081.4, 2904.6, 2272.2, 1492. , 3108.8,\n",
       "       6630.6, 6145.4, 6076.6, 6489. , 2804.6, 5221.6, 6508. , 4055.8,\n",
       "       1637.2, 5191.2, 1585.2, 5756.8, 1298. , 5878.8, 4733.2, 5209. ,\n",
       "       3561.2, 3689.4, 5534.2, 1500.4, 5897.4, 3588. , 3896.6, 2066.4,\n",
       "       1757.2, 6214.4, 6780.4, 3001. , 2516.2,  702.2, 2894. , 4914.4,\n",
       "       2898. , 3626.8, 2816.4,  685.2, 7336.2,  701.6, 5332.6, 1566.2,\n",
       "       2904.6, 4695. , 6839.2, 1270. , 4089.8, 1571.4, 2821.6, 3900. ,\n",
       "       6985.2, 2425.4, 3104.2, 6259.6, 6035.6, 2080.4, 6080.2, 6327.4,\n",
       "       7150.8, 7129.2, 6572.2, 6819.8,  666.6, 5812.2, 4127.8, 3247.2,\n",
       "       1964. , 3805.6, 2793. , 6151.8, 6108.2, 7461.8,  880.6, 6968.4,\n",
       "       3022. , 5517.8, 2648.6, 4138.2, 4168.2,  836.4, 5443.2, 3555.6,\n",
       "        639.2, 1751.6, 5395.8,  630.4, 1530.6, 2860.2, 5749.2, 5495.4,\n",
       "       4056.4, 4615.4,  486.8, 5908.8, 5228.6, 2681.6, 3949.4, 2116. ,\n",
       "       6793.6, 5545.4, 3761.4, 5946.8, 3060.2, 1705.8, 5081.6, 1521. ,\n",
       "       2152.2, 1494.2, 5952.4, 3863.8, 1650. , 4052.6, 6184.6,  529.6,\n",
       "       2530.4, 3683.2, 7094.8, 4378.4, 5667.6, 4017. , 2806.8, 6685.8,\n",
       "        944.6, 1537.8, 5212.8, 4204.4, 5838.2, 4904.8, 3915. , 2667. ,\n",
       "       2039.4, 4706.4, 3326.6, 2649.8, 4510.8, 3001.8, 5383.2,  617.8,\n",
       "       4830.4, 2026.8, 7066.8, 3617.4, 4335.2, 5275.8,  649.8, 2817.6,\n",
       "       2726.4, 6002.8, 2425.6, 3304.6, 2607. , 5564.6, 3324.6, 6453.6,\n",
       "       4319.4, 4812.2, 5238.6, 5700.8, 1137. , 1615.8, 1741.8, 4569.2,\n",
       "       4721.4, 1569.4, 6196.6, 5451.2, 6577.2, 4466.8, 5604.6, 2479.4,\n",
       "       2520. , 5389.6, 1863.6,  699. , 2617.4, 6514.4, 3696.6, 2696.8,\n",
       "       1523.4, 5371.6, 4713.6, 2714.2, 1890.6, 3827. , 4231.2, 5367.4,\n",
       "       1224.6, 6191.8, 6390. , 3387.8, 3900.2,  286.6,  713. , 5697.6,\n",
       "       2893. , 1207. , 3335.6, 5799. , 2214. , 3583.4, 4973.2, 1245.2,\n",
       "       7457. ,  400.4,  619.8, 5733.2,  827.2, 5681.2, 3128. , 3662.8,\n",
       "       4947.8, 2808. , 4417. , 5919. , 2953. , 6376.6, 5127.4, 5753.6,\n",
       "       1442.4, 1826.6, 3946.4,  774.8, 6016.6, 6370.8,  383.2, 2056. ,\n",
       "        679.8, 1815.6, 1148.2, 3487.8, 2777.4, 5837.6, 1999. ,  473.8,\n",
       "       6188. ,  647.8, 6143.2, 4110.6, 1594. , 2382.6, 2346.6, 1441.8,\n",
       "       5221.6, 3460.8, 3559.2, 2738.2,  396.8, 6406.2, 6963.8, 3534. ,\n",
       "       6363.6, 3942.2, 5215.4, 4809.2, 6423.4,  925.2, 4682.4, 5388.8,\n",
       "       5853.2, 2408. , 2410. , 5975.2, 4025.2, 1535.2,  313.8, 4561.4,\n",
       "       5680.8,  930.4, 4968.6, 5459.4, 3999. , 6123.8, 6134.8, 2636.2,\n",
       "       5980. , 1338.2, 5314.8, 5985.8, 4295. , 2714. , 4008.2, 1593.8,\n",
       "       3716.6, 1530.4, 1944.2, 1561.6, 5573.6, 3805.8, 6110. , 3160.4,\n",
       "       4571.6,  681.8, 6065.2, 4532. , 6529.2, 4068.6, 3588. , 2725. ,\n",
       "       6853. , 1584.6, 5742.2, 5734. , 5067.4, 2122. , 4545.2, 3951. ,\n",
       "       4422.4, 6981.6,  704.2, 6203.4, 6378.2, 2836.6, 4111.2, 3625. ,\n",
       "       5208. , 1270.8, 2609.4, 5390.2, 6489. , 4453.4, 2821.6, 2200.6,\n",
       "       1625. , 6263. , 5405.8, 4891.8, 5004.4,  563. , 1926.6,  451.8,\n",
       "       5016.6, 5302. ,  601.2, 4227.2, 7329.4, 6839.2, 6399.6, 3124.6,\n",
       "       5976.2, 5976. , 3291. , 1437.2, 4400.4, 5049.2, 1928.4,  652. ,\n",
       "       2276. , 2267.8, 1339.2, 1458. , 4570.8, 3949.2, 5296.6,  562.2,\n",
       "       4152.2, 6091.2, 4019.6, 5498. , 1188.6, 3210.6, 6820. , 5467.2,\n",
       "       3994.6, 2515. , 5616. , 6515.4,  369.4, 5766.2,  417.6, 1718.4,\n",
       "       2321.4, 4313. , 3501.6, 2745.8, 6429.2, 5941.8, 4200.8, 1748. ,\n",
       "       5006.8, 1749. , 4934.2, 1905.4,  711.6, 2606.4,  684.8, 6710.6,\n",
       "       6116.4, 4839.4, 2082.2, 5927.2, 1633.6,  648.4, 2491.6, 5125.6,\n",
       "       4327.6,  436.6, 5256. , 6704.8,  678.4, 5393.8, 2784. , 6145. ,\n",
       "       5423.6,  696.8, 2193.6, 5846.8, 4949.6, 6595.6, 6426.4, 7207.4,\n",
       "       5274.8,  692.2, 1173.6, 1659.8, 4398.8, 5089.8, 2843.4, 2972.4,\n",
       "       2012.4, 5286.4, 5022.8,  368.4,  500.6, 3997.8, 5648.8, 1973.8,\n",
       "       3906.8, 6231.8, 2825.6, 5747.8, 6051.4, 3665.8, 1583.8,  457.6,\n",
       "       4623. , 6713.2, 2319.6, 4579.8, 5900.8, 2100.4, 5274.4, 5355.4,\n",
       "       5636.4, 3847.8, 5683.6, 6350.8, 1222.2, 6622. , 6279. , 2949.2,\n",
       "       2091.4, 3741. , 1331.2, 2328.2, 3938.4,  699.4, 3610. , 5990.6,\n",
       "       1769.8, 4081.4, 4265.2, 6765.8, 5498.4, 3156.2, 5617.6, 6405.2,\n",
       "       5242.6, 5796. , 3965.2, 1947.4,  724. , 4150.4, 5720.2, 1489. ,\n",
       "       3973.2, 4265. , 1608.4, 2032. , 4954.2, 1408.8, 6015. , 3798.2,\n",
       "       5968.2, 2782.8, 6646.2, 6148.4, 6337. , 3604.4, 4995.2, 5262. ,\n",
       "       5752.6, 3668.2, 6310.2,  645.4,  396.4, 4899.2, 7145. , 7006.2,\n",
       "       3796.6, 1480.6, 6043.8, 3708.2, 1429.8, 6005.4, 6682.2, 3884.4,\n",
       "       6365. ,  412.6, 3561.8, 6698.4, 1980.8, 2667. , 5268.6, 2138. ,\n",
       "       5316.2, 1431.2, 4071.6, 5723.8, 1661.4, 5391. , 4442.2, 6082. ,\n",
       "       7233.8, 6952.4, 4890.8, 4363.8, 4497.2, 4354. , 4896.8, 4071.4,\n",
       "       4068.6, 2845.8, 5426.2, 4699. , 1584.2, 2522.2, 3885.6, 5145. ,\n",
       "       5395.6, 1763. , 1423.8, 6795.2, 4692. , 3601.6, 5199.2, 5503.6,\n",
       "       2928.8, 5602.8, 4798.2, 2109.8, 2619.8, 5256.8, 4231.4, 2116. ,\n",
       "       4699.4, 1257.2, 4223.4, 7195.4, 6616.6, 1589.8, 2539.4, 5363.4,\n",
       "       2350.2, 6697.6, 5828. , 1594.6, 2914.6, 6237. , 5003.2, 4282. ,\n",
       "       6231.2, 1536.6, 3224.4, 4433.4, 6375.6, 4084.2, 7049.4, 4050.6,\n",
       "       2620.4, 3820.6, 5347.8, 6040.6, 1571.8, 1475. , 5884. , 7409.6,\n",
       "       3536.4, 3733.4, 1559.4, 6299.2, 1023. , 2401. , 4797.2, 6464.8,\n",
       "       2384.8, 2845.8,  669.8, 5105.8, 1704.4, 6886.8, 5515.4, 5331.2,\n",
       "       3845.4, 5986.6, 5307.8,  757. , 4897.4,  687.8, 6146.6, 6391. ,\n",
       "       5446.8, 6898.2, 3962. , 5165.2, 6408.2, 7029.6, 6589.8, 2611.6,\n",
       "       1969.2, 4145.6, 2606.2, 6992.6, 5116.4, 4741.4, 7261. , 2767.6,\n",
       "       7016.8, 5293.6, 5353.4, 3513.8, 1675.4, 2869. , 3000.6, 5341.2,\n",
       "        553.4, 5415. , 6152.2, 5307.4, 5791.8, 2519.4, 2138. , 6352.2,\n",
       "       5453.8, 3353.4, 6823.4, 3690.2, 5199.8, 2188.4, 4458.8, 5107.6,\n",
       "       4073. , 5511. , 4099.6, 5864.6, 2119.2,  312.4, 4374.6, 5137.8,\n",
       "       2288.2, 3006. , 3647.6, 5366. ,  681.8, 5288. , 5662.6, 5102.4,\n",
       "       3290.8, 6807.6, 4459.6,  698.2, 2412.2, 5315.8, 6112.4, 4976.6,\n",
       "       4381.2, 5461.2,  335.8,  866.2, 5068.6, 6532.4, 1372. , 3706.2,\n",
       "       2045.6, 6167.4, 5897.4, 1650.4, 4206.2, 2590.4, 4267.6, 6369. ,\n",
       "       5221.6, 6797.4, 2838.2, 4458. , 3968.6, 5744.2, 5048.6, 5171.8,\n",
       "       1555.2, 5378.4, 4017.6,  692.2, 3305.2, 5594. , 5399.4, 4395.8,\n",
       "       5602.2,  698.6, 1441.4, 1314.2, 4934.4, 5870.4, 1884. , 1361.4,\n",
       "       6574.4, 2526.6, 1570.4, 1764.4, 2778. , 1474. , 2317.8, 2933.6,\n",
       "       5394.4, 3621.8, 3210.6, 5375.8, 1587.2, 3198.6, 4545.6, 4158.4,\n",
       "       1914.8, 5453.8, 4365. ,  689.2, 4636.6, 5662.2, 3600.4,  341.4,\n",
       "       2733.6, 2698.2, 4381.4, 1300.6, 4264.6, 3880. , 2684.2, 6168.4,\n",
       "       3173.4, 2457.2, 6622.8, 4708.6, 5837.2, 4146. , 4182. , 5550.8,\n",
       "       1798.6, 4017.6, 3734.8, 4100.2, 2689.8,  666.8, 2197.6, 2889. ,\n",
       "       2870.2, 6081.4, 5435.4, 1875. , 2512.2, 2916.8,  644.8, 3953.2,\n",
       "        378.4, 5777.8, 2893.8,  662.6, 6979.2, 6527.4,  701.6, 5270.2,\n",
       "       3805. , 5461.4, 2594.2, 4699.8, 1541.4, 1425. , 1616.8, 6091. ,\n",
       "       1735.6, 3911.6, 4004.4, 6453.8, 2686.8, 2533.4, 4762. , 6105. ,\n",
       "       1011. , 3715.2, 1551. , 3613.4, 3092.6, 5021. , 5318.6, 1915.6,\n",
       "       7300.6, 2217. , 5130.6, 4319.2, 2025.2, 4054.4, 3807.2, 2698.6,\n",
       "       2375.8, 5636.2, 1730.2, 4916.2, 5977.4, 1309.4, 2205.8, 4550.2,\n",
       "       1523.4, 3580.8, 4413.8, 2884.4, 6534.4, 1426.8,  278.2, 5352.8,\n",
       "       6967.6, 5684.4,  383.4, 3148.4, 5347. , 1888.6, 4814.2, 5251.6,\n",
       "       6654.8, 4914.8, 1448. , 5165.4, 4660.6, 1599.8, 5733.2, 3787.2,\n",
       "       1581.8,  887.4, 1394.4, 3480.8, 4645.6, 1599.2, 5409.2, 3397.4,\n",
       "       6666.8, 6619. ,  700.4, 2860.2, 5304. ,  868.2, 5686.8, 6037.8,\n",
       "       6145.8, 6742.6, 6479. ])"
      ]
     },
     "execution_count": 73,
     "metadata": {},
     "output_type": "execute_result"
    }
   ],
   "source": [
    "yk1"
   ]
  },
  {
   "cell_type": "markdown",
   "metadata": {
    "id": "g798JRUlfoKB"
   },
   "source": [
    "###### Absolute error"
   ]
  },
  {
   "cell_type": "code",
   "execution_count": null,
   "metadata": {
    "colab": {
     "base_uri": "https://localhost:8080/"
    },
    "executionInfo": {
     "elapsed": 20,
     "status": "ok",
     "timestamp": 1649418910825,
     "user": {
      "displayName": "Brendan Crowley",
      "userId": "09355744342736110324"
     },
     "user_tz": -60
    },
    "id": "mf4xrTj1f1dx",
    "outputId": "a17a89c6-f091-436e-9d69-eda29b7c6390"
   },
   "outputs": [
    {
     "data": {
      "text/plain": [
       "311.5599169262721"
      ]
     },
     "execution_count": 74,
     "metadata": {},
     "output_type": "execute_result"
    }
   ],
   "source": [
    "mean_absolute_error(yk1, y_test)"
   ]
  },
  {
   "cell_type": "markdown",
   "metadata": {
    "id": "HnZRcOjGf5ap"
   },
   "source": [
    "#### KNeighbors Regressor 2"
   ]
  },
  {
   "cell_type": "markdown",
   "metadata": {
    "id": "2Hv-Daobf5ap"
   },
   "source": [
    "###### Fit"
   ]
  },
  {
   "cell_type": "code",
   "execution_count": null,
   "metadata": {
    "id": "SQ5T8F9Sf5ap"
   },
   "outputs": [],
   "source": [
    "knn2.fit(X_train, y_train)\n",
    "yk2 = knn2.predict(X_test)"
   ]
  },
  {
   "cell_type": "markdown",
   "metadata": {
    "id": "xtEZOazxf5ap"
   },
   "source": [
    "###### Results"
   ]
  },
  {
   "cell_type": "code",
   "execution_count": null,
   "metadata": {
    "colab": {
     "base_uri": "https://localhost:8080/"
    },
    "executionInfo": {
     "elapsed": 17,
     "status": "ok",
     "timestamp": 1649418910826,
     "user": {
      "displayName": "Brendan Crowley",
      "userId": "09355744342736110324"
     },
     "user_tz": -60
    },
    "id": "TbEarvOjf5aq",
    "outputId": "89706d23-5810-4cd5-d137-bedc497c09d2"
   },
   "outputs": [
    {
     "data": {
      "text/plain": [
       "array([4911.3,  690.3, 2109.4, 3204.6, 3353.4, 5688.3, 6481.2,  692.5,\n",
       "       1533.9, 4616.5, 7034.2, 5783.6, 4442.9, 4831.4, 5801.3, 1341.8,\n",
       "       1566.8,  576.4, 4167.7, 1325.5, 6277.8, 4377.6,  669.8, 5185.4,\n",
       "       2063.1, 6811.3,  592.6, 5090.9, 5224.2, 5037.7, 6529.5, 5418.8,\n",
       "       3002. , 6761.3, 5423.6, 6033.8, 4664.3, 1322.8, 3648.3, 1907. ,\n",
       "       4281.4, 5391.1, 2823.7, 1798.8, 5044.9, 3241.6,  864.5, 2440.8,\n",
       "       6385.3, 6340. , 6213.1, 6885.7, 5334.2, 4661.3, 5971.5, 5202. ,\n",
       "       5381.2,  668.2, 1906.9, 1575.3, 1601.4, 4173.6, 5617.6, 4949.6,\n",
       "       6412.9, 5451.4, 3615.6,  575.6, 5138.3, 2750.7, 3124. , 5390.1,\n",
       "        436. ,  688.7, 3199.6, 3832. , 1567.3, 4376.6, 1530.8, 3396. ,\n",
       "       6644.2, 3470.2, 1930.1, 6505.5, 1789.8, 5910.8, 5534.3, 1813.4,\n",
       "       2694.5, 6161.2, 4858.6, 2307.6, 2791.4, 4184.7, 4945.7, 6347.7,\n",
       "       6942.9, 3862.2, 2836.6, 3897.4, 2968.4, 2194.8, 1522.8, 3066.3,\n",
       "       6534.1, 5708.3, 5353.6, 6218.7, 2856.6, 5272. , 5964.3, 4004.4,\n",
       "       1606.1, 5271.6, 1615.9, 5902.2, 1326.7, 5969.2, 4766.2, 5260.7,\n",
       "       3653.5, 3802. , 5319.9, 1547.9, 6038.6, 3680.8, 4029. , 2170.9,\n",
       "       1922.3, 6239.7, 6906.2, 3414.2, 2526.8,  701. , 2834.5, 4521.9,\n",
       "       2758.5, 3704.1, 2821.7,  685.6, 7163.6,  701.2, 4886.1, 1606.5,\n",
       "       2902.9, 4561.9, 6743.5, 1204.2, 4143.4, 1544.4, 2752.5, 3842.4,\n",
       "       6835. , 2513.2, 3263.9, 6202.5, 6126.7, 2066.8, 6451.2, 6504.2,\n",
       "       7200.6, 6809.6, 6567.5, 6504.2,  677.7, 5969.3, 4235.2, 3378.2,\n",
       "       1969.7, 3697.8, 2757.3, 6244.4, 5710.3, 7264.6,  982.3, 7120.6,\n",
       "       2931.2, 5493.2, 2667.3, 4005.4, 4100.6,  888.7, 5886.6, 3686.2,\n",
       "        636.9, 1723.5, 5256.4,  645.1, 1587.2, 2819.6, 5822.7, 5475.8,\n",
       "       4120.9, 4522.5,  507.8, 5595.8, 5750. , 2647.2, 3910.1, 2090.6,\n",
       "       6566.5, 5487.4, 3963.9, 5756. , 3060. , 1612.2, 5641.9, 1552.2,\n",
       "       2148.8, 1451.7, 5641.1, 3843.8, 1600.3, 3966.4, 6196.5,  522.4,\n",
       "       2499.8, 3675. , 7135. , 4605.4, 5492.9, 4151.4, 2840.2, 6476. ,\n",
       "        941.3, 1526. , 5127.6, 4369. , 6060.7, 4799.8, 4009.3, 2549.5,\n",
       "       2067.9, 4854.9, 3034.9, 2780.8, 4235.2, 3110.6, 5403.6,  572.6,\n",
       "       4580.4, 2055.4, 7035.1, 3623.3, 4017.5, 5483.7,  661. , 2828. ,\n",
       "       2738.5, 6161.8, 2657.6, 3509.5, 2680.3, 5325.1, 3205.4, 6627.5,\n",
       "       4471.8, 5142.9, 5261.7, 5743.2, 1242.5, 1584.5, 1756.8, 5021.7,\n",
       "       4518.6, 1587.8, 6004.3, 5635.3, 6598.7, 4338.2, 5757.9, 2476.4,\n",
       "       2426.2, 5412.5, 1954.7,  700.4, 2653.6, 6364.4, 3706. , 2753. ,\n",
       "       1617.9, 5546.8, 4836.3, 2706.5, 1804.4, 3898.3, 4250.8, 5688.7,\n",
       "       1261.2, 6137.7, 6634.8, 3462.5, 3882. ,  305.3,  709.7, 5718.1,\n",
       "       2955.3, 1268.9, 3460.1, 5730.2, 2393.6, 3691.3, 4777. , 1262.3,\n",
       "       7283.3,  502.1,  630.8, 5700.7,  843.1, 5554.8, 3294.3, 3770.4,\n",
       "       5160.8, 2733.9, 4246.7, 5747.4, 2914.9, 6235.9, 5274.1, 5766.4,\n",
       "       1384.7, 1559.6, 3917.4,  758.2, 5980.7, 6199.8,  395.6, 2168.2,\n",
       "        686.5, 1940.2, 1315. , 3575.7, 2795.8, 5766. , 2148. ,  507.8,\n",
       "       6028.1,  662.9, 6226. , 4006.7, 1587.2, 2393.9, 2377.4, 1498.7,\n",
       "       5511.4, 3445.6, 3638.7, 2736.1,  498.4, 6515. , 6737.4, 3629.6,\n",
       "       6547.1, 4195.8, 4949.8, 4930.1, 6204.6,  983.8, 4610. , 5335.9,\n",
       "       5436.2, 2448.5, 2538.5, 5965.1, 3782.8, 1459.4,  350.5, 4840.3,\n",
       "       5748.9,  911. , 4811.3, 5304. , 4102. , 6177.4, 5773.3, 2524.1,\n",
       "       6095.7, 1346.1, 5469.3, 5990.4, 4218.8, 2736.7, 4030.8, 1650.1,\n",
       "       4086.2, 1597.6, 1976.4, 1559.1, 5622. , 3786.7, 5902.8, 3207.8,\n",
       "       4379.8,  678.8, 5896.9, 4886.5, 6516.2, 4068.6, 3984.1, 2720.6,\n",
       "       6889.8, 1696.2, 5762.4, 5652.5, 5260.9, 2116.9, 4396.1, 4263.2,\n",
       "       4409.7, 6786.6,  699.3, 6019.2, 6369.5, 2872. , 4078.3, 3610.6,\n",
       "       5183. , 1342. , 2731.1, 5185.4, 6539. , 4847.4, 2802.2, 2296.7,\n",
       "       1649.6, 5890.7, 5546.3, 5142. , 5104.6,  572.2, 2078.3,  444.7,\n",
       "       5108.6, 5553.9,  597. , 4134.6, 7130.1, 6943.5, 6116.1, 2961.4,\n",
       "       5726.7, 6131.7, 3062.4, 1485.6, 4739.1, 5372.6, 2039.8,  634.1,\n",
       "       2282.2, 2292.4, 1360.7, 1496.5, 4929.3, 4040.2, 5160.4,  546. ,\n",
       "       3887.6, 5737.7, 4189.3, 5617.9,  954.1, 3243.8, 6881.5, 5776. ,\n",
       "       3722.5, 2500. , 5397.9, 6218.7,  359.4, 5320.2,  424.8, 1724.5,\n",
       "       2399.9, 4152.8, 3310.7, 2750.4, 6567.2, 6029.7, 4218. , 1687.6,\n",
       "       4742.6, 1648.5, 4986.5, 2069.4,  698.7, 2517.1,  689.7, 6513.1,\n",
       "       6202.6, 4890.9, 2056.2, 5766.4, 1597.6,  661.7, 2693.5, 5300.6,\n",
       "       4354.9,  437.6, 5321.2, 7001.8,  669. , 5480.2, 2788.1, 6029.5,\n",
       "       5463.5,  700.6, 2136.9, 5750.4, 5023.3, 6805.3, 6416.4, 6719.5,\n",
       "       5352.9,  681. , 1271.8, 1593.2, 4434. , 5158.6, 2804.5, 2933.2,\n",
       "       1980.6, 5418.3, 5095. ,  343.7,  567.8, 3958.7, 5713.9, 2045.6,\n",
       "       3846.3, 6119.1, 2799.5, 5808.1, 6134.1, 3600. , 1581.1,  460.8,\n",
       "       4619.5, 6427.9, 2359.8, 4776.9, 5478.8, 2130.6, 5184.1, 5208.3,\n",
       "       5359.7, 3973.1, 6395.4, 6248.9, 1207.1, 6745.1, 6518.2, 2883.2,\n",
       "       1990.3, 3781.1, 1325.1, 2319.5, 3819. ,  699.4, 3466.3, 5853.3,\n",
       "       1779.1, 4117.1, 4356.2, 6639.3, 5088.2, 3358.7, 5854.9, 6281.4,\n",
       "       5207.7, 6131.9, 4004.7, 1777.1,  688.6, 4243. , 5595.2, 1581.1,\n",
       "       4062.8, 4290.6, 1552.2, 2062.5, 5031.9, 1330.5, 6248.2, 3771.6,\n",
       "       6160.5, 2733.2, 6725.3, 6010.3, 6498.3, 3543.9, 4981.3, 5390.2,\n",
       "       5481.1, 3627.3, 6286.3,  656.5,  414. , 4987.1, 7072.6, 7014.7,\n",
       "       3978.7, 1521.7, 5813.8, 3950.1, 1455.4, 5913.3, 6741.9, 3837.3,\n",
       "       6383.5,  424.5, 3709.9, 6667.2, 1952.5, 2686.5, 5523.9, 2244.3,\n",
       "       5440.8, 1517.5, 4228.2, 5574.6, 1605.9, 5460.4, 4549.8, 6143.8,\n",
       "       7245.8, 6943.5, 4795.9, 4444.7, 4687.2, 4442.4, 4889.7, 3845.2,\n",
       "       3804.6, 2735.4, 5467.9, 4954.7, 1574.5, 2388.8, 3726.8, 5101.9,\n",
       "       5486.3, 1751.2, 1207.1, 6489.6, 4473.2, 3358.4, 4846.4, 5355.5,\n",
       "       2837.9, 5661.4, 4960.6, 2114. , 2559.6, 5489.9, 4200.9, 2213. ,\n",
       "       4621.4, 1211.9, 4368.3, 7126.8, 6749.4, 1584. , 2633.5, 5103.4,\n",
       "       2489.9, 6829.3, 5482.4, 1649.4, 2813.3, 6270.5, 4994.3, 4342.3,\n",
       "       5868.5, 1688.6, 3117.7, 4496.3, 6380.9, 4043.3, 7165.1, 3919. ,\n",
       "       2650.1, 3825.4, 5124.4, 5733.1, 1550. , 1525.9, 5892. , 7250.1,\n",
       "       3575.9, 3833.5, 1560.5, 6173.5, 1000.5, 2504. , 4679.5, 6537.9,\n",
       "       2478.1, 2854.1,  648.3, 5265.9, 1731.5, 7048.2, 5578.3, 5278.6,\n",
       "       3670.5, 5864.4, 5396.8,  761.3, 4981.8,  668.2, 6328.9, 6405.8,\n",
       "       5721.2, 6781.6, 3750. , 5009.5, 6306.9, 6838.6, 6480.9, 2681.8,\n",
       "       1879.9, 4437.6, 2744.9, 6887.2, 5106.5, 4726.6, 7099.1, 2584.3,\n",
       "       7001.7, 5200.1, 5369.4, 3557.1, 1731.5, 2875.9, 2720.7, 5393.8,\n",
       "        545.5, 5994.8, 6190.2, 5357.5, 5526.9, 2597.7, 1892.9, 6523.1,\n",
       "       5515.1, 3532.3, 6659.6, 3700.7, 5089.8, 2128.2, 4270.5, 5114.9,\n",
       "       4086.2, 5516.4, 4134.3, 5680.4, 2122.2,  311.4, 4344.8, 5134.9,\n",
       "       2254.1, 3043.1, 3796.4, 5371.5,  663.6, 6049.7, 5363.4, 5164.3,\n",
       "       3514. , 6678.3, 4420. ,  699.3, 2413.3, 5618.1, 6203.4, 4823.5,\n",
       "       4195.1, 5631.2,  387.9,  826.7, 5027.4, 6516. , 1225.9, 3449.9,\n",
       "       2043.7, 6289.8, 5689. , 1702.5, 4120.6, 2668.9, 4024.4, 6744.4,\n",
       "       5273.5, 6399.3, 2835.3, 4440.5, 3895.2, 5840.7, 5704.3, 4847.4,\n",
       "       1563.4, 5371.8, 3873.1,  698.9, 3098.9, 5598.1, 5175.9, 4472.8,\n",
       "       5686.3,  702.1, 1250.2, 1293.4, 5477.2, 5988.9, 1984. , 1415.3,\n",
       "       6659.2, 2554.2, 1593.6, 1772.7, 2719.8, 1542.7, 2377.9, 3022.9,\n",
       "       5776.6, 3861.8, 3423.8, 5034.4, 1573.3, 3092.2, 4479.5, 4123.3,\n",
       "       1885.6, 5537.3, 4186.6,  630.8, 4549.6, 5234.1, 3608.3,  369.5,\n",
       "       2751.8, 2815.8, 4308.1, 1250.2, 4190.2, 3929.9, 2408.3, 5910.2,\n",
       "       3108.1, 2633.3, 6609.4, 4616.3, 5546.1, 3993.1, 4110.2, 6065.2,\n",
       "       1763.1, 3847.2, 3644.5, 3990.2, 2690. ,  648.4, 2311.2, 2767.3,\n",
       "       2696.3, 6159.3, 5457.7, 2134.8, 2572.2, 2931.2,  572.6, 3814.2,\n",
       "        345.8, 5509.8, 2968.4,  654.2, 6767.4, 6537.1,  715.3, 5551.4,\n",
       "       3857.3, 5597.4, 2598.5, 4393.4, 1567.3, 1444.7, 1579.3, 6120.2,\n",
       "       1963.4, 3840.7, 4247.7, 6603.1, 2706.3, 2575.4, 5264.9, 6322.7,\n",
       "       1169.8, 3635.4, 1543.8, 3567.3, 3406.9, 5111.7, 5354.8, 1797. ,\n",
       "       7099.5, 2308.6, 5069.1, 4360.5, 1853. , 4076. , 3772.3, 2774.3,\n",
       "       2410.8, 5298.4, 1769.7, 4914.4, 6411.8, 1351.4, 2381.2, 4719.9,\n",
       "       1573.5, 3584.4, 4542.4, 2836.2, 6507.2, 1494.4,  291.5, 4923.5,\n",
       "       6590.5, 5648.3,  384.9, 3165.3, 5342.4, 2048.6, 4962.3, 5368.2,\n",
       "       6552.4, 4587.6, 1498.7, 5213.6, 4757.8, 1547.2, 5632.1, 3801.4,\n",
       "       1594.5,  898.4, 1356.3, 4314.7, 4784.9, 1595.1, 5546.3, 3485.4,\n",
       "       6594.2, 6560. ,  645.2, 2707.9, 5220.2,  874.5, 5418.3, 6065.4,\n",
       "       6082.4, 6952.5, 6176.2])"
      ]
     },
     "execution_count": 76,
     "metadata": {},
     "output_type": "execute_result"
    }
   ],
   "source": [
    "yk2"
   ]
  },
  {
   "cell_type": "markdown",
   "metadata": {
    "id": "LaFwJxCif5aq"
   },
   "source": [
    "###### Absolute error"
   ]
  },
  {
   "cell_type": "code",
   "execution_count": null,
   "metadata": {
    "colab": {
     "base_uri": "https://localhost:8080/"
    },
    "executionInfo": {
     "elapsed": 15,
     "status": "ok",
     "timestamp": 1649418910826,
     "user": {
      "displayName": "Brendan Crowley",
      "userId": "09355744342736110324"
     },
     "user_tz": -60
    },
    "id": "qyqGzDgDf5aq",
    "outputId": "eb4b1b5a-be4d-475d-b8cf-bae1a927dffc"
   },
   "outputs": [
    {
     "data": {
      "text/plain": [
       "306.98068535825547"
      ]
     },
     "execution_count": 77,
     "metadata": {},
     "output_type": "execute_result"
    }
   ],
   "source": [
    "mean_absolute_error(yk2, y_test)"
   ]
  },
  {
   "cell_type": "markdown",
   "metadata": {
    "id": "hb-st1Syf6CO"
   },
   "source": [
    "#### KNeighbors Regressor 3"
   ]
  },
  {
   "cell_type": "markdown",
   "metadata": {
    "id": "3n74Coanf6CO"
   },
   "source": [
    "###### Fit"
   ]
  },
  {
   "cell_type": "code",
   "execution_count": null,
   "metadata": {
    "id": "5bzfiHW9f6CP"
   },
   "outputs": [],
   "source": [
    "knn3.fit(X_train, y_train)\n",
    "yk3 = knn3.predict(X_test)"
   ]
  },
  {
   "cell_type": "markdown",
   "metadata": {
    "id": "uq6gN8s9f6CP"
   },
   "source": [
    "###### Results"
   ]
  },
  {
   "cell_type": "code",
   "execution_count": null,
   "metadata": {
    "colab": {
     "base_uri": "https://localhost:8080/"
    },
    "executionInfo": {
     "elapsed": 11,
     "status": "ok",
     "timestamp": 1649418910826,
     "user": {
      "displayName": "Brendan Crowley",
      "userId": "09355744342736110324"
     },
     "user_tz": -60
    },
    "id": "mcgkRgArf6CP",
    "outputId": "ea381433-447b-4ba9-9b25-87a361d7b11d"
   },
   "outputs": [
    {
     "data": {
      "text/plain": [
       "array([5178.35,  671.2 , 2075.75, 3040.35, 3402.15, 5539.  , 6439.  ,\n",
       "        695.  , 1582.65, 4600.4 , 6848.95, 5727.  , 4457.8 , 5088.  ,\n",
       "       5802.15, 1346.95, 1609.3 ,  564.35, 3972.7 , 1377.5 , 6279.7 ,\n",
       "       4416.5 ,  672.25, 4971.  , 2106.4 , 6635.3 ,  618.8 , 5276.05,\n",
       "       5253.9 , 4903.1 , 6425.75, 5540.15, 3189.4 , 7008.85, 5453.65,\n",
       "       6225.15, 4547.2 , 1299.75, 3713.2 , 1892.3 , 4417.6 , 5407.35,\n",
       "       2832.45, 1828.4 , 5349.6 , 3239.25,  837.  , 2510.1 , 6577.15,\n",
       "       6403.35, 6375.6 , 6727.4 , 5129.35, 4661.15, 5929.3 , 5308.25,\n",
       "       5312.05,  650.15, 1946.55, 1590.2 , 1579.95, 4108.4 , 5538.15,\n",
       "       5082.85, 6339.55, 5742.15, 3711.95,  581.65, 5494.15, 2754.1 ,\n",
       "       3134.75, 5558.25,  426.95,  691.4 , 3416.95, 3764.4 , 1573.25,\n",
       "       4191.2 , 1524.55, 4070.9 , 6717.9 , 3486.5 , 2012.3 , 6337.1 ,\n",
       "       1777.05, 5811.55, 5448.25, 1946.1 , 2704.1 , 6256.5 , 4760.8 ,\n",
       "       2287.4 , 2717.2 , 4048.3 , 4512.7 , 6378.55, 6944.5 , 3864.6 ,\n",
       "       2861.1 , 3840.9 , 2864.6 , 2286.65, 1561.8 , 3123.25, 6516.8 ,\n",
       "       5900.55, 5611.7 , 6091.  , 2803.1 , 5343.5 , 6510.9 , 4147.95,\n",
       "       1631.25, 5204.95, 1686.45, 6135.35, 1367.75, 6027.  , 4354.1 ,\n",
       "       4992.75, 3671.55, 3710.65, 5233.85, 1537.15, 6124.95, 3879.05,\n",
       "       4023.  , 2167.75, 1875.95, 6056.7 , 6909.2 , 3604.8 , 2660.75,\n",
       "        692.85, 2820.15, 4483.4 , 2825.15, 3669.  , 2815.  ,  687.6 ,\n",
       "       6840.35,  692.7 , 4729.35, 1577.  , 2837.3 , 4557.2 , 6791.  ,\n",
       "       1255.65, 4215.4 , 1506.3 , 2833.55, 3864.8 , 6671.4 , 2591.45,\n",
       "       3264.8 , 6201.  , 5942.9 , 2007.35, 6561.45, 6492.7 , 7264.7 ,\n",
       "       6803.1 , 6365.85, 6692.6 ,  673.  , 6085.1 , 4229.6 , 3619.15,\n",
       "       1888.55, 3633.05, 2756.25, 6176.5 , 5912.2 , 6871.65, 1007.8 ,\n",
       "       6948.5 , 3008.95, 5615.45, 2664.15, 3970.45, 4061.3 , 1084.75,\n",
       "       6075.15, 3663.6 ,  653.1 , 1901.55, 5260.3 ,  623.45, 1611.15,\n",
       "       2845.05, 5715.35, 5314.65, 4114.35, 4410.35,  510.1 , 5660.  ,\n",
       "       5585.15, 2588.55, 3859.7 , 2136.1 , 6279.55, 5513.75, 3929.6 ,\n",
       "       5782.3 , 3045.85, 1700.95, 5860.95, 1713.55, 2313.8 , 1450.15,\n",
       "       5681.45, 4042.2 , 1576.9 , 4058.4 , 6328.8 ,  524.15, 2564.55,\n",
       "       3698.65, 6941.15, 4731.5 , 5562.8 , 4100.55, 2792.25, 6440.  ,\n",
       "        950.  , 1538.05, 5204.05, 4220.  , 6101.3 , 4743.75, 4218.65,\n",
       "       2510.65, 2050.05, 4590.7 , 2932.55, 2741.  , 4250.9 , 2927.25,\n",
       "       5479.1 ,  653.55, 4562.35, 2040.35, 7044.35, 3714.15, 4095.45,\n",
       "       5824.05,  649.85, 2783.25, 2740.65, 6172.05, 2581.  , 3753.7 ,\n",
       "       2669.25, 5663.95, 3165.75, 6614.35, 4720.75, 4761.5 , 5085.9 ,\n",
       "       6018.45, 1214.7 , 1603.1 , 1829.35, 5158.3 , 4471.8 , 1583.85,\n",
       "       5981.45, 5697.7 , 6535.55, 4092.05, 5576.45, 2437.85, 2523.55,\n",
       "       5336.3 , 1884.95,  697.7 , 2696.95, 6502.  , 3685.45, 2713.9 ,\n",
       "       1586.9 , 5266.75, 4785.55, 2708.65, 1852.15, 3695.15, 4258.8 ,\n",
       "       5549.1 , 1318.15, 6180.35, 6887.7 , 3499.45, 3934.45,  331.65,\n",
       "        689.45, 5425.7 , 2897.8 , 1216.8 , 3436.85, 5696.05, 2587.45,\n",
       "       3632.25, 4768.7 , 1307.2 , 6949.55,  493.95,  574.15, 5856.5 ,\n",
       "        810.05, 5506.75, 3372.35, 3773.35, 5373.45, 2855.05, 4138.3 ,\n",
       "       5715.45, 2907.7 , 6034.65, 5260.6 , 6084.85, 1422.55, 1574.85,\n",
       "       4042.05,  785.35, 6025.8 , 6230.65,  416.7 , 2160.65,  674.45,\n",
       "       1937.75, 1285.6 , 3478.15, 2764.3 , 5771.85, 2104.8 ,  510.1 ,\n",
       "       6079.05,  676.3 , 6304.5 , 4036.75, 1586.05, 2465.5 , 2393.95,\n",
       "       1593.2 , 5541.  , 3491.1 , 3700.45, 2647.55,  429.05, 6278.9 ,\n",
       "       6508.3 , 3718.7 , 6644.45, 4225.7 , 4986.35, 5048.9 , 5774.75,\n",
       "        963.1 , 4722.85, 5470.5 , 5647.4 , 2522.6 , 2590.  , 5880.85,\n",
       "       3722.1 , 1453.65,  377.4 , 4911.65, 5515.1 ,  909.4 , 4765.2 ,\n",
       "       5231.95, 3938.55, 6007.2 , 6077.1 , 2613.8 , 5993.75, 1317.55,\n",
       "       5403.75, 6370.25, 4409.9 , 2703.45, 3975.9 , 1660.3 , 4225.6 ,\n",
       "       1519.6 , 1912.9 , 1530.1 , 5447.9 , 3810.05, 5551.95, 3170.4 ,\n",
       "       4457.3 ,  678.3 , 5757.65, 5150.2 , 6533.45, 4028.8 , 3776.2 ,\n",
       "       2651.95, 6957.15, 1718.95, 5598.95, 5587.85, 4987.75, 2106.4 ,\n",
       "       4537.  , 4189.8 , 4483.45, 6864.1 ,  705.  , 5990.6 , 6048.35,\n",
       "       2878.95, 3971.4 , 3588.85, 5198.25, 1330.25, 2717.15, 5210.25,\n",
       "       6507.9 , 4770.4 , 2804.1 , 2323.55, 1706.15, 5977.8 , 5198.4 ,\n",
       "       4948.3 , 4809.8 ,  549.15, 2082.6 ,  462.6 , 5168.85, 5547.  ,\n",
       "        593.8 , 4130.95, 7003.35, 6848.9 , 5952.55, 2959.45, 5613.05,\n",
       "       6033.  , 2957.05, 1471.55, 5275.8 , 5203.8 , 2024.  ,  614.1 ,\n",
       "       2234.5 , 2276.15, 1376.3 , 1497.25, 5201.85, 4049.45, 5115.15,\n",
       "        569.6 , 3958.7 , 5855.05, 4211.3 , 5575.05,  854.65, 3405.7 ,\n",
       "       6712.65, 5797.3 , 3819.75, 2588.8 , 5431.6 , 6158.05,  371.5 ,\n",
       "       5133.95,  479.8 , 1698.25, 2327.05, 4114.8 , 3467.9 , 2709.95,\n",
       "       6612.05, 6239.5 , 4144.  , 1744.8 , 4905.  , 1687.05, 5030.  ,\n",
       "       2100.85,  693.75, 2777.5 ,  688.55, 6580.1 , 6287.25, 4993.05,\n",
       "       2168.8 , 5712.55, 1633.65,  674.05, 2675.6 , 5522.6 , 4230.75,\n",
       "        455.35, 5258.95, 7026.25,  672.35, 5717.65, 2819.6 , 6052.4 ,\n",
       "       5077.45,  696.1 , 2132.4 , 5686.1 , 4869.05, 6547.55, 6438.  ,\n",
       "       6839.5 , 5238.05,  675.4 , 1306.9 , 1610.15, 4309.65, 5318.3 ,\n",
       "       2783.35, 2667.65, 2091.45, 5227.35, 5053.35,  357.35,  596.65,\n",
       "       3965.8 , 5909.1 , 2050.1 , 4052.3 , 5802.05, 2671.5 , 5611.25,\n",
       "       6368.45, 3738.25, 1587.15,  435.45, 4602.25, 6715.85, 2455.7 ,\n",
       "       4864.9 , 5375.15, 2031.85, 5206.35, 5403.85, 5283.2 , 4106.75,\n",
       "       6594.35, 6398.65, 1208.95, 6880.  , 6460.45, 2922.45, 1866.25,\n",
       "       3834.05, 1238.9 , 2382.95, 3878.05,  701.  , 3559.9 , 5827.95,\n",
       "       1768.  , 4387.95, 4501.05, 6705.5 , 5258.5 , 3610.95, 5960.75,\n",
       "       6224.2 , 5116.95, 6123.25, 4007.25, 1787.15,  704.85, 4293.05,\n",
       "       5679.65, 1555.4 , 3951.8 , 4275.9 , 1540.4 , 2105.6 , 5187.25,\n",
       "       1462.8 , 6058.9 , 3696.  , 6158.65, 2755.1 , 6611.15, 5902.7 ,\n",
       "       6440.2 , 3660.9 , 4771.65, 5509.35, 5576.1 , 3694.25, 6179.95,\n",
       "        641.1 ,  417.65, 4909.7 , 7100.6 , 6718.45, 3992.35, 1526.4 ,\n",
       "       5449.9 , 3872.45, 1604.65, 5535.55, 6541.75, 3863.6 , 6510.15,\n",
       "        459.6 , 3801.35, 6581.35, 1894.05, 2711.4 , 5599.75, 2240.85,\n",
       "       5265.85, 1547.05, 4205.  , 5566.25, 1541.55, 5611.75, 4331.15,\n",
       "       6020.75, 6882.9 , 6803.25, 4784.55, 4340.55, 4802.95, 4284.1 ,\n",
       "       5003.35, 3800.15, 3809.15, 2827.95, 5365.  , 5104.5 , 1538.9 ,\n",
       "       2351.6 , 3778.55, 5227.7 , 5642.05, 1842.6 , 1185.3 , 6534.05,\n",
       "       4587.6 , 3227.3 , 4928.3 , 5515.9 , 2908.35, 5568.4 , 5174.85,\n",
       "       2116.25, 2784.25, 5674.75, 4236.  , 2307.75, 4863.15, 1168.85,\n",
       "       4239.3 , 7018.15, 6687.5 , 1599.4 , 2750.  , 5067.15, 2635.5 ,\n",
       "       6844.2 , 5295.6 , 1627.3 , 2793.45, 6484.75, 5043.55, 4409.05,\n",
       "       5946.  , 1780.65, 3098.6 , 4594.5 , 6571.95, 4113.5 , 7023.6 ,\n",
       "       3942.25, 2713.05, 3811.25, 5122.9 , 5624.45, 1479.85, 1800.7 ,\n",
       "       5917.1 , 7236.45, 3565.65, 3786.9 , 1576.6 , 6317.9 , 1054.85,\n",
       "       2387.55, 4629.9 , 6656.75, 2404.  , 2659.2 ,  653.9 , 5267.  ,\n",
       "       1850.05, 6973.6 , 5455.9 , 5650.65, 3624.5 , 5788.65, 5389.35,\n",
       "        760.9 , 4962.95,  676.95, 6320.1 , 6276.05, 5781.  , 6827.9 ,\n",
       "       3757.9 , 4906.75, 6513.4 , 6689.3 , 6332.8 , 2568.2 , 1984.85,\n",
       "       4478.95, 2767.15, 6896.5 , 5112.5 , 4793.95, 6796.3 , 2625.25,\n",
       "       6902.85, 5110.3 , 5136.8 , 3637.85, 1830.75, 2879.15, 2739.55,\n",
       "       5120.7 ,  566.7 , 6157.9 , 6241.2 , 5234.7 , 5682.75, 2538.2 ,\n",
       "       1871.4 , 6643.1 , 5742.75, 3440.7 , 6542.15, 3772.6 , 4971.95,\n",
       "       2047.8 , 4025.55, 5080.85, 4362.35, 5370.05, 4134.85, 5744.95,\n",
       "       2105.55,  313.55, 4307.95, 5018.55, 2147.75, 2942.35, 3807.1 ,\n",
       "       5484.25,  680.95, 6222.  , 5411.75, 5269.55, 3530.3 , 6370.4 ,\n",
       "       4296.05,  700.6 , 2420.85, 5675.9 , 6207.55, 5032.85, 4288.35,\n",
       "       5559.95,  403.7 ,  830.75, 4950.55, 6521.  , 1190.45, 3301.65,\n",
       "       1926.8 , 5753.35, 5740.2 , 1639.9 , 4058.6 , 2719.55, 3943.45,\n",
       "       6876.2 , 5542.5 , 6524.45, 2764.7 , 4420.7 , 3868.4 , 5931.45,\n",
       "       5857.15, 5253.05, 1569.25, 5323.9 , 3919.95,  683.55, 3186.85,\n",
       "       5592.8 , 5315.7 , 4367.95, 5696.4 ,  691.75, 1243.35, 1313.25,\n",
       "       5477.05, 6019.4 , 2070.  , 1742.35, 6522.4 , 2699.25, 1673.9 ,\n",
       "       1879.85, 2819.25, 1614.25, 2231.8 , 3153.75, 6002.75, 3749.  ,\n",
       "       3438.85, 5192.1 , 1654.3 , 3251.35, 4417.15, 4316.05, 1862.15,\n",
       "       5497.25, 4252.  ,  655.75, 4638.95, 5196.95, 3668.35,  360.6 ,\n",
       "       2747.1 , 2831.8 , 4236.  , 1299.6 , 4133.3 , 3806.35, 2563.8 ,\n",
       "       5931.35, 3036.3 , 2654.5 , 6482.25, 4543.95, 5711.8 , 4058.75,\n",
       "       4159.35, 6467.9 , 1966.05, 3831.35, 3709.9 , 3982.6 , 2777.9 ,\n",
       "        612.6 , 2342.35, 2697.6 , 2813.5 , 6205.2 , 5294.9 , 2024.55,\n",
       "       2618.9 , 2795.4 ,  680.4 , 3818.2 ,  349.2 , 5636.7 , 2901.45,\n",
       "        650.35, 6844.55, 6486.55,  692.25, 5617.65, 3757.85, 5549.85,\n",
       "       2709.45, 4406.15, 1559.85, 1443.65, 1586.8 , 6252.05, 1949.7 ,\n",
       "       3922.45, 4128.75, 6601.05, 2632.75, 2539.15, 4881.35, 6224.  ,\n",
       "       1285.35, 3572.05, 1582.1 , 3601.1 , 3505.4 , 5167.55, 5235.55,\n",
       "       1803.55, 7146.9 , 2320.15, 5187.55, 4230.25, 1833.7 , 4053.  ,\n",
       "       3811.3 , 2748.2 , 2390.05, 5089.7 , 1665.85, 4978.15, 5980.4 ,\n",
       "       1406.2 , 2478.95, 4754.45, 1627.2 , 3617.65, 4123.3 , 2767.25,\n",
       "       6592.9 , 1491.6 ,  318.95, 4979.9 , 6621.7 , 5739.8 ,  378.4 ,\n",
       "       3284.05, 5232.5 , 2123.35, 5161.4 , 5274.95, 6670.85, 4539.  ,\n",
       "       1463.45, 5238.35, 5052.1 , 1475.7 , 5652.25, 3878.1 , 1584.35,\n",
       "        873.  , 1363.85, 4555.  , 4616.2 , 1575.7 , 5383.95, 3548.8 ,\n",
       "       6509.55, 6574.55,  645.25, 2724.25, 5307.1 ,  845.85, 5454.5 ,\n",
       "       6160.75, 6163.45, 6759.95, 5873.05])"
      ]
     },
     "execution_count": 79,
     "metadata": {},
     "output_type": "execute_result"
    }
   ],
   "source": [
    "yk3"
   ]
  },
  {
   "cell_type": "markdown",
   "metadata": {
    "id": "ZDLwKTKQf6CP"
   },
   "source": [
    "###### Absolute error"
   ]
  },
  {
   "cell_type": "code",
   "execution_count": null,
   "metadata": {
    "colab": {
     "base_uri": "https://localhost:8080/"
    },
    "executionInfo": {
     "elapsed": 7,
     "status": "ok",
     "timestamp": 1649418911118,
     "user": {
      "displayName": "Brendan Crowley",
      "userId": "09355744342736110324"
     },
     "user_tz": -60
    },
    "id": "R6TC6byHf6CP",
    "outputId": "47b29ca8-c50f-43c1-d53e-f0e5ae1c02b7"
   },
   "outputs": [
    {
     "data": {
      "text/plain": [
       "301.3296469366563"
      ]
     },
     "execution_count": 80,
     "metadata": {},
     "output_type": "execute_result"
    }
   ],
   "source": [
    "mean_absolute_error(yk3, y_test)"
   ]
  },
  {
   "cell_type": "markdown",
   "metadata": {
    "id": "MyWOKMHCgxYe"
   },
   "source": [
    "### GridSearchCV"
   ]
  },
  {
   "cell_type": "markdown",
   "metadata": {
    "id": "Rsk3TAgPgV-G"
   },
   "source": [
    "##### Parameter grid"
   ]
  },
  {
   "cell_type": "code",
   "execution_count": null,
   "metadata": {
    "id": "zqP5HVdCgxYe"
   },
   "outputs": [],
   "source": [
    "# Loss\n",
    "weights = [\"uniform\", \"distance\"]\n",
    "# Number of estimators\n",
    "n_neighbours = [1, 2, 5, 7, 10, 14, 15, 20]\n",
    "# Criterion for measuring quality of split\n",
    "p = [1, 2]\n",
    "# Minimum number of samples required to split a node\n",
    "leaf_size = [i for i in range(10, 50, 10)]\n",
    "# Create the random grid\n",
    "knn_grid = {'weights': weights,\n",
    "            'n_neighbors': n_neighbours,\n",
    "            'p': p,\n",
    "            'leaf_size': leaf_size}"
   ]
  },
  {
   "cell_type": "markdown",
   "metadata": {
    "id": "zz1k-zK2gYS1"
   },
   "source": [
    "##### GridSearchCV algorithm"
   ]
  },
  {
   "cell_type": "code",
   "execution_count": null,
   "metadata": {
    "colab": {
     "base_uri": "https://localhost:8080/"
    },
    "executionInfo": {
     "elapsed": 156262,
     "status": "ok",
     "timestamp": 1648983529417,
     "user": {
      "displayName": "Brendan Crowley",
      "userId": "09355744342736110324"
     },
     "user_tz": -60
    },
    "id": "17m8Q3BXeJZg",
    "outputId": "6ec4d270-7bd6-412e-9792-04da8b2f6bbf"
   },
   "outputs": [
    {
     "name": "stdout",
     "output_type": "stream",
     "text": [
      "Fitting 5 folds for each of 128 candidates, totalling 640 fits\n"
     ]
    },
    {
     "data": {
      "text/plain": [
       "GridSearchCV(cv=KFold(n_splits=5, random_state=None, shuffle=False),\n",
       "             estimator=KNeighborsRegressor(n_jobs=-1), n_jobs=-1,\n",
       "             param_grid={'leaf_size': [10, 20, 30, 40],\n",
       "                         'n_neighbors': [1, 2, 5, 7, 10, 14, 15, 20],\n",
       "                         'p': [1, 2], 'weights': ['uniform', 'distance']},\n",
       "             return_train_score=True, scoring='neg_mean_absolute_error',\n",
       "             verbose=4)"
      ]
     },
     "execution_count": 21,
     "metadata": {},
     "output_type": "execute_result"
    }
   ],
   "source": [
    "knn = KNeighborsRegressor(n_jobs=-1)\n",
    "\n",
    "knn_gs = GridSearchCV(estimator = knn, param_grid = knn_grid,\n",
    "                      scoring=\"neg_mean_absolute_error\",\n",
    "                      n_jobs=-1, cv=KFold(5), return_train_score=True,\n",
    "                      verbose=4)\n",
    "\n",
    "knn_gs.fit(X, y)"
   ]
  },
  {
   "cell_type": "code",
   "execution_count": null,
   "metadata": {
    "colab": {
     "base_uri": "https://localhost:8080/"
    },
    "executionInfo": {
     "elapsed": 39,
     "status": "ok",
     "timestamp": 1648983529418,
     "user": {
      "displayName": "Brendan Crowley",
      "userId": "09355744342736110324"
     },
     "user_tz": -60
    },
    "id": "ERC7EXLUeJiH",
    "outputId": "0e1be035-6755-4206-ebbb-2904b4e7fc9a"
   },
   "outputs": [
    {
     "data": {
      "text/plain": [
       "{'algorithm': 'auto',\n",
       " 'leaf_size': 10,\n",
       " 'metric': 'minkowski',\n",
       " 'metric_params': None,\n",
       " 'n_jobs': -1,\n",
       " 'n_neighbors': 20,\n",
       " 'p': 1,\n",
       " 'weights': 'distance'}"
      ]
     },
     "execution_count": 22,
     "metadata": {},
     "output_type": "execute_result"
    }
   ],
   "source": [
    "knn_gs.best_estimator_.get_params()"
   ]
  },
  {
   "cell_type": "markdown",
   "metadata": {
    "id": "yslyIeZ_gbyF"
   },
   "source": [
    "### 2. Best model"
   ]
  },
  {
   "cell_type": "markdown",
   "metadata": {
    "id": "3xprQXmPgbyF"
   },
   "source": [
    "##### Defining best model"
   ]
  },
  {
   "cell_type": "code",
   "execution_count": null,
   "metadata": {
    "id": "LN0W_L06geAe"
   },
   "outputs": [],
   "source": [
    "knn_best = KNeighborsRegressor(algorithm='auto', leaf_size=10, \n",
    "                               metric='minkowski', metric_params=None, \n",
    "                               n_jobs=-1, p=1, weights='distance')"
   ]
  },
  {
   "cell_type": "markdown",
   "metadata": {
    "id": "0F68GK__g67F"
   },
   "source": [
    "##### Cross validation (both accuracy and absolute error)"
   ]
  },
  {
   "cell_type": "code",
   "execution_count": null,
   "metadata": {
    "colab": {
     "base_uri": "https://localhost:8080/"
    },
    "executionInfo": {
     "elapsed": 1968,
     "status": "ok",
     "timestamp": 1649418867651,
     "user": {
      "displayName": "Brendan Crowley",
      "userId": "09355744342736110324"
     },
     "user_tz": -60
    },
    "id": "sBnDjfqxg67F",
    "outputId": "f04d3951-2ced-48eb-9afa-cad7b969497d"
   },
   "outputs": [
    {
     "name": "stderr",
     "output_type": "stream",
     "text": [
      "[Parallel(n_jobs=1)]: Using backend SequentialBackend with 1 concurrent workers.\n",
      "[Parallel(n_jobs=1)]: Done   1 out of   1 | elapsed:    0.2s remaining:    0.0s\n"
     ]
    },
    {
     "name": "stdout",
     "output_type": "stream",
     "text": [
      "[CV] END .................................................... total time=   0.2s\n",
      "[CV] END .................................................... total time=   0.2s\n",
      "[CV] END .................................................... total time=   0.2s\n",
      "[CV] END .................................................... total time=   0.2s\n",
      "[CV] END .................................................... total time=   0.2s\n",
      "[CV] END .................................................... total time=   0.2s\n"
     ]
    },
    {
     "name": "stderr",
     "output_type": "stream",
     "text": [
      "[Parallel(n_jobs=1)]: Done   5 out of   5 | elapsed:    0.8s finished\n",
      "[Parallel(n_jobs=1)]: Using backend SequentialBackend with 1 concurrent workers.\n",
      "[Parallel(n_jobs=1)]: Done   1 out of   1 | elapsed:    0.2s remaining:    0.0s\n"
     ]
    },
    {
     "name": "stdout",
     "output_type": "stream",
     "text": [
      "[CV] END .................................................... total time=   0.2s\n",
      "[CV] END .................................................... total time=   0.2s\n",
      "[CV] END .................................................... total time=   0.2s\n",
      "[CV] END .................................................... total time=   0.2s\n"
     ]
    },
    {
     "name": "stderr",
     "output_type": "stream",
     "text": [
      "[Parallel(n_jobs=1)]: Done   5 out of   5 | elapsed:    0.9s finished\n"
     ]
    },
    {
     "data": {
      "text/plain": [
       "(0.9238901692717343, -346.3115188195462)"
      ]
     },
     "execution_count": 64,
     "metadata": {},
     "output_type": "execute_result"
    }
   ],
   "source": [
    "(np.mean(cross_val_score(knn_best, X, y, cv=KFold(5), verbose=2)),\n",
    " np.mean(cross_val_score(knn_best, X, y, cv=KFold(5), verbose=2, scoring=\"neg_mean_absolute_error\")))"
   ]
  },
  {
   "cell_type": "markdown",
   "metadata": {
    "id": "UKKit7a2g67G"
   },
   "source": [
    "###### Fit"
   ]
  },
  {
   "cell_type": "code",
   "execution_count": null,
   "metadata": {
    "id": "bNUDwbtJg67G"
   },
   "outputs": [],
   "source": [
    "knn_best.fit(X_train, y_train)\n",
    "ybknn = knn_best.predict(X_test)"
   ]
  },
  {
   "cell_type": "markdown",
   "metadata": {
    "id": "wqbOF37bg67G"
   },
   "source": [
    "###### Results"
   ]
  },
  {
   "cell_type": "code",
   "execution_count": null,
   "metadata": {
    "colab": {
     "base_uri": "https://localhost:8080/"
    },
    "executionInfo": {
     "elapsed": 280,
     "status": "ok",
     "timestamp": 1649418870719,
     "user": {
      "displayName": "Brendan Crowley",
      "userId": "09355744342736110324"
     },
     "user_tz": -60
    },
    "id": "Adg0_-Uqg67G",
    "outputId": "b83e2654-361e-4a15-cffd-d939c10fc658"
   },
   "outputs": [
    {
     "data": {
      "text/plain": [
       "array([5376.44979017,  701.87257425, 2153.51084861, 3161.75779251,\n",
       "       3334.66238808, 5343.21560057, 6250.23689914,  675.00320328,\n",
       "       1496.26840723, 4304.83403693, 7140.27682663, 6200.1926661 ,\n",
       "       4648.13800993, 4554.63431667, 5539.92262326, 1399.84225884,\n",
       "       1617.86121026,  566.03552037, 4162.23938629, 1222.5059959 ,\n",
       "       6269.71984667, 4490.68095016,  677.91166079, 5336.6500824 ,\n",
       "       2445.38607356, 6905.20173927,  340.86180087, 5109.01010211,\n",
       "       5327.22182454, 5154.64671932, 6346.03993582, 5515.24103973,\n",
       "       2917.13351733, 6677.33379093, 5613.70154255, 6525.10301698,\n",
       "       4291.19712643, 1249.52236649, 3666.96027792, 1849.03001107,\n",
       "       4271.46528147, 5655.68225431, 2615.0679525 , 1847.7436953 ,\n",
       "       5142.28434374, 3187.04836719,  947.55259071, 2242.50985428,\n",
       "       6777.34732875, 6197.96978902, 6440.72152239, 6774.8255985 ,\n",
       "       5023.9617116 , 4913.9856626 , 6130.83415221, 5559.73018772,\n",
       "       5446.7599344 ,  694.9110202 , 1975.98957356, 1654.19028643,\n",
       "       1595.94984724, 4408.83485135, 5746.30430972, 4832.92292496,\n",
       "       6574.49863889, 5364.07807291, 3642.66936796,  631.71810248,\n",
       "       5080.65931921, 2774.82259914, 3114.14333999, 5451.74587038,\n",
       "        466.44552131,  672.52697174, 3180.04586093, 3819.14022139,\n",
       "       1556.61662891, 4586.46176245, 1535.53138251, 3907.9414682 ,\n",
       "       6594.37006629, 3414.36977333, 1867.66239486, 6118.15931986,\n",
       "       1778.23547884, 5967.38916165, 5267.27247974, 1905.41866338,\n",
       "       2664.77066211, 6328.64256361, 4639.49742236, 2506.78601539,\n",
       "       2734.69496586, 4062.14980937, 5140.53949152, 6418.40183073,\n",
       "       6824.0508081 , 3730.64352329, 3049.09109884, 4045.19723015,\n",
       "       2864.30485484, 2215.26689767, 1511.94076585, 3039.81634083,\n",
       "       6736.1636257 , 6144.72021514, 5840.12591519, 6410.16356977,\n",
       "       2847.42162846, 5223.34628242, 6318.44126551, 4038.7324115 ,\n",
       "       1639.43737488, 5130.62296033, 1725.66906083, 5522.36991262,\n",
       "       1248.80323184, 6096.41156872, 4716.00189234, 5230.71083091,\n",
       "       3549.55876197, 3642.03547262, 5458.44326924, 1504.50752699,\n",
       "       6481.54115578, 3898.83961121, 4188.68011222, 2137.10527138,\n",
       "       1806.02175296, 6247.73748676, 7004.06857521, 3155.78349532,\n",
       "       2640.6659546 ,  713.54887426, 2918.92874795, 4922.72647534,\n",
       "       2844.47901662, 3658.67635901, 2805.77619207,  665.31335391,\n",
       "       7274.13824426,  704.09012987, 5295.76815725, 1609.34989362,\n",
       "       2884.76850972, 4793.32247275, 6752.59311624, 1266.37565853,\n",
       "       4081.79966221, 1539.10716362, 2829.77262068, 3935.6502757 ,\n",
       "       7006.05177786, 2407.66978832, 3264.71799177, 6134.15192133,\n",
       "       5740.31102458, 2124.70903945, 6125.09384746, 6488.14249462,\n",
       "       7095.78924016, 7028.53723305, 6591.20138601, 6873.6633491 ,\n",
       "        664.36622809, 5568.1142249 , 4079.82336312, 3283.41660381,\n",
       "       1874.26226319, 3665.79033626, 2777.84924476, 6117.4161643 ,\n",
       "       6104.98283903, 7254.16354344,  813.66748912, 6939.1755427 ,\n",
       "       2981.89274992, 5713.172487  , 2646.67348919, 3938.67294829,\n",
       "       4162.04615138,  922.07674277, 5567.26369829, 3613.34220602,\n",
       "        638.38906908, 1442.33918189, 5162.68202665,  647.37285052,\n",
       "       1652.33170212, 2871.05380811, 5788.25210573, 5556.09588887,\n",
       "       4115.94211746, 4518.94850633,  490.45803863, 5878.56160619,\n",
       "       5309.04317367, 2593.77615668, 3721.98802143, 2137.57783885,\n",
       "       6762.84832993, 5493.77381317, 3582.69476335, 6141.12553451,\n",
       "       3062.03056303, 1581.8146273 , 5452.40700916, 1471.84935588,\n",
       "       2302.95444973, 1486.50768953, 5536.63898987, 3823.76591602,\n",
       "       1563.41365703, 4090.49745945, 6355.39535467,  462.33950994,\n",
       "       2517.84870352, 3500.27737846, 7074.09865403, 4658.84568289,\n",
       "       5558.73998735, 4051.5792291 , 2816.13553393, 6524.90619611,\n",
       "        934.36970103, 1568.79023946, 5127.62518794, 4242.65751312,\n",
       "       5585.70091093, 4370.4665829 , 4007.01296933, 2662.35551022,\n",
       "       2034.25348095, 4671.53421722, 3061.9827221 , 2804.11548085,\n",
       "       4259.80250422, 3000.07950036, 5453.86961515,  557.90364232,\n",
       "       4543.98923058, 2001.47353049, 7149.321804  , 3642.87545159,\n",
       "       4375.41073569, 5462.04836386,  649.51553217, 2819.12866115,\n",
       "       2706.14304425, 6143.93071373, 2331.21371741, 3267.58607559,\n",
       "       2589.61368383, 5495.82519391, 3365.5948326 , 6505.2938362 ,\n",
       "       4203.4427382 , 4907.96504459, 5361.42371496, 5775.45901187,\n",
       "       1152.36001907, 1574.25286375, 1777.03747061, 5453.43868092,\n",
       "       4613.87182593, 1569.79513801, 5984.64961692, 5466.68440526,\n",
       "       6589.67827286, 4493.40004487, 5719.34577864, 2607.00832999,\n",
       "       2497.38210149, 5443.40738331, 1951.71627307,  698.37725053,\n",
       "       2618.01812367, 6482.308807  , 3602.03859062, 2734.0083009 ,\n",
       "       1494.15730896, 5344.76943602, 4581.96854734, 2694.7659687 ,\n",
       "       1836.13885355, 3786.67796669, 4278.12774795, 5822.18678913,\n",
       "       1241.05916162, 6190.20762181, 7227.75284871, 3373.88487332,\n",
       "       3826.59290742,  277.90983189,  704.21916776, 5423.05690534,\n",
       "       2908.54506285, 1192.98703551, 3236.14445693, 5567.0130539 ,\n",
       "       2226.95540301, 3746.99403548, 5060.0046403 , 1310.69188482,\n",
       "       7266.89871644,  380.95221249,  580.39641595, 6086.30480516,\n",
       "        827.99736068, 5656.32812658, 3111.42001643, 3664.10775349,\n",
       "       4879.13309681, 2867.08668828, 4392.70271041, 5766.2545785 ,\n",
       "       3038.5277197 , 6261.20558655, 4976.64688587, 5483.65545131,\n",
       "       1442.95386765, 1747.32489352, 4131.65008974,  529.61390753,\n",
       "       6043.11213103, 6057.57516951,  381.53439899, 2183.43042064,\n",
       "        695.08068175, 1685.82549424, 1242.65730129, 3608.8800987 ,\n",
       "       2790.90630883, 5847.77394309, 2034.96507386,  472.89038988,\n",
       "       6300.63014516,  653.0925907 , 6165.08631689, 4271.9761216 ,\n",
       "       1596.32583839, 2336.92850204, 2360.06498636, 1468.73312904,\n",
       "       5365.07527491, 3499.47642761, 3681.40178933, 2729.39934302,\n",
       "        278.05619053, 6409.17645661, 6838.12481662, 3523.81074779,\n",
       "       6744.45929374, 4300.3101502 , 5224.2514115 , 4807.04416295,\n",
       "       6416.54096299,  933.04185046, 4557.86469554, 5462.7865712 ,\n",
       "       6053.44522287, 2451.91018867, 2561.85912745, 5911.73186828,\n",
       "       3810.08158711, 1561.30715823,  303.57368914, 4558.90562993,\n",
       "       5709.87338436,  922.35217855, 4778.50905111, 5344.08073363,\n",
       "       4024.63914634, 6495.25404561, 6070.23603517, 2573.08280075,\n",
       "       5993.79897386, 1323.19537738, 5199.21479655, 6138.84282025,\n",
       "       4309.1838734 , 2712.5084841 , 3920.50427808, 1570.80969471,\n",
       "       3768.42941567, 1533.17073046, 1990.24903201, 1572.49352965,\n",
       "       5605.90861641, 3820.62758651, 5899.7281806 , 3156.75490976,\n",
       "       4635.75158008,  678.45907025, 6188.00613672, 4408.38194465,\n",
       "       6394.49748696, 4135.96235822, 3782.49281126, 2728.49018302,\n",
       "       7107.13378411, 1595.53536122, 5747.56819517, 5789.2744382 ,\n",
       "       5099.76846393, 2245.50850055, 4593.94521227, 4292.10793687,\n",
       "       4347.06546074, 6731.05659765,  704.50214168, 6154.55859125,\n",
       "       6295.83925872, 2759.98367805, 4110.33227454, 3735.07127521,\n",
       "       5124.40881349, 1266.34934978, 2635.0055865 , 4957.47806311,\n",
       "       6629.76690253, 4657.0472937 , 2814.27688949, 2254.64493639,\n",
       "       1646.88074613, 6440.85071125, 5546.6336787 , 4779.72227977,\n",
       "       5026.06830284,  547.63801319, 1936.46420387,  471.4419989 ,\n",
       "       5108.49682804, 5232.11973724,  515.39314485, 4581.80742174,\n",
       "       7046.67986447, 6897.28894984, 6065.85995924, 2886.73466095,\n",
       "       5772.64135385, 6090.33944172, 3186.52619847, 1431.24821436,\n",
       "       4098.05068303, 5185.34645751, 1929.65249824,  648.57075051,\n",
       "       2252.27063209, 2097.54711243, 1330.16167942, 1459.29554088,\n",
       "       4555.34767807, 3937.60158378, 5020.65503123,  518.1533105 ,\n",
       "       4155.71115601, 5912.95362097, 4079.49073501, 5402.62900186,\n",
       "        808.09182568, 3326.74061812, 6758.05102536, 5645.13025897,\n",
       "       3849.32649808, 2358.63531555, 5317.13764522, 6423.41805079,\n",
       "        353.05318741, 5345.53226415,  430.77871944, 1728.85299194,\n",
       "       2266.29238738, 4378.67686434, 3384.63123118, 2740.5720803 ,\n",
       "       6601.3509936 , 6161.11605535, 4109.56447312, 1805.33705751,\n",
       "       5002.19286507, 1789.49040814, 5186.3692823 , 1896.27301519,\n",
       "        719.02080337, 2702.98968806,  680.06141962, 6716.43707978,\n",
       "       6270.2575868 , 4840.22193135, 2012.83773984, 6031.86036178,\n",
       "       1406.76765819,  670.77264467, 2482.27994455, 5047.60199024,\n",
       "       4556.82183657,  435.82355913, 5385.06792606, 7066.69232335,\n",
       "        677.78422587, 5137.11409248, 2774.51102854, 6128.4995014 ,\n",
       "       5421.64504657,  695.32144352, 2173.40350036, 5712.38261072,\n",
       "       4930.11045312, 6636.76323242, 6423.08707873, 7241.5751857 ,\n",
       "       5645.81969554,  684.6231724 , 1222.47674661, 1657.81859466,\n",
       "       4327.03153518, 5049.27927069, 2744.46036867, 3003.39977011,\n",
       "       2033.38146052, 5258.23496653, 5110.37300216,  353.89531091,\n",
       "        487.23872891, 3987.62052029, 6035.09533994, 1875.38772314,\n",
       "       4125.59919353, 6248.23045474, 2948.90933258, 5721.69735225,\n",
       "       6284.57176378, 3536.13800804, 1598.73463164,  475.49331655,\n",
       "       4739.70650625, 6804.03540633, 2522.40404292, 4936.76295553,\n",
       "       5853.24280439, 2103.05184619, 5212.72134185, 5166.30819166,\n",
       "       5464.93481089, 3844.98267953, 6438.93105345, 6105.97508291,\n",
       "       1249.71175345, 6777.91999432, 6279.59567687, 2956.90987293,\n",
       "       2134.9039728 , 3419.27072489, 1320.70335484, 2500.43249751,\n",
       "       3864.07505085,  698.46171301, 3527.33938317, 6225.21080828,\n",
       "       1827.93282435, 3995.88818874, 4045.28323823, 6991.75840069,\n",
       "       5661.10866409, 3017.01183272, 6190.5153355 , 6467.95443348,\n",
       "       5254.50812396, 6250.17084348, 3920.30113215, 1852.84724752,\n",
       "        744.00587541, 4138.15343894, 5702.59449835, 1478.66351611,\n",
       "       3980.40716632, 4330.11070542, 1551.8578681 , 2069.01131071,\n",
       "       5634.66421223, 1352.06287669, 6016.98791684, 3658.84285886,\n",
       "       6594.67783453, 2769.53059246, 6658.5283951 , 6173.21192083,\n",
       "       6204.25350044, 3452.98311768, 5171.34315652, 5365.52498004,\n",
       "       5358.81339504, 3651.79249998, 6208.81384145,  652.49762792,\n",
       "        419.7856133 , 4854.22409055, 7196.47163099, 6943.81917336,\n",
       "       3818.36393263, 1547.09518412, 5954.30654037, 3822.74191602,\n",
       "       1486.91257803, 6063.67100197, 6643.52040675, 3649.80806681,\n",
       "       6312.08406039,  432.9512487 , 3493.8362302 , 6810.7852659 ,\n",
       "       2009.23725808, 2678.28013276, 5645.62207521, 2175.7950534 ,\n",
       "       5224.05050095, 1363.76695954, 4217.19878993, 5655.92774414,\n",
       "       1650.68913773, 5352.58476918, 4463.47178522, 6123.57841374,\n",
       "       6951.50796686, 6918.49466462, 5025.74941307, 4313.10535192,\n",
       "       4820.7493008 , 4332.9137198 , 4867.68660311, 3926.70392026,\n",
       "       3895.39997097, 2902.60047585, 5576.54987843, 4676.72828448,\n",
       "       1576.43913023, 2287.31136949, 3799.4282446 , 5160.85500707,\n",
       "       5289.66873607, 1902.68320694, 1287.05299899, 6838.76515936,\n",
       "       4588.67888209, 3493.07653225, 5079.03703401, 5651.99202904,\n",
       "       2915.32200848, 5766.15488873, 5253.53805137, 2227.18187548,\n",
       "       2897.87097016, 5092.31518094, 4283.81639784, 2321.4489926 ,\n",
       "       4646.33941765, 1227.38222794, 4239.58228766, 7095.34356987,\n",
       "       6737.31420513, 1633.85248394, 2461.47564926, 5329.26560739,\n",
       "       2481.41962709, 6663.64322708, 5852.87202937, 1563.49952392,\n",
       "       2921.55982436, 6269.81580745, 4815.06601412, 4335.33206952,\n",
       "       6193.9145769 , 1553.13570442, 3316.44521443, 4734.17293754,\n",
       "       6718.11555162, 4354.5421163 , 7232.25193333, 4009.35867845,\n",
       "       2612.9805863 , 3849.39918855, 5295.96125888, 6420.85079687,\n",
       "       1581.85905302, 1776.54444381, 5763.67125696, 7554.02822016,\n",
       "       3622.68828756, 3550.26999257, 1540.13953059, 6224.45795728,\n",
       "        718.10269085, 2555.72987658, 4615.5529985 , 6430.66778834,\n",
       "       2232.89181395, 2842.28041578,  633.04924699, 5226.57809088,\n",
       "       1720.10837456, 7201.67123759, 5349.91684913, 5835.98628391,\n",
       "       3782.76848151, 5829.41788823, 5407.61130574,  716.63790598,\n",
       "       4802.09684543,  675.49579433, 6154.17088632, 6608.50307166,\n",
       "       5493.95402637, 6820.17289048, 3771.38024744, 4938.14885645,\n",
       "       6370.39525802, 6879.05935569, 6559.36687042, 2610.74501178,\n",
       "       2019.52154171, 4318.16829122, 2699.88804828, 7155.30527684,\n",
       "       5435.99121186, 4859.76972358, 7352.36080663, 2675.00635771,\n",
       "       7002.12304161, 5198.73026806, 5155.08627362, 3508.32254854,\n",
       "       1669.58170501, 2870.58872891, 2922.79518256, 4995.39397177,\n",
       "        543.87645866, 5389.96522477, 6359.43875629, 5298.64036025,\n",
       "       5810.11734887, 2642.03159085, 2204.97381917, 6107.46799355,\n",
       "       5499.6985543 , 3148.98076286, 6841.42170852, 3768.47559044,\n",
       "       5212.5736245 , 2041.26583577, 4365.65260985, 4890.33856383,\n",
       "       3875.18629143, 5435.76096552, 4245.41157812, 6032.30607347,\n",
       "       2060.74092954,  337.87535225, 4193.43847829, 4921.98949313,\n",
       "       2238.60338364, 3051.27127103, 3940.39763842, 4997.11562337,\n",
       "        680.35938922, 6304.04509613, 5173.85321744, 5131.71710492,\n",
       "       3682.10068842, 6793.69288136, 4220.77411727,  696.33134592,\n",
       "       2405.38129831, 5107.32906798, 6103.52436639, 4837.70019518,\n",
       "       4366.29261046, 5585.21483875,  385.16591342,  773.3857588 ,\n",
       "       5002.71818711, 6499.77462269, 1369.19798118, 3550.94702233,\n",
       "       2030.34402624, 6145.5196538 , 5686.23000057, 1661.88523187,\n",
       "       4163.81739545, 2652.95193095, 4088.96732471, 7057.25603012,\n",
       "       5674.36329548, 6593.97619322, 2840.19166323, 4396.3653238 ,\n",
       "       4039.95240841, 5681.43358647, 5353.32598678, 5268.59252349,\n",
       "       1586.13423525, 5255.44927634, 3717.47446258,  695.57219378,\n",
       "       3166.9284354 , 5806.63576503, 5204.85806385, 4404.17355885,\n",
       "       5602.02222014,  693.62635587, 1330.01066305, 1314.77281551,\n",
       "       5063.11259304, 6316.11402814, 1935.80978594, 1504.38989295,\n",
       "       6755.45176704, 2672.83965681, 1570.68859135, 1764.9274996 ,\n",
       "       2901.94134045, 1591.37673024, 2383.67333076, 2947.01273475,\n",
       "       5777.90030551, 3556.67789101, 3126.21868259, 5177.95677833,\n",
       "       1590.91320777, 3205.43472805, 4535.98103539, 4188.81510077,\n",
       "       1932.02020225, 6407.93915018, 4355.27996292,  671.79509609,\n",
       "       4238.21740062, 5667.56746501, 3523.0999912 ,  336.83394895,\n",
       "       2730.99684075, 2727.79848711, 4388.5013399 , 1242.91225473,\n",
       "       4178.91666789, 3796.74027811, 2611.30676912, 5527.45704297,\n",
       "       2972.42598176, 2714.57607176, 6486.16939303, 4329.72642868,\n",
       "       5938.75280083, 4135.93591659, 4236.46819739, 6220.44906904,\n",
       "       1792.83743453, 3824.58345027, 3659.16450693, 4019.86443235,\n",
       "       2674.02265576,  662.32068631, 2203.15637216, 2866.81093898,\n",
       "       2906.54860022, 6069.21427966, 5407.29187702, 1897.97624795,\n",
       "       2535.07934976, 2923.2360004 ,  625.99756091, 3987.97119417,\n",
       "        350.03220692, 5870.21518248, 2957.95760553,  651.50387017,\n",
       "       7054.60912444, 6244.76069868,  702.13325063, 5286.03375674,\n",
       "       3780.64157237, 5688.44243354, 2595.83168393, 4492.97471576,\n",
       "       1558.2645743 , 1450.42489403, 1625.1301983 , 6033.71212787,\n",
       "       1731.66385203, 3830.63752839, 4000.9072037 , 6473.82702222,\n",
       "       2545.20988808, 2768.72311033, 3332.90343838, 6012.23651238,\n",
       "        996.38769199, 3701.58721235, 1474.35900334, 3664.31269233,\n",
       "       3067.36633288, 5071.38210487, 5325.31982105, 1555.54879295,\n",
       "       7445.7505531 , 2248.57820704, 5106.56509682, 4499.35576987,\n",
       "       1855.33543523, 3979.78009257, 3620.77569978, 2853.20455266,\n",
       "       2433.82109702, 5636.79419687, 1844.72222888, 4922.82656006,\n",
       "       6023.89394787, 1319.64725672, 2218.21862604, 4570.74624528,\n",
       "       1621.94368998, 3531.89043101, 4468.13666605, 2820.99063985,\n",
       "       6738.17872502, 1423.52759822,  277.82565593, 5110.92486225,\n",
       "       6816.98640237, 5463.56019906,  344.27535015, 3146.82177143,\n",
       "       5212.66546593, 2040.74145226, 4791.3863188 , 5257.50527478,\n",
       "       6737.48885507, 4773.01246115, 1359.78457029, 5302.28561775,\n",
       "       5084.46479845, 1600.54525674, 5991.32907862, 3822.63537436,\n",
       "       1591.59269935,  893.37935492, 1237.61306627, 3255.9180015 ,\n",
       "       4637.3119288 , 1596.64906943, 5356.59116315, 3383.7512445 ,\n",
       "       6727.56579681, 6443.66432682,  688.82287524, 2860.48870019,\n",
       "       5172.66062394,  858.18502143, 5675.17192781, 6056.47655732,\n",
       "       6316.53361105, 6468.38338644, 6566.67257048])"
      ]
     },
     "execution_count": 66,
     "metadata": {},
     "output_type": "execute_result"
    }
   ],
   "source": [
    "ybknn"
   ]
  },
  {
   "cell_type": "markdown",
   "metadata": {
    "id": "SBVWonv_g67G"
   },
   "source": [
    "###### Absolute error"
   ]
  },
  {
   "cell_type": "code",
   "execution_count": null,
   "metadata": {
    "colab": {
     "base_uri": "https://localhost:8080/"
    },
    "executionInfo": {
     "elapsed": 7,
     "status": "ok",
     "timestamp": 1649418871714,
     "user": {
      "displayName": "Brendan Crowley",
      "userId": "09355744342736110324"
     },
     "user_tz": -60
    },
    "id": "hLZJSuPwg67G",
    "outputId": "65ac334a-6067-44c8-fb80-082fc11bf011"
   },
   "outputs": [
    {
     "data": {
      "text/plain": [
       "290.824070365135"
      ]
     },
     "execution_count": 67,
     "metadata": {},
     "output_type": "execute_result"
    }
   ],
   "source": [
    "mean_absolute_error(ybknn, y_test)"
   ]
  },
  {
   "cell_type": "markdown",
   "metadata": {
    "id": "iKlU4Omx0JRf"
   },
   "source": [
    "### Test 2 (on df2)"
   ]
  },
  {
   "cell_type": "code",
   "execution_count": 83,
   "metadata": {
    "id": "nX2W9Nww0JRf"
   },
   "outputs": [],
   "source": [
    "X = df2[(list(df2.columns[3:-1]))+[\"Month\"]]\n",
    "y = df2[\"Raw milk price\"]\n",
    "\n",
    "stratify = df2[\"Month\"]\n",
    "\n",
    "X_train, X_test, y_train, y_test = train_test_split(X, y, random_state=22122,\n",
    "                                                    stratify=stratify)"
   ]
  },
  {
   "cell_type": "code",
   "execution_count": 84,
   "metadata": {
    "id": "DOoF3KoF0JRg",
    "outputId": "cd261f61-fba8-48c2-c0c0-3a3693e9c578"
   },
   "outputs": [
    {
     "data": {
      "text/html": [
       "<div>\n",
       "<style scoped>\n",
       "    .dataframe tbody tr th:only-of-type {\n",
       "        vertical-align: middle;\n",
       "    }\n",
       "\n",
       "    .dataframe tbody tr th {\n",
       "        vertical-align: top;\n",
       "    }\n",
       "\n",
       "    .dataframe thead th {\n",
       "        text-align: right;\n",
       "    }\n",
       "</style>\n",
       "<table border=\"1\" class=\"dataframe\">\n",
       "  <thead>\n",
       "    <tr style=\"text-align: right;\">\n",
       "      <th></th>\n",
       "      <th>Butter</th>\n",
       "      <th>Cheese</th>\n",
       "      <th>Domestic milk intake</th>\n",
       "      <th>Fat content (Percent)</th>\n",
       "      <th>Heifers 200-249kg</th>\n",
       "      <th>Heifers 250-299kg</th>\n",
       "      <th>Heifers 300-349kg</th>\n",
       "      <th>Heifers 350-399kg</th>\n",
       "      <th>Heifers 400-449kg</th>\n",
       "      <th>Imported milk intake</th>\n",
       "      <th>Skimmed milk sales</th>\n",
       "      <th>Skimmed milk powder</th>\n",
       "      <th>Whole milk sales</th>\n",
       "      <th>Month</th>\n",
       "    </tr>\n",
       "  </thead>\n",
       "  <tbody>\n",
       "    <tr>\n",
       "      <th>0</th>\n",
       "      <td>3.8</td>\n",
       "      <td>1.3</td>\n",
       "      <td>123.0</td>\n",
       "      <td>3.87</td>\n",
       "      <td>363.58</td>\n",
       "      <td>431.76</td>\n",
       "      <td>520.38</td>\n",
       "      <td>574.80</td>\n",
       "      <td>661.13</td>\n",
       "      <td>54.6</td>\n",
       "      <td>12.3</td>\n",
       "      <td>2.4</td>\n",
       "      <td>32.1</td>\n",
       "      <td>1</td>\n",
       "    </tr>\n",
       "    <tr>\n",
       "      <th>1</th>\n",
       "      <td>5.0</td>\n",
       "      <td>2.4</td>\n",
       "      <td>185.4</td>\n",
       "      <td>3.87</td>\n",
       "      <td>386.08</td>\n",
       "      <td>462.94</td>\n",
       "      <td>539.81</td>\n",
       "      <td>587.47</td>\n",
       "      <td>646.99</td>\n",
       "      <td>38.0</td>\n",
       "      <td>12.6</td>\n",
       "      <td>1.9</td>\n",
       "      <td>29.3</td>\n",
       "      <td>2</td>\n",
       "    </tr>\n",
       "    <tr>\n",
       "      <th>2</th>\n",
       "      <td>10.1</td>\n",
       "      <td>10.2</td>\n",
       "      <td>386.5</td>\n",
       "      <td>3.80</td>\n",
       "      <td>409.33</td>\n",
       "      <td>474.93</td>\n",
       "      <td>539.83</td>\n",
       "      <td>603.81</td>\n",
       "      <td>670.93</td>\n",
       "      <td>35.8</td>\n",
       "      <td>12.8</td>\n",
       "      <td>5.0</td>\n",
       "      <td>32.4</td>\n",
       "      <td>3</td>\n",
       "    </tr>\n",
       "    <tr>\n",
       "      <th>3</th>\n",
       "      <td>14.8</td>\n",
       "      <td>17.6</td>\n",
       "      <td>581.0</td>\n",
       "      <td>3.59</td>\n",
       "      <td>399.75</td>\n",
       "      <td>457.74</td>\n",
       "      <td>535.86</td>\n",
       "      <td>625.49</td>\n",
       "      <td>690.35</td>\n",
       "      <td>38.7</td>\n",
       "      <td>12.1</td>\n",
       "      <td>10.1</td>\n",
       "      <td>30.4</td>\n",
       "      <td>4</td>\n",
       "    </tr>\n",
       "    <tr>\n",
       "      <th>4</th>\n",
       "      <td>19.1</td>\n",
       "      <td>19.3</td>\n",
       "      <td>688.3</td>\n",
       "      <td>3.62</td>\n",
       "      <td>398.11</td>\n",
       "      <td>461.66</td>\n",
       "      <td>536.39</td>\n",
       "      <td>607.95</td>\n",
       "      <td>673.32</td>\n",
       "      <td>46.9</td>\n",
       "      <td>12.8</td>\n",
       "      <td>13.2</td>\n",
       "      <td>31.8</td>\n",
       "      <td>5</td>\n",
       "    </tr>\n",
       "    <tr>\n",
       "      <th>...</th>\n",
       "      <td>...</td>\n",
       "      <td>...</td>\n",
       "      <td>...</td>\n",
       "      <td>...</td>\n",
       "      <td>...</td>\n",
       "      <td>...</td>\n",
       "      <td>...</td>\n",
       "      <td>...</td>\n",
       "      <td>...</td>\n",
       "      <td>...</td>\n",
       "      <td>...</td>\n",
       "      <td>...</td>\n",
       "      <td>...</td>\n",
       "      <td>...</td>\n",
       "    </tr>\n",
       "    <tr>\n",
       "      <th>175</th>\n",
       "      <td>28.8</td>\n",
       "      <td>29.3</td>\n",
       "      <td>917.4</td>\n",
       "      <td>4.19</td>\n",
       "      <td>480.00</td>\n",
       "      <td>598.07</td>\n",
       "      <td>689.20</td>\n",
       "      <td>801.61</td>\n",
       "      <td>913.59</td>\n",
       "      <td>0.0</td>\n",
       "      <td>15.8</td>\n",
       "      <td>16.4</td>\n",
       "      <td>29.0</td>\n",
       "      <td>8</td>\n",
       "    </tr>\n",
       "    <tr>\n",
       "      <th>176</th>\n",
       "      <td>26.5</td>\n",
       "      <td>33.2</td>\n",
       "      <td>776.7</td>\n",
       "      <td>4.43</td>\n",
       "      <td>450.74</td>\n",
       "      <td>570.54</td>\n",
       "      <td>694.88</td>\n",
       "      <td>804.71</td>\n",
       "      <td>915.68</td>\n",
       "      <td>0.0</td>\n",
       "      <td>15.1</td>\n",
       "      <td>11.1</td>\n",
       "      <td>26.6</td>\n",
       "      <td>9</td>\n",
       "    </tr>\n",
       "    <tr>\n",
       "      <th>177</th>\n",
       "      <td>21.6</td>\n",
       "      <td>27.5</td>\n",
       "      <td>652.8</td>\n",
       "      <td>4.77</td>\n",
       "      <td>516.00</td>\n",
       "      <td>529.67</td>\n",
       "      <td>656.53</td>\n",
       "      <td>777.37</td>\n",
       "      <td>890.95</td>\n",
       "      <td>0.0</td>\n",
       "      <td>15.8</td>\n",
       "      <td>5.5</td>\n",
       "      <td>26.1</td>\n",
       "      <td>10</td>\n",
       "    </tr>\n",
       "    <tr>\n",
       "      <th>178</th>\n",
       "      <td>17.8</td>\n",
       "      <td>20.9</td>\n",
       "      <td>460.6</td>\n",
       "      <td>4.90</td>\n",
       "      <td>419.66</td>\n",
       "      <td>547.42</td>\n",
       "      <td>641.39</td>\n",
       "      <td>762.83</td>\n",
       "      <td>888.34</td>\n",
       "      <td>0.0</td>\n",
       "      <td>15.4</td>\n",
       "      <td>0.0</td>\n",
       "      <td>25.5</td>\n",
       "      <td>11</td>\n",
       "    </tr>\n",
       "    <tr>\n",
       "      <th>179</th>\n",
       "      <td>12.2</td>\n",
       "      <td>7.5</td>\n",
       "      <td>256.3</td>\n",
       "      <td>4.74</td>\n",
       "      <td>490.37</td>\n",
       "      <td>623.57</td>\n",
       "      <td>693.47</td>\n",
       "      <td>806.00</td>\n",
       "      <td>912.35</td>\n",
       "      <td>0.0</td>\n",
       "      <td>15.0</td>\n",
       "      <td>7.4</td>\n",
       "      <td>25.2</td>\n",
       "      <td>12</td>\n",
       "    </tr>\n",
       "  </tbody>\n",
       "</table>\n",
       "<p>180 rows × 14 columns</p>\n",
       "</div>"
      ],
      "text/plain": [
       "     Butter  Cheese  Domestic milk intake  Fat content (Percent)  \\\n",
       "0       3.8     1.3                 123.0                   3.87   \n",
       "1       5.0     2.4                 185.4                   3.87   \n",
       "2      10.1    10.2                 386.5                   3.80   \n",
       "3      14.8    17.6                 581.0                   3.59   \n",
       "4      19.1    19.3                 688.3                   3.62   \n",
       "..      ...     ...                   ...                    ...   \n",
       "175    28.8    29.3                 917.4                   4.19   \n",
       "176    26.5    33.2                 776.7                   4.43   \n",
       "177    21.6    27.5                 652.8                   4.77   \n",
       "178    17.8    20.9                 460.6                   4.90   \n",
       "179    12.2     7.5                 256.3                   4.74   \n",
       "\n",
       "     Heifers 200-249kg  Heifers 250-299kg  Heifers 300-349kg  \\\n",
       "0               363.58             431.76             520.38   \n",
       "1               386.08             462.94             539.81   \n",
       "2               409.33             474.93             539.83   \n",
       "3               399.75             457.74             535.86   \n",
       "4               398.11             461.66             536.39   \n",
       "..                 ...                ...                ...   \n",
       "175             480.00             598.07             689.20   \n",
       "176             450.74             570.54             694.88   \n",
       "177             516.00             529.67             656.53   \n",
       "178             419.66             547.42             641.39   \n",
       "179             490.37             623.57             693.47   \n",
       "\n",
       "     Heifers 350-399kg  Heifers 400-449kg  Imported milk intake  \\\n",
       "0               574.80             661.13                  54.6   \n",
       "1               587.47             646.99                  38.0   \n",
       "2               603.81             670.93                  35.8   \n",
       "3               625.49             690.35                  38.7   \n",
       "4               607.95             673.32                  46.9   \n",
       "..                 ...                ...                   ...   \n",
       "175             801.61             913.59                   0.0   \n",
       "176             804.71             915.68                   0.0   \n",
       "177             777.37             890.95                   0.0   \n",
       "178             762.83             888.34                   0.0   \n",
       "179             806.00             912.35                   0.0   \n",
       "\n",
       "     Skimmed milk sales  Skimmed milk powder  Whole milk sales  Month  \n",
       "0                  12.3                  2.4              32.1      1  \n",
       "1                  12.6                  1.9              29.3      2  \n",
       "2                  12.8                  5.0              32.4      3  \n",
       "3                  12.1                 10.1              30.4      4  \n",
       "4                  12.8                 13.2              31.8      5  \n",
       "..                  ...                  ...               ...    ...  \n",
       "175                15.8                 16.4              29.0      8  \n",
       "176                15.1                 11.1              26.6      9  \n",
       "177                15.8                  5.5              26.1     10  \n",
       "178                15.4                  0.0              25.5     11  \n",
       "179                15.0                  7.4              25.2     12  \n",
       "\n",
       "[180 rows x 14 columns]"
      ]
     },
     "execution_count": 84,
     "metadata": {},
     "output_type": "execute_result"
    }
   ],
   "source": [
    "X"
   ]
  },
  {
   "cell_type": "code",
   "execution_count": 85,
   "metadata": {
    "id": "HUVoIroD0JRg",
    "outputId": "db5c2679-73e9-418c-8790-4eebde254d16"
   },
   "outputs": [
    {
     "data": {
      "text/html": [
       "<div>\n",
       "<style scoped>\n",
       "    .dataframe tbody tr th:only-of-type {\n",
       "        vertical-align: middle;\n",
       "    }\n",
       "\n",
       "    .dataframe tbody tr th {\n",
       "        vertical-align: top;\n",
       "    }\n",
       "\n",
       "    .dataframe thead th {\n",
       "        text-align: right;\n",
       "    }\n",
       "</style>\n",
       "<table border=\"1\" class=\"dataframe\">\n",
       "  <thead>\n",
       "    <tr style=\"text-align: right;\">\n",
       "      <th></th>\n",
       "      <th>Butter</th>\n",
       "      <th>Cheese</th>\n",
       "      <th>Domestic milk intake</th>\n",
       "      <th>Fat content (Percent)</th>\n",
       "      <th>Heifers 200-249kg</th>\n",
       "      <th>Heifers 250-299kg</th>\n",
       "      <th>Heifers 300-349kg</th>\n",
       "      <th>Heifers 350-399kg</th>\n",
       "      <th>Heifers 400-449kg</th>\n",
       "      <th>Imported milk intake</th>\n",
       "      <th>Skimmed milk sales</th>\n",
       "      <th>Skimmed milk powder</th>\n",
       "      <th>Whole milk sales</th>\n",
       "      <th>Month</th>\n",
       "    </tr>\n",
       "  </thead>\n",
       "  <tbody>\n",
       "    <tr>\n",
       "      <th>116</th>\n",
       "      <td>18.5</td>\n",
       "      <td>21.9</td>\n",
       "      <td>583.8</td>\n",
       "      <td>4.33</td>\n",
       "      <td>435.00</td>\n",
       "      <td>566.38</td>\n",
       "      <td>669.24</td>\n",
       "      <td>750.59</td>\n",
       "      <td>855.62</td>\n",
       "      <td>56.7</td>\n",
       "      <td>17.2</td>\n",
       "      <td>7.7</td>\n",
       "      <td>27.2</td>\n",
       "      <td>9</td>\n",
       "    </tr>\n",
       "    <tr>\n",
       "      <th>38</th>\n",
       "      <td>10.1</td>\n",
       "      <td>15.5</td>\n",
       "      <td>382.1</td>\n",
       "      <td>3.89</td>\n",
       "      <td>374.87</td>\n",
       "      <td>452.19</td>\n",
       "      <td>515.64</td>\n",
       "      <td>583.73</td>\n",
       "      <td>657.74</td>\n",
       "      <td>33.9</td>\n",
       "      <td>15.4</td>\n",
       "      <td>1.3</td>\n",
       "      <td>29.1</td>\n",
       "      <td>3</td>\n",
       "    </tr>\n",
       "    <tr>\n",
       "      <th>155</th>\n",
       "      <td>10.9</td>\n",
       "      <td>5.4</td>\n",
       "      <td>241.4</td>\n",
       "      <td>4.58</td>\n",
       "      <td>449.38</td>\n",
       "      <td>493.91</td>\n",
       "      <td>601.98</td>\n",
       "      <td>720.53</td>\n",
       "      <td>831.40</td>\n",
       "      <td>0.0</td>\n",
       "      <td>16.1</td>\n",
       "      <td>10.2</td>\n",
       "      <td>25.8</td>\n",
       "      <td>12</td>\n",
       "    </tr>\n",
       "    <tr>\n",
       "      <th>160</th>\n",
       "      <td>29.8</td>\n",
       "      <td>31.6</td>\n",
       "      <td>1115.3</td>\n",
       "      <td>3.87</td>\n",
       "      <td>593.33</td>\n",
       "      <td>661.74</td>\n",
       "      <td>741.01</td>\n",
       "      <td>853.84</td>\n",
       "      <td>903.46</td>\n",
       "      <td>0.0</td>\n",
       "      <td>15.7</td>\n",
       "      <td>24.6</td>\n",
       "      <td>31.6</td>\n",
       "      <td>5</td>\n",
       "    </tr>\n",
       "    <tr>\n",
       "      <th>93</th>\n",
       "      <td>13.5</td>\n",
       "      <td>14.8</td>\n",
       "      <td>426.3</td>\n",
       "      <td>4.49</td>\n",
       "      <td>508.42</td>\n",
       "      <td>584.94</td>\n",
       "      <td>679.65</td>\n",
       "      <td>774.27</td>\n",
       "      <td>863.35</td>\n",
       "      <td>37.4</td>\n",
       "      <td>16.5</td>\n",
       "      <td>0.0</td>\n",
       "      <td>23.6</td>\n",
       "      <td>10</td>\n",
       "    </tr>\n",
       "    <tr>\n",
       "      <th>...</th>\n",
       "      <td>...</td>\n",
       "      <td>...</td>\n",
       "      <td>...</td>\n",
       "      <td>...</td>\n",
       "      <td>...</td>\n",
       "      <td>...</td>\n",
       "      <td>...</td>\n",
       "      <td>...</td>\n",
       "      <td>...</td>\n",
       "      <td>...</td>\n",
       "      <td>...</td>\n",
       "      <td>...</td>\n",
       "      <td>...</td>\n",
       "      <td>...</td>\n",
       "    </tr>\n",
       "    <tr>\n",
       "      <th>115</th>\n",
       "      <td>20.3</td>\n",
       "      <td>23.3</td>\n",
       "      <td>699.3</td>\n",
       "      <td>4.08</td>\n",
       "      <td>540.33</td>\n",
       "      <td>605.63</td>\n",
       "      <td>696.53</td>\n",
       "      <td>785.09</td>\n",
       "      <td>884.48</td>\n",
       "      <td>50.8</td>\n",
       "      <td>18.2</td>\n",
       "      <td>11.0</td>\n",
       "      <td>26.8</td>\n",
       "      <td>8</td>\n",
       "    </tr>\n",
       "    <tr>\n",
       "      <th>48</th>\n",
       "      <td>4.0</td>\n",
       "      <td>2.5</td>\n",
       "      <td>146.7</td>\n",
       "      <td>3.99</td>\n",
       "      <td>445.22</td>\n",
       "      <td>541.00</td>\n",
       "      <td>614.39</td>\n",
       "      <td>663.88</td>\n",
       "      <td>737.82</td>\n",
       "      <td>28.8</td>\n",
       "      <td>14.5</td>\n",
       "      <td>0.0</td>\n",
       "      <td>27.6</td>\n",
       "      <td>1</td>\n",
       "    </tr>\n",
       "    <tr>\n",
       "      <th>108</th>\n",
       "      <td>5.0</td>\n",
       "      <td>2.0</td>\n",
       "      <td>147.6</td>\n",
       "      <td>4.17</td>\n",
       "      <td>534.57</td>\n",
       "      <td>660.13</td>\n",
       "      <td>748.13</td>\n",
       "      <td>817.96</td>\n",
       "      <td>902.65</td>\n",
       "      <td>78.6</td>\n",
       "      <td>17.8</td>\n",
       "      <td>4.4</td>\n",
       "      <td>24.7</td>\n",
       "      <td>1</td>\n",
       "    </tr>\n",
       "    <tr>\n",
       "      <th>154</th>\n",
       "      <td>15.1</td>\n",
       "      <td>23.5</td>\n",
       "      <td>418.1</td>\n",
       "      <td>4.84</td>\n",
       "      <td>367.00</td>\n",
       "      <td>475.32</td>\n",
       "      <td>580.84</td>\n",
       "      <td>685.79</td>\n",
       "      <td>792.25</td>\n",
       "      <td>0.0</td>\n",
       "      <td>16.9</td>\n",
       "      <td>0.0</td>\n",
       "      <td>26.8</td>\n",
       "      <td>11</td>\n",
       "    </tr>\n",
       "    <tr>\n",
       "      <th>23</th>\n",
       "      <td>4.7</td>\n",
       "      <td>4.7</td>\n",
       "      <td>151.3</td>\n",
       "      <td>4.05</td>\n",
       "      <td>358.54</td>\n",
       "      <td>439.71</td>\n",
       "      <td>523.56</td>\n",
       "      <td>590.67</td>\n",
       "      <td>660.95</td>\n",
       "      <td>32.4</td>\n",
       "      <td>13.4</td>\n",
       "      <td>0.0</td>\n",
       "      <td>29.4</td>\n",
       "      <td>12</td>\n",
       "    </tr>\n",
       "  </tbody>\n",
       "</table>\n",
       "<p>135 rows × 14 columns</p>\n",
       "</div>"
      ],
      "text/plain": [
       "     Butter  Cheese  Domestic milk intake  Fat content (Percent)  \\\n",
       "116    18.5    21.9                 583.8                   4.33   \n",
       "38     10.1    15.5                 382.1                   3.89   \n",
       "155    10.9     5.4                 241.4                   4.58   \n",
       "160    29.8    31.6                1115.3                   3.87   \n",
       "93     13.5    14.8                 426.3                   4.49   \n",
       "..      ...     ...                   ...                    ...   \n",
       "115    20.3    23.3                 699.3                   4.08   \n",
       "48      4.0     2.5                 146.7                   3.99   \n",
       "108     5.0     2.0                 147.6                   4.17   \n",
       "154    15.1    23.5                 418.1                   4.84   \n",
       "23      4.7     4.7                 151.3                   4.05   \n",
       "\n",
       "     Heifers 200-249kg  Heifers 250-299kg  Heifers 300-349kg  \\\n",
       "116             435.00             566.38             669.24   \n",
       "38              374.87             452.19             515.64   \n",
       "155             449.38             493.91             601.98   \n",
       "160             593.33             661.74             741.01   \n",
       "93              508.42             584.94             679.65   \n",
       "..                 ...                ...                ...   \n",
       "115             540.33             605.63             696.53   \n",
       "48              445.22             541.00             614.39   \n",
       "108             534.57             660.13             748.13   \n",
       "154             367.00             475.32             580.84   \n",
       "23              358.54             439.71             523.56   \n",
       "\n",
       "     Heifers 350-399kg  Heifers 400-449kg  Imported milk intake  \\\n",
       "116             750.59             855.62                  56.7   \n",
       "38              583.73             657.74                  33.9   \n",
       "155             720.53             831.40                   0.0   \n",
       "160             853.84             903.46                   0.0   \n",
       "93              774.27             863.35                  37.4   \n",
       "..                 ...                ...                   ...   \n",
       "115             785.09             884.48                  50.8   \n",
       "48              663.88             737.82                  28.8   \n",
       "108             817.96             902.65                  78.6   \n",
       "154             685.79             792.25                   0.0   \n",
       "23              590.67             660.95                  32.4   \n",
       "\n",
       "     Skimmed milk sales  Skimmed milk powder  Whole milk sales  Month  \n",
       "116                17.2                  7.7              27.2      9  \n",
       "38                 15.4                  1.3              29.1      3  \n",
       "155                16.1                 10.2              25.8     12  \n",
       "160                15.7                 24.6              31.6      5  \n",
       "93                 16.5                  0.0              23.6     10  \n",
       "..                  ...                  ...               ...    ...  \n",
       "115                18.2                 11.0              26.8      8  \n",
       "48                 14.5                  0.0              27.6      1  \n",
       "108                17.8                  4.4              24.7      1  \n",
       "154                16.9                  0.0              26.8     11  \n",
       "23                 13.4                  0.0              29.4     12  \n",
       "\n",
       "[135 rows x 14 columns]"
      ]
     },
     "execution_count": 85,
     "metadata": {},
     "output_type": "execute_result"
    }
   ],
   "source": [
    "X_train"
   ]
  },
  {
   "cell_type": "code",
   "execution_count": 86,
   "metadata": {
    "id": "iIVsePK-0JRg",
    "outputId": "8af29994-49bf-40af-c70b-8277857fb438"
   },
   "outputs": [
    {
     "data": {
      "text/plain": [
       "14     39.64\n",
       "148    31.47\n",
       "62     33.41\n",
       "133    37.00\n",
       "173    37.39\n",
       "175    39.23\n",
       "74     34.09\n",
       "131    40.59\n",
       "69     35.74\n",
       "57     38.26\n",
       "1      27.18\n",
       "34     28.63\n",
       "92     35.45\n",
       "71     33.70\n",
       "87     38.55\n",
       "150    31.08\n",
       "104    29.23\n",
       "84     42.34\n",
       "9      44.60\n",
       "63     30.88\n",
       "144    34.28\n",
       "42     31.20\n",
       "166    39.14\n",
       "52     32.05\n",
       "122    31.66\n",
       "127    37.68\n",
       "145    34.38\n",
       "70     35.93\n",
       "137    31.66\n",
       "44     33.67\n",
       "30     22.04\n",
       "5      32.64\n",
       "46     34.18\n",
       "151    31.95\n",
       "163    33.89\n",
       "11     43.25\n",
       "27     22.34\n",
       "136    31.17\n",
       "4      29.76\n",
       "0      28.30\n",
       "85     41.76\n",
       "111    24.08\n",
       "141    38.75\n",
       "174    37.20\n",
       "68     33.31\n",
       "Name: Raw milk price, dtype: float64"
      ]
     },
     "execution_count": 86,
     "metadata": {},
     "output_type": "execute_result"
    }
   ],
   "source": [
    "y_test"
   ]
  },
  {
   "cell_type": "markdown",
   "metadata": {
    "id": "GhtISYYP0JRg"
   },
   "source": [
    "#### Random Forest"
   ]
  },
  {
   "cell_type": "markdown",
   "metadata": {
    "id": "KReiHSaz0JRg"
   },
   "source": [
    "##### 1. Basic test to test for suitability for remaining sections"
   ]
  },
  {
   "cell_type": "code",
   "execution_count": 87,
   "metadata": {
    "id": "ISnYFObb0JRg"
   },
   "outputs": [],
   "source": [
    "#Random forest(basic features, randomized state, squared error scoring)\n",
    "rf1 = RandomForestRegressor(criterion=\"absolute_error\")\n",
    "\n",
    "#Random forest, 500 estimators, 20 samples to split a node, min 5 samples at\n",
    "#leaf nodes, squared error scoring, non-random state set\n",
    "rf2 = RandomForestRegressor(n_estimators=500, min_samples_split=20, \n",
    "                             min_samples_leaf=5, n_jobs=-1, \n",
    "                             criterion=\"absolute_error\", random_state=22122)\n",
    "\n",
    "#Random forest, 1000 estimators, squared error scoring, non-random state set\n",
    "rf3 = RandomForestRegressor(n_estimators=1000, n_jobs=-1,\n",
    "                            criterion=\"absolute_error\", random_state=22122)"
   ]
  },
  {
   "cell_type": "markdown",
   "metadata": {
    "id": "MH_0rKZR0JRg"
   },
   "source": [
    "##### Cross-validation tests (accuracy and mean average error)"
   ]
  },
  {
   "cell_type": "code",
   "execution_count": 88,
   "metadata": {
    "id": "wFLf4dXX0JRg",
    "outputId": "8c12e039-ce62-4ac1-dd08-53e48a0a8d07"
   },
   "outputs": [
    {
     "name": "stderr",
     "output_type": "stream",
     "text": [
      "[Parallel(n_jobs=1)]: Using backend SequentialBackend with 1 concurrent workers.\n"
     ]
    },
    {
     "name": "stdout",
     "output_type": "stream",
     "text": [
      "[CV] END .................................................... total time=   0.2s\n"
     ]
    },
    {
     "name": "stderr",
     "output_type": "stream",
     "text": [
      "[Parallel(n_jobs=1)]: Done   1 out of   1 | elapsed:    0.2s remaining:    0.0s\n"
     ]
    },
    {
     "name": "stdout",
     "output_type": "stream",
     "text": [
      "[CV] END .................................................... total time=   0.2s\n",
      "[CV] END .................................................... total time=   0.2s\n",
      "[CV] END .................................................... total time=   0.2s\n",
      "[CV] END .................................................... total time=   0.3s\n"
     ]
    },
    {
     "name": "stderr",
     "output_type": "stream",
     "text": [
      "[Parallel(n_jobs=1)]: Done   5 out of   5 | elapsed:    1.6s finished\n",
      "[Parallel(n_jobs=1)]: Using backend SequentialBackend with 1 concurrent workers.\n"
     ]
    },
    {
     "name": "stdout",
     "output_type": "stream",
     "text": [
      "[CV] END .................................................... total time=   0.2s\n"
     ]
    },
    {
     "name": "stderr",
     "output_type": "stream",
     "text": [
      "[Parallel(n_jobs=1)]: Done   1 out of   1 | elapsed:    0.2s remaining:    0.0s\n"
     ]
    },
    {
     "name": "stdout",
     "output_type": "stream",
     "text": [
      "[CV] END .................................................... total time=   0.2s\n",
      "[CV] END .................................................... total time=   0.2s\n",
      "[CV] END .................................................... total time=   0.2s\n",
      "[CV] END .................................................... total time=   0.3s\n"
     ]
    },
    {
     "name": "stderr",
     "output_type": "stream",
     "text": [
      "[Parallel(n_jobs=1)]: Done   5 out of   5 | elapsed:    1.6s finished\n"
     ]
    },
    {
     "data": {
      "text/plain": [
       "(0.025556105110798488, -3.842829240907574)"
      ]
     },
     "execution_count": 88,
     "metadata": {},
     "output_type": "execute_result"
    }
   ],
   "source": [
    "(np.mean(cross_val_score(rf1, X, y, cv=KFold(5), verbose=2)),\n",
    " np.mean(cross_val_score(rf1, X, y, cv=KFold(5), verbose=2, scoring=\"neg_mean_absolute_error\")))"
   ]
  },
  {
   "cell_type": "code",
   "execution_count": 89,
   "metadata": {
    "id": "zfrTsGJl0JRg",
    "outputId": "7ebe5e21-42ff-41a2-f493-cfacd155cd01"
   },
   "outputs": [
    {
     "name": "stderr",
     "output_type": "stream",
     "text": [
      "[Parallel(n_jobs=1)]: Using backend SequentialBackend with 1 concurrent workers.\n"
     ]
    },
    {
     "name": "stdout",
     "output_type": "stream",
     "text": [
      "[CV] END .................................................... total time=   0.2s\n"
     ]
    },
    {
     "name": "stderr",
     "output_type": "stream",
     "text": [
      "[Parallel(n_jobs=1)]: Done   1 out of   1 | elapsed:    0.2s remaining:    0.0s\n"
     ]
    },
    {
     "name": "stdout",
     "output_type": "stream",
     "text": [
      "[CV] END .................................................... total time=   0.2s\n",
      "[CV] END .................................................... total time=   0.2s\n",
      "[CV] END .................................................... total time=   0.2s\n",
      "[CV] END .................................................... total time=   0.2s\n"
     ]
    },
    {
     "name": "stderr",
     "output_type": "stream",
     "text": [
      "[Parallel(n_jobs=1)]: Done   5 out of   5 | elapsed:    1.4s finished\n",
      "[Parallel(n_jobs=1)]: Using backend SequentialBackend with 1 concurrent workers.\n"
     ]
    },
    {
     "name": "stdout",
     "output_type": "stream",
     "text": [
      "[CV] END .................................................... total time=   0.2s\n"
     ]
    },
    {
     "name": "stderr",
     "output_type": "stream",
     "text": [
      "[Parallel(n_jobs=1)]: Done   1 out of   1 | elapsed:    0.2s remaining:    0.0s\n"
     ]
    },
    {
     "name": "stdout",
     "output_type": "stream",
     "text": [
      "[CV] END .................................................... total time=   0.2s\n",
      "[CV] END .................................................... total time=   0.2s\n",
      "[CV] END .................................................... total time=   0.2s\n",
      "[CV] END .................................................... total time=   0.2s\n"
     ]
    },
    {
     "name": "stderr",
     "output_type": "stream",
     "text": [
      "[Parallel(n_jobs=1)]: Done   5 out of   5 | elapsed:    1.4s finished\n"
     ]
    },
    {
     "data": {
      "text/plain": [
       "(0.07397912880826814, -3.8190363790123465)"
      ]
     },
     "execution_count": 89,
     "metadata": {},
     "output_type": "execute_result"
    }
   ],
   "source": [
    "(np.mean(cross_val_score(rf2, X, y, cv=KFold(5), verbose=2)),\n",
    " np.mean(cross_val_score(rf2, X, y, cv=KFold(5), verbose=2, scoring=\"neg_mean_absolute_error\")))"
   ]
  },
  {
   "cell_type": "code",
   "execution_count": 90,
   "metadata": {
    "id": "_UsPyiP30JRh",
    "outputId": "ddb5a792-86b2-4b8c-988c-2c64146fa25c"
   },
   "outputs": [
    {
     "name": "stderr",
     "output_type": "stream",
     "text": [
      "[Parallel(n_jobs=1)]: Using backend SequentialBackend with 1 concurrent workers.\n"
     ]
    },
    {
     "name": "stdout",
     "output_type": "stream",
     "text": [
      "[CV] END .................................................... total time=   0.5s\n"
     ]
    },
    {
     "name": "stderr",
     "output_type": "stream",
     "text": [
      "[Parallel(n_jobs=1)]: Done   1 out of   1 | elapsed:    0.5s remaining:    0.0s\n"
     ]
    },
    {
     "name": "stdout",
     "output_type": "stream",
     "text": [
      "[CV] END .................................................... total time=   0.8s\n",
      "[CV] END .................................................... total time=   0.5s\n",
      "[CV] END .................................................... total time=   0.6s\n",
      "[CV] END .................................................... total time=   0.7s\n"
     ]
    },
    {
     "name": "stderr",
     "output_type": "stream",
     "text": [
      "[Parallel(n_jobs=1)]: Done   5 out of   5 | elapsed:    3.5s finished\n",
      "[Parallel(n_jobs=1)]: Using backend SequentialBackend with 1 concurrent workers.\n"
     ]
    },
    {
     "name": "stdout",
     "output_type": "stream",
     "text": [
      "[CV] END .................................................... total time=   0.5s\n"
     ]
    },
    {
     "name": "stderr",
     "output_type": "stream",
     "text": [
      "[Parallel(n_jobs=1)]: Done   1 out of   1 | elapsed:    0.5s remaining:    0.0s\n"
     ]
    },
    {
     "name": "stdout",
     "output_type": "stream",
     "text": [
      "[CV] END .................................................... total time=   0.6s\n",
      "[CV] END .................................................... total time=   0.6s\n",
      "[CV] END .................................................... total time=   0.7s\n",
      "[CV] END .................................................... total time=   0.7s\n"
     ]
    },
    {
     "name": "stderr",
     "output_type": "stream",
     "text": [
      "[Parallel(n_jobs=1)]: Done   5 out of   5 | elapsed:    3.4s finished\n"
     ]
    },
    {
     "data": {
      "text/plain": [
       "(0.024434294168202086, -3.847246824841489)"
      ]
     },
     "execution_count": 90,
     "metadata": {},
     "output_type": "execute_result"
    }
   ],
   "source": [
    "(np.mean(cross_val_score(rf3, X, y, cv=KFold(5), verbose=2)),\n",
    " np.mean(cross_val_score(rf3, X, y, cv=KFold(5), verbose=2, scoring=\"neg_mean_absolute_error\")))"
   ]
  },
  {
   "cell_type": "code",
   "execution_count": 91,
   "metadata": {
    "id": "-A42zAIC0JRh"
   },
   "outputs": [],
   "source": [
    "rf1.fit(X_train, y_train)\n",
    "y1 = rf1.predict(X_test)"
   ]
  },
  {
   "cell_type": "code",
   "execution_count": 92,
   "metadata": {
    "id": "IM1_sGxy0JRh",
    "outputId": "d745fbdf-bb0e-4453-9f09-aee69857b2ce"
   },
   "outputs": [
    {
     "data": {
      "text/plain": [
       "array([34.74599381, 33.0581    , 31.0757    , 35.4088    , 33.8904    ,\n",
       "       34.1312    , 33.1917    , 39.7291    , 37.0644    , 35.8978    ,\n",
       "       28.47344072, 32.39314691, 37.9502    , 36.00549381, 35.7566    ,\n",
       "       32.4322    , 33.9661    , 35.9773    , 30.53323453, 30.1555    ,\n",
       "       35.5545    , 30.08524691, 41.346     , 33.6169    , 29.0662    ,\n",
       "       31.5355    , 36.2563    , 36.1435    , 32.6667    , 32.24629381,\n",
       "       26.11234691, 30.8336    , 36.60059381, 33.1083    , 33.3637    ,\n",
       "       32.11619742, 29.6289    , 32.7555    , 29.9034    , 30.91238144,\n",
       "       35.2892    , 31.0299    , 36.9887    , 33.0775    , 37.4262    ])"
      ]
     },
     "execution_count": 92,
     "metadata": {},
     "output_type": "execute_result"
    }
   ],
   "source": [
    "y1"
   ]
  },
  {
   "cell_type": "code",
   "execution_count": 93,
   "metadata": {
    "id": "d46kcTwH0JRh",
    "outputId": "865e1a0e-d311-46ea-fde8-72a26a931993"
   },
   "outputs": [
    {
     "data": {
      "text/plain": [
       "3.10975638038038"
      ]
     },
     "execution_count": 93,
     "metadata": {},
     "output_type": "execute_result"
    }
   ],
   "source": [
    "mean_absolute_error(y_test, y1)"
   ]
  },
  {
   "cell_type": "code",
   "execution_count": null,
   "metadata": {
    "id": "dzziymNN0JRh"
   },
   "outputs": [],
   "source": []
  },
  {
   "cell_type": "code",
   "execution_count": 94,
   "metadata": {
    "id": "KhzkUYjf0JRh"
   },
   "outputs": [],
   "source": [
    "rf2.fit(X_train, y_train)\n",
    "y2 = rf2.predict(X_test)"
   ]
  },
  {
   "cell_type": "code",
   "execution_count": 95,
   "metadata": {
    "id": "9cg52FN20JRh",
    "outputId": "0e94578e-e41a-4995-e05c-07c42f37e7a4"
   },
   "outputs": [
    {
     "data": {
      "text/plain": [
       "array([33.8184685 , 32.93777876, 29.84692469, 34.23161753, 32.03387938,\n",
       "       33.87410753, 32.92572222, 37.76806938, 36.85645814, 36.26147283,\n",
       "       29.34980912, 31.5043116 , 35.6217016 , 35.09462665, 34.96523222,\n",
       "       32.78119567, 34.09342407, 34.86300283, 29.05714098, 29.79001   ,\n",
       "       33.87035567, 29.80120789, 38.13691   , 33.48722691, 30.838     ,\n",
       "       32.65791814, 35.48321283, 36.64178691, 33.37959876, 31.48534258,\n",
       "       27.87919283, 29.94587814, 34.85864222, 33.45558629, 33.24407222,\n",
       "       28.86157443, 30.59488691, 33.07645407, 29.76090753, 29.24660443,\n",
       "       34.7523916 , 32.50456407, 36.81332407, 32.82997222, 35.5149316 ])"
      ]
     },
     "execution_count": 95,
     "metadata": {},
     "output_type": "execute_result"
    }
   ],
   "source": [
    "y2"
   ]
  },
  {
   "cell_type": "code",
   "execution_count": 96,
   "metadata": {
    "id": "Z0JEMUEC0JRh",
    "outputId": "35ee9a27-c0b7-4791-ac9c-4210c9c1c77b"
   },
   "outputs": [
    {
     "data": {
      "text/plain": [
       "3.309340131731728"
      ]
     },
     "execution_count": 96,
     "metadata": {},
     "output_type": "execute_result"
    }
   ],
   "source": [
    "mean_absolute_error(y_test, y2)"
   ]
  },
  {
   "cell_type": "code",
   "execution_count": null,
   "metadata": {
    "id": "NGvI46Cd0JRh"
   },
   "outputs": [],
   "source": []
  },
  {
   "cell_type": "code",
   "execution_count": 97,
   "metadata": {
    "id": "dgs9K5AC0JRh"
   },
   "outputs": [],
   "source": [
    "rf3.fit(X_train, y_train)\n",
    "y3 = rf3.predict(X_test)"
   ]
  },
  {
   "cell_type": "code",
   "execution_count": 98,
   "metadata": {
    "id": "5dpWGsNb0JRh",
    "outputId": "d0b7c378-4d51-4d48-d5e1-51fe9ea33226"
   },
   "outputs": [
    {
     "data": {
      "text/plain": [
       "array([34.27621783, 33.299625  , 31.217175  , 34.81404   , 32.925365  ,\n",
       "       33.74355   , 32.669975  , 39.38235   , 37.363165  , 36.45116   ,\n",
       "       28.14778567, 33.48032691, 37.53891   , 35.03198567, 35.85386   ,\n",
       "       32.20647969, 33.25003   , 35.50182   , 30.37642381, 30.493355  ,\n",
       "       34.73925   , 30.55473196, 41.674865  , 33.711775  , 29.35486   ,\n",
       "       32.04023   , 35.9455    , 36.89729469, 32.904945  , 32.06290356,\n",
       "       26.29558345, 30.50896814, 36.78558505, 33.055425  , 33.0138    ,\n",
       "       31.60775324, 29.19418938, 32.75617   , 30.64047938, 29.68062541,\n",
       "       35.22256   , 31.15919   , 37.650095  , 33.454865  , 37.24251938])"
      ]
     },
     "execution_count": 98,
     "metadata": {},
     "output_type": "execute_result"
    }
   ],
   "source": [
    "y3"
   ]
  },
  {
   "cell_type": "code",
   "execution_count": 99,
   "metadata": {
    "id": "B52drbKe0JRi",
    "outputId": "2382e15c-ce01-485f-b2c4-0533ca1174dd"
   },
   "outputs": [
    {
     "data": {
      "text/plain": [
       "3.1212365808475306"
      ]
     },
     "execution_count": 99,
     "metadata": {},
     "output_type": "execute_result"
    }
   ],
   "source": [
    "mean_absolute_error(y_test, y3)"
   ]
  },
  {
   "cell_type": "code",
   "execution_count": null,
   "metadata": {
    "id": "njyQJ7rk0JRi"
   },
   "outputs": [],
   "source": []
  },
  {
   "cell_type": "code",
   "execution_count": 100,
   "metadata": {
    "id": "ytnykcvG0JRi"
   },
   "outputs": [],
   "source": [
    "rf4 = clone(rf3)"
   ]
  },
  {
   "cell_type": "code",
   "execution_count": 101,
   "metadata": {
    "id": "8Y0TDjoM0JRi",
    "outputId": "651e44ed-8fe4-4d62-82df-8253c56a060c"
   },
   "outputs": [
    {
     "name": "stdout",
     "output_type": "stream",
     "text": [
      "Fitting estimator with 14 features.\n"
     ]
    },
    {
     "data": {
      "text/plain": [
       "RFECV(cv=5,\n",
       "      estimator=RandomForestRegressor(criterion='absolute_error',\n",
       "                                      n_estimators=1000, n_jobs=-1,\n",
       "                                      random_state=22122),\n",
       "      min_features_to_select=7, n_jobs=-1, verbose=2)"
      ]
     },
     "execution_count": 101,
     "metadata": {},
     "output_type": "execute_result"
    }
   ],
   "source": [
    "#Create Random Feature elimination for above model\n",
    "selector1 = RFECV(rf4, cv=5, step=1, n_jobs=-1, verbose=2, min_features_to_select=7)\n",
    "\n",
    "#Fit all data\n",
    "selector1.fit(X, y)"
   ]
  },
  {
   "cell_type": "code",
   "execution_count": 102,
   "metadata": {
    "id": "fGwlwD3c0JRi",
    "outputId": "342805e0-fcc6-4b71-9aa6-e6a29780fde0"
   },
   "outputs": [
    {
     "data": {
      "text/plain": [
       "array([1, 1, 2, 1, 1, 1, 1, 1, 1, 1, 1, 1, 1, 1])"
      ]
     },
     "execution_count": 102,
     "metadata": {},
     "output_type": "execute_result"
    }
   ],
   "source": [
    "selector1.ranking_"
   ]
  },
  {
   "cell_type": "code",
   "execution_count": 111,
   "metadata": {
    "id": "l6H117Rn0JRi",
    "outputId": "9cc3d795-eef0-402e-f9e8-98704486b283"
   },
   "outputs": [
    {
     "data": {
      "text/plain": [
       "Index(['Butter', 'Cheese', 'Domestic milk intake', 'Fat content (Percent)',\n",
       "       'Heifers 200-249kg', 'Heifers 250-299kg', 'Heifers 300-349kg',\n",
       "       'Heifers 350-399kg', 'Heifers 400-449kg', 'Imported milk intake',\n",
       "       'Skimmed milk sales', 'Skimmed milk powder', 'Whole milk sales',\n",
       "       'Month'],\n",
       "      dtype='object')"
      ]
     },
     "execution_count": 111,
     "metadata": {},
     "output_type": "execute_result"
    }
   ],
   "source": [
    "X.columns"
   ]
  },
  {
   "cell_type": "code",
   "execution_count": 112,
   "metadata": {
    "id": "4HKQLapX0JRi"
   },
   "outputs": [],
   "source": [
    "rankings = selector1.ranking_\n",
    "columns_to_choose = [X.columns[i] for i in range(len(X.columns)) if rankings[i] == 1]\n",
    "rfe_rfX = X[columns_to_choose]\n",
    "rfe_rfX_train = X_train[columns_to_choose]\n",
    "rfe_rfX_test = X_test[columns_to_choose]"
   ]
  },
  {
   "cell_type": "code",
   "execution_count": 113,
   "metadata": {
    "id": "G45pYKo90JRi",
    "outputId": "1346d6a9-b5b2-4db2-f816-8fa7df2f87f2"
   },
   "outputs": [
    {
     "data": {
      "text/plain": [
       "['Butter',\n",
       " 'Cheese',\n",
       " 'Fat content (Percent)',\n",
       " 'Heifers 200-249kg',\n",
       " 'Heifers 250-299kg',\n",
       " 'Heifers 300-349kg',\n",
       " 'Heifers 350-399kg',\n",
       " 'Heifers 400-449kg',\n",
       " 'Imported milk intake',\n",
       " 'Skimmed milk sales',\n",
       " 'Skimmed milk powder',\n",
       " 'Whole milk sales',\n",
       " 'Month']"
      ]
     },
     "execution_count": 113,
     "metadata": {},
     "output_type": "execute_result"
    }
   ],
   "source": [
    "columns_to_choose"
   ]
  },
  {
   "cell_type": "code",
   "execution_count": null,
   "metadata": {
    "id": "No0-7VOn0JRi"
   },
   "outputs": [],
   "source": []
  },
  {
   "cell_type": "code",
   "execution_count": 106,
   "metadata": {
    "id": "LsgVcwLf0JRi",
    "outputId": "ff545fc8-ced0-48a8-f0bd-ae4238017649"
   },
   "outputs": [
    {
     "name": "stderr",
     "output_type": "stream",
     "text": [
      "[Parallel(n_jobs=1)]: Using backend SequentialBackend with 1 concurrent workers.\n"
     ]
    },
    {
     "name": "stdout",
     "output_type": "stream",
     "text": [
      "[CV] END .................................................... total time=   0.5s\n"
     ]
    },
    {
     "name": "stderr",
     "output_type": "stream",
     "text": [
      "[Parallel(n_jobs=1)]: Done   1 out of   1 | elapsed:    0.6s remaining:    0.0s\n"
     ]
    },
    {
     "name": "stdout",
     "output_type": "stream",
     "text": [
      "[CV] END .................................................... total time=   0.6s\n",
      "[CV] END .................................................... total time=   0.6s\n",
      "[CV] END .................................................... total time=   0.6s\n",
      "[CV] END .................................................... total time=   0.6s\n"
     ]
    },
    {
     "name": "stderr",
     "output_type": "stream",
     "text": [
      "[Parallel(n_jobs=1)]: Done   5 out of   5 | elapsed:    3.4s finished\n",
      "[Parallel(n_jobs=1)]: Using backend SequentialBackend with 1 concurrent workers.\n"
     ]
    },
    {
     "name": "stdout",
     "output_type": "stream",
     "text": [
      "[CV] END .................................................... total time=   0.6s\n"
     ]
    },
    {
     "name": "stderr",
     "output_type": "stream",
     "text": [
      "[Parallel(n_jobs=1)]: Done   1 out of   1 | elapsed:    0.6s remaining:    0.0s\n"
     ]
    },
    {
     "name": "stdout",
     "output_type": "stream",
     "text": [
      "[CV] END .................................................... total time=   0.6s\n",
      "[CV] END .................................................... total time=   0.6s\n",
      "[CV] END .................................................... total time=   0.6s\n",
      "[CV] END .................................................... total time=   0.6s\n"
     ]
    },
    {
     "name": "stderr",
     "output_type": "stream",
     "text": [
      "[Parallel(n_jobs=1)]: Done   5 out of   5 | elapsed:    3.5s finished\n"
     ]
    },
    {
     "data": {
      "text/plain": [
       "(0.029547300346289208, -3.8378496902569097)"
      ]
     },
     "execution_count": 106,
     "metadata": {},
     "output_type": "execute_result"
    }
   ],
   "source": [
    "(np.mean(cross_val_score(rf4, rfe_rfX, y, cv=KFold(5), verbose=2)),\n",
    " np.mean(cross_val_score(rf4, rfe_rfX, y, cv=KFold(5), verbose=2, scoring=\"neg_mean_absolute_error\")))"
   ]
  },
  {
   "cell_type": "code",
   "execution_count": 107,
   "metadata": {
    "id": "yZuB2MzV0JRi"
   },
   "outputs": [],
   "source": [
    "rf4.fit(rfe_rfX_train, y_train)\n",
    "y4 = rf4.predict(rfe_rfX_test)"
   ]
  },
  {
   "cell_type": "code",
   "execution_count": 108,
   "metadata": {
    "id": "9fqWfHnY0JRj",
    "outputId": "826618d9-d929-4787-ae6b-37c0b58ad64c"
   },
   "outputs": [
    {
     "data": {
      "text/plain": [
       "array([34.28069098, 32.95301   , 31.17581   , 34.88100969, 32.82501   ,\n",
       "       33.83783   , 32.45299   , 39.614305  , 37.36330469, 36.294185  ,\n",
       "       28.12119629, 33.21153814, 37.48103   , 35.0328882 , 35.87242   ,\n",
       "       32.29058469, 33.163975  , 35.48971469, 30.27340727, 30.39229   ,\n",
       "       34.65517969, 30.72022134, 41.61203   , 33.70402   , 29.32339   ,\n",
       "       32.02822   , 35.84177   , 36.76382907, 32.96359   , 32.02810417,\n",
       "       26.35172469, 30.63005814, 36.83658443, 33.10071   , 33.08944   ,\n",
       "       31.64358067, 29.03724   , 32.70638   , 30.85744407, 29.82773727,\n",
       "       35.18587469, 31.13211   , 37.6098    , 33.87883   , 37.01706438])"
      ]
     },
     "execution_count": 108,
     "metadata": {},
     "output_type": "execute_result"
    }
   ],
   "source": [
    "y4"
   ]
  },
  {
   "cell_type": "code",
   "execution_count": 109,
   "metadata": {
    "id": "p__OA6Dd0JRj",
    "outputId": "104c8ed8-5129-4850-bda4-74931364e1fb"
   },
   "outputs": [
    {
     "data": {
      "text/plain": [
       "3.0917279771771886"
      ]
     },
     "execution_count": 109,
     "metadata": {},
     "output_type": "execute_result"
    }
   ],
   "source": [
    "mean_absolute_error(y4, y_test)"
   ]
  },
  {
   "cell_type": "code",
   "execution_count": 117,
   "metadata": {
    "id": "AuoQCNCx0JRj"
   },
   "outputs": [],
   "source": [
    "n_estimators = [i for i in range(100, 1001, 100)]\n",
    "# Number of features to consider at every split\n",
    "max_features = ['auto', 'sqrt']\n",
    "# Maximum number of levels in tree\n",
    "max_depth = [i for i in range(10, 101, 10)]\n",
    "max_depth.append(None)\n",
    "# Minimum number of samples required to split a node\n",
    "min_samples_split = [2, 3, 4, 5, 7, 10]\n",
    "# Minimum number of samples required at each leaf node\n",
    "min_samples_leaf = [1, 2, 4]\n",
    "# Method of selecting samples for training each tree\n",
    "bootstrap = [True, False]\n",
    "# Create the random grid\n",
    "random_grid = {'n_estimators': n_estimators,\n",
    "               'max_features': max_features,\n",
    "               'max_depth': max_depth,\n",
    "               'min_samples_split': min_samples_split,\n",
    "               'min_samples_leaf': min_samples_leaf,\n",
    "               'bootstrap': bootstrap,\n",
    "               'criterion': criterion}"
   ]
  },
  {
   "cell_type": "code",
   "execution_count": 118,
   "metadata": {
    "id": "JWVaJkN70JRj",
    "outputId": "23da11f7-397f-4ece-93ac-4150b9d1fe4a"
   },
   "outputs": [
    {
     "name": "stdout",
     "output_type": "stream",
     "text": [
      "Fitting 5 folds for each of 15840 candidates, totalling 79200 fits\n"
     ]
    },
    {
     "data": {
      "text/plain": [
       "GridSearchCV(cv=KFold(n_splits=5, random_state=None, shuffle=False),\n",
       "             estimator=RandomForestRegressor(n_jobs=-1, random_state=22122),\n",
       "             n_jobs=-1,\n",
       "             param_grid={'bootstrap': [True, False],\n",
       "                         'criterion': ['absolute_error', 'squared_error'],\n",
       "                         'max_depth': [10, 20, 30, 40, 50, 60, 70, 80, 90, 100,\n",
       "                                       None],\n",
       "                         'max_features': ['auto', 'sqrt'],\n",
       "                         'min_samples_leaf': [1, 2, 4],\n",
       "                         'min_samples_split': [2, 3, 4, 5, 7, 10],\n",
       "                         'n_estimators': [100, 200, 300, 400, 500, 600, 700,\n",
       "                                          800, 900, 1000]},\n",
       "             return_train_score=True, scoring='neg_mean_absolute_error',\n",
       "             verbose=4)"
      ]
     },
     "execution_count": 118,
     "metadata": {},
     "output_type": "execute_result"
    }
   ],
   "source": [
    "rf = RandomForestRegressor(random_state=22122,\n",
    "                           n_jobs=-1)\n",
    "\n",
    "gs_random = GridSearchCV(estimator = rf, param_grid = random_grid,\n",
    "                               scoring=\"neg_mean_absolute_error\",\n",
    "                               n_jobs=-1, cv=KFold(5), return_train_score=True,\n",
    "                               verbose=4)\n",
    "\n",
    "gs_random.fit(X, y)"
   ]
  },
  {
   "cell_type": "code",
   "execution_count": 120,
   "metadata": {},
   "outputs": [
    {
     "name": "stdout",
     "output_type": "stream",
     "text": [
      "Fitting 5 folds for each of 15840 candidates, totalling 79200 fits\n"
     ]
    },
    {
     "data": {
      "text/plain": [
       "GridSearchCV(cv=KFold(n_splits=5, random_state=None, shuffle=False),\n",
       "             estimator=RandomForestRegressor(n_jobs=-1, random_state=22122),\n",
       "             n_jobs=8,\n",
       "             param_grid={'bootstrap': [True, False],\n",
       "                         'criterion': ['absolute_error', 'squared_error'],\n",
       "                         'max_depth': [10, 20, 30, 40, 50, 60, 70, 80, 90, 100,\n",
       "                                       None],\n",
       "                         'max_features': ['auto', 'sqrt'],\n",
       "                         'min_samples_leaf': [1, 2, 4],\n",
       "                         'min_samples_split': [2, 3, 4, 5, 7, 10],\n",
       "                         'n_estimators': [100, 200, 300, 400, 500, 600, 700,\n",
       "                                          800, 900, 1000]},\n",
       "             return_train_score=True, scoring='r2', verbose=4)"
      ]
     },
     "execution_count": 120,
     "metadata": {},
     "output_type": "execute_result"
    }
   ],
   "source": [
    "rfr2 = RandomForestRegressor(random_state=22122,\n",
    "                           n_jobs=-1)\n",
    "\n",
    "gs_randomr2 = GridSearchCV(estimator = rf, param_grid = random_grid,\n",
    "                               scoring=\"r2\",\n",
    "                               n_jobs=8, cv=KFold(5), return_train_score=True,\n",
    "                               verbose=4)\n",
    "\n",
    "gs_randomr2.fit(X, y)"
   ]
  },
  {
   "cell_type": "code",
   "execution_count": 122,
   "metadata": {},
   "outputs": [
    {
     "data": {
      "text/plain": [
       "RandomForestRegressor(max_features='sqrt', min_samples_leaf=4,\n",
       "                      min_samples_split=10, n_estimators=400, n_jobs=-1,\n",
       "                      random_state=22122)"
      ]
     },
     "execution_count": 122,
     "metadata": {},
     "output_type": "execute_result"
    }
   ],
   "source": [
    "gs_randomr2.best_estimator_"
   ]
  },
  {
   "cell_type": "code",
   "execution_count": 119,
   "metadata": {},
   "outputs": [
    {
     "data": {
      "text/plain": [
       "RandomForestRegressor(max_depth=10, max_features='sqrt', min_samples_leaf=4,\n",
       "                      min_samples_split=10, n_estimators=900, n_jobs=-1,\n",
       "                      random_state=22122)"
      ]
     },
     "execution_count": 119,
     "metadata": {},
     "output_type": "execute_result"
    }
   ],
   "source": [
    "gs_random.best_estimator_"
   ]
  },
  {
   "cell_type": "code",
   "execution_count": 123,
   "metadata": {
    "id": "MHjJ5kOj0JRj"
   },
   "outputs": [],
   "source": [
    "rf_best = clone(gs_random.best_estimator_)"
   ]
  },
  {
   "cell_type": "markdown",
   "metadata": {
    "id": "YKsfDYPy0JRj"
   },
   "source": [
    "##### Cross validation (both accuracy and absolute error)"
   ]
  },
  {
   "cell_type": "code",
   "execution_count": 124,
   "metadata": {
    "id": "z2v6TESo0JRj"
   },
   "outputs": [
    {
     "name": "stderr",
     "output_type": "stream",
     "text": [
      "[Parallel(n_jobs=1)]: Using backend SequentialBackend with 1 concurrent workers.\n"
     ]
    },
    {
     "name": "stdout",
     "output_type": "stream",
     "text": [
      "[CV] END .................................................... total time=   4.0s\n"
     ]
    },
    {
     "name": "stderr",
     "output_type": "stream",
     "text": [
      "[Parallel(n_jobs=1)]: Done   1 out of   1 | elapsed:    4.0s remaining:    0.0s\n"
     ]
    },
    {
     "name": "stdout",
     "output_type": "stream",
     "text": [
      "[CV] END .................................................... total time=   0.9s\n",
      "[CV] END .................................................... total time=   0.9s\n",
      "[CV] END .................................................... total time=   0.8s\n",
      "[CV] END .................................................... total time=   0.8s\n"
     ]
    },
    {
     "name": "stderr",
     "output_type": "stream",
     "text": [
      "[Parallel(n_jobs=1)]: Done   5 out of   5 | elapsed:    7.9s finished\n",
      "[Parallel(n_jobs=1)]: Using backend SequentialBackend with 1 concurrent workers.\n"
     ]
    },
    {
     "name": "stdout",
     "output_type": "stream",
     "text": [
      "[CV] END .................................................... total time=   0.8s\n"
     ]
    },
    {
     "name": "stderr",
     "output_type": "stream",
     "text": [
      "[Parallel(n_jobs=1)]: Done   1 out of   1 | elapsed:    0.8s remaining:    0.0s\n"
     ]
    },
    {
     "name": "stdout",
     "output_type": "stream",
     "text": [
      "[CV] END .................................................... total time=   0.9s\n",
      "[CV] END .................................................... total time=   0.8s\n",
      "[CV] END .................................................... total time=   0.8s\n",
      "[CV] END .................................................... total time=   0.6s\n"
     ]
    },
    {
     "name": "stderr",
     "output_type": "stream",
     "text": [
      "[Parallel(n_jobs=1)]: Done   5 out of   5 | elapsed:    4.4s finished\n"
     ]
    },
    {
     "data": {
      "text/plain": [
       "(0.1042549832330831, -3.6961069489397524)"
      ]
     },
     "execution_count": 124,
     "metadata": {},
     "output_type": "execute_result"
    }
   ],
   "source": [
    "(np.mean(cross_val_score(rf_best, X, y, cv=KFold(5), verbose=2)),\n",
    " np.mean(cross_val_score(rf_best, X, y, cv=KFold(5), verbose=2, scoring=\"neg_mean_absolute_error\")))"
   ]
  },
  {
   "cell_type": "code",
   "execution_count": 125,
   "metadata": {},
   "outputs": [
    {
     "data": {
      "text/html": [
       "<div>\n",
       "<style scoped>\n",
       "    .dataframe tbody tr th:only-of-type {\n",
       "        vertical-align: middle;\n",
       "    }\n",
       "\n",
       "    .dataframe tbody tr th {\n",
       "        vertical-align: top;\n",
       "    }\n",
       "\n",
       "    .dataframe thead th {\n",
       "        text-align: right;\n",
       "    }\n",
       "</style>\n",
       "<table border=\"1\" class=\"dataframe\">\n",
       "  <thead>\n",
       "    <tr style=\"text-align: right;\">\n",
       "      <th></th>\n",
       "      <th>Butter</th>\n",
       "      <th>Cheese</th>\n",
       "      <th>Domestic milk intake</th>\n",
       "      <th>Fat content (Percent)</th>\n",
       "      <th>Heifers 200-249kg</th>\n",
       "      <th>Heifers 250-299kg</th>\n",
       "      <th>Heifers 300-349kg</th>\n",
       "      <th>Heifers 350-399kg</th>\n",
       "      <th>Heifers 400-449kg</th>\n",
       "      <th>Imported milk intake</th>\n",
       "      <th>Skimmed milk sales</th>\n",
       "      <th>Skimmed milk powder</th>\n",
       "      <th>Whole milk sales</th>\n",
       "      <th>Month</th>\n",
       "    </tr>\n",
       "  </thead>\n",
       "  <tbody>\n",
       "    <tr>\n",
       "      <th>116</th>\n",
       "      <td>18.5</td>\n",
       "      <td>21.9</td>\n",
       "      <td>583.8</td>\n",
       "      <td>4.33</td>\n",
       "      <td>435.00</td>\n",
       "      <td>566.38</td>\n",
       "      <td>669.24</td>\n",
       "      <td>750.59</td>\n",
       "      <td>855.62</td>\n",
       "      <td>56.7</td>\n",
       "      <td>17.2</td>\n",
       "      <td>7.7</td>\n",
       "      <td>27.2</td>\n",
       "      <td>9</td>\n",
       "    </tr>\n",
       "    <tr>\n",
       "      <th>38</th>\n",
       "      <td>10.1</td>\n",
       "      <td>15.5</td>\n",
       "      <td>382.1</td>\n",
       "      <td>3.89</td>\n",
       "      <td>374.87</td>\n",
       "      <td>452.19</td>\n",
       "      <td>515.64</td>\n",
       "      <td>583.73</td>\n",
       "      <td>657.74</td>\n",
       "      <td>33.9</td>\n",
       "      <td>15.4</td>\n",
       "      <td>1.3</td>\n",
       "      <td>29.1</td>\n",
       "      <td>3</td>\n",
       "    </tr>\n",
       "    <tr>\n",
       "      <th>155</th>\n",
       "      <td>10.9</td>\n",
       "      <td>5.4</td>\n",
       "      <td>241.4</td>\n",
       "      <td>4.58</td>\n",
       "      <td>449.38</td>\n",
       "      <td>493.91</td>\n",
       "      <td>601.98</td>\n",
       "      <td>720.53</td>\n",
       "      <td>831.40</td>\n",
       "      <td>0.0</td>\n",
       "      <td>16.1</td>\n",
       "      <td>10.2</td>\n",
       "      <td>25.8</td>\n",
       "      <td>12</td>\n",
       "    </tr>\n",
       "    <tr>\n",
       "      <th>160</th>\n",
       "      <td>29.8</td>\n",
       "      <td>31.6</td>\n",
       "      <td>1115.3</td>\n",
       "      <td>3.87</td>\n",
       "      <td>593.33</td>\n",
       "      <td>661.74</td>\n",
       "      <td>741.01</td>\n",
       "      <td>853.84</td>\n",
       "      <td>903.46</td>\n",
       "      <td>0.0</td>\n",
       "      <td>15.7</td>\n",
       "      <td>24.6</td>\n",
       "      <td>31.6</td>\n",
       "      <td>5</td>\n",
       "    </tr>\n",
       "    <tr>\n",
       "      <th>93</th>\n",
       "      <td>13.5</td>\n",
       "      <td>14.8</td>\n",
       "      <td>426.3</td>\n",
       "      <td>4.49</td>\n",
       "      <td>508.42</td>\n",
       "      <td>584.94</td>\n",
       "      <td>679.65</td>\n",
       "      <td>774.27</td>\n",
       "      <td>863.35</td>\n",
       "      <td>37.4</td>\n",
       "      <td>16.5</td>\n",
       "      <td>0.0</td>\n",
       "      <td>23.6</td>\n",
       "      <td>10</td>\n",
       "    </tr>\n",
       "    <tr>\n",
       "      <th>...</th>\n",
       "      <td>...</td>\n",
       "      <td>...</td>\n",
       "      <td>...</td>\n",
       "      <td>...</td>\n",
       "      <td>...</td>\n",
       "      <td>...</td>\n",
       "      <td>...</td>\n",
       "      <td>...</td>\n",
       "      <td>...</td>\n",
       "      <td>...</td>\n",
       "      <td>...</td>\n",
       "      <td>...</td>\n",
       "      <td>...</td>\n",
       "      <td>...</td>\n",
       "    </tr>\n",
       "    <tr>\n",
       "      <th>115</th>\n",
       "      <td>20.3</td>\n",
       "      <td>23.3</td>\n",
       "      <td>699.3</td>\n",
       "      <td>4.08</td>\n",
       "      <td>540.33</td>\n",
       "      <td>605.63</td>\n",
       "      <td>696.53</td>\n",
       "      <td>785.09</td>\n",
       "      <td>884.48</td>\n",
       "      <td>50.8</td>\n",
       "      <td>18.2</td>\n",
       "      <td>11.0</td>\n",
       "      <td>26.8</td>\n",
       "      <td>8</td>\n",
       "    </tr>\n",
       "    <tr>\n",
       "      <th>48</th>\n",
       "      <td>4.0</td>\n",
       "      <td>2.5</td>\n",
       "      <td>146.7</td>\n",
       "      <td>3.99</td>\n",
       "      <td>445.22</td>\n",
       "      <td>541.00</td>\n",
       "      <td>614.39</td>\n",
       "      <td>663.88</td>\n",
       "      <td>737.82</td>\n",
       "      <td>28.8</td>\n",
       "      <td>14.5</td>\n",
       "      <td>0.0</td>\n",
       "      <td>27.6</td>\n",
       "      <td>1</td>\n",
       "    </tr>\n",
       "    <tr>\n",
       "      <th>108</th>\n",
       "      <td>5.0</td>\n",
       "      <td>2.0</td>\n",
       "      <td>147.6</td>\n",
       "      <td>4.17</td>\n",
       "      <td>534.57</td>\n",
       "      <td>660.13</td>\n",
       "      <td>748.13</td>\n",
       "      <td>817.96</td>\n",
       "      <td>902.65</td>\n",
       "      <td>78.6</td>\n",
       "      <td>17.8</td>\n",
       "      <td>4.4</td>\n",
       "      <td>24.7</td>\n",
       "      <td>1</td>\n",
       "    </tr>\n",
       "    <tr>\n",
       "      <th>154</th>\n",
       "      <td>15.1</td>\n",
       "      <td>23.5</td>\n",
       "      <td>418.1</td>\n",
       "      <td>4.84</td>\n",
       "      <td>367.00</td>\n",
       "      <td>475.32</td>\n",
       "      <td>580.84</td>\n",
       "      <td>685.79</td>\n",
       "      <td>792.25</td>\n",
       "      <td>0.0</td>\n",
       "      <td>16.9</td>\n",
       "      <td>0.0</td>\n",
       "      <td>26.8</td>\n",
       "      <td>11</td>\n",
       "    </tr>\n",
       "    <tr>\n",
       "      <th>23</th>\n",
       "      <td>4.7</td>\n",
       "      <td>4.7</td>\n",
       "      <td>151.3</td>\n",
       "      <td>4.05</td>\n",
       "      <td>358.54</td>\n",
       "      <td>439.71</td>\n",
       "      <td>523.56</td>\n",
       "      <td>590.67</td>\n",
       "      <td>660.95</td>\n",
       "      <td>32.4</td>\n",
       "      <td>13.4</td>\n",
       "      <td>0.0</td>\n",
       "      <td>29.4</td>\n",
       "      <td>12</td>\n",
       "    </tr>\n",
       "  </tbody>\n",
       "</table>\n",
       "<p>135 rows × 14 columns</p>\n",
       "</div>"
      ],
      "text/plain": [
       "     Butter  Cheese  Domestic milk intake  Fat content (Percent)  \\\n",
       "116    18.5    21.9                 583.8                   4.33   \n",
       "38     10.1    15.5                 382.1                   3.89   \n",
       "155    10.9     5.4                 241.4                   4.58   \n",
       "160    29.8    31.6                1115.3                   3.87   \n",
       "93     13.5    14.8                 426.3                   4.49   \n",
       "..      ...     ...                   ...                    ...   \n",
       "115    20.3    23.3                 699.3                   4.08   \n",
       "48      4.0     2.5                 146.7                   3.99   \n",
       "108     5.0     2.0                 147.6                   4.17   \n",
       "154    15.1    23.5                 418.1                   4.84   \n",
       "23      4.7     4.7                 151.3                   4.05   \n",
       "\n",
       "     Heifers 200-249kg  Heifers 250-299kg  Heifers 300-349kg  \\\n",
       "116             435.00             566.38             669.24   \n",
       "38              374.87             452.19             515.64   \n",
       "155             449.38             493.91             601.98   \n",
       "160             593.33             661.74             741.01   \n",
       "93              508.42             584.94             679.65   \n",
       "..                 ...                ...                ...   \n",
       "115             540.33             605.63             696.53   \n",
       "48              445.22             541.00             614.39   \n",
       "108             534.57             660.13             748.13   \n",
       "154             367.00             475.32             580.84   \n",
       "23              358.54             439.71             523.56   \n",
       "\n",
       "     Heifers 350-399kg  Heifers 400-449kg  Imported milk intake  \\\n",
       "116             750.59             855.62                  56.7   \n",
       "38              583.73             657.74                  33.9   \n",
       "155             720.53             831.40                   0.0   \n",
       "160             853.84             903.46                   0.0   \n",
       "93              774.27             863.35                  37.4   \n",
       "..                 ...                ...                   ...   \n",
       "115             785.09             884.48                  50.8   \n",
       "48              663.88             737.82                  28.8   \n",
       "108             817.96             902.65                  78.6   \n",
       "154             685.79             792.25                   0.0   \n",
       "23              590.67             660.95                  32.4   \n",
       "\n",
       "     Skimmed milk sales  Skimmed milk powder  Whole milk sales  Month  \n",
       "116                17.2                  7.7              27.2      9  \n",
       "38                 15.4                  1.3              29.1      3  \n",
       "155                16.1                 10.2              25.8     12  \n",
       "160                15.7                 24.6              31.6      5  \n",
       "93                 16.5                  0.0              23.6     10  \n",
       "..                  ...                  ...               ...    ...  \n",
       "115                18.2                 11.0              26.8      8  \n",
       "48                 14.5                  0.0              27.6      1  \n",
       "108                17.8                  4.4              24.7      1  \n",
       "154                16.9                  0.0              26.8     11  \n",
       "23                 13.4                  0.0              29.4     12  \n",
       "\n",
       "[135 rows x 14 columns]"
      ]
     },
     "execution_count": 125,
     "metadata": {},
     "output_type": "execute_result"
    }
   ],
   "source": [
    "X_train"
   ]
  },
  {
   "cell_type": "code",
   "execution_count": 126,
   "metadata": {},
   "outputs": [
    {
     "data": {
      "text/html": [
       "<div>\n",
       "<style scoped>\n",
       "    .dataframe tbody tr th:only-of-type {\n",
       "        vertical-align: middle;\n",
       "    }\n",
       "\n",
       "    .dataframe tbody tr th {\n",
       "        vertical-align: top;\n",
       "    }\n",
       "\n",
       "    .dataframe thead th {\n",
       "        text-align: right;\n",
       "    }\n",
       "</style>\n",
       "<table border=\"1\" class=\"dataframe\">\n",
       "  <thead>\n",
       "    <tr style=\"text-align: right;\">\n",
       "      <th></th>\n",
       "      <th>Butter</th>\n",
       "      <th>Cheese</th>\n",
       "      <th>Domestic milk intake</th>\n",
       "      <th>Fat content (Percent)</th>\n",
       "      <th>Heifers 200-249kg</th>\n",
       "      <th>Heifers 250-299kg</th>\n",
       "      <th>Heifers 300-349kg</th>\n",
       "      <th>Heifers 350-399kg</th>\n",
       "      <th>Heifers 400-449kg</th>\n",
       "      <th>Imported milk intake</th>\n",
       "      <th>Skimmed milk sales</th>\n",
       "      <th>Skimmed milk powder</th>\n",
       "      <th>Whole milk sales</th>\n",
       "      <th>Month</th>\n",
       "    </tr>\n",
       "  </thead>\n",
       "  <tbody>\n",
       "    <tr>\n",
       "      <th>14</th>\n",
       "      <td>9.4</td>\n",
       "      <td>13.7</td>\n",
       "      <td>379.8</td>\n",
       "      <td>3.83</td>\n",
       "      <td>458.72</td>\n",
       "      <td>521.06</td>\n",
       "      <td>602.46</td>\n",
       "      <td>662.80</td>\n",
       "      <td>737.54</td>\n",
       "      <td>40.7</td>\n",
       "      <td>13.4</td>\n",
       "      <td>2.3</td>\n",
       "      <td>29.8</td>\n",
       "      <td>3</td>\n",
       "    </tr>\n",
       "    <tr>\n",
       "      <th>148</th>\n",
       "      <td>31.0</td>\n",
       "      <td>31.7</td>\n",
       "      <td>1072.2</td>\n",
       "      <td>3.85</td>\n",
       "      <td>446.33</td>\n",
       "      <td>562.41</td>\n",
       "      <td>670.29</td>\n",
       "      <td>782.83</td>\n",
       "      <td>910.06</td>\n",
       "      <td>55.5</td>\n",
       "      <td>17.2</td>\n",
       "      <td>24.2</td>\n",
       "      <td>28.2</td>\n",
       "      <td>5</td>\n",
       "    </tr>\n",
       "    <tr>\n",
       "      <th>62</th>\n",
       "      <td>13.9</td>\n",
       "      <td>18.1</td>\n",
       "      <td>473.0</td>\n",
       "      <td>3.99</td>\n",
       "      <td>643.39</td>\n",
       "      <td>753.95</td>\n",
       "      <td>836.96</td>\n",
       "      <td>926.91</td>\n",
       "      <td>1019.91</td>\n",
       "      <td>32.3</td>\n",
       "      <td>16.4</td>\n",
       "      <td>2.5</td>\n",
       "      <td>26.6</td>\n",
       "      <td>3</td>\n",
       "    </tr>\n",
       "    <tr>\n",
       "      <th>133</th>\n",
       "      <td>9.5</td>\n",
       "      <td>8.6</td>\n",
       "      <td>294.2</td>\n",
       "      <td>4.25</td>\n",
       "      <td>523.60</td>\n",
       "      <td>610.55</td>\n",
       "      <td>717.41</td>\n",
       "      <td>822.83</td>\n",
       "      <td>908.00</td>\n",
       "      <td>67.5</td>\n",
       "      <td>16.8</td>\n",
       "      <td>0.0</td>\n",
       "      <td>26.6</td>\n",
       "      <td>2</td>\n",
       "    </tr>\n",
       "    <tr>\n",
       "      <th>173</th>\n",
       "      <td>31.5</td>\n",
       "      <td>35.7</td>\n",
       "      <td>1067.3</td>\n",
       "      <td>3.97</td>\n",
       "      <td>485.51</td>\n",
       "      <td>608.60</td>\n",
       "      <td>730.25</td>\n",
       "      <td>844.54</td>\n",
       "      <td>965.24</td>\n",
       "      <td>0.0</td>\n",
       "      <td>15.0</td>\n",
       "      <td>19.3</td>\n",
       "      <td>29.7</td>\n",
       "      <td>6</td>\n",
       "    </tr>\n",
       "    <tr>\n",
       "      <th>175</th>\n",
       "      <td>28.8</td>\n",
       "      <td>29.3</td>\n",
       "      <td>917.4</td>\n",
       "      <td>4.19</td>\n",
       "      <td>480.00</td>\n",
       "      <td>598.07</td>\n",
       "      <td>689.20</td>\n",
       "      <td>801.61</td>\n",
       "      <td>913.59</td>\n",
       "      <td>0.0</td>\n",
       "      <td>15.8</td>\n",
       "      <td>16.4</td>\n",
       "      <td>29.0</td>\n",
       "      <td>8</td>\n",
       "    </tr>\n",
       "    <tr>\n",
       "      <th>74</th>\n",
       "      <td>12.1</td>\n",
       "      <td>17.9</td>\n",
       "      <td>468.1</td>\n",
       "      <td>3.97</td>\n",
       "      <td>522.05</td>\n",
       "      <td>619.77</td>\n",
       "      <td>732.02</td>\n",
       "      <td>826.26</td>\n",
       "      <td>942.24</td>\n",
       "      <td>37.1</td>\n",
       "      <td>15.9</td>\n",
       "      <td>3.0</td>\n",
       "      <td>25.3</td>\n",
       "      <td>3</td>\n",
       "    </tr>\n",
       "    <tr>\n",
       "      <th>131</th>\n",
       "      <td>11.4</td>\n",
       "      <td>5.0</td>\n",
       "      <td>205.5</td>\n",
       "      <td>4.57</td>\n",
       "      <td>467.38</td>\n",
       "      <td>551.46</td>\n",
       "      <td>636.88</td>\n",
       "      <td>765.40</td>\n",
       "      <td>877.70</td>\n",
       "      <td>0.0</td>\n",
       "      <td>17.3</td>\n",
       "      <td>0.0</td>\n",
       "      <td>27.1</td>\n",
       "      <td>12</td>\n",
       "    </tr>\n",
       "    <tr>\n",
       "      <th>69</th>\n",
       "      <td>10.0</td>\n",
       "      <td>15.0</td>\n",
       "      <td>364.3</td>\n",
       "      <td>4.34</td>\n",
       "      <td>446.00</td>\n",
       "      <td>516.86</td>\n",
       "      <td>631.03</td>\n",
       "      <td>730.85</td>\n",
       "      <td>851.75</td>\n",
       "      <td>28.3</td>\n",
       "      <td>15.6</td>\n",
       "      <td>0.0</td>\n",
       "      <td>25.3</td>\n",
       "      <td>10</td>\n",
       "    </tr>\n",
       "    <tr>\n",
       "      <th>57</th>\n",
       "      <td>11.4</td>\n",
       "      <td>12.2</td>\n",
       "      <td>377.7</td>\n",
       "      <td>4.33</td>\n",
       "      <td>524.12</td>\n",
       "      <td>627.50</td>\n",
       "      <td>679.09</td>\n",
       "      <td>762.47</td>\n",
       "      <td>831.43</td>\n",
       "      <td>26.7</td>\n",
       "      <td>15.2</td>\n",
       "      <td>3.1</td>\n",
       "      <td>26.3</td>\n",
       "      <td>10</td>\n",
       "    </tr>\n",
       "    <tr>\n",
       "      <th>1</th>\n",
       "      <td>5.0</td>\n",
       "      <td>2.4</td>\n",
       "      <td>185.4</td>\n",
       "      <td>3.87</td>\n",
       "      <td>386.08</td>\n",
       "      <td>462.94</td>\n",
       "      <td>539.81</td>\n",
       "      <td>587.47</td>\n",
       "      <td>646.99</td>\n",
       "      <td>38.0</td>\n",
       "      <td>12.6</td>\n",
       "      <td>1.9</td>\n",
       "      <td>29.3</td>\n",
       "      <td>2</td>\n",
       "    </tr>\n",
       "    <tr>\n",
       "      <th>34</th>\n",
       "      <td>6.1</td>\n",
       "      <td>7.3</td>\n",
       "      <td>220.8</td>\n",
       "      <td>4.28</td>\n",
       "      <td>288.00</td>\n",
       "      <td>381.14</td>\n",
       "      <td>449.24</td>\n",
       "      <td>515.80</td>\n",
       "      <td>604.74</td>\n",
       "      <td>0.0</td>\n",
       "      <td>13.7</td>\n",
       "      <td>0.0</td>\n",
       "      <td>27.2</td>\n",
       "      <td>11</td>\n",
       "    </tr>\n",
       "    <tr>\n",
       "      <th>92</th>\n",
       "      <td>15.7</td>\n",
       "      <td>22.1</td>\n",
       "      <td>519.2</td>\n",
       "      <td>4.17</td>\n",
       "      <td>478.33</td>\n",
       "      <td>574.39</td>\n",
       "      <td>652.47</td>\n",
       "      <td>748.98</td>\n",
       "      <td>842.18</td>\n",
       "      <td>38.6</td>\n",
       "      <td>16.0</td>\n",
       "      <td>4.9</td>\n",
       "      <td>23.2</td>\n",
       "      <td>9</td>\n",
       "    </tr>\n",
       "    <tr>\n",
       "      <th>71</th>\n",
       "      <td>4.1</td>\n",
       "      <td>2.3</td>\n",
       "      <td>136.2</td>\n",
       "      <td>4.14</td>\n",
       "      <td>475.60</td>\n",
       "      <td>576.64</td>\n",
       "      <td>622.31</td>\n",
       "      <td>737.52</td>\n",
       "      <td>852.57</td>\n",
       "      <td>31.1</td>\n",
       "      <td>14.8</td>\n",
       "      <td>0.0</td>\n",
       "      <td>25.5</td>\n",
       "      <td>12</td>\n",
       "    </tr>\n",
       "    <tr>\n",
       "      <th>87</th>\n",
       "      <td>17.3</td>\n",
       "      <td>22.8</td>\n",
       "      <td>697.0</td>\n",
       "      <td>3.87</td>\n",
       "      <td>472.67</td>\n",
       "      <td>589.84</td>\n",
       "      <td>689.85</td>\n",
       "      <td>806.49</td>\n",
       "      <td>908.97</td>\n",
       "      <td>43.6</td>\n",
       "      <td>15.0</td>\n",
       "      <td>6.5</td>\n",
       "      <td>21.9</td>\n",
       "      <td>4</td>\n",
       "    </tr>\n",
       "    <tr>\n",
       "      <th>150</th>\n",
       "      <td>28.2</td>\n",
       "      <td>28.6</td>\n",
       "      <td>943.2</td>\n",
       "      <td>3.96</td>\n",
       "      <td>441.51</td>\n",
       "      <td>517.36</td>\n",
       "      <td>627.91</td>\n",
       "      <td>722.09</td>\n",
       "      <td>827.06</td>\n",
       "      <td>53.3</td>\n",
       "      <td>15.7</td>\n",
       "      <td>19.1</td>\n",
       "      <td>29.1</td>\n",
       "      <td>7</td>\n",
       "    </tr>\n",
       "    <tr>\n",
       "      <th>104</th>\n",
       "      <td>18.8</td>\n",
       "      <td>26.8</td>\n",
       "      <td>605.7</td>\n",
       "      <td>4.24</td>\n",
       "      <td>568.00</td>\n",
       "      <td>614.69</td>\n",
       "      <td>726.91</td>\n",
       "      <td>833.69</td>\n",
       "      <td>929.82</td>\n",
       "      <td>39.6</td>\n",
       "      <td>17.6</td>\n",
       "      <td>10.9</td>\n",
       "      <td>24.5</td>\n",
       "      <td>9</td>\n",
       "    </tr>\n",
       "    <tr>\n",
       "      <th>84</th>\n",
       "      <td>4.4</td>\n",
       "      <td>2.3</td>\n",
       "      <td>132.0</td>\n",
       "      <td>4.11</td>\n",
       "      <td>498.38</td>\n",
       "      <td>597.40</td>\n",
       "      <td>704.50</td>\n",
       "      <td>789.13</td>\n",
       "      <td>867.04</td>\n",
       "      <td>38.8</td>\n",
       "      <td>16.9</td>\n",
       "      <td>0.0</td>\n",
       "      <td>23.5</td>\n",
       "      <td>1</td>\n",
       "    </tr>\n",
       "    <tr>\n",
       "      <th>9</th>\n",
       "      <td>10.3</td>\n",
       "      <td>12.4</td>\n",
       "      <td>409.1</td>\n",
       "      <td>4.12</td>\n",
       "      <td>340.89</td>\n",
       "      <td>394.95</td>\n",
       "      <td>465.17</td>\n",
       "      <td>537.92</td>\n",
       "      <td>611.52</td>\n",
       "      <td>33.7</td>\n",
       "      <td>13.5</td>\n",
       "      <td>4.0</td>\n",
       "      <td>31.9</td>\n",
       "      <td>10</td>\n",
       "    </tr>\n",
       "    <tr>\n",
       "      <th>63</th>\n",
       "      <td>16.9</td>\n",
       "      <td>22.0</td>\n",
       "      <td>637.2</td>\n",
       "      <td>3.81</td>\n",
       "      <td>611.18</td>\n",
       "      <td>705.56</td>\n",
       "      <td>801.97</td>\n",
       "      <td>902.62</td>\n",
       "      <td>1006.71</td>\n",
       "      <td>38.9</td>\n",
       "      <td>15.1</td>\n",
       "      <td>6.3</td>\n",
       "      <td>24.1</td>\n",
       "      <td>4</td>\n",
       "    </tr>\n",
       "    <tr>\n",
       "      <th>144</th>\n",
       "      <td>8.2</td>\n",
       "      <td>3.6</td>\n",
       "      <td>175.3</td>\n",
       "      <td>4.21</td>\n",
       "      <td>466.76</td>\n",
       "      <td>541.53</td>\n",
       "      <td>631.18</td>\n",
       "      <td>766.40</td>\n",
       "      <td>835.39</td>\n",
       "      <td>71.3</td>\n",
       "      <td>17.9</td>\n",
       "      <td>5.2</td>\n",
       "      <td>26.9</td>\n",
       "      <td>1</td>\n",
       "    </tr>\n",
       "    <tr>\n",
       "      <th>42</th>\n",
       "      <td>16.0</td>\n",
       "      <td>20.2</td>\n",
       "      <td>625.2</td>\n",
       "      <td>3.75</td>\n",
       "      <td>333.82</td>\n",
       "      <td>442.50</td>\n",
       "      <td>524.75</td>\n",
       "      <td>592.37</td>\n",
       "      <td>670.09</td>\n",
       "      <td>30.9</td>\n",
       "      <td>14.2</td>\n",
       "      <td>8.0</td>\n",
       "      <td>26.6</td>\n",
       "      <td>7</td>\n",
       "    </tr>\n",
       "    <tr>\n",
       "      <th>166</th>\n",
       "      <td>17.6</td>\n",
       "      <td>21.4</td>\n",
       "      <td>449.8</td>\n",
       "      <td>4.86</td>\n",
       "      <td>431.25</td>\n",
       "      <td>514.29</td>\n",
       "      <td>636.42</td>\n",
       "      <td>740.91</td>\n",
       "      <td>834.40</td>\n",
       "      <td>0.0</td>\n",
       "      <td>14.5</td>\n",
       "      <td>0.0</td>\n",
       "      <td>25.0</td>\n",
       "      <td>11</td>\n",
       "    </tr>\n",
       "    <tr>\n",
       "      <th>52</th>\n",
       "      <td>19.0</td>\n",
       "      <td>24.7</td>\n",
       "      <td>737.9</td>\n",
       "      <td>3.69</td>\n",
       "      <td>495.43</td>\n",
       "      <td>582.13</td>\n",
       "      <td>658.38</td>\n",
       "      <td>740.76</td>\n",
       "      <td>829.63</td>\n",
       "      <td>35.7</td>\n",
       "      <td>15.0</td>\n",
       "      <td>8.5</td>\n",
       "      <td>27.3</td>\n",
       "      <td>5</td>\n",
       "    </tr>\n",
       "    <tr>\n",
       "      <th>122</th>\n",
       "      <td>20.3</td>\n",
       "      <td>20.3</td>\n",
       "      <td>620.9</td>\n",
       "      <td>4.14</td>\n",
       "      <td>543.93</td>\n",
       "      <td>635.54</td>\n",
       "      <td>737.95</td>\n",
       "      <td>832.43</td>\n",
       "      <td>931.48</td>\n",
       "      <td>74.6</td>\n",
       "      <td>18.8</td>\n",
       "      <td>5.5</td>\n",
       "      <td>27.7</td>\n",
       "      <td>3</td>\n",
       "    </tr>\n",
       "    <tr>\n",
       "      <th>127</th>\n",
       "      <td>23.3</td>\n",
       "      <td>21.0</td>\n",
       "      <td>786.6</td>\n",
       "      <td>4.08</td>\n",
       "      <td>534.06</td>\n",
       "      <td>607.90</td>\n",
       "      <td>690.06</td>\n",
       "      <td>795.18</td>\n",
       "      <td>903.86</td>\n",
       "      <td>61.4</td>\n",
       "      <td>17.8</td>\n",
       "      <td>11.5</td>\n",
       "      <td>27.6</td>\n",
       "      <td>8</td>\n",
       "    </tr>\n",
       "    <tr>\n",
       "      <th>145</th>\n",
       "      <td>10.6</td>\n",
       "      <td>9.2</td>\n",
       "      <td>303.6</td>\n",
       "      <td>4.32</td>\n",
       "      <td>475.98</td>\n",
       "      <td>563.93</td>\n",
       "      <td>704.12</td>\n",
       "      <td>808.93</td>\n",
       "      <td>878.64</td>\n",
       "      <td>71.1</td>\n",
       "      <td>16.6</td>\n",
       "      <td>0.0</td>\n",
       "      <td>25.3</td>\n",
       "      <td>2</td>\n",
       "    </tr>\n",
       "    <tr>\n",
       "      <th>70</th>\n",
       "      <td>7.8</td>\n",
       "      <td>6.2</td>\n",
       "      <td>227.7</td>\n",
       "      <td>4.38</td>\n",
       "      <td>511.91</td>\n",
       "      <td>517.69</td>\n",
       "      <td>632.79</td>\n",
       "      <td>742.64</td>\n",
       "      <td>836.14</td>\n",
       "      <td>33.9</td>\n",
       "      <td>15.4</td>\n",
       "      <td>0.0</td>\n",
       "      <td>25.5</td>\n",
       "      <td>11</td>\n",
       "    </tr>\n",
       "    <tr>\n",
       "      <th>137</th>\n",
       "      <td>25.6</td>\n",
       "      <td>27.5</td>\n",
       "      <td>924.7</td>\n",
       "      <td>3.82</td>\n",
       "      <td>470.56</td>\n",
       "      <td>564.35</td>\n",
       "      <td>668.71</td>\n",
       "      <td>790.91</td>\n",
       "      <td>904.34</td>\n",
       "      <td>0.0</td>\n",
       "      <td>17.0</td>\n",
       "      <td>18.6</td>\n",
       "      <td>26.8</td>\n",
       "      <td>6</td>\n",
       "    </tr>\n",
       "    <tr>\n",
       "      <th>44</th>\n",
       "      <td>13.2</td>\n",
       "      <td>19.5</td>\n",
       "      <td>492.2</td>\n",
       "      <td>4.01</td>\n",
       "      <td>375.46</td>\n",
       "      <td>446.14</td>\n",
       "      <td>511.64</td>\n",
       "      <td>594.40</td>\n",
       "      <td>674.21</td>\n",
       "      <td>28.1</td>\n",
       "      <td>14.3</td>\n",
       "      <td>4.8</td>\n",
       "      <td>26.5</td>\n",
       "      <td>9</td>\n",
       "    </tr>\n",
       "    <tr>\n",
       "      <th>30</th>\n",
       "      <td>14.5</td>\n",
       "      <td>18.8</td>\n",
       "      <td>578.7</td>\n",
       "      <td>3.73</td>\n",
       "      <td>347.85</td>\n",
       "      <td>391.08</td>\n",
       "      <td>463.21</td>\n",
       "      <td>558.28</td>\n",
       "      <td>634.31</td>\n",
       "      <td>34.3</td>\n",
       "      <td>13.7</td>\n",
       "      <td>10.5</td>\n",
       "      <td>27.7</td>\n",
       "      <td>7</td>\n",
       "    </tr>\n",
       "    <tr>\n",
       "      <th>5</th>\n",
       "      <td>21.1</td>\n",
       "      <td>20.7</td>\n",
       "      <td>645.2</td>\n",
       "      <td>3.66</td>\n",
       "      <td>404.58</td>\n",
       "      <td>452.80</td>\n",
       "      <td>515.49</td>\n",
       "      <td>590.33</td>\n",
       "      <td>662.78</td>\n",
       "      <td>45.7</td>\n",
       "      <td>12.5</td>\n",
       "      <td>14.3</td>\n",
       "      <td>30.8</td>\n",
       "      <td>6</td>\n",
       "    </tr>\n",
       "    <tr>\n",
       "      <th>46</th>\n",
       "      <td>9.5</td>\n",
       "      <td>9.7</td>\n",
       "      <td>304.0</td>\n",
       "      <td>4.35</td>\n",
       "      <td>378.00</td>\n",
       "      <td>454.09</td>\n",
       "      <td>532.12</td>\n",
       "      <td>603.83</td>\n",
       "      <td>666.20</td>\n",
       "      <td>28.2</td>\n",
       "      <td>14.8</td>\n",
       "      <td>0.0</td>\n",
       "      <td>27.4</td>\n",
       "      <td>11</td>\n",
       "    </tr>\n",
       "    <tr>\n",
       "      <th>151</th>\n",
       "      <td>25.5</td>\n",
       "      <td>31.4</td>\n",
       "      <td>842.8</td>\n",
       "      <td>4.16</td>\n",
       "      <td>441.67</td>\n",
       "      <td>497.00</td>\n",
       "      <td>594.76</td>\n",
       "      <td>700.46</td>\n",
       "      <td>803.22</td>\n",
       "      <td>0.0</td>\n",
       "      <td>16.6</td>\n",
       "      <td>12.3</td>\n",
       "      <td>28.6</td>\n",
       "      <td>8</td>\n",
       "    </tr>\n",
       "    <tr>\n",
       "      <th>163</th>\n",
       "      <td>26.2</td>\n",
       "      <td>29.7</td>\n",
       "      <td>867.6</td>\n",
       "      <td>4.17</td>\n",
       "      <td>533.75</td>\n",
       "      <td>582.94</td>\n",
       "      <td>667.02</td>\n",
       "      <td>765.94</td>\n",
       "      <td>853.00</td>\n",
       "      <td>0.0</td>\n",
       "      <td>15.4</td>\n",
       "      <td>17.8</td>\n",
       "      <td>28.9</td>\n",
       "      <td>8</td>\n",
       "    </tr>\n",
       "    <tr>\n",
       "      <th>11</th>\n",
       "      <td>4.6</td>\n",
       "      <td>1.6</td>\n",
       "      <td>148.2</td>\n",
       "      <td>4.05</td>\n",
       "      <td>372.11</td>\n",
       "      <td>413.96</td>\n",
       "      <td>482.85</td>\n",
       "      <td>563.22</td>\n",
       "      <td>635.17</td>\n",
       "      <td>38.2</td>\n",
       "      <td>13.0</td>\n",
       "      <td>2.8</td>\n",
       "      <td>30.2</td>\n",
       "      <td>12</td>\n",
       "    </tr>\n",
       "    <tr>\n",
       "      <th>27</th>\n",
       "      <td>13.7</td>\n",
       "      <td>17.3</td>\n",
       "      <td>562.6</td>\n",
       "      <td>3.67</td>\n",
       "      <td>371.76</td>\n",
       "      <td>449.14</td>\n",
       "      <td>529.72</td>\n",
       "      <td>609.78</td>\n",
       "      <td>689.76</td>\n",
       "      <td>36.2</td>\n",
       "      <td>12.4</td>\n",
       "      <td>9.6</td>\n",
       "      <td>26.2</td>\n",
       "      <td>4</td>\n",
       "    </tr>\n",
       "    <tr>\n",
       "      <th>136</th>\n",
       "      <td>27.5</td>\n",
       "      <td>25.2</td>\n",
       "      <td>993.1</td>\n",
       "      <td>3.81</td>\n",
       "      <td>456.61</td>\n",
       "      <td>552.89</td>\n",
       "      <td>676.97</td>\n",
       "      <td>806.81</td>\n",
       "      <td>935.29</td>\n",
       "      <td>0.0</td>\n",
       "      <td>17.9</td>\n",
       "      <td>20.4</td>\n",
       "      <td>29.1</td>\n",
       "      <td>5</td>\n",
       "    </tr>\n",
       "    <tr>\n",
       "      <th>4</th>\n",
       "      <td>19.1</td>\n",
       "      <td>19.3</td>\n",
       "      <td>688.3</td>\n",
       "      <td>3.62</td>\n",
       "      <td>398.11</td>\n",
       "      <td>461.66</td>\n",
       "      <td>536.39</td>\n",
       "      <td>607.95</td>\n",
       "      <td>673.32</td>\n",
       "      <td>46.9</td>\n",
       "      <td>12.8</td>\n",
       "      <td>13.2</td>\n",
       "      <td>31.8</td>\n",
       "      <td>5</td>\n",
       "    </tr>\n",
       "    <tr>\n",
       "      <th>0</th>\n",
       "      <td>3.8</td>\n",
       "      <td>1.3</td>\n",
       "      <td>123.0</td>\n",
       "      <td>3.87</td>\n",
       "      <td>363.58</td>\n",
       "      <td>431.76</td>\n",
       "      <td>520.38</td>\n",
       "      <td>574.80</td>\n",
       "      <td>661.13</td>\n",
       "      <td>54.6</td>\n",
       "      <td>12.3</td>\n",
       "      <td>2.4</td>\n",
       "      <td>32.1</td>\n",
       "      <td>1</td>\n",
       "    </tr>\n",
       "    <tr>\n",
       "      <th>85</th>\n",
       "      <td>6.2</td>\n",
       "      <td>6.5</td>\n",
       "      <td>214.0</td>\n",
       "      <td>4.11</td>\n",
       "      <td>506.55</td>\n",
       "      <td>612.72</td>\n",
       "      <td>704.99</td>\n",
       "      <td>790.58</td>\n",
       "      <td>884.23</td>\n",
       "      <td>37.6</td>\n",
       "      <td>15.4</td>\n",
       "      <td>0.8</td>\n",
       "      <td>21.3</td>\n",
       "      <td>2</td>\n",
       "    </tr>\n",
       "    <tr>\n",
       "      <th>111</th>\n",
       "      <td>21.7</td>\n",
       "      <td>20.4</td>\n",
       "      <td>760.8</td>\n",
       "      <td>4.00</td>\n",
       "      <td>520.82</td>\n",
       "      <td>623.94</td>\n",
       "      <td>721.27</td>\n",
       "      <td>836.83</td>\n",
       "      <td>942.54</td>\n",
       "      <td>85.7</td>\n",
       "      <td>17.9</td>\n",
       "      <td>14.3</td>\n",
       "      <td>25.8</td>\n",
       "      <td>4</td>\n",
       "    </tr>\n",
       "    <tr>\n",
       "      <th>141</th>\n",
       "      <td>20.3</td>\n",
       "      <td>22.4</td>\n",
       "      <td>642.0</td>\n",
       "      <td>4.53</td>\n",
       "      <td>440.95</td>\n",
       "      <td>492.60</td>\n",
       "      <td>564.13</td>\n",
       "      <td>679.85</td>\n",
       "      <td>819.36</td>\n",
       "      <td>62.9</td>\n",
       "      <td>17.9</td>\n",
       "      <td>10.1</td>\n",
       "      <td>27.3</td>\n",
       "      <td>10</td>\n",
       "    </tr>\n",
       "    <tr>\n",
       "      <th>174</th>\n",
       "      <td>30.8</td>\n",
       "      <td>29.5</td>\n",
       "      <td>1017.3</td>\n",
       "      <td>3.99</td>\n",
       "      <td>515.19</td>\n",
       "      <td>623.33</td>\n",
       "      <td>723.04</td>\n",
       "      <td>837.85</td>\n",
       "      <td>941.82</td>\n",
       "      <td>0.0</td>\n",
       "      <td>15.1</td>\n",
       "      <td>17.1</td>\n",
       "      <td>30.2</td>\n",
       "      <td>7</td>\n",
       "    </tr>\n",
       "    <tr>\n",
       "      <th>68</th>\n",
       "      <td>10.8</td>\n",
       "      <td>21.4</td>\n",
       "      <td>446.6</td>\n",
       "      <td>4.13</td>\n",
       "      <td>437.14</td>\n",
       "      <td>505.04</td>\n",
       "      <td>632.16</td>\n",
       "      <td>741.25</td>\n",
       "      <td>850.70</td>\n",
       "      <td>26.7</td>\n",
       "      <td>15.2</td>\n",
       "      <td>3.6</td>\n",
       "      <td>24.5</td>\n",
       "      <td>9</td>\n",
       "    </tr>\n",
       "  </tbody>\n",
       "</table>\n",
       "</div>"
      ],
      "text/plain": [
       "     Butter  Cheese  Domestic milk intake  Fat content (Percent)  \\\n",
       "14      9.4    13.7                 379.8                   3.83   \n",
       "148    31.0    31.7                1072.2                   3.85   \n",
       "62     13.9    18.1                 473.0                   3.99   \n",
       "133     9.5     8.6                 294.2                   4.25   \n",
       "173    31.5    35.7                1067.3                   3.97   \n",
       "175    28.8    29.3                 917.4                   4.19   \n",
       "74     12.1    17.9                 468.1                   3.97   \n",
       "131    11.4     5.0                 205.5                   4.57   \n",
       "69     10.0    15.0                 364.3                   4.34   \n",
       "57     11.4    12.2                 377.7                   4.33   \n",
       "1       5.0     2.4                 185.4                   3.87   \n",
       "34      6.1     7.3                 220.8                   4.28   \n",
       "92     15.7    22.1                 519.2                   4.17   \n",
       "71      4.1     2.3                 136.2                   4.14   \n",
       "87     17.3    22.8                 697.0                   3.87   \n",
       "150    28.2    28.6                 943.2                   3.96   \n",
       "104    18.8    26.8                 605.7                   4.24   \n",
       "84      4.4     2.3                 132.0                   4.11   \n",
       "9      10.3    12.4                 409.1                   4.12   \n",
       "63     16.9    22.0                 637.2                   3.81   \n",
       "144     8.2     3.6                 175.3                   4.21   \n",
       "42     16.0    20.2                 625.2                   3.75   \n",
       "166    17.6    21.4                 449.8                   4.86   \n",
       "52     19.0    24.7                 737.9                   3.69   \n",
       "122    20.3    20.3                 620.9                   4.14   \n",
       "127    23.3    21.0                 786.6                   4.08   \n",
       "145    10.6     9.2                 303.6                   4.32   \n",
       "70      7.8     6.2                 227.7                   4.38   \n",
       "137    25.6    27.5                 924.7                   3.82   \n",
       "44     13.2    19.5                 492.2                   4.01   \n",
       "30     14.5    18.8                 578.7                   3.73   \n",
       "5      21.1    20.7                 645.2                   3.66   \n",
       "46      9.5     9.7                 304.0                   4.35   \n",
       "151    25.5    31.4                 842.8                   4.16   \n",
       "163    26.2    29.7                 867.6                   4.17   \n",
       "11      4.6     1.6                 148.2                   4.05   \n",
       "27     13.7    17.3                 562.6                   3.67   \n",
       "136    27.5    25.2                 993.1                   3.81   \n",
       "4      19.1    19.3                 688.3                   3.62   \n",
       "0       3.8     1.3                 123.0                   3.87   \n",
       "85      6.2     6.5                 214.0                   4.11   \n",
       "111    21.7    20.4                 760.8                   4.00   \n",
       "141    20.3    22.4                 642.0                   4.53   \n",
       "174    30.8    29.5                1017.3                   3.99   \n",
       "68     10.8    21.4                 446.6                   4.13   \n",
       "\n",
       "     Heifers 200-249kg  Heifers 250-299kg  Heifers 300-349kg  \\\n",
       "14              458.72             521.06             602.46   \n",
       "148             446.33             562.41             670.29   \n",
       "62              643.39             753.95             836.96   \n",
       "133             523.60             610.55             717.41   \n",
       "173             485.51             608.60             730.25   \n",
       "175             480.00             598.07             689.20   \n",
       "74              522.05             619.77             732.02   \n",
       "131             467.38             551.46             636.88   \n",
       "69              446.00             516.86             631.03   \n",
       "57              524.12             627.50             679.09   \n",
       "1               386.08             462.94             539.81   \n",
       "34              288.00             381.14             449.24   \n",
       "92              478.33             574.39             652.47   \n",
       "71              475.60             576.64             622.31   \n",
       "87              472.67             589.84             689.85   \n",
       "150             441.51             517.36             627.91   \n",
       "104             568.00             614.69             726.91   \n",
       "84              498.38             597.40             704.50   \n",
       "9               340.89             394.95             465.17   \n",
       "63              611.18             705.56             801.97   \n",
       "144             466.76             541.53             631.18   \n",
       "42              333.82             442.50             524.75   \n",
       "166             431.25             514.29             636.42   \n",
       "52              495.43             582.13             658.38   \n",
       "122             543.93             635.54             737.95   \n",
       "127             534.06             607.90             690.06   \n",
       "145             475.98             563.93             704.12   \n",
       "70              511.91             517.69             632.79   \n",
       "137             470.56             564.35             668.71   \n",
       "44              375.46             446.14             511.64   \n",
       "30              347.85             391.08             463.21   \n",
       "5               404.58             452.80             515.49   \n",
       "46              378.00             454.09             532.12   \n",
       "151             441.67             497.00             594.76   \n",
       "163             533.75             582.94             667.02   \n",
       "11              372.11             413.96             482.85   \n",
       "27              371.76             449.14             529.72   \n",
       "136             456.61             552.89             676.97   \n",
       "4               398.11             461.66             536.39   \n",
       "0               363.58             431.76             520.38   \n",
       "85              506.55             612.72             704.99   \n",
       "111             520.82             623.94             721.27   \n",
       "141             440.95             492.60             564.13   \n",
       "174             515.19             623.33             723.04   \n",
       "68              437.14             505.04             632.16   \n",
       "\n",
       "     Heifers 350-399kg  Heifers 400-449kg  Imported milk intake  \\\n",
       "14              662.80             737.54                  40.7   \n",
       "148             782.83             910.06                  55.5   \n",
       "62              926.91            1019.91                  32.3   \n",
       "133             822.83             908.00                  67.5   \n",
       "173             844.54             965.24                   0.0   \n",
       "175             801.61             913.59                   0.0   \n",
       "74              826.26             942.24                  37.1   \n",
       "131             765.40             877.70                   0.0   \n",
       "69              730.85             851.75                  28.3   \n",
       "57              762.47             831.43                  26.7   \n",
       "1               587.47             646.99                  38.0   \n",
       "34              515.80             604.74                   0.0   \n",
       "92              748.98             842.18                  38.6   \n",
       "71              737.52             852.57                  31.1   \n",
       "87              806.49             908.97                  43.6   \n",
       "150             722.09             827.06                  53.3   \n",
       "104             833.69             929.82                  39.6   \n",
       "84              789.13             867.04                  38.8   \n",
       "9               537.92             611.52                  33.7   \n",
       "63              902.62            1006.71                  38.9   \n",
       "144             766.40             835.39                  71.3   \n",
       "42              592.37             670.09                  30.9   \n",
       "166             740.91             834.40                   0.0   \n",
       "52              740.76             829.63                  35.7   \n",
       "122             832.43             931.48                  74.6   \n",
       "127             795.18             903.86                  61.4   \n",
       "145             808.93             878.64                  71.1   \n",
       "70              742.64             836.14                  33.9   \n",
       "137             790.91             904.34                   0.0   \n",
       "44              594.40             674.21                  28.1   \n",
       "30              558.28             634.31                  34.3   \n",
       "5               590.33             662.78                  45.7   \n",
       "46              603.83             666.20                  28.2   \n",
       "151             700.46             803.22                   0.0   \n",
       "163             765.94             853.00                   0.0   \n",
       "11              563.22             635.17                  38.2   \n",
       "27              609.78             689.76                  36.2   \n",
       "136             806.81             935.29                   0.0   \n",
       "4               607.95             673.32                  46.9   \n",
       "0               574.80             661.13                  54.6   \n",
       "85              790.58             884.23                  37.6   \n",
       "111             836.83             942.54                  85.7   \n",
       "141             679.85             819.36                  62.9   \n",
       "174             837.85             941.82                   0.0   \n",
       "68              741.25             850.70                  26.7   \n",
       "\n",
       "     Skimmed milk sales  Skimmed milk powder  Whole milk sales  Month  \n",
       "14                 13.4                  2.3              29.8      3  \n",
       "148                17.2                 24.2              28.2      5  \n",
       "62                 16.4                  2.5              26.6      3  \n",
       "133                16.8                  0.0              26.6      2  \n",
       "173                15.0                 19.3              29.7      6  \n",
       "175                15.8                 16.4              29.0      8  \n",
       "74                 15.9                  3.0              25.3      3  \n",
       "131                17.3                  0.0              27.1     12  \n",
       "69                 15.6                  0.0              25.3     10  \n",
       "57                 15.2                  3.1              26.3     10  \n",
       "1                  12.6                  1.9              29.3      2  \n",
       "34                 13.7                  0.0              27.2     11  \n",
       "92                 16.0                  4.9              23.2      9  \n",
       "71                 14.8                  0.0              25.5     12  \n",
       "87                 15.0                  6.5              21.9      4  \n",
       "150                15.7                 19.1              29.1      7  \n",
       "104                17.6                 10.9              24.5      9  \n",
       "84                 16.9                  0.0              23.5      1  \n",
       "9                  13.5                  4.0              31.9     10  \n",
       "63                 15.1                  6.3              24.1      4  \n",
       "144                17.9                  5.2              26.9      1  \n",
       "42                 14.2                  8.0              26.6      7  \n",
       "166                14.5                  0.0              25.0     11  \n",
       "52                 15.0                  8.5              27.3      5  \n",
       "122                18.8                  5.5              27.7      3  \n",
       "127                17.8                 11.5              27.6      8  \n",
       "145                16.6                  0.0              25.3      2  \n",
       "70                 15.4                  0.0              25.5     11  \n",
       "137                17.0                 18.6              26.8      6  \n",
       "44                 14.3                  4.8              26.5      9  \n",
       "30                 13.7                 10.5              27.7      7  \n",
       "5                  12.5                 14.3              30.8      6  \n",
       "46                 14.8                  0.0              27.4     11  \n",
       "151                16.6                 12.3              28.6      8  \n",
       "163                15.4                 17.8              28.9      8  \n",
       "11                 13.0                  2.8              30.2     12  \n",
       "27                 12.4                  9.6              26.2      4  \n",
       "136                17.9                 20.4              29.1      5  \n",
       "4                  12.8                 13.2              31.8      5  \n",
       "0                  12.3                  2.4              32.1      1  \n",
       "85                 15.4                  0.8              21.3      2  \n",
       "111                17.9                 14.3              25.8      4  \n",
       "141                17.9                 10.1              27.3     10  \n",
       "174                15.1                 17.1              30.2      7  \n",
       "68                 15.2                  3.6              24.5      9  "
      ]
     },
     "execution_count": 126,
     "metadata": {},
     "output_type": "execute_result"
    }
   ],
   "source": [
    "X_test"
   ]
  },
  {
   "cell_type": "markdown",
   "metadata": {
    "id": "jEjvyZmc0JRj"
   },
   "source": [
    "###### Fit"
   ]
  },
  {
   "cell_type": "code",
   "execution_count": 127,
   "metadata": {
    "id": "wiU805Fn0JRk"
   },
   "outputs": [],
   "source": [
    "rf_best.fit(X_train, y_train)\n",
    "ybrf = rf_best.predict(X_test)"
   ]
  },
  {
   "cell_type": "markdown",
   "metadata": {
    "id": "PRFHQLb90JRk"
   },
   "source": [
    "###### Results"
   ]
  },
  {
   "cell_type": "code",
   "execution_count": 128,
   "metadata": {
    "id": "-MlxR4uy0JRk"
   },
   "outputs": [
    {
     "data": {
      "text/plain": [
       "array([34.97108996, 33.19757135, 31.10815026, 34.5091964 , 32.3000421 ,\n",
       "       34.35457088, 33.13079903, 38.79322207, 38.01543463, 37.40663725,\n",
       "       28.60968499, 32.83186666, 37.0091843 , 36.25074888, 35.41937209,\n",
       "       32.73911411, 33.74564663, 35.38891571, 31.14642433, 30.21448205,\n",
       "       34.8226295 , 29.90862064, 39.9186443 , 34.01996226, 30.03947154,\n",
       "       32.68681519, 35.37002482, 37.5837728 , 33.644747  , 32.73962207,\n",
       "       28.58474592, 30.10816886, 35.11779974, 33.47001973, 33.31657645,\n",
       "       31.46412047, 29.29349809, 33.47282074, 29.57890057, 29.57925069,\n",
       "       35.1714623 , 31.63659309, 36.2372487 , 33.13248663, 36.9509887 ])"
      ]
     },
     "execution_count": 128,
     "metadata": {},
     "output_type": "execute_result"
    }
   ],
   "source": [
    "ybrf"
   ]
  },
  {
   "cell_type": "markdown",
   "metadata": {
    "id": "_EuEWFcS0JRk"
   },
   "source": [
    "###### Absolute error"
   ]
  },
  {
   "cell_type": "code",
   "execution_count": 129,
   "metadata": {
    "id": "Gt5JSQKE0JRk"
   },
   "outputs": [
    {
     "data": {
      "text/plain": [
       "3.1752967417493214"
      ]
     },
     "execution_count": 129,
     "metadata": {},
     "output_type": "execute_result"
    }
   ],
   "source": [
    "mean_absolute_error(ybrf, y_test)"
   ]
  },
  {
   "cell_type": "markdown",
   "metadata": {
    "id": "zAtd5L-X0JRk"
   },
   "source": [
    "##### 4. Best model from 3 with RFE applied"
   ]
  },
  {
   "cell_type": "markdown",
   "metadata": {
    "id": "pzsxGsWj0JRk"
   },
   "source": [
    "##### Apply RFE (with cross-validation) "
   ]
  },
  {
   "cell_type": "code",
   "execution_count": 130,
   "metadata": {
    "id": "LQn5HuY20JRk"
   },
   "outputs": [
    {
     "name": "stdout",
     "output_type": "stream",
     "text": [
      "Fitting estimator with 14 features.\n",
      "Fitting estimator with 13 features.\n"
     ]
    },
    {
     "data": {
      "text/plain": [
       "RFECV(cv=5,\n",
       "      estimator=RandomForestRegressor(max_depth=10, max_features='sqrt',\n",
       "                                      min_samples_leaf=4, min_samples_split=10,\n",
       "                                      n_estimators=900, n_jobs=-1,\n",
       "                                      random_state=22122),\n",
       "      min_features_to_select=7, n_jobs=-1, verbose=2)"
      ]
     },
     "execution_count": 130,
     "metadata": {},
     "output_type": "execute_result"
    }
   ],
   "source": [
    "#Clone best performing model of previous section\n",
    "rf_best2 = clone(rf_best)\n",
    "\n",
    "#Create Random Feature elimination for above model\n",
    "selector = RFECV(rf_best2, cv=5, step=1, n_jobs=-1, verbose=2, min_features_to_select=len(X.columns) // 2)\n",
    "\n",
    "#Fit all data\n",
    "selector.fit(X, y)"
   ]
  },
  {
   "cell_type": "code",
   "execution_count": 131,
   "metadata": {
    "id": "K_DS6bcZ0JRk"
   },
   "outputs": [
    {
     "data": {
      "text/plain": [
       "array([1, 3, 2, 1, 1, 1, 1, 1, 1, 1, 1, 1, 1, 1])"
      ]
     },
     "execution_count": 131,
     "metadata": {},
     "output_type": "execute_result"
    }
   ],
   "source": [
    "selector.ranking_"
   ]
  },
  {
   "cell_type": "code",
   "execution_count": 132,
   "metadata": {
    "id": "TDEMwAI70JRk"
   },
   "outputs": [
    {
     "data": {
      "text/plain": [
       "Index(['Butter', 'Cheese', 'Domestic milk intake', 'Fat content (Percent)',\n",
       "       'Heifers 200-249kg', 'Heifers 250-299kg', 'Heifers 300-349kg',\n",
       "       'Heifers 350-399kg', 'Heifers 400-449kg', 'Imported milk intake',\n",
       "       'Skimmed milk sales', 'Skimmed milk powder', 'Whole milk sales',\n",
       "       'Month'],\n",
       "      dtype='object')"
      ]
     },
     "execution_count": 132,
     "metadata": {},
     "output_type": "execute_result"
    }
   ],
   "source": [
    "X.columns"
   ]
  },
  {
   "cell_type": "markdown",
   "metadata": {
    "id": "zk96fQo50JRl"
   },
   "source": [
    "##### Define model with new data"
   ]
  },
  {
   "cell_type": "code",
   "execution_count": 133,
   "metadata": {
    "id": "VoFQcBxE0JRl"
   },
   "outputs": [],
   "source": [
    "rankings = selector.ranking_\n",
    "columns_to_choose = [X.columns[i] for i in range(len(X.columns)) if rankings[i] == 1]\n",
    "rfe_rfX_best = X[columns_to_choose]\n",
    "rfe_rfX_best_train = X_train[columns_to_choose]\n",
    "rfe_rfX_best_test = X_test[columns_to_choose]"
   ]
  },
  {
   "cell_type": "markdown",
   "metadata": {
    "id": "1aImk01o0JRl"
   },
   "source": [
    "##### Cross validation (both accuracy and absolute error)"
   ]
  },
  {
   "cell_type": "code",
   "execution_count": 134,
   "metadata": {
    "id": "uQKpy2rw0JRl"
   },
   "outputs": [
    {
     "name": "stderr",
     "output_type": "stream",
     "text": [
      "[Parallel(n_jobs=1)]: Using backend SequentialBackend with 1 concurrent workers.\n"
     ]
    },
    {
     "name": "stdout",
     "output_type": "stream",
     "text": [
      "[CV] END .................................................... total time=   1.2s\n"
     ]
    },
    {
     "name": "stderr",
     "output_type": "stream",
     "text": [
      "[Parallel(n_jobs=1)]: Done   1 out of   1 | elapsed:    1.2s remaining:    0.0s\n"
     ]
    },
    {
     "name": "stdout",
     "output_type": "stream",
     "text": [
      "[CV] END .................................................... total time=   0.9s\n",
      "[CV] END .................................................... total time=   0.9s\n",
      "[CV] END .................................................... total time=   0.8s\n",
      "[CV] END .................................................... total time=   0.6s\n"
     ]
    },
    {
     "name": "stderr",
     "output_type": "stream",
     "text": [
      "[Parallel(n_jobs=1)]: Done   5 out of   5 | elapsed:    4.9s finished\n",
      "[Parallel(n_jobs=1)]: Using backend SequentialBackend with 1 concurrent workers.\n"
     ]
    },
    {
     "name": "stdout",
     "output_type": "stream",
     "text": [
      "[CV] END .................................................... total time=   0.6s\n"
     ]
    },
    {
     "name": "stderr",
     "output_type": "stream",
     "text": [
      "[Parallel(n_jobs=1)]: Done   1 out of   1 | elapsed:    0.6s remaining:    0.0s\n"
     ]
    },
    {
     "name": "stdout",
     "output_type": "stream",
     "text": [
      "[CV] END .................................................... total time=   0.5s\n",
      "[CV] END .................................................... total time=   0.5s\n",
      "[CV] END .................................................... total time=   0.5s\n",
      "[CV] END .................................................... total time=   0.5s\n"
     ]
    },
    {
     "name": "stderr",
     "output_type": "stream",
     "text": [
      "[Parallel(n_jobs=1)]: Done   5 out of   5 | elapsed:    3.2s finished\n"
     ]
    },
    {
     "data": {
      "text/plain": [
       "(0.10800966741991021, -3.6973292186639584)"
      ]
     },
     "execution_count": 134,
     "metadata": {},
     "output_type": "execute_result"
    }
   ],
   "source": [
    "(np.mean(cross_val_score(rf_best2, rfe_rfX, y, cv=KFold(5), verbose=2)),\n",
    " np.mean(cross_val_score(rf_best2, rfe_rfX, y, cv=KFold(5), verbose=2, scoring=\"neg_mean_absolute_error\")))"
   ]
  },
  {
   "cell_type": "markdown",
   "metadata": {
    "id": "xyUV7Rfv0JRl"
   },
   "source": [
    "###### Fit"
   ]
  },
  {
   "cell_type": "code",
   "execution_count": 135,
   "metadata": {
    "id": "jzW4FMMV0JRl"
   },
   "outputs": [],
   "source": [
    "rf_best2.fit(rfe_rfX_best_train, y_train)\n",
    "ybrf2 = rf_best2.predict(rfe_rfX_best_test)"
   ]
  },
  {
   "cell_type": "markdown",
   "metadata": {
    "id": "xf8dFxMO0JRl"
   },
   "source": [
    "###### Results"
   ]
  },
  {
   "cell_type": "code",
   "execution_count": 136,
   "metadata": {
    "id": "jzZtHXhw0JRl"
   },
   "outputs": [
    {
     "data": {
      "text/plain": [
       "array([34.92009036, 33.16597316, 30.99350879, 34.28137997, 32.35937164,\n",
       "       34.81754985, 32.91581155, 39.43447693, 37.77316038, 37.22412135,\n",
       "       28.41582694, 32.80939969, 37.04685965, 36.33094806, 35.59947944,\n",
       "       32.74623028, 33.80669607, 35.4792382 , 31.09751731, 30.33332316,\n",
       "       34.77613071, 29.86989799, 39.88952744, 34.03707153, 29.94740826,\n",
       "       32.73158831, 35.2253438 , 37.59848428, 33.8285871 , 32.58901476,\n",
       "       28.23487   , 30.13101173, 35.16411543, 33.46544315, 33.48256041,\n",
       "       31.32242613, 28.95165853, 33.56234853, 29.52818973, 29.38699415,\n",
       "       35.2661851 , 31.4480653 , 36.44696872, 33.09632399, 36.77805061])"
      ]
     },
     "execution_count": 136,
     "metadata": {},
     "output_type": "execute_result"
    }
   ],
   "source": [
    "ybrf2"
   ]
  },
  {
   "cell_type": "markdown",
   "metadata": {
    "id": "MFRYBBuM0JRl"
   },
   "source": [
    "###### Absolute error"
   ]
  },
  {
   "cell_type": "code",
   "execution_count": 137,
   "metadata": {
    "id": "VKc5QfUk0JRl"
   },
   "outputs": [
    {
     "data": {
      "text/plain": [
       "3.1272075790569773"
      ]
     },
     "execution_count": 137,
     "metadata": {},
     "output_type": "execute_result"
    }
   ],
   "source": [
    "mean_absolute_error(ybrf2, y_test)"
   ]
  },
  {
   "cell_type": "markdown",
   "metadata": {
    "id": "5-xO0Xmx0JRl"
   },
   "source": [
    "### K-Nearest Neighbour Regression"
   ]
  },
  {
   "cell_type": "markdown",
   "metadata": {
    "id": "ECtGA_jG0JRm"
   },
   "source": [
    "### 1. Basic test models with all features"
   ]
  },
  {
   "cell_type": "code",
   "execution_count": 138,
   "metadata": {
    "id": "of7aHd4t0JRm"
   },
   "outputs": [],
   "source": [
    "#KNeighbors Regressor, default parameters\n",
    "knn1 = KNeighborsRegressor(n_jobs=-1)\n",
    "\n",
    "#KNeighbors Regressor, estimates from 10 nearest neighbours, each leaf has 10\n",
    "#samples\n",
    "knn2 = KNeighborsRegressor(n_neighbors=10, leaf_size=50, n_jobs=-1)\n",
    "\n",
    "#KNeighbors Regressor, estimates from 10 nearest neighbours\n",
    "knn3 = KNeighborsRegressor(n_neighbors=20, n_jobs=-1)"
   ]
  },
  {
   "cell_type": "markdown",
   "metadata": {
    "id": "pRAekIzu0JRm"
   },
   "source": [
    "#### Cross validation tests (both accuracy and average error)"
   ]
  },
  {
   "cell_type": "code",
   "execution_count": 139,
   "metadata": {
    "colab": {
     "base_uri": "https://localhost:8080/"
    },
    "executionInfo": {
     "elapsed": 1454,
     "status": "ok",
     "timestamp": 1649418905748,
     "user": {
      "displayName": "Brendan Crowley",
      "userId": "09355744342736110324"
     },
     "user_tz": -60
    },
    "id": "x7hPJ9R50JRm",
    "outputId": "ccc4d570-7d8e-4d1a-a326-562d6214cb4c"
   },
   "outputs": [
    {
     "name": "stderr",
     "output_type": "stream",
     "text": [
      "[Parallel(n_jobs=1)]: Using backend SequentialBackend with 1 concurrent workers.\n"
     ]
    },
    {
     "name": "stdout",
     "output_type": "stream",
     "text": [
      "[CV] END .................................................... total time=   2.9s\n",
      "[CV] END .................................................... total time=   0.0s\n",
      "[CV] END .................................................... total time=   0.0s\n",
      "[CV] END .................................................... total time=   0.0s\n",
      "[CV] END .................................................... total time=   0.0s\n",
      "[CV] END .................................................... total time=   0.0s\n",
      "[CV] END .................................................... total time=   0.0s\n",
      "[CV] END .................................................... total time=   0.0s\n"
     ]
    },
    {
     "name": "stderr",
     "output_type": "stream",
     "text": [
      "[Parallel(n_jobs=1)]: Done   1 out of   1 | elapsed:    2.9s remaining:    0.0s\n",
      "[Parallel(n_jobs=1)]: Done   5 out of   5 | elapsed:    3.0s finished\n",
      "[Parallel(n_jobs=1)]: Using backend SequentialBackend with 1 concurrent workers.\n",
      "[Parallel(n_jobs=1)]: Done   1 out of   1 | elapsed:    0.0s remaining:    0.0s\n"
     ]
    },
    {
     "name": "stdout",
     "output_type": "stream",
     "text": [
      "[CV] END .................................................... total time=   0.0s\n",
      "[CV] END .................................................... total time=   0.0s\n"
     ]
    },
    {
     "name": "stderr",
     "output_type": "stream",
     "text": [
      "[Parallel(n_jobs=1)]: Done   5 out of   5 | elapsed:    0.0s finished\n"
     ]
    },
    {
     "data": {
      "text/plain": [
       "(-0.041486826287366795, -3.891136483149816)"
      ]
     },
     "execution_count": 139,
     "metadata": {},
     "output_type": "execute_result"
    }
   ],
   "source": [
    "(np.mean(cross_val_score(knn1, X, y, cv=KFold(5), verbose=2)),\n",
    " np.mean(cross_val_score(knn1, X, y, cv=KFold(5), verbose=2, scoring=\"neg_mean_absolute_error\")))"
   ]
  },
  {
   "cell_type": "code",
   "execution_count": 140,
   "metadata": {
    "colab": {
     "base_uri": "https://localhost:8080/"
    },
    "executionInfo": {
     "elapsed": 1659,
     "status": "ok",
     "timestamp": 1649418907403,
     "user": {
      "displayName": "Brendan Crowley",
      "userId": "09355744342736110324"
     },
     "user_tz": -60
    },
    "id": "qW256ZDN0JRm",
    "outputId": "da16a798-95ef-4753-c0ec-a5d87127dd59"
   },
   "outputs": [
    {
     "name": "stderr",
     "output_type": "stream",
     "text": [
      "[Parallel(n_jobs=1)]: Using backend SequentialBackend with 1 concurrent workers.\n",
      "[Parallel(n_jobs=1)]: Done   1 out of   1 | elapsed:    0.0s remaining:    0.0s\n"
     ]
    },
    {
     "name": "stdout",
     "output_type": "stream",
     "text": [
      "[CV] END .................................................... total time=   0.0s\n",
      "[CV] END .................................................... total time=   0.0s\n",
      "[CV] END .................................................... total time=   0.0s\n",
      "[CV] END .................................................... total time=   0.0s\n",
      "[CV] END .................................................... total time=   0.0s\n",
      "[CV] END .................................................... total time=   0.0s\n",
      "[CV] END .................................................... total time=   0.0s\n",
      "[CV] END .................................................... total time=   0.0s\n",
      "[CV] END .................................................... total time=   0.0s\n",
      "[CV] END .................................................... total time=   0.0s\n"
     ]
    },
    {
     "name": "stderr",
     "output_type": "stream",
     "text": [
      "[Parallel(n_jobs=1)]: Done   5 out of   5 | elapsed:    0.1s finished\n",
      "[Parallel(n_jobs=1)]: Using backend SequentialBackend with 1 concurrent workers.\n",
      "[Parallel(n_jobs=1)]: Done   1 out of   1 | elapsed:    0.0s remaining:    0.0s\n",
      "[Parallel(n_jobs=1)]: Done   5 out of   5 | elapsed:    0.1s finished\n"
     ]
    },
    {
     "data": {
      "text/plain": [
       "(-0.055084719315495946, -3.8821201601601594)"
      ]
     },
     "execution_count": 140,
     "metadata": {},
     "output_type": "execute_result"
    }
   ],
   "source": [
    "(np.mean(cross_val_score(knn2, X, y, cv=KFold(5), verbose=2)),\n",
    " np.mean(cross_val_score(knn2, X, y, cv=KFold(5), verbose=2, scoring=\"neg_mean_absolute_error\")))"
   ]
  },
  {
   "cell_type": "code",
   "execution_count": 141,
   "metadata": {
    "colab": {
     "base_uri": "https://localhost:8080/"
    },
    "executionInfo": {
     "elapsed": 3428,
     "status": "ok",
     "timestamp": 1649418910825,
     "user": {
      "displayName": "Brendan Crowley",
      "userId": "09355744342736110324"
     },
     "user_tz": -60
    },
    "id": "taEmChIH0JRm",
    "outputId": "683ee76b-d9fe-42fd-b479-799ddc3dbe7c"
   },
   "outputs": [
    {
     "name": "stderr",
     "output_type": "stream",
     "text": [
      "[Parallel(n_jobs=1)]: Using backend SequentialBackend with 1 concurrent workers.\n",
      "[Parallel(n_jobs=1)]: Done   1 out of   1 | elapsed:    0.0s remaining:    0.0s\n",
      "[Parallel(n_jobs=1)]: Done   5 out of   5 | elapsed:    0.1s finished\n",
      "[Parallel(n_jobs=1)]: Using backend SequentialBackend with 1 concurrent workers.\n"
     ]
    },
    {
     "name": "stdout",
     "output_type": "stream",
     "text": [
      "[CV] END .................................................... total time=   0.0s\n",
      "[CV] END .................................................... total time=   0.0s\n",
      "[CV] END .................................................... total time=   0.0s\n",
      "[CV] END .................................................... total time=   0.0s\n",
      "[CV] END .................................................... total time=   0.0s\n",
      "[CV] END .................................................... total time=   0.0s\n",
      "[CV] END .................................................... total time=   0.0s\n",
      "[CV] END .................................................... total time=   0.0s\n",
      "[CV] END .................................................... total time=   0.0s\n",
      "[CV] END .................................................... total time=   0.0s\n"
     ]
    },
    {
     "name": "stderr",
     "output_type": "stream",
     "text": [
      "[Parallel(n_jobs=1)]: Done   1 out of   1 | elapsed:    0.0s remaining:    0.0s\n",
      "[Parallel(n_jobs=1)]: Done   5 out of   5 | elapsed:    0.1s finished\n"
     ]
    },
    {
     "data": {
      "text/plain": [
       "(-0.055084719315495946, -3.8821201601601594)"
      ]
     },
     "execution_count": 141,
     "metadata": {},
     "output_type": "execute_result"
    }
   ],
   "source": [
    "(np.mean(cross_val_score(knn2, X, y, cv=KFold(5), verbose=2)),\n",
    " np.mean(cross_val_score(knn2, X, y, cv=KFold(5), verbose=2, scoring=\"neg_mean_absolute_error\")))"
   ]
  },
  {
   "cell_type": "markdown",
   "metadata": {
    "id": "NvTCwC1t0JRm"
   },
   "source": [
    "#### KNeighbors Regressor 1"
   ]
  },
  {
   "cell_type": "markdown",
   "metadata": {
    "id": "bAB8BAUM0JRm"
   },
   "source": [
    "###### Fit"
   ]
  },
  {
   "cell_type": "code",
   "execution_count": 142,
   "metadata": {
    "id": "GpLfm8iJ0JRm"
   },
   "outputs": [],
   "source": [
    "knn1.fit(X_train, y_train)\n",
    "yk1 = knn1.predict(X_test)"
   ]
  },
  {
   "cell_type": "markdown",
   "metadata": {
    "id": "2730YGrB0JRm"
   },
   "source": [
    "###### Results"
   ]
  },
  {
   "cell_type": "code",
   "execution_count": 143,
   "metadata": {
    "colab": {
     "base_uri": "https://localhost:8080/"
    },
    "executionInfo": {
     "elapsed": 22,
     "status": "ok",
     "timestamp": 1649418910825,
     "user": {
      "displayName": "Brendan Crowley",
      "userId": "09355744342736110324"
     },
     "user_tz": -60
    },
    "id": "hHqRGh_80JRn",
    "outputId": "ceec09d0-fc52-4f9b-d487-e1d6693fbe85"
   },
   "outputs": [
    {
     "data": {
      "text/plain": [
       "array([30.828     , 32.574     , 29.66      , 34.882     , 33.816     ,\n",
       "       32.496     , 36.614     , 37.486     , 41.954     , 38.596     ,\n",
       "       29.72493814, 32.452     , 35.698     , 36.766     , 35.62      ,\n",
       "       31.428     , 28.998     , 36.166     , 29.074     , 27.368     ,\n",
       "       35.874     , 28.236     , 37.196     , 34.436     , 28.998     ,\n",
       "       31.466     , 34.96      , 37.74      , 31.506     , 34.222     ,\n",
       "       27.966     , 29.06      , 33.196     , 33.584     , 32.088     ,\n",
       "       29.88893814, 30.892     , 31.642     , 28.874     , 28.61293814,\n",
       "       35.776     , 28.94      , 35.008     , 33.486     , 39.624     ])"
      ]
     },
     "execution_count": 143,
     "metadata": {},
     "output_type": "execute_result"
    }
   ],
   "source": [
    "yk1"
   ]
  },
  {
   "cell_type": "markdown",
   "metadata": {
    "id": "OP_8Hnrm0JRn"
   },
   "source": [
    "###### Absolute error"
   ]
  },
  {
   "cell_type": "code",
   "execution_count": 144,
   "metadata": {
    "colab": {
     "base_uri": "https://localhost:8080/"
    },
    "executionInfo": {
     "elapsed": 20,
     "status": "ok",
     "timestamp": 1649418910825,
     "user": {
      "displayName": "Brendan Crowley",
      "userId": "09355744342736110324"
     },
     "user_tz": -60
    },
    "id": "XN5Q7YgS0JRn",
    "outputId": "a17a89c6-f091-436e-9d69-eda29b7c6390"
   },
   "outputs": [
    {
     "data": {
      "text/plain": [
       "3.547931958625292"
      ]
     },
     "execution_count": 144,
     "metadata": {},
     "output_type": "execute_result"
    }
   ],
   "source": [
    "mean_absolute_error(yk1, y_test)"
   ]
  },
  {
   "cell_type": "markdown",
   "metadata": {
    "id": "ielwklxL0JRn"
   },
   "source": [
    "#### KNeighbors Regressor 2"
   ]
  },
  {
   "cell_type": "markdown",
   "metadata": {
    "id": "y4jaMN6N0JRn"
   },
   "source": [
    "###### Fit"
   ]
  },
  {
   "cell_type": "code",
   "execution_count": 145,
   "metadata": {
    "id": "hzi3DkZJ0JRn"
   },
   "outputs": [],
   "source": [
    "knn2.fit(X_train, y_train)\n",
    "yk2 = knn2.predict(X_test)"
   ]
  },
  {
   "cell_type": "markdown",
   "metadata": {
    "id": "X3Oftl-I0JRn"
   },
   "source": [
    "###### Results"
   ]
  },
  {
   "cell_type": "code",
   "execution_count": 146,
   "metadata": {
    "colab": {
     "base_uri": "https://localhost:8080/"
    },
    "executionInfo": {
     "elapsed": 17,
     "status": "ok",
     "timestamp": 1649418910826,
     "user": {
      "displayName": "Brendan Crowley",
      "userId": "09355744342736110324"
     },
     "user_tz": -60
    },
    "id": "XfLGYXLG0JRn",
    "outputId": "89706d23-5810-4cd5-d137-bedc497c09d2"
   },
   "outputs": [
    {
     "data": {
      "text/plain": [
       "array([33.52      , 32.913     , 29.309     , 35.145     , 32.146     ,\n",
       "       32.661     , 33.836     , 38.235     , 39.575     , 38.624     ,\n",
       "       32.24146907, 30.12046907, 37.37      , 35.913     , 35.874     ,\n",
       "       33.4       , 31.562     , 35.535     , 32.164     , 28.533     ,\n",
       "       36.739     , 29.892     , 39.002     , 33.631     , 30.989     ,\n",
       "       32.65      , 38.117     , 37.873     , 32.661     , 32.021     ,\n",
       "       29.993     , 29.892     , 31.085     , 33.885     , 33.175     ,\n",
       "       32.24146907, 31.56      , 32.709     , 30.139     , 32.24146907,\n",
       "       37.398     , 31.533     , 35.242     , 31.893     , 38.905     ])"
      ]
     },
     "execution_count": 146,
     "metadata": {},
     "output_type": "execute_result"
    }
   ],
   "source": [
    "yk2"
   ]
  },
  {
   "cell_type": "markdown",
   "metadata": {
    "id": "8hr98MMe0JRn"
   },
   "source": [
    "###### Absolute error"
   ]
  },
  {
   "cell_type": "code",
   "execution_count": 147,
   "metadata": {
    "colab": {
     "base_uri": "https://localhost:8080/"
    },
    "executionInfo": {
     "elapsed": 15,
     "status": "ok",
     "timestamp": 1649418910826,
     "user": {
      "displayName": "Brendan Crowley",
      "userId": "09355744342736110324"
     },
     "user_tz": -60
    },
    "id": "bKkjHAhU0JRn",
    "outputId": "eb4b1b5a-be4d-475d-b8cf-bae1a927dffc"
   },
   "outputs": [
    {
     "data": {
      "text/plain": [
       "3.555931958625292"
      ]
     },
     "execution_count": 147,
     "metadata": {},
     "output_type": "execute_result"
    }
   ],
   "source": [
    "mean_absolute_error(yk2, y_test)"
   ]
  },
  {
   "cell_type": "markdown",
   "metadata": {
    "id": "U3pFjOAO0JRn"
   },
   "source": [
    "#### KNeighbors Regressor 3"
   ]
  },
  {
   "cell_type": "markdown",
   "metadata": {
    "id": "6K4tnkyl0JRo"
   },
   "source": [
    "###### Fit"
   ]
  },
  {
   "cell_type": "code",
   "execution_count": 148,
   "metadata": {
    "id": "1ViNLNuB0JRo"
   },
   "outputs": [],
   "source": [
    "knn3.fit(X_train, y_train)\n",
    "yk3 = knn3.predict(X_test)"
   ]
  },
  {
   "cell_type": "markdown",
   "metadata": {
    "id": "6MBbSKkp0JRo"
   },
   "source": [
    "###### Results"
   ]
  },
  {
   "cell_type": "code",
   "execution_count": 149,
   "metadata": {
    "colab": {
     "base_uri": "https://localhost:8080/"
    },
    "executionInfo": {
     "elapsed": 11,
     "status": "ok",
     "timestamp": 1649418910826,
     "user": {
      "displayName": "Brendan Crowley",
      "userId": "09355744342736110324"
     },
     "user_tz": -60
    },
    "id": "YzbvwpkP0JRo",
    "outputId": "ea381433-447b-4ba9-9b25-87a361d7b11d"
   },
   "outputs": [
    {
     "data": {
      "text/plain": [
       "array([35.1745    , 32.5735    , 32.1555    , 37.001     , 32.209     ,\n",
       "       32.204     , 35.9905    , 37.218     , 38.555     , 38.967     ,\n",
       "       31.92223453, 30.94723453, 37.6235    , 36.84      , 34.6605    ,\n",
       "       33.4035    , 32.8395    , 36.166     , 30.3535    , 30.281     ,\n",
       "       36.286     , 32.04      , 37.6905    , 35.37      , 33.199     ,\n",
       "       32.9895    , 37.778     , 37.369     , 32.6115    , 31.004     ,\n",
       "       30.2615    , 32.0985    , 32.72273453, 34.653     , 32.568     ,\n",
       "       31.29373453, 31.676     , 32.3595    , 32.106     , 31.92223453,\n",
       "       36.1605    , 32.2905    , 34.616     , 32.209     , 37.686     ])"
      ]
     },
     "execution_count": 149,
     "metadata": {},
     "output_type": "execute_result"
    }
   ],
   "source": [
    "yk3"
   ]
  },
  {
   "cell_type": "markdown",
   "metadata": {
    "id": "hIMlRi_E0JRo"
   },
   "source": [
    "###### Absolute error"
   ]
  },
  {
   "cell_type": "code",
   "execution_count": 150,
   "metadata": {
    "colab": {
     "base_uri": "https://localhost:8080/"
    },
    "executionInfo": {
     "elapsed": 7,
     "status": "ok",
     "timestamp": 1649418911118,
     "user": {
      "displayName": "Brendan Crowley",
      "userId": "09355744342736110324"
     },
     "user_tz": -60
    },
    "id": "3za7QN140JRo",
    "outputId": "47b29ca8-c50f-43c1-d53e-f0e5ae1c02b7"
   },
   "outputs": [
    {
     "data": {
      "text/plain": [
       "3.6299274341007672"
      ]
     },
     "execution_count": 150,
     "metadata": {},
     "output_type": "execute_result"
    }
   ],
   "source": [
    "mean_absolute_error(yk3, y_test)"
   ]
  },
  {
   "cell_type": "markdown",
   "metadata": {
    "id": "S1vngyaR0JRo"
   },
   "source": [
    "### GridSearchCV"
   ]
  },
  {
   "cell_type": "markdown",
   "metadata": {
    "id": "pUAUztrm0JRo"
   },
   "source": [
    "##### Parameter grid"
   ]
  },
  {
   "cell_type": "code",
   "execution_count": 151,
   "metadata": {
    "id": "T7Z4lvjU0JRo"
   },
   "outputs": [],
   "source": [
    "# Loss\n",
    "weights = [\"uniform\", \"distance\"]\n",
    "# Number of estimators\n",
    "n_neighbours = [1, 2, 5, 7, 10, 14, 15, 20]\n",
    "# Criterion for measuring quality of split\n",
    "p = [1, 2]\n",
    "# Minimum number of samples required to split a node\n",
    "leaf_size = [i for i in range(10, 50, 10)]\n",
    "# Create the random grid\n",
    "knn_grid = {'weights': weights,\n",
    "            'n_neighbors': n_neighbours,\n",
    "            'p': p,\n",
    "            'leaf_size': leaf_size}"
   ]
  },
  {
   "cell_type": "markdown",
   "metadata": {
    "id": "aZmOGtqm0JRo"
   },
   "source": [
    "##### GridSearchCV algorithm"
   ]
  },
  {
   "cell_type": "code",
   "execution_count": 152,
   "metadata": {
    "colab": {
     "base_uri": "https://localhost:8080/"
    },
    "executionInfo": {
     "elapsed": 156262,
     "status": "ok",
     "timestamp": 1648983529417,
     "user": {
      "displayName": "Brendan Crowley",
      "userId": "09355744342736110324"
     },
     "user_tz": -60
    },
    "id": "_dwmmoRW0JRo",
    "outputId": "6ec4d270-7bd6-412e-9792-04da8b2f6bbf"
   },
   "outputs": [
    {
     "name": "stdout",
     "output_type": "stream",
     "text": [
      "Fitting 5 folds for each of 128 candidates, totalling 640 fits\n"
     ]
    },
    {
     "data": {
      "text/plain": [
       "GridSearchCV(cv=KFold(n_splits=5, random_state=None, shuffle=False),\n",
       "             estimator=KNeighborsRegressor(n_jobs=-1), n_jobs=-1,\n",
       "             param_grid={'leaf_size': [10, 20, 30, 40],\n",
       "                         'n_neighbors': [1, 2, 5, 7, 10, 14, 15, 20],\n",
       "                         'p': [1, 2], 'weights': ['uniform', 'distance']},\n",
       "             return_train_score=True, scoring='neg_mean_absolute_error',\n",
       "             verbose=4)"
      ]
     },
     "execution_count": 152,
     "metadata": {},
     "output_type": "execute_result"
    }
   ],
   "source": [
    "knn = KNeighborsRegressor(n_jobs=-1)\n",
    "\n",
    "knn_gs = GridSearchCV(estimator = knn, param_grid = knn_grid,\n",
    "                      scoring=\"neg_mean_absolute_error\",\n",
    "                      n_jobs=-1, cv=KFold(5), return_train_score=True,\n",
    "                      verbose=4)\n",
    "\n",
    "knn_gs.fit(X, y)"
   ]
  },
  {
   "cell_type": "code",
   "execution_count": 153,
   "metadata": {
    "colab": {
     "base_uri": "https://localhost:8080/"
    },
    "executionInfo": {
     "elapsed": 39,
     "status": "ok",
     "timestamp": 1648983529418,
     "user": {
      "displayName": "Brendan Crowley",
      "userId": "09355744342736110324"
     },
     "user_tz": -60
    },
    "id": "sn8dgfVJ0JRo",
    "outputId": "0e1be035-6755-4206-ebbb-2904b4e7fc9a"
   },
   "outputs": [
    {
     "data": {
      "text/plain": [
       "{'algorithm': 'auto',\n",
       " 'leaf_size': 10,\n",
       " 'metric': 'minkowski',\n",
       " 'metric_params': None,\n",
       " 'n_jobs': -1,\n",
       " 'n_neighbors': 7,\n",
       " 'p': 2,\n",
       " 'weights': 'distance'}"
      ]
     },
     "execution_count": 153,
     "metadata": {},
     "output_type": "execute_result"
    }
   ],
   "source": [
    "knn_gs.best_estimator_.get_params()"
   ]
  },
  {
   "cell_type": "markdown",
   "metadata": {
    "id": "RF7fmbNB0JRp"
   },
   "source": [
    "### 2. Best model"
   ]
  },
  {
   "cell_type": "markdown",
   "metadata": {
    "id": "EjI_PQ1h0JRp"
   },
   "source": [
    "##### Defining best model"
   ]
  },
  {
   "cell_type": "code",
   "execution_count": 154,
   "metadata": {
    "id": "XJ0L7AYQ0JRp"
   },
   "outputs": [],
   "source": [
    "knn_best = KNeighborsRegressor(algorithm='auto', leaf_size=10, \n",
    "                               metric='minkowski', metric_params=None,\n",
    "                               n_neighbors=7,\n",
    "                               n_jobs=-1, p=2, weights='distance')"
   ]
  },
  {
   "cell_type": "markdown",
   "metadata": {
    "id": "1ohKrUDy0JRp"
   },
   "source": [
    "##### Cross validation (both accuracy and absolute error)"
   ]
  },
  {
   "cell_type": "code",
   "execution_count": 155,
   "metadata": {
    "colab": {
     "base_uri": "https://localhost:8080/"
    },
    "executionInfo": {
     "elapsed": 1968,
     "status": "ok",
     "timestamp": 1649418867651,
     "user": {
      "displayName": "Brendan Crowley",
      "userId": "09355744342736110324"
     },
     "user_tz": -60
    },
    "id": "6yDp6DOr0JRp",
    "outputId": "f04d3951-2ced-48eb-9afa-cad7b969497d"
   },
   "outputs": [
    {
     "name": "stderr",
     "output_type": "stream",
     "text": [
      "[Parallel(n_jobs=1)]: Using backend SequentialBackend with 1 concurrent workers.\n",
      "[Parallel(n_jobs=1)]: Done   1 out of   1 | elapsed:    0.0s remaining:    0.0s\n",
      "[Parallel(n_jobs=1)]: Done   5 out of   5 | elapsed:    0.1s finished\n",
      "[Parallel(n_jobs=1)]: Using backend SequentialBackend with 1 concurrent workers.\n",
      "[Parallel(n_jobs=1)]: Done   1 out of   1 | elapsed:    0.0s remaining:    0.0s\n"
     ]
    },
    {
     "name": "stdout",
     "output_type": "stream",
     "text": [
      "[CV] END .................................................... total time=   0.0s\n",
      "[CV] END .................................................... total time=   0.0s\n",
      "[CV] END .................................................... total time=   0.0s\n",
      "[CV] END .................................................... total time=   0.0s\n",
      "[CV] END .................................................... total time=   0.0s\n",
      "[CV] END .................................................... total time=   0.0s\n",
      "[CV] END .................................................... total time=   0.0s\n",
      "[CV] END .................................................... total time=   0.0s\n",
      "[CV] END .................................................... total time=   0.0s\n",
      "[CV] END .................................................... total time=   0.0s\n"
     ]
    },
    {
     "name": "stderr",
     "output_type": "stream",
     "text": [
      "[Parallel(n_jobs=1)]: Done   5 out of   5 | elapsed:    0.1s finished\n"
     ]
    },
    {
     "data": {
      "text/plain": [
       "(-0.01970503462869877, -3.805300153267807)"
      ]
     },
     "execution_count": 155,
     "metadata": {},
     "output_type": "execute_result"
    }
   ],
   "source": [
    "(np.mean(cross_val_score(knn_best, X, y, cv=KFold(5), verbose=2)),\n",
    " np.mean(cross_val_score(knn_best, X, y, cv=KFold(5), verbose=2, scoring=\"neg_mean_absolute_error\")))"
   ]
  },
  {
   "cell_type": "markdown",
   "metadata": {
    "id": "QBY4AV0o0JRp"
   },
   "source": [
    "###### Fit"
   ]
  },
  {
   "cell_type": "code",
   "execution_count": 156,
   "metadata": {
    "id": "JdlnJNRM0JRp"
   },
   "outputs": [],
   "source": [
    "knn_best.fit(X_train, y_train)\n",
    "ybknn = knn_best.predict(X_test)"
   ]
  },
  {
   "cell_type": "markdown",
   "metadata": {
    "id": "CntEeJ9e0JRp"
   },
   "source": [
    "###### Results"
   ]
  },
  {
   "cell_type": "code",
   "execution_count": 157,
   "metadata": {
    "colab": {
     "base_uri": "https://localhost:8080/"
    },
    "executionInfo": {
     "elapsed": 280,
     "status": "ok",
     "timestamp": 1649418870719,
     "user": {
      "displayName": "Brendan Crowley",
      "userId": "09355744342736110324"
     },
     "user_tz": -60
    },
    "id": "aR6I-4ZE0JRp",
    "outputId": "b83e2654-361e-4a15-cffd-d939c10fc658"
   },
   "outputs": [
    {
     "data": {
      "text/plain": [
       "array([31.65934829, 32.87490208, 29.60272644, 35.29974423, 33.94058158,\n",
       "       33.0526848 , 36.37894423, 38.23067868, 40.60445723, 37.53704755,\n",
       "       29.25724848, 32.25709335, 35.88198158, 35.57830727, 34.98432589,\n",
       "       31.85086726, 30.38333202, 35.86249523, 29.69012748, 28.00150497,\n",
       "       35.86786174, 28.28677424, 39.08564048, 34.37810827, 29.03564667,\n",
       "       30.30262399, 37.4174427 , 38.56504195, 31.92717699, 31.59247317,\n",
       "       29.19816196, 30.18606041, 31.62496828, 33.94736749, 34.09896795,\n",
       "       29.04446885, 31.52848789, 32.23553546, 30.42016784, 29.29588386,\n",
       "       37.37518797, 28.67399304, 35.19885864, 33.32337338, 39.09799776])"
      ]
     },
     "execution_count": 157,
     "metadata": {},
     "output_type": "execute_result"
    }
   ],
   "source": [
    "ybknn"
   ]
  },
  {
   "cell_type": "markdown",
   "metadata": {
    "id": "q_glXatM0JRp"
   },
   "source": [
    "###### Absolute error"
   ]
  },
  {
   "cell_type": "code",
   "execution_count": 158,
   "metadata": {
    "colab": {
     "base_uri": "https://localhost:8080/"
    },
    "executionInfo": {
     "elapsed": 7,
     "status": "ok",
     "timestamp": 1649418871714,
     "user": {
      "displayName": "Brendan Crowley",
      "userId": "09355744342736110324"
     },
     "user_tz": -60
    },
    "id": "SB81djjF0JRp",
    "outputId": "65ac334a-6067-44c8-fb80-082fc11bf011"
   },
   "outputs": [
    {
     "data": {
      "text/plain": [
       "3.5580441598370163"
      ]
     },
     "execution_count": 158,
     "metadata": {},
     "output_type": "execute_result"
    }
   ],
   "source": [
    "mean_absolute_error(ybknn, y_test)"
   ]
  },
  {
   "cell_type": "markdown",
   "metadata": {
    "id": "gDvzFuTC0Nhh"
   },
   "source": [
    "# Tests"
   ]
  },
  {
   "cell_type": "markdown",
   "metadata": {
    "id": "UZYfmbww0Nhh"
   },
   "source": [
    "### Test 1 (on df1)"
   ]
  },
  {
   "cell_type": "code",
   "execution_count": 24,
   "metadata": {
    "colab": {
     "base_uri": "https://localhost:8080/",
     "height": 424
    },
    "executionInfo": {
     "elapsed": 226,
     "status": "ok",
     "timestamp": 1652368774303,
     "user": {
      "displayName": "Brendan Crowley",
      "userId": "09355744342736110324"
     },
     "user_tz": -60
    },
    "id": "HyelyRA22OC1",
    "outputId": "b3f2713b-3397-4f01-aed6-8f76e256120e"
   },
   "outputs": [
    {
     "data": {
      "text/html": [
       "\n",
       "  <div id=\"df-36260a98-5217-4bce-939e-bd1ab3587898\">\n",
       "    <div class=\"colab-df-container\">\n",
       "      <div>\n",
       "<style scoped>\n",
       "    .dataframe tbody tr th:only-of-type {\n",
       "        vertical-align: middle;\n",
       "    }\n",
       "\n",
       "    .dataframe tbody tr th {\n",
       "        vertical-align: top;\n",
       "    }\n",
       "\n",
       "    .dataframe thead th {\n",
       "        text-align: right;\n",
       "    }\n",
       "</style>\n",
       "<table border=\"1\" class=\"dataframe\">\n",
       "  <thead>\n",
       "    <tr style=\"text-align: right;\">\n",
       "      <th></th>\n",
       "      <th>Year</th>\n",
       "      <th>Month</th>\n",
       "      <th>Raw milk price</th>\n",
       "      <th>Butter</th>\n",
       "      <th>Calf nuts value</th>\n",
       "      <th>Cheese</th>\n",
       "      <th>Dairy meal value</th>\n",
       "      <th>Dairy nuts value</th>\n",
       "      <th>Domestic milk intake</th>\n",
       "      <th>Fat content (Percent)</th>\n",
       "      <th>Imported milk intake</th>\n",
       "      <th>Maize meal value</th>\n",
       "      <th>Skimmed milk sales</th>\n",
       "      <th>Skimmed milk powder</th>\n",
       "      <th>Whole milk sales</th>\n",
       "      <th>Milk production volume</th>\n",
       "    </tr>\n",
       "  </thead>\n",
       "  <tbody>\n",
       "    <tr>\n",
       "      <th>0</th>\n",
       "      <td>2007</td>\n",
       "      <td>1</td>\n",
       "      <td>28.30</td>\n",
       "      <td>3.8</td>\n",
       "      <td>0.0</td>\n",
       "      <td>1.3</td>\n",
       "      <td>0.0</td>\n",
       "      <td>0.0</td>\n",
       "      <td>123.0</td>\n",
       "      <td>3.87</td>\n",
       "      <td>54.6</td>\n",
       "      <td>0.0</td>\n",
       "      <td>12.3</td>\n",
       "      <td>2.4</td>\n",
       "      <td>32.1</td>\n",
       "      <td>177.6</td>\n",
       "    </tr>\n",
       "    <tr>\n",
       "      <th>1</th>\n",
       "      <td>2007</td>\n",
       "      <td>2</td>\n",
       "      <td>27.18</td>\n",
       "      <td>5.0</td>\n",
       "      <td>0.0</td>\n",
       "      <td>2.4</td>\n",
       "      <td>0.0</td>\n",
       "      <td>0.0</td>\n",
       "      <td>185.4</td>\n",
       "      <td>3.87</td>\n",
       "      <td>38.0</td>\n",
       "      <td>0.0</td>\n",
       "      <td>12.6</td>\n",
       "      <td>1.9</td>\n",
       "      <td>29.3</td>\n",
       "      <td>223.4</td>\n",
       "    </tr>\n",
       "    <tr>\n",
       "      <th>2</th>\n",
       "      <td>2007</td>\n",
       "      <td>3</td>\n",
       "      <td>25.64</td>\n",
       "      <td>10.1</td>\n",
       "      <td>0.0</td>\n",
       "      <td>10.2</td>\n",
       "      <td>0.0</td>\n",
       "      <td>0.0</td>\n",
       "      <td>386.5</td>\n",
       "      <td>3.80</td>\n",
       "      <td>35.8</td>\n",
       "      <td>0.0</td>\n",
       "      <td>12.8</td>\n",
       "      <td>5.0</td>\n",
       "      <td>32.4</td>\n",
       "      <td>422.3</td>\n",
       "    </tr>\n",
       "    <tr>\n",
       "      <th>3</th>\n",
       "      <td>2007</td>\n",
       "      <td>4</td>\n",
       "      <td>27.29</td>\n",
       "      <td>14.8</td>\n",
       "      <td>0.0</td>\n",
       "      <td>17.6</td>\n",
       "      <td>0.0</td>\n",
       "      <td>0.0</td>\n",
       "      <td>581.0</td>\n",
       "      <td>3.59</td>\n",
       "      <td>38.7</td>\n",
       "      <td>0.0</td>\n",
       "      <td>12.1</td>\n",
       "      <td>10.1</td>\n",
       "      <td>30.4</td>\n",
       "      <td>619.7</td>\n",
       "    </tr>\n",
       "    <tr>\n",
       "      <th>4</th>\n",
       "      <td>2007</td>\n",
       "      <td>5</td>\n",
       "      <td>29.76</td>\n",
       "      <td>19.1</td>\n",
       "      <td>0.0</td>\n",
       "      <td>19.3</td>\n",
       "      <td>0.0</td>\n",
       "      <td>0.0</td>\n",
       "      <td>688.3</td>\n",
       "      <td>3.62</td>\n",
       "      <td>46.9</td>\n",
       "      <td>0.0</td>\n",
       "      <td>12.8</td>\n",
       "      <td>13.2</td>\n",
       "      <td>31.8</td>\n",
       "      <td>735.2</td>\n",
       "    </tr>\n",
       "    <tr>\n",
       "      <th>...</th>\n",
       "      <td>...</td>\n",
       "      <td>...</td>\n",
       "      <td>...</td>\n",
       "      <td>...</td>\n",
       "      <td>...</td>\n",
       "      <td>...</td>\n",
       "      <td>...</td>\n",
       "      <td>...</td>\n",
       "      <td>...</td>\n",
       "      <td>...</td>\n",
       "      <td>...</td>\n",
       "      <td>...</td>\n",
       "      <td>...</td>\n",
       "      <td>...</td>\n",
       "      <td>...</td>\n",
       "      <td>...</td>\n",
       "    </tr>\n",
       "    <tr>\n",
       "      <th>175</th>\n",
       "      <td>2021</td>\n",
       "      <td>8</td>\n",
       "      <td>39.23</td>\n",
       "      <td>28.8</td>\n",
       "      <td>355.0</td>\n",
       "      <td>29.3</td>\n",
       "      <td>316.0</td>\n",
       "      <td>324.0</td>\n",
       "      <td>917.4</td>\n",
       "      <td>4.19</td>\n",
       "      <td>0.0</td>\n",
       "      <td>293.0</td>\n",
       "      <td>15.8</td>\n",
       "      <td>16.4</td>\n",
       "      <td>29.0</td>\n",
       "      <td>917.4</td>\n",
       "    </tr>\n",
       "    <tr>\n",
       "      <th>176</th>\n",
       "      <td>2021</td>\n",
       "      <td>9</td>\n",
       "      <td>42.44</td>\n",
       "      <td>26.5</td>\n",
       "      <td>360.0</td>\n",
       "      <td>33.2</td>\n",
       "      <td>323.0</td>\n",
       "      <td>332.0</td>\n",
       "      <td>776.7</td>\n",
       "      <td>4.43</td>\n",
       "      <td>0.0</td>\n",
       "      <td>299.0</td>\n",
       "      <td>15.1</td>\n",
       "      <td>11.1</td>\n",
       "      <td>26.6</td>\n",
       "      <td>776.7</td>\n",
       "    </tr>\n",
       "    <tr>\n",
       "      <th>177</th>\n",
       "      <td>2021</td>\n",
       "      <td>10</td>\n",
       "      <td>46.52</td>\n",
       "      <td>21.6</td>\n",
       "      <td>365.0</td>\n",
       "      <td>27.5</td>\n",
       "      <td>328.0</td>\n",
       "      <td>339.0</td>\n",
       "      <td>652.8</td>\n",
       "      <td>4.77</td>\n",
       "      <td>0.0</td>\n",
       "      <td>309.0</td>\n",
       "      <td>15.8</td>\n",
       "      <td>5.5</td>\n",
       "      <td>26.1</td>\n",
       "      <td>652.8</td>\n",
       "    </tr>\n",
       "    <tr>\n",
       "      <th>178</th>\n",
       "      <td>2021</td>\n",
       "      <td>11</td>\n",
       "      <td>48.65</td>\n",
       "      <td>17.8</td>\n",
       "      <td>370.0</td>\n",
       "      <td>20.9</td>\n",
       "      <td>333.0</td>\n",
       "      <td>344.0</td>\n",
       "      <td>460.6</td>\n",
       "      <td>4.90</td>\n",
       "      <td>0.0</td>\n",
       "      <td>314.0</td>\n",
       "      <td>15.4</td>\n",
       "      <td>0.0</td>\n",
       "      <td>25.5</td>\n",
       "      <td>460.6</td>\n",
       "    </tr>\n",
       "    <tr>\n",
       "      <th>179</th>\n",
       "      <td>2021</td>\n",
       "      <td>12</td>\n",
       "      <td>48.46</td>\n",
       "      <td>12.2</td>\n",
       "      <td>374.0</td>\n",
       "      <td>7.5</td>\n",
       "      <td>341.0</td>\n",
       "      <td>350.0</td>\n",
       "      <td>256.3</td>\n",
       "      <td>4.74</td>\n",
       "      <td>0.0</td>\n",
       "      <td>323.0</td>\n",
       "      <td>15.0</td>\n",
       "      <td>7.4</td>\n",
       "      <td>25.2</td>\n",
       "      <td>256.3</td>\n",
       "    </tr>\n",
       "  </tbody>\n",
       "</table>\n",
       "<p>180 rows × 16 columns</p>\n",
       "</div>\n",
       "      <button class=\"colab-df-convert\" onclick=\"convertToInteractive('df-36260a98-5217-4bce-939e-bd1ab3587898')\"\n",
       "              title=\"Convert this dataframe to an interactive table.\"\n",
       "              style=\"display:none;\">\n",
       "        \n",
       "  <svg xmlns=\"http://www.w3.org/2000/svg\" height=\"24px\"viewBox=\"0 0 24 24\"\n",
       "       width=\"24px\">\n",
       "    <path d=\"M0 0h24v24H0V0z\" fill=\"none\"/>\n",
       "    <path d=\"M18.56 5.44l.94 2.06.94-2.06 2.06-.94-2.06-.94-.94-2.06-.94 2.06-2.06.94zm-11 1L8.5 8.5l.94-2.06 2.06-.94-2.06-.94L8.5 2.5l-.94 2.06-2.06.94zm10 10l.94 2.06.94-2.06 2.06-.94-2.06-.94-.94-2.06-.94 2.06-2.06.94z\"/><path d=\"M17.41 7.96l-1.37-1.37c-.4-.4-.92-.59-1.43-.59-.52 0-1.04.2-1.43.59L10.3 9.45l-7.72 7.72c-.78.78-.78 2.05 0 2.83L4 21.41c.39.39.9.59 1.41.59.51 0 1.02-.2 1.41-.59l7.78-7.78 2.81-2.81c.8-.78.8-2.07 0-2.86zM5.41 20L4 18.59l7.72-7.72 1.47 1.35L5.41 20z\"/>\n",
       "  </svg>\n",
       "      </button>\n",
       "      \n",
       "  <style>\n",
       "    .colab-df-container {\n",
       "      display:flex;\n",
       "      flex-wrap:wrap;\n",
       "      gap: 12px;\n",
       "    }\n",
       "\n",
       "    .colab-df-convert {\n",
       "      background-color: #E8F0FE;\n",
       "      border: none;\n",
       "      border-radius: 50%;\n",
       "      cursor: pointer;\n",
       "      display: none;\n",
       "      fill: #1967D2;\n",
       "      height: 32px;\n",
       "      padding: 0 0 0 0;\n",
       "      width: 32px;\n",
       "    }\n",
       "\n",
       "    .colab-df-convert:hover {\n",
       "      background-color: #E2EBFA;\n",
       "      box-shadow: 0px 1px 2px rgba(60, 64, 67, 0.3), 0px 1px 3px 1px rgba(60, 64, 67, 0.15);\n",
       "      fill: #174EA6;\n",
       "    }\n",
       "\n",
       "    [theme=dark] .colab-df-convert {\n",
       "      background-color: #3B4455;\n",
       "      fill: #D2E3FC;\n",
       "    }\n",
       "\n",
       "    [theme=dark] .colab-df-convert:hover {\n",
       "      background-color: #434B5C;\n",
       "      box-shadow: 0px 1px 3px 1px rgba(0, 0, 0, 0.15);\n",
       "      filter: drop-shadow(0px 1px 2px rgba(0, 0, 0, 0.3));\n",
       "      fill: #FFFFFF;\n",
       "    }\n",
       "  </style>\n",
       "\n",
       "      <script>\n",
       "        const buttonEl =\n",
       "          document.querySelector('#df-36260a98-5217-4bce-939e-bd1ab3587898 button.colab-df-convert');\n",
       "        buttonEl.style.display =\n",
       "          google.colab.kernel.accessAllowed ? 'block' : 'none';\n",
       "\n",
       "        async function convertToInteractive(key) {\n",
       "          const element = document.querySelector('#df-36260a98-5217-4bce-939e-bd1ab3587898');\n",
       "          const dataTable =\n",
       "            await google.colab.kernel.invokeFunction('convertToInteractive',\n",
       "                                                     [key], {});\n",
       "          if (!dataTable) return;\n",
       "\n",
       "          const docLinkHtml = 'Like what you see? Visit the ' +\n",
       "            '<a target=\"_blank\" href=https://colab.research.google.com/notebooks/data_table.ipynb>data table notebook</a>'\n",
       "            + ' to learn more about interactive tables.';\n",
       "          element.innerHTML = '';\n",
       "          dataTable['output_type'] = 'display_data';\n",
       "          await google.colab.output.renderOutput(dataTable, element);\n",
       "          const docLink = document.createElement('div');\n",
       "          docLink.innerHTML = docLinkHtml;\n",
       "          element.appendChild(docLink);\n",
       "        }\n",
       "      </script>\n",
       "    </div>\n",
       "  </div>\n",
       "  "
      ],
      "text/plain": [
       "     Year  Month  Raw milk price  Butter  Calf nuts value  Cheese  \\\n",
       "0    2007      1           28.30     3.8              0.0     1.3   \n",
       "1    2007      2           27.18     5.0              0.0     2.4   \n",
       "2    2007      3           25.64    10.1              0.0    10.2   \n",
       "3    2007      4           27.29    14.8              0.0    17.6   \n",
       "4    2007      5           29.76    19.1              0.0    19.3   \n",
       "..    ...    ...             ...     ...              ...     ...   \n",
       "175  2021      8           39.23    28.8            355.0    29.3   \n",
       "176  2021      9           42.44    26.5            360.0    33.2   \n",
       "177  2021     10           46.52    21.6            365.0    27.5   \n",
       "178  2021     11           48.65    17.8            370.0    20.9   \n",
       "179  2021     12           48.46    12.2            374.0     7.5   \n",
       "\n",
       "     Dairy meal value  Dairy nuts value  Domestic milk intake  \\\n",
       "0                 0.0               0.0                 123.0   \n",
       "1                 0.0               0.0                 185.4   \n",
       "2                 0.0               0.0                 386.5   \n",
       "3                 0.0               0.0                 581.0   \n",
       "4                 0.0               0.0                 688.3   \n",
       "..                ...               ...                   ...   \n",
       "175             316.0             324.0                 917.4   \n",
       "176             323.0             332.0                 776.7   \n",
       "177             328.0             339.0                 652.8   \n",
       "178             333.0             344.0                 460.6   \n",
       "179             341.0             350.0                 256.3   \n",
       "\n",
       "     Fat content (Percent)  Imported milk intake  Maize meal value  \\\n",
       "0                     3.87                  54.6               0.0   \n",
       "1                     3.87                  38.0               0.0   \n",
       "2                     3.80                  35.8               0.0   \n",
       "3                     3.59                  38.7               0.0   \n",
       "4                     3.62                  46.9               0.0   \n",
       "..                     ...                   ...               ...   \n",
       "175                   4.19                   0.0             293.0   \n",
       "176                   4.43                   0.0             299.0   \n",
       "177                   4.77                   0.0             309.0   \n",
       "178                   4.90                   0.0             314.0   \n",
       "179                   4.74                   0.0             323.0   \n",
       "\n",
       "     Skimmed milk sales  Skimmed milk powder  Whole milk sales  \\\n",
       "0                  12.3                  2.4              32.1   \n",
       "1                  12.6                  1.9              29.3   \n",
       "2                  12.8                  5.0              32.4   \n",
       "3                  12.1                 10.1              30.4   \n",
       "4                  12.8                 13.2              31.8   \n",
       "..                  ...                  ...               ...   \n",
       "175                15.8                 16.4              29.0   \n",
       "176                15.1                 11.1              26.6   \n",
       "177                15.8                  5.5              26.1   \n",
       "178                15.4                  0.0              25.5   \n",
       "179                15.0                  7.4              25.2   \n",
       "\n",
       "     Milk production volume  \n",
       "0                     177.6  \n",
       "1                     223.4  \n",
       "2                     422.3  \n",
       "3                     619.7  \n",
       "4                     735.2  \n",
       "..                      ...  \n",
       "175                   917.4  \n",
       "176                   776.7  \n",
       "177                   652.8  \n",
       "178                   460.6  \n",
       "179                   256.3  \n",
       "\n",
       "[180 rows x 16 columns]"
      ]
     },
     "execution_count": 24,
     "metadata": {},
     "output_type": "execute_result"
    }
   ],
   "source": [
    "df2"
   ]
  },
  {
   "cell_type": "code",
   "execution_count": 39,
   "metadata": {
    "executionInfo": {
     "elapsed": 206,
     "status": "ok",
     "timestamp": 1652369092334,
     "user": {
      "displayName": "Brendan Crowley",
      "userId": "09355744342736110324"
     },
     "user_tz": -60
    },
    "id": "xS9c7zKC0Nhh"
   },
   "outputs": [],
   "source": [
    "X2 = df2[[\"Month\"]+(list(df1.columns[3:-1]))]\n",
    "y2 = df2[\"Raw milk price\"]\n",
    "\n",
    "stratify2 = df2[\"Month\"]\n",
    "\n",
    "X2_train, X2_test, y2_train, y2_test = train_test_split(X2, y2, random_state=22122,\n",
    "                                                        stratify=stratify2)"
   ]
  },
  {
   "cell_type": "code",
   "execution_count": 40,
   "metadata": {
    "colab": {
     "base_uri": "https://localhost:8080/",
     "height": 424
    },
    "executionInfo": {
     "elapsed": 20,
     "status": "ok",
     "timestamp": 1652369093369,
     "user": {
      "displayName": "Brendan Crowley",
      "userId": "09355744342736110324"
     },
     "user_tz": -60
    },
    "id": "5FOTjsw00Nhi",
    "outputId": "e477d67c-791d-4435-88c7-087aa4f1a7a5"
   },
   "outputs": [
    {
     "data": {
      "text/html": [
       "\n",
       "  <div id=\"df-257889f7-982c-4ca2-998c-cb430857b983\">\n",
       "    <div class=\"colab-df-container\">\n",
       "      <div>\n",
       "<style scoped>\n",
       "    .dataframe tbody tr th:only-of-type {\n",
       "        vertical-align: middle;\n",
       "    }\n",
       "\n",
       "    .dataframe tbody tr th {\n",
       "        vertical-align: top;\n",
       "    }\n",
       "\n",
       "    .dataframe thead th {\n",
       "        text-align: right;\n",
       "    }\n",
       "</style>\n",
       "<table border=\"1\" class=\"dataframe\">\n",
       "  <thead>\n",
       "    <tr style=\"text-align: right;\">\n",
       "      <th></th>\n",
       "      <th>Month</th>\n",
       "      <th>Butter</th>\n",
       "      <th>Calf nuts value</th>\n",
       "      <th>Cheese</th>\n",
       "      <th>Dairy meal value</th>\n",
       "      <th>Dairy nuts value</th>\n",
       "      <th>Domestic milk intake</th>\n",
       "      <th>Fat content (Percent)</th>\n",
       "      <th>Imported milk intake</th>\n",
       "      <th>Maize meal value</th>\n",
       "      <th>Skimmed milk sales</th>\n",
       "      <th>Skimmed milk powder</th>\n",
       "      <th>Whole milk sales</th>\n",
       "    </tr>\n",
       "  </thead>\n",
       "  <tbody>\n",
       "    <tr>\n",
       "      <th>0</th>\n",
       "      <td>1</td>\n",
       "      <td>3.8</td>\n",
       "      <td>0.0</td>\n",
       "      <td>1.3</td>\n",
       "      <td>0.0</td>\n",
       "      <td>0.0</td>\n",
       "      <td>123.0</td>\n",
       "      <td>3.87</td>\n",
       "      <td>54.6</td>\n",
       "      <td>0.0</td>\n",
       "      <td>12.3</td>\n",
       "      <td>2.4</td>\n",
       "      <td>32.1</td>\n",
       "    </tr>\n",
       "    <tr>\n",
       "      <th>1</th>\n",
       "      <td>2</td>\n",
       "      <td>5.0</td>\n",
       "      <td>0.0</td>\n",
       "      <td>2.4</td>\n",
       "      <td>0.0</td>\n",
       "      <td>0.0</td>\n",
       "      <td>185.4</td>\n",
       "      <td>3.87</td>\n",
       "      <td>38.0</td>\n",
       "      <td>0.0</td>\n",
       "      <td>12.6</td>\n",
       "      <td>1.9</td>\n",
       "      <td>29.3</td>\n",
       "    </tr>\n",
       "    <tr>\n",
       "      <th>2</th>\n",
       "      <td>3</td>\n",
       "      <td>10.1</td>\n",
       "      <td>0.0</td>\n",
       "      <td>10.2</td>\n",
       "      <td>0.0</td>\n",
       "      <td>0.0</td>\n",
       "      <td>386.5</td>\n",
       "      <td>3.80</td>\n",
       "      <td>35.8</td>\n",
       "      <td>0.0</td>\n",
       "      <td>12.8</td>\n",
       "      <td>5.0</td>\n",
       "      <td>32.4</td>\n",
       "    </tr>\n",
       "    <tr>\n",
       "      <th>3</th>\n",
       "      <td>4</td>\n",
       "      <td>14.8</td>\n",
       "      <td>0.0</td>\n",
       "      <td>17.6</td>\n",
       "      <td>0.0</td>\n",
       "      <td>0.0</td>\n",
       "      <td>581.0</td>\n",
       "      <td>3.59</td>\n",
       "      <td>38.7</td>\n",
       "      <td>0.0</td>\n",
       "      <td>12.1</td>\n",
       "      <td>10.1</td>\n",
       "      <td>30.4</td>\n",
       "    </tr>\n",
       "    <tr>\n",
       "      <th>4</th>\n",
       "      <td>5</td>\n",
       "      <td>19.1</td>\n",
       "      <td>0.0</td>\n",
       "      <td>19.3</td>\n",
       "      <td>0.0</td>\n",
       "      <td>0.0</td>\n",
       "      <td>688.3</td>\n",
       "      <td>3.62</td>\n",
       "      <td>46.9</td>\n",
       "      <td>0.0</td>\n",
       "      <td>12.8</td>\n",
       "      <td>13.2</td>\n",
       "      <td>31.8</td>\n",
       "    </tr>\n",
       "    <tr>\n",
       "      <th>...</th>\n",
       "      <td>...</td>\n",
       "      <td>...</td>\n",
       "      <td>...</td>\n",
       "      <td>...</td>\n",
       "      <td>...</td>\n",
       "      <td>...</td>\n",
       "      <td>...</td>\n",
       "      <td>...</td>\n",
       "      <td>...</td>\n",
       "      <td>...</td>\n",
       "      <td>...</td>\n",
       "      <td>...</td>\n",
       "      <td>...</td>\n",
       "    </tr>\n",
       "    <tr>\n",
       "      <th>175</th>\n",
       "      <td>8</td>\n",
       "      <td>28.8</td>\n",
       "      <td>355.0</td>\n",
       "      <td>29.3</td>\n",
       "      <td>316.0</td>\n",
       "      <td>324.0</td>\n",
       "      <td>917.4</td>\n",
       "      <td>4.19</td>\n",
       "      <td>0.0</td>\n",
       "      <td>293.0</td>\n",
       "      <td>15.8</td>\n",
       "      <td>16.4</td>\n",
       "      <td>29.0</td>\n",
       "    </tr>\n",
       "    <tr>\n",
       "      <th>176</th>\n",
       "      <td>9</td>\n",
       "      <td>26.5</td>\n",
       "      <td>360.0</td>\n",
       "      <td>33.2</td>\n",
       "      <td>323.0</td>\n",
       "      <td>332.0</td>\n",
       "      <td>776.7</td>\n",
       "      <td>4.43</td>\n",
       "      <td>0.0</td>\n",
       "      <td>299.0</td>\n",
       "      <td>15.1</td>\n",
       "      <td>11.1</td>\n",
       "      <td>26.6</td>\n",
       "    </tr>\n",
       "    <tr>\n",
       "      <th>177</th>\n",
       "      <td>10</td>\n",
       "      <td>21.6</td>\n",
       "      <td>365.0</td>\n",
       "      <td>27.5</td>\n",
       "      <td>328.0</td>\n",
       "      <td>339.0</td>\n",
       "      <td>652.8</td>\n",
       "      <td>4.77</td>\n",
       "      <td>0.0</td>\n",
       "      <td>309.0</td>\n",
       "      <td>15.8</td>\n",
       "      <td>5.5</td>\n",
       "      <td>26.1</td>\n",
       "    </tr>\n",
       "    <tr>\n",
       "      <th>178</th>\n",
       "      <td>11</td>\n",
       "      <td>17.8</td>\n",
       "      <td>370.0</td>\n",
       "      <td>20.9</td>\n",
       "      <td>333.0</td>\n",
       "      <td>344.0</td>\n",
       "      <td>460.6</td>\n",
       "      <td>4.90</td>\n",
       "      <td>0.0</td>\n",
       "      <td>314.0</td>\n",
       "      <td>15.4</td>\n",
       "      <td>0.0</td>\n",
       "      <td>25.5</td>\n",
       "    </tr>\n",
       "    <tr>\n",
       "      <th>179</th>\n",
       "      <td>12</td>\n",
       "      <td>12.2</td>\n",
       "      <td>374.0</td>\n",
       "      <td>7.5</td>\n",
       "      <td>341.0</td>\n",
       "      <td>350.0</td>\n",
       "      <td>256.3</td>\n",
       "      <td>4.74</td>\n",
       "      <td>0.0</td>\n",
       "      <td>323.0</td>\n",
       "      <td>15.0</td>\n",
       "      <td>7.4</td>\n",
       "      <td>25.2</td>\n",
       "    </tr>\n",
       "  </tbody>\n",
       "</table>\n",
       "<p>180 rows × 13 columns</p>\n",
       "</div>\n",
       "      <button class=\"colab-df-convert\" onclick=\"convertToInteractive('df-257889f7-982c-4ca2-998c-cb430857b983')\"\n",
       "              title=\"Convert this dataframe to an interactive table.\"\n",
       "              style=\"display:none;\">\n",
       "        \n",
       "  <svg xmlns=\"http://www.w3.org/2000/svg\" height=\"24px\"viewBox=\"0 0 24 24\"\n",
       "       width=\"24px\">\n",
       "    <path d=\"M0 0h24v24H0V0z\" fill=\"none\"/>\n",
       "    <path d=\"M18.56 5.44l.94 2.06.94-2.06 2.06-.94-2.06-.94-.94-2.06-.94 2.06-2.06.94zm-11 1L8.5 8.5l.94-2.06 2.06-.94-2.06-.94L8.5 2.5l-.94 2.06-2.06.94zm10 10l.94 2.06.94-2.06 2.06-.94-2.06-.94-.94-2.06-.94 2.06-2.06.94z\"/><path d=\"M17.41 7.96l-1.37-1.37c-.4-.4-.92-.59-1.43-.59-.52 0-1.04.2-1.43.59L10.3 9.45l-7.72 7.72c-.78.78-.78 2.05 0 2.83L4 21.41c.39.39.9.59 1.41.59.51 0 1.02-.2 1.41-.59l7.78-7.78 2.81-2.81c.8-.78.8-2.07 0-2.86zM5.41 20L4 18.59l7.72-7.72 1.47 1.35L5.41 20z\"/>\n",
       "  </svg>\n",
       "      </button>\n",
       "      \n",
       "  <style>\n",
       "    .colab-df-container {\n",
       "      display:flex;\n",
       "      flex-wrap:wrap;\n",
       "      gap: 12px;\n",
       "    }\n",
       "\n",
       "    .colab-df-convert {\n",
       "      background-color: #E8F0FE;\n",
       "      border: none;\n",
       "      border-radius: 50%;\n",
       "      cursor: pointer;\n",
       "      display: none;\n",
       "      fill: #1967D2;\n",
       "      height: 32px;\n",
       "      padding: 0 0 0 0;\n",
       "      width: 32px;\n",
       "    }\n",
       "\n",
       "    .colab-df-convert:hover {\n",
       "      background-color: #E2EBFA;\n",
       "      box-shadow: 0px 1px 2px rgba(60, 64, 67, 0.3), 0px 1px 3px 1px rgba(60, 64, 67, 0.15);\n",
       "      fill: #174EA6;\n",
       "    }\n",
       "\n",
       "    [theme=dark] .colab-df-convert {\n",
       "      background-color: #3B4455;\n",
       "      fill: #D2E3FC;\n",
       "    }\n",
       "\n",
       "    [theme=dark] .colab-df-convert:hover {\n",
       "      background-color: #434B5C;\n",
       "      box-shadow: 0px 1px 3px 1px rgba(0, 0, 0, 0.15);\n",
       "      filter: drop-shadow(0px 1px 2px rgba(0, 0, 0, 0.3));\n",
       "      fill: #FFFFFF;\n",
       "    }\n",
       "  </style>\n",
       "\n",
       "      <script>\n",
       "        const buttonEl =\n",
       "          document.querySelector('#df-257889f7-982c-4ca2-998c-cb430857b983 button.colab-df-convert');\n",
       "        buttonEl.style.display =\n",
       "          google.colab.kernel.accessAllowed ? 'block' : 'none';\n",
       "\n",
       "        async function convertToInteractive(key) {\n",
       "          const element = document.querySelector('#df-257889f7-982c-4ca2-998c-cb430857b983');\n",
       "          const dataTable =\n",
       "            await google.colab.kernel.invokeFunction('convertToInteractive',\n",
       "                                                     [key], {});\n",
       "          if (!dataTable) return;\n",
       "\n",
       "          const docLinkHtml = 'Like what you see? Visit the ' +\n",
       "            '<a target=\"_blank\" href=https://colab.research.google.com/notebooks/data_table.ipynb>data table notebook</a>'\n",
       "            + ' to learn more about interactive tables.';\n",
       "          element.innerHTML = '';\n",
       "          dataTable['output_type'] = 'display_data';\n",
       "          await google.colab.output.renderOutput(dataTable, element);\n",
       "          const docLink = document.createElement('div');\n",
       "          docLink.innerHTML = docLinkHtml;\n",
       "          element.appendChild(docLink);\n",
       "        }\n",
       "      </script>\n",
       "    </div>\n",
       "  </div>\n",
       "  "
      ],
      "text/plain": [
       "     Month  Butter  Calf nuts value  Cheese  Dairy meal value  \\\n",
       "0        1     3.8              0.0     1.3               0.0   \n",
       "1        2     5.0              0.0     2.4               0.0   \n",
       "2        3    10.1              0.0    10.2               0.0   \n",
       "3        4    14.8              0.0    17.6               0.0   \n",
       "4        5    19.1              0.0    19.3               0.0   \n",
       "..     ...     ...              ...     ...               ...   \n",
       "175      8    28.8            355.0    29.3             316.0   \n",
       "176      9    26.5            360.0    33.2             323.0   \n",
       "177     10    21.6            365.0    27.5             328.0   \n",
       "178     11    17.8            370.0    20.9             333.0   \n",
       "179     12    12.2            374.0     7.5             341.0   \n",
       "\n",
       "     Dairy nuts value  Domestic milk intake  Fat content (Percent)  \\\n",
       "0                 0.0                 123.0                   3.87   \n",
       "1                 0.0                 185.4                   3.87   \n",
       "2                 0.0                 386.5                   3.80   \n",
       "3                 0.0                 581.0                   3.59   \n",
       "4                 0.0                 688.3                   3.62   \n",
       "..                ...                   ...                    ...   \n",
       "175             324.0                 917.4                   4.19   \n",
       "176             332.0                 776.7                   4.43   \n",
       "177             339.0                 652.8                   4.77   \n",
       "178             344.0                 460.6                   4.90   \n",
       "179             350.0                 256.3                   4.74   \n",
       "\n",
       "     Imported milk intake  Maize meal value  Skimmed milk sales  \\\n",
       "0                    54.6               0.0                12.3   \n",
       "1                    38.0               0.0                12.6   \n",
       "2                    35.8               0.0                12.8   \n",
       "3                    38.7               0.0                12.1   \n",
       "4                    46.9               0.0                12.8   \n",
       "..                    ...               ...                 ...   \n",
       "175                   0.0             293.0                15.8   \n",
       "176                   0.0             299.0                15.1   \n",
       "177                   0.0             309.0                15.8   \n",
       "178                   0.0             314.0                15.4   \n",
       "179                   0.0             323.0                15.0   \n",
       "\n",
       "     Skimmed milk powder  Whole milk sales  \n",
       "0                    2.4              32.1  \n",
       "1                    1.9              29.3  \n",
       "2                    5.0              32.4  \n",
       "3                   10.1              30.4  \n",
       "4                   13.2              31.8  \n",
       "..                   ...               ...  \n",
       "175                 16.4              29.0  \n",
       "176                 11.1              26.6  \n",
       "177                  5.5              26.1  \n",
       "178                  0.0              25.5  \n",
       "179                  7.4              25.2  \n",
       "\n",
       "[180 rows x 13 columns]"
      ]
     },
     "execution_count": 40,
     "metadata": {},
     "output_type": "execute_result"
    }
   ],
   "source": [
    "X2"
   ]
  },
  {
   "cell_type": "code",
   "execution_count": 41,
   "metadata": {
    "colab": {
     "base_uri": "https://localhost:8080/",
     "height": 424
    },
    "executionInfo": {
     "elapsed": 23,
     "status": "ok",
     "timestamp": 1652369094315,
     "user": {
      "displayName": "Brendan Crowley",
      "userId": "09355744342736110324"
     },
     "user_tz": -60
    },
    "id": "CGKybsQi0Nhi",
    "outputId": "6edac6df-c8b2-444a-c336-0927dcf106f0"
   },
   "outputs": [
    {
     "data": {
      "text/html": [
       "\n",
       "  <div id=\"df-81d628d5-05d1-4e4e-ae0b-2bb352b4fd8b\">\n",
       "    <div class=\"colab-df-container\">\n",
       "      <div>\n",
       "<style scoped>\n",
       "    .dataframe tbody tr th:only-of-type {\n",
       "        vertical-align: middle;\n",
       "    }\n",
       "\n",
       "    .dataframe tbody tr th {\n",
       "        vertical-align: top;\n",
       "    }\n",
       "\n",
       "    .dataframe thead th {\n",
       "        text-align: right;\n",
       "    }\n",
       "</style>\n",
       "<table border=\"1\" class=\"dataframe\">\n",
       "  <thead>\n",
       "    <tr style=\"text-align: right;\">\n",
       "      <th></th>\n",
       "      <th>Month</th>\n",
       "      <th>Butter</th>\n",
       "      <th>Calf nuts value</th>\n",
       "      <th>Cheese</th>\n",
       "      <th>Dairy meal value</th>\n",
       "      <th>Dairy nuts value</th>\n",
       "      <th>Domestic milk intake</th>\n",
       "      <th>Fat content (Percent)</th>\n",
       "      <th>Imported milk intake</th>\n",
       "      <th>Maize meal value</th>\n",
       "      <th>Skimmed milk sales</th>\n",
       "      <th>Skimmed milk powder</th>\n",
       "      <th>Whole milk sales</th>\n",
       "    </tr>\n",
       "  </thead>\n",
       "  <tbody>\n",
       "    <tr>\n",
       "      <th>116</th>\n",
       "      <td>9</td>\n",
       "      <td>18.5</td>\n",
       "      <td>295.0</td>\n",
       "      <td>21.9</td>\n",
       "      <td>251.0</td>\n",
       "      <td>271.0</td>\n",
       "      <td>583.8</td>\n",
       "      <td>4.33</td>\n",
       "      <td>56.7</td>\n",
       "      <td>230.0</td>\n",
       "      <td>17.2</td>\n",
       "      <td>7.7</td>\n",
       "      <td>27.2</td>\n",
       "    </tr>\n",
       "    <tr>\n",
       "      <th>38</th>\n",
       "      <td>3</td>\n",
       "      <td>10.1</td>\n",
       "      <td>0.0</td>\n",
       "      <td>15.5</td>\n",
       "      <td>0.0</td>\n",
       "      <td>0.0</td>\n",
       "      <td>382.1</td>\n",
       "      <td>3.89</td>\n",
       "      <td>33.9</td>\n",
       "      <td>0.0</td>\n",
       "      <td>15.4</td>\n",
       "      <td>1.3</td>\n",
       "      <td>29.1</td>\n",
       "    </tr>\n",
       "    <tr>\n",
       "      <th>155</th>\n",
       "      <td>12</td>\n",
       "      <td>10.9</td>\n",
       "      <td>312.0</td>\n",
       "      <td>5.4</td>\n",
       "      <td>266.0</td>\n",
       "      <td>286.0</td>\n",
       "      <td>241.4</td>\n",
       "      <td>4.58</td>\n",
       "      <td>0.0</td>\n",
       "      <td>230.0</td>\n",
       "      <td>16.1</td>\n",
       "      <td>10.2</td>\n",
       "      <td>25.8</td>\n",
       "    </tr>\n",
       "    <tr>\n",
       "      <th>160</th>\n",
       "      <td>5</td>\n",
       "      <td>29.8</td>\n",
       "      <td>320.0</td>\n",
       "      <td>31.6</td>\n",
       "      <td>273.0</td>\n",
       "      <td>291.0</td>\n",
       "      <td>1115.3</td>\n",
       "      <td>3.87</td>\n",
       "      <td>0.0</td>\n",
       "      <td>232.0</td>\n",
       "      <td>15.7</td>\n",
       "      <td>24.6</td>\n",
       "      <td>31.6</td>\n",
       "    </tr>\n",
       "    <tr>\n",
       "      <th>93</th>\n",
       "      <td>10</td>\n",
       "      <td>13.5</td>\n",
       "      <td>279.0</td>\n",
       "      <td>14.8</td>\n",
       "      <td>250.0</td>\n",
       "      <td>270.0</td>\n",
       "      <td>426.3</td>\n",
       "      <td>4.49</td>\n",
       "      <td>37.4</td>\n",
       "      <td>227.0</td>\n",
       "      <td>16.5</td>\n",
       "      <td>0.0</td>\n",
       "      <td>23.6</td>\n",
       "    </tr>\n",
       "    <tr>\n",
       "      <th>...</th>\n",
       "      <td>...</td>\n",
       "      <td>...</td>\n",
       "      <td>...</td>\n",
       "      <td>...</td>\n",
       "      <td>...</td>\n",
       "      <td>...</td>\n",
       "      <td>...</td>\n",
       "      <td>...</td>\n",
       "      <td>...</td>\n",
       "      <td>...</td>\n",
       "      <td>...</td>\n",
       "      <td>...</td>\n",
       "      <td>...</td>\n",
       "    </tr>\n",
       "    <tr>\n",
       "      <th>115</th>\n",
       "      <td>8</td>\n",
       "      <td>20.3</td>\n",
       "      <td>295.0</td>\n",
       "      <td>23.3</td>\n",
       "      <td>252.0</td>\n",
       "      <td>270.0</td>\n",
       "      <td>699.3</td>\n",
       "      <td>4.08</td>\n",
       "      <td>50.8</td>\n",
       "      <td>232.0</td>\n",
       "      <td>18.2</td>\n",
       "      <td>11.0</td>\n",
       "      <td>26.8</td>\n",
       "    </tr>\n",
       "    <tr>\n",
       "      <th>48</th>\n",
       "      <td>1</td>\n",
       "      <td>4.0</td>\n",
       "      <td>0.0</td>\n",
       "      <td>2.5</td>\n",
       "      <td>0.0</td>\n",
       "      <td>0.0</td>\n",
       "      <td>146.7</td>\n",
       "      <td>3.99</td>\n",
       "      <td>28.8</td>\n",
       "      <td>0.0</td>\n",
       "      <td>14.5</td>\n",
       "      <td>0.0</td>\n",
       "      <td>27.6</td>\n",
       "    </tr>\n",
       "    <tr>\n",
       "      <th>108</th>\n",
       "      <td>1</td>\n",
       "      <td>5.0</td>\n",
       "      <td>296.0</td>\n",
       "      <td>2.0</td>\n",
       "      <td>264.0</td>\n",
       "      <td>272.0</td>\n",
       "      <td>147.6</td>\n",
       "      <td>4.17</td>\n",
       "      <td>78.6</td>\n",
       "      <td>219.0</td>\n",
       "      <td>17.8</td>\n",
       "      <td>4.4</td>\n",
       "      <td>24.7</td>\n",
       "    </tr>\n",
       "    <tr>\n",
       "      <th>154</th>\n",
       "      <td>11</td>\n",
       "      <td>15.1</td>\n",
       "      <td>312.0</td>\n",
       "      <td>23.5</td>\n",
       "      <td>267.0</td>\n",
       "      <td>286.0</td>\n",
       "      <td>418.1</td>\n",
       "      <td>4.84</td>\n",
       "      <td>0.0</td>\n",
       "      <td>229.0</td>\n",
       "      <td>16.9</td>\n",
       "      <td>0.0</td>\n",
       "      <td>26.8</td>\n",
       "    </tr>\n",
       "    <tr>\n",
       "      <th>23</th>\n",
       "      <td>12</td>\n",
       "      <td>4.7</td>\n",
       "      <td>0.0</td>\n",
       "      <td>4.7</td>\n",
       "      <td>0.0</td>\n",
       "      <td>0.0</td>\n",
       "      <td>151.3</td>\n",
       "      <td>4.05</td>\n",
       "      <td>32.4</td>\n",
       "      <td>0.0</td>\n",
       "      <td>13.4</td>\n",
       "      <td>0.0</td>\n",
       "      <td>29.4</td>\n",
       "    </tr>\n",
       "  </tbody>\n",
       "</table>\n",
       "<p>135 rows × 13 columns</p>\n",
       "</div>\n",
       "      <button class=\"colab-df-convert\" onclick=\"convertToInteractive('df-81d628d5-05d1-4e4e-ae0b-2bb352b4fd8b')\"\n",
       "              title=\"Convert this dataframe to an interactive table.\"\n",
       "              style=\"display:none;\">\n",
       "        \n",
       "  <svg xmlns=\"http://www.w3.org/2000/svg\" height=\"24px\"viewBox=\"0 0 24 24\"\n",
       "       width=\"24px\">\n",
       "    <path d=\"M0 0h24v24H0V0z\" fill=\"none\"/>\n",
       "    <path d=\"M18.56 5.44l.94 2.06.94-2.06 2.06-.94-2.06-.94-.94-2.06-.94 2.06-2.06.94zm-11 1L8.5 8.5l.94-2.06 2.06-.94-2.06-.94L8.5 2.5l-.94 2.06-2.06.94zm10 10l.94 2.06.94-2.06 2.06-.94-2.06-.94-.94-2.06-.94 2.06-2.06.94z\"/><path d=\"M17.41 7.96l-1.37-1.37c-.4-.4-.92-.59-1.43-.59-.52 0-1.04.2-1.43.59L10.3 9.45l-7.72 7.72c-.78.78-.78 2.05 0 2.83L4 21.41c.39.39.9.59 1.41.59.51 0 1.02-.2 1.41-.59l7.78-7.78 2.81-2.81c.8-.78.8-2.07 0-2.86zM5.41 20L4 18.59l7.72-7.72 1.47 1.35L5.41 20z\"/>\n",
       "  </svg>\n",
       "      </button>\n",
       "      \n",
       "  <style>\n",
       "    .colab-df-container {\n",
       "      display:flex;\n",
       "      flex-wrap:wrap;\n",
       "      gap: 12px;\n",
       "    }\n",
       "\n",
       "    .colab-df-convert {\n",
       "      background-color: #E8F0FE;\n",
       "      border: none;\n",
       "      border-radius: 50%;\n",
       "      cursor: pointer;\n",
       "      display: none;\n",
       "      fill: #1967D2;\n",
       "      height: 32px;\n",
       "      padding: 0 0 0 0;\n",
       "      width: 32px;\n",
       "    }\n",
       "\n",
       "    .colab-df-convert:hover {\n",
       "      background-color: #E2EBFA;\n",
       "      box-shadow: 0px 1px 2px rgba(60, 64, 67, 0.3), 0px 1px 3px 1px rgba(60, 64, 67, 0.15);\n",
       "      fill: #174EA6;\n",
       "    }\n",
       "\n",
       "    [theme=dark] .colab-df-convert {\n",
       "      background-color: #3B4455;\n",
       "      fill: #D2E3FC;\n",
       "    }\n",
       "\n",
       "    [theme=dark] .colab-df-convert:hover {\n",
       "      background-color: #434B5C;\n",
       "      box-shadow: 0px 1px 3px 1px rgba(0, 0, 0, 0.15);\n",
       "      filter: drop-shadow(0px 1px 2px rgba(0, 0, 0, 0.3));\n",
       "      fill: #FFFFFF;\n",
       "    }\n",
       "  </style>\n",
       "\n",
       "      <script>\n",
       "        const buttonEl =\n",
       "          document.querySelector('#df-81d628d5-05d1-4e4e-ae0b-2bb352b4fd8b button.colab-df-convert');\n",
       "        buttonEl.style.display =\n",
       "          google.colab.kernel.accessAllowed ? 'block' : 'none';\n",
       "\n",
       "        async function convertToInteractive(key) {\n",
       "          const element = document.querySelector('#df-81d628d5-05d1-4e4e-ae0b-2bb352b4fd8b');\n",
       "          const dataTable =\n",
       "            await google.colab.kernel.invokeFunction('convertToInteractive',\n",
       "                                                     [key], {});\n",
       "          if (!dataTable) return;\n",
       "\n",
       "          const docLinkHtml = 'Like what you see? Visit the ' +\n",
       "            '<a target=\"_blank\" href=https://colab.research.google.com/notebooks/data_table.ipynb>data table notebook</a>'\n",
       "            + ' to learn more about interactive tables.';\n",
       "          element.innerHTML = '';\n",
       "          dataTable['output_type'] = 'display_data';\n",
       "          await google.colab.output.renderOutput(dataTable, element);\n",
       "          const docLink = document.createElement('div');\n",
       "          docLink.innerHTML = docLinkHtml;\n",
       "          element.appendChild(docLink);\n",
       "        }\n",
       "      </script>\n",
       "    </div>\n",
       "  </div>\n",
       "  "
      ],
      "text/plain": [
       "     Month  Butter  Calf nuts value  Cheese  Dairy meal value  \\\n",
       "116      9    18.5            295.0    21.9             251.0   \n",
       "38       3    10.1              0.0    15.5               0.0   \n",
       "155     12    10.9            312.0     5.4             266.0   \n",
       "160      5    29.8            320.0    31.6             273.0   \n",
       "93      10    13.5            279.0    14.8             250.0   \n",
       "..     ...     ...              ...     ...               ...   \n",
       "115      8    20.3            295.0    23.3             252.0   \n",
       "48       1     4.0              0.0     2.5               0.0   \n",
       "108      1     5.0            296.0     2.0             264.0   \n",
       "154     11    15.1            312.0    23.5             267.0   \n",
       "23      12     4.7              0.0     4.7               0.0   \n",
       "\n",
       "     Dairy nuts value  Domestic milk intake  Fat content (Percent)  \\\n",
       "116             271.0                 583.8                   4.33   \n",
       "38                0.0                 382.1                   3.89   \n",
       "155             286.0                 241.4                   4.58   \n",
       "160             291.0                1115.3                   3.87   \n",
       "93              270.0                 426.3                   4.49   \n",
       "..                ...                   ...                    ...   \n",
       "115             270.0                 699.3                   4.08   \n",
       "48                0.0                 146.7                   3.99   \n",
       "108             272.0                 147.6                   4.17   \n",
       "154             286.0                 418.1                   4.84   \n",
       "23                0.0                 151.3                   4.05   \n",
       "\n",
       "     Imported milk intake  Maize meal value  Skimmed milk sales  \\\n",
       "116                  56.7             230.0                17.2   \n",
       "38                   33.9               0.0                15.4   \n",
       "155                   0.0             230.0                16.1   \n",
       "160                   0.0             232.0                15.7   \n",
       "93                   37.4             227.0                16.5   \n",
       "..                    ...               ...                 ...   \n",
       "115                  50.8             232.0                18.2   \n",
       "48                   28.8               0.0                14.5   \n",
       "108                  78.6             219.0                17.8   \n",
       "154                   0.0             229.0                16.9   \n",
       "23                   32.4               0.0                13.4   \n",
       "\n",
       "     Skimmed milk powder  Whole milk sales  \n",
       "116                  7.7              27.2  \n",
       "38                   1.3              29.1  \n",
       "155                 10.2              25.8  \n",
       "160                 24.6              31.6  \n",
       "93                   0.0              23.6  \n",
       "..                   ...               ...  \n",
       "115                 11.0              26.8  \n",
       "48                   0.0              27.6  \n",
       "108                  4.4              24.7  \n",
       "154                  0.0              26.8  \n",
       "23                   0.0              29.4  \n",
       "\n",
       "[135 rows x 13 columns]"
      ]
     },
     "execution_count": 41,
     "metadata": {},
     "output_type": "execute_result"
    }
   ],
   "source": [
    "X2_train"
   ]
  },
  {
   "cell_type": "code",
   "execution_count": 42,
   "metadata": {
    "colab": {
     "base_uri": "https://localhost:8080/"
    },
    "executionInfo": {
     "elapsed": 11,
     "status": "ok",
     "timestamp": 1652369094550,
     "user": {
      "displayName": "Brendan Crowley",
      "userId": "09355744342736110324"
     },
     "user_tz": -60
    },
    "id": "RKXaZJVs0Nhi",
    "outputId": "f71ed66d-d744-45b6-c4d8-db7ae0d99a51"
   },
   "outputs": [
    {
     "data": {
      "text/plain": [
       "14     39.64\n",
       "148    31.47\n",
       "62     33.41\n",
       "133    37.00\n",
       "173    37.39\n",
       "175    39.23\n",
       "74     34.09\n",
       "131    40.59\n",
       "69     35.74\n",
       "57     38.26\n",
       "1      27.18\n",
       "34     28.63\n",
       "92     35.45\n",
       "71     33.70\n",
       "87     38.55\n",
       "150    31.08\n",
       "104    29.23\n",
       "84     42.34\n",
       "9      44.60\n",
       "63     30.88\n",
       "144    34.28\n",
       "42     31.20\n",
       "166    39.14\n",
       "52     32.05\n",
       "122    31.66\n",
       "127    37.68\n",
       "145    34.38\n",
       "70     35.93\n",
       "137    31.66\n",
       "44     33.67\n",
       "30     22.04\n",
       "5      32.64\n",
       "46     34.18\n",
       "151    31.95\n",
       "163    33.89\n",
       "11     43.25\n",
       "27     22.34\n",
       "136    31.17\n",
       "4      29.76\n",
       "0      28.30\n",
       "85     41.76\n",
       "111    24.08\n",
       "141    38.75\n",
       "174    37.20\n",
       "68     33.31\n",
       "Name: Raw milk price, dtype: float64"
      ]
     },
     "execution_count": 42,
     "metadata": {},
     "output_type": "execute_result"
    }
   ],
   "source": [
    "y2_test"
   ]
  },
  {
   "cell_type": "markdown",
   "metadata": {
    "id": "W3rZnuD30Nhi"
   },
   "source": [
    "#### Random Forest"
   ]
  },
  {
   "cell_type": "markdown",
   "metadata": {
    "id": "scXZpxEO0Nhi"
   },
   "source": [
    "##### 1. Basic test to test for suitability for remaining sections"
   ]
  },
  {
   "cell_type": "code",
   "execution_count": 43,
   "metadata": {
    "executionInfo": {
     "elapsed": 2,
     "status": "ok",
     "timestamp": 1652369095635,
     "user": {
      "displayName": "Brendan Crowley",
      "userId": "09355744342736110324"
     },
     "user_tz": -60
    },
    "id": "Hcsrxks00Nhi"
   },
   "outputs": [],
   "source": [
    "#Random forest(basic features, randomized state, squared error scoring)\n",
    "rf21 = RandomForestRegressor(criterion=\"absolute_error\")\n",
    "\n",
    "#Random forest, 500 estimators, 20 samples to split a node, min 5 samples at\n",
    "#leaf nodes, squared error scoring, non-random state set\n",
    "rf22 = RandomForestRegressor(n_estimators=500, min_samples_split=20, \n",
    "                             min_samples_leaf=5, n_jobs=-1, \n",
    "                             criterion=\"absolute_error\", random_state=22122)\n",
    "\n",
    "#Random forest, 1000 estimators, squared error scoring, non-random state set\n",
    "rf23 = RandomForestRegressor(n_estimators=1000, n_jobs=-1,\n",
    "                            criterion=\"absolute_error\", random_state=22122)"
   ]
  },
  {
   "cell_type": "markdown",
   "metadata": {
    "id": "qdbg3Kq00Nhi"
   },
   "source": [
    "##### Cross-validation tests (accuracy and mean average error)"
   ]
  },
  {
   "cell_type": "code",
   "execution_count": 46,
   "metadata": {
    "colab": {
     "base_uri": "https://localhost:8080/"
    },
    "executionInfo": {
     "elapsed": 10124,
     "status": "ok",
     "timestamp": 1652369127358,
     "user": {
      "displayName": "Brendan Crowley",
      "userId": "09355744342736110324"
     },
     "user_tz": -60
    },
    "id": "G2YFbQHB0Nhi",
    "outputId": "785e8083-7bef-4537-a5ab-94af72896ce5"
   },
   "outputs": [
    {
     "name": "stderr",
     "output_type": "stream",
     "text": [
      "[Parallel(n_jobs=1)]: Using backend SequentialBackend with 1 concurrent workers.\n"
     ]
    },
    {
     "name": "stdout",
     "output_type": "stream",
     "text": [
      "[CV] END .................................................... total time=   1.6s\n"
     ]
    },
    {
     "name": "stderr",
     "output_type": "stream",
     "text": [
      "[Parallel(n_jobs=1)]: Done   1 out of   1 | elapsed:    1.6s remaining:    0.0s\n"
     ]
    },
    {
     "name": "stdout",
     "output_type": "stream",
     "text": [
      "[CV] END .................................................... total time=   1.0s\n",
      "[CV] END .................................................... total time=   1.0s\n",
      "[CV] END .................................................... total time=   1.0s\n",
      "[CV] END .................................................... total time=   1.1s\n"
     ]
    },
    {
     "name": "stderr",
     "output_type": "stream",
     "text": [
      "[Parallel(n_jobs=1)]: Done   5 out of   5 | elapsed:    5.7s finished\n",
      "[Parallel(n_jobs=1)]: Using backend SequentialBackend with 1 concurrent workers.\n"
     ]
    },
    {
     "name": "stdout",
     "output_type": "stream",
     "text": [
      "[CV] END .................................................... total time=   0.7s\n"
     ]
    },
    {
     "name": "stderr",
     "output_type": "stream",
     "text": [
      "[Parallel(n_jobs=1)]: Done   1 out of   1 | elapsed:    0.7s remaining:    0.0s\n"
     ]
    },
    {
     "name": "stdout",
     "output_type": "stream",
     "text": [
      "[CV] END .................................................... total time=   0.6s\n",
      "[CV] END .................................................... total time=   1.0s\n",
      "[CV] END .................................................... total time=   0.9s\n",
      "[CV] END .................................................... total time=   0.9s\n"
     ]
    },
    {
     "name": "stderr",
     "output_type": "stream",
     "text": [
      "[Parallel(n_jobs=1)]: Done   5 out of   5 | elapsed:    4.2s finished\n"
     ]
    },
    {
     "data": {
      "text/plain": [
       "(-0.02740591114193087, -4.008099879546213)"
      ]
     },
     "execution_count": 46,
     "metadata": {},
     "output_type": "execute_result"
    }
   ],
   "source": [
    "(np.mean(cross_val_score(rf21, X2, y2, cv=KFold(5), verbose=2)),\n",
    " np.mean(cross_val_score(rf21, X2, y2, cv=KFold(5), verbose=2, scoring=\"neg_mean_absolute_error\")))"
   ]
  },
  {
   "cell_type": "code",
   "execution_count": 47,
   "metadata": {
    "colab": {
     "base_uri": "https://localhost:8080/"
    },
    "executionInfo": {
     "elapsed": 21024,
     "status": "ok",
     "timestamp": 1652369148373,
     "user": {
      "displayName": "Brendan Crowley",
      "userId": "09355744342736110324"
     },
     "user_tz": -60
    },
    "id": "xYaSSbw_0Nhi",
    "outputId": "8e645044-4c63-44ac-b4d2-66997ea2a2ab"
   },
   "outputs": [
    {
     "name": "stderr",
     "output_type": "stream",
     "text": [
      "[Parallel(n_jobs=1)]: Using backend SequentialBackend with 1 concurrent workers.\n"
     ]
    },
    {
     "name": "stdout",
     "output_type": "stream",
     "text": [
      "[CV] END .................................................... total time=   2.3s\n"
     ]
    },
    {
     "name": "stderr",
     "output_type": "stream",
     "text": [
      "[Parallel(n_jobs=1)]: Done   1 out of   1 | elapsed:    2.3s remaining:    0.0s\n"
     ]
    },
    {
     "name": "stdout",
     "output_type": "stream",
     "text": [
      "[CV] END .................................................... total time=   2.3s\n",
      "[CV] END .................................................... total time=   2.3s\n",
      "[CV] END .................................................... total time=   2.2s\n",
      "[CV] END .................................................... total time=   2.3s\n"
     ]
    },
    {
     "name": "stderr",
     "output_type": "stream",
     "text": [
      "[Parallel(n_jobs=1)]: Done   5 out of   5 | elapsed:   11.5s finished\n",
      "[Parallel(n_jobs=1)]: Using backend SequentialBackend with 1 concurrent workers.\n"
     ]
    },
    {
     "name": "stdout",
     "output_type": "stream",
     "text": [
      "[CV] END .................................................... total time=   2.2s\n"
     ]
    },
    {
     "name": "stderr",
     "output_type": "stream",
     "text": [
      "[Parallel(n_jobs=1)]: Done   1 out of   1 | elapsed:    2.2s remaining:    0.0s\n"
     ]
    },
    {
     "name": "stdout",
     "output_type": "stream",
     "text": [
      "[CV] END .................................................... total time=   2.2s\n",
      "[CV] END .................................................... total time=   2.1s\n",
      "[CV] END .................................................... total time=   1.5s\n",
      "[CV] END .................................................... total time=   1.5s\n"
     ]
    },
    {
     "name": "stderr",
     "output_type": "stream",
     "text": [
      "[Parallel(n_jobs=1)]: Done   5 out of   5 | elapsed:    9.5s finished\n"
     ]
    },
    {
     "data": {
      "text/plain": [
       "(0.12053912203964903, -3.6897142114781403)"
      ]
     },
     "execution_count": 47,
     "metadata": {},
     "output_type": "execute_result"
    }
   ],
   "source": [
    "(np.mean(cross_val_score(rf22, X2, y2, cv=KFold(5), verbose=2)),\n",
    " np.mean(cross_val_score(rf22, X2, y2, cv=KFold(5), verbose=2, scoring=\"neg_mean_absolute_error\")))"
   ]
  },
  {
   "cell_type": "code",
   "execution_count": 48,
   "metadata": {
    "colab": {
     "base_uri": "https://localhost:8080/"
    },
    "executionInfo": {
     "elapsed": 42963,
     "status": "ok",
     "timestamp": 1652369193612,
     "user": {
      "displayName": "Brendan Crowley",
      "userId": "09355744342736110324"
     },
     "user_tz": -60
    },
    "id": "XpGa_xpm0Nhj",
    "outputId": "ec15e154-f5cb-4f0b-9401-b2b0f2798609"
   },
   "outputs": [
    {
     "name": "stderr",
     "output_type": "stream",
     "text": [
      "[Parallel(n_jobs=1)]: Using backend SequentialBackend with 1 concurrent workers.\n"
     ]
    },
    {
     "name": "stdout",
     "output_type": "stream",
     "text": [
      "[CV] END .................................................... total time=   4.2s\n"
     ]
    },
    {
     "name": "stderr",
     "output_type": "stream",
     "text": [
      "[Parallel(n_jobs=1)]: Done   1 out of   1 | elapsed:    4.2s remaining:    0.0s\n"
     ]
    },
    {
     "name": "stdout",
     "output_type": "stream",
     "text": [
      "[CV] END .................................................... total time=   4.2s\n",
      "[CV] END .................................................... total time=   4.3s\n",
      "[CV] END .................................................... total time=   4.3s\n",
      "[CV] END .................................................... total time=   4.9s\n"
     ]
    },
    {
     "name": "stderr",
     "output_type": "stream",
     "text": [
      "[Parallel(n_jobs=1)]: Done   5 out of   5 | elapsed:   21.9s finished\n",
      "[Parallel(n_jobs=1)]: Using backend SequentialBackend with 1 concurrent workers.\n"
     ]
    },
    {
     "name": "stdout",
     "output_type": "stream",
     "text": [
      "[CV] END .................................................... total time=   4.1s\n"
     ]
    },
    {
     "name": "stderr",
     "output_type": "stream",
     "text": [
      "[Parallel(n_jobs=1)]: Done   1 out of   1 | elapsed:    4.1s remaining:    0.0s\n"
     ]
    },
    {
     "name": "stdout",
     "output_type": "stream",
     "text": [
      "[CV] END .................................................... total time=   4.3s\n",
      "[CV] END .................................................... total time=   4.3s\n",
      "[CV] END .................................................... total time=   4.3s\n",
      "[CV] END .................................................... total time=   4.3s\n"
     ]
    },
    {
     "name": "stderr",
     "output_type": "stream",
     "text": [
      "[Parallel(n_jobs=1)]: Done   5 out of   5 | elapsed:   21.3s finished\n"
     ]
    },
    {
     "data": {
      "text/plain": [
       "(0.007808658041367722, -3.9039427363863495)"
      ]
     },
     "execution_count": 48,
     "metadata": {},
     "output_type": "execute_result"
    }
   ],
   "source": [
    "(np.mean(cross_val_score(rf23, X2, y2, cv=KFold(5), verbose=2)),\n",
    " np.mean(cross_val_score(rf23, X2, y2, cv=KFold(5), verbose=2, scoring=\"neg_mean_absolute_error\")))"
   ]
  },
  {
   "cell_type": "code",
   "execution_count": 52,
   "metadata": {
    "executionInfo": {
     "elapsed": 907,
     "status": "ok",
     "timestamp": 1652369239185,
     "user": {
      "displayName": "Brendan Crowley",
      "userId": "09355744342736110324"
     },
     "user_tz": -60
    },
    "id": "vf_opPT10Nhj"
   },
   "outputs": [],
   "source": [
    "rf21.fit(X2_train, y2_train)\n",
    "y21 = rf21.predict(X2_test)"
   ]
  },
  {
   "cell_type": "code",
   "execution_count": 53,
   "metadata": {
    "colab": {
     "base_uri": "https://localhost:8080/"
    },
    "executionInfo": {
     "elapsed": 11,
     "status": "ok",
     "timestamp": 1652369239500,
     "user": {
      "displayName": "Brendan Crowley",
      "userId": "09355744342736110324"
     },
     "user_tz": -60
    },
    "id": "JQy2pCDp0Nhj",
    "outputId": "a4bcc1bd-927a-469d-ace4-bd0823a02875"
   },
   "outputs": [
    {
     "data": {
      "text/plain": [
       "array([30.75534072, 31.8243    , 32.52289691, 34.3424    , 35.8764    ,\n",
       "       37.1562    , 32.38785   , 39.6336    , 39.77564691, 38.7936    ,\n",
       "       34.07064691, 36.922     , 35.9444    , 32.97884072, 34.4404    ,\n",
       "       31.5293    , 32.3065    , 36.0591    , 35.75618763, 34.0924    ,\n",
       "       33.8683    , 32.7704    , 37.8796    , 33.7226    , 31.7246    ,\n",
       "       32.3197    , 34.9943    , 38.87      , 31.1943    , 34.3137    ,\n",
       "       28.2884    , 30.3271    , 39.45444691, 32.68775   , 32.73285   ,\n",
       "       35.1264567 , 28.4047    , 31.0911    , 29.9584    , 33.64709381,\n",
       "       36.276     , 27.74155   , 36.6248    , 36.3817    , 36.7413    ])"
      ]
     },
     "execution_count": 53,
     "metadata": {},
     "output_type": "execute_result"
    }
   ],
   "source": [
    "y21"
   ]
  },
  {
   "cell_type": "code",
   "execution_count": 57,
   "metadata": {
    "colab": {
     "base_uri": "https://localhost:8080/"
    },
    "executionInfo": {
     "elapsed": 211,
     "status": "ok",
     "timestamp": 1652369261490,
     "user": {
      "displayName": "Brendan Crowley",
      "userId": "09355744342736110324"
     },
     "user_tz": -60
    },
    "id": "GvIkXB6I0Nhj",
    "outputId": "d0aaec57-6a04-4f43-a0fd-a76c1aec4065"
   },
   "outputs": [
    {
     "data": {
      "text/plain": [
       "2.9341535969302623"
      ]
     },
     "execution_count": 57,
     "metadata": {},
     "output_type": "execute_result"
    }
   ],
   "source": [
    "mean_absolute_error(y2_test, y21)"
   ]
  },
  {
   "cell_type": "code",
   "execution_count": 60,
   "metadata": {
    "colab": {
     "base_uri": "https://localhost:8080/"
    },
    "executionInfo": {
     "elapsed": 220,
     "status": "ok",
     "timestamp": 1652369373772,
     "user": {
      "displayName": "Brendan Crowley",
      "userId": "09355744342736110324"
     },
     "user_tz": -60
    },
    "id": "zh1JF7cE0Nhj",
    "outputId": "12a8db7f-18e0-4bd2-aaf8-dfb4dabdc34b"
   },
   "outputs": [
    {
     "data": {
      "text/plain": [
       "0.3989811905507652"
      ]
     },
     "execution_count": 60,
     "metadata": {},
     "output_type": "execute_result"
    }
   ],
   "source": [
    "rf21.score(X2_test, y2_test)"
   ]
  },
  {
   "cell_type": "code",
   "execution_count": null,
   "metadata": {
    "id": "2NjMt8tg0Nhj"
   },
   "outputs": [],
   "source": [
    "rf2.fit(X_train, y_train)\n",
    "y2 = rf2.predict(X_test)"
   ]
  },
  {
   "cell_type": "code",
   "execution_count": null,
   "metadata": {
    "id": "D3fJzvPj0Nhj",
    "outputId": "0e94578e-e41a-4995-e05c-07c42f37e7a4"
   },
   "outputs": [
    {
     "data": {
      "text/plain": [
       "array([33.09226, 32.61903, 34.30065, 34.29917, 37.25723, 36.69729,\n",
       "       31.83883, 35.47793, 31.7087 , 33.44176, 34.88732, 32.31794,\n",
       "       35.42382, 32.24653, 31.8682 , 32.66066, 37.77001, 34.95742,\n",
       "       35.20645, 35.7047 , 37.72055, 31.72545, 32.93658, 33.64466])"
      ]
     },
     "execution_count": 142,
     "metadata": {},
     "output_type": "execute_result"
    }
   ],
   "source": [
    "y2"
   ]
  },
  {
   "cell_type": "code",
   "execution_count": null,
   "metadata": {
    "id": "MjlUb9BG0Nhj",
    "outputId": "35ee9a27-c0b7-4791-ac9c-4210c9c1c77b"
   },
   "outputs": [
    {
     "data": {
      "text/plain": [
       "2.9999199999999733"
      ]
     },
     "execution_count": 143,
     "metadata": {},
     "output_type": "execute_result"
    }
   ],
   "source": [
    "mean_absolute_error(y_test, y2)"
   ]
  },
  {
   "cell_type": "code",
   "execution_count": null,
   "metadata": {
    "id": "ak2tsFYQ0Nhj"
   },
   "outputs": [],
   "source": []
  },
  {
   "cell_type": "code",
   "execution_count": null,
   "metadata": {
    "id": "HYu73_Mn0Nhj"
   },
   "outputs": [],
   "source": [
    "rf3.fit(X_train, y_train)\n",
    "y3 = rf3.predict(X_test)"
   ]
  },
  {
   "cell_type": "code",
   "execution_count": null,
   "metadata": {
    "id": "7L0OInfe0Nhj",
    "outputId": "d0b7c378-4d51-4d48-d5e1-51fe9ea33226"
   },
   "outputs": [
    {
     "data": {
      "text/plain": [
       "array([32.71772 , 32.21856 , 35.143655, 34.973405, 37.96083 , 36.71873 ,\n",
       "       31.11904 , 34.94118 , 31.21576 , 33.60151 , 34.65927 , 31.330905,\n",
       "       34.53934 , 30.48466 , 30.94582 , 31.2412  , 38.21911 , 33.91221 ,\n",
       "       35.824785, 36.482805, 41.60696 , 29.47778 , 34.03515 , 37.134435])"
      ]
     },
     "execution_count": 157,
     "metadata": {},
     "output_type": "execute_result"
    }
   ],
   "source": [
    "y3"
   ]
  },
  {
   "cell_type": "code",
   "execution_count": null,
   "metadata": {
    "id": "XqDnzhZ30Nhj",
    "outputId": "2382e15c-ce01-485f-b2c4-0533ca1174dd"
   },
   "outputs": [
    {
     "data": {
      "text/plain": [
       "2.1407187500000098"
      ]
     },
     "execution_count": 158,
     "metadata": {},
     "output_type": "execute_result"
    }
   ],
   "source": [
    "mean_absolute_error(y_test, y3)"
   ]
  },
  {
   "cell_type": "code",
   "execution_count": null,
   "metadata": {
    "id": "UiyN05uq0Nhk"
   },
   "outputs": [],
   "source": []
  },
  {
   "cell_type": "code",
   "execution_count": null,
   "metadata": {
    "id": "XSg-5h-w0Nhk"
   },
   "outputs": [],
   "source": [
    "rf4 = clone(rf3)"
   ]
  },
  {
   "cell_type": "code",
   "execution_count": null,
   "metadata": {
    "id": "SV4_YzKx0Nhk",
    "outputId": "651e44ed-8fe4-4d62-82df-8253c56a060c"
   },
   "outputs": [
    {
     "name": "stdout",
     "output_type": "stream",
     "text": [
      "Fitting estimator with 13 features.\n",
      "Fitting estimator with 12 features.\n",
      "Fitting estimator with 11 features.\n",
      "Fitting estimator with 10 features.\n",
      "Fitting estimator with 9 features.\n",
      "Fitting estimator with 8 features.\n"
     ]
    },
    {
     "data": {
      "text/plain": [
       "RFECV(cv=5,\n",
       "      estimator=RandomForestRegressor(criterion='absolute_error',\n",
       "                                      n_estimators=1000, n_jobs=-1,\n",
       "                                      random_state=22122),\n",
       "      min_features_to_select=7, n_jobs=-1, verbose=2)"
      ]
     },
     "execution_count": 167,
     "metadata": {},
     "output_type": "execute_result"
    }
   ],
   "source": [
    "#Create Random Feature elimination for above model\n",
    "selector1 = RFECV(rf4, cv=5, step=1, n_jobs=-1, verbose=2, min_features_to_select=7)\n",
    "\n",
    "#Fit all data\n",
    "selector1.fit(X, y)"
   ]
  },
  {
   "cell_type": "code",
   "execution_count": null,
   "metadata": {
    "id": "d0T48Q8H0Nhk",
    "outputId": "342805e0-fcc6-4b71-9aa6-e6a29780fde0"
   },
   "outputs": [
    {
     "data": {
      "text/plain": [
       "array([2, 1, 6, 1, 4, 5, 1, 1, 1, 3, 1, 1, 7])"
      ]
     },
     "execution_count": 168,
     "metadata": {},
     "output_type": "execute_result"
    }
   ],
   "source": [
    "selector1.ranking_"
   ]
  },
  {
   "cell_type": "code",
   "execution_count": null,
   "metadata": {
    "id": "Dwsu9E9w0Nhk",
    "outputId": "9cc3d795-eef0-402e-f9e8-98704486b283"
   },
   "outputs": [
    {
     "data": {
      "text/plain": [
       "Index(['Butter', 'Calf nuts value', 'Cheese', 'Dairy meal value',\n",
       "       'Dairy nuts value', 'Domestic milk intake', 'Fat content (Percent)',\n",
       "       'Imported milk intake', 'Maize meal value', 'Skimmed milk sales',\n",
       "       'Skimmed milk powder', 'Whole milk sales', 'Month'],\n",
       "      dtype='object')"
      ]
     },
     "execution_count": 169,
     "metadata": {},
     "output_type": "execute_result"
    }
   ],
   "source": [
    "X.columns"
   ]
  },
  {
   "cell_type": "code",
   "execution_count": null,
   "metadata": {
    "id": "3n9ohPsY0Nhk"
   },
   "outputs": [],
   "source": [
    "rankings = selector1.ranking_\n",
    "columns_to_choose = [X.columns[i] for i in range(len(X.columns)) if rankings[i] == 1]\n",
    "rfe_rfX = X[columns_to_choose]\n",
    "rfe_rfX_train = X_train[columns_to_choose]\n",
    "rfe_rfX_test = X_test[columns_to_choose]"
   ]
  },
  {
   "cell_type": "code",
   "execution_count": null,
   "metadata": {
    "id": "d36T-_mv0Nhk",
    "outputId": "1346d6a9-b5b2-4db2-f816-8fa7df2f87f2"
   },
   "outputs": [
    {
     "data": {
      "text/plain": [
       "['Calf nuts value',\n",
       " 'Dairy meal value',\n",
       " 'Fat content (Percent)',\n",
       " 'Imported milk intake',\n",
       " 'Maize meal value',\n",
       " 'Skimmed milk powder',\n",
       " 'Whole milk sales']"
      ]
     },
     "execution_count": 171,
     "metadata": {},
     "output_type": "execute_result"
    }
   ],
   "source": [
    "columns_to_choose"
   ]
  },
  {
   "cell_type": "code",
   "execution_count": null,
   "metadata": {
    "id": "kaas0qWG0Nhk"
   },
   "outputs": [],
   "source": []
  },
  {
   "cell_type": "code",
   "execution_count": null,
   "metadata": {
    "id": "zSDQEDwl0Nhk",
    "outputId": "ff545fc8-ced0-48a8-f0bd-ae4238017649"
   },
   "outputs": [
    {
     "name": "stderr",
     "output_type": "stream",
     "text": [
      "[Parallel(n_jobs=1)]: Using backend SequentialBackend with 1 concurrent workers.\n"
     ]
    },
    {
     "name": "stdout",
     "output_type": "stream",
     "text": [
      "[CV] END .................................................... total time=   0.4s\n"
     ]
    },
    {
     "name": "stderr",
     "output_type": "stream",
     "text": [
      "[Parallel(n_jobs=1)]: Done   1 out of   1 | elapsed:    0.4s remaining:    0.0s\n"
     ]
    },
    {
     "name": "stdout",
     "output_type": "stream",
     "text": [
      "[CV] END .................................................... total time=   0.4s\n",
      "[CV] END .................................................... total time=   0.4s\n",
      "[CV] END .................................................... total time=   0.7s\n",
      "[CV] END .................................................... total time=   0.4s\n"
     ]
    },
    {
     "name": "stderr",
     "output_type": "stream",
     "text": [
      "[Parallel(n_jobs=1)]: Done   5 out of   5 | elapsed:    2.7s finished\n",
      "[Parallel(n_jobs=1)]: Using backend SequentialBackend with 1 concurrent workers.\n"
     ]
    },
    {
     "name": "stdout",
     "output_type": "stream",
     "text": [
      "[CV] END .................................................... total time=   0.6s\n"
     ]
    },
    {
     "name": "stderr",
     "output_type": "stream",
     "text": [
      "[Parallel(n_jobs=1)]: Done   1 out of   1 | elapsed:    0.6s remaining:    0.0s\n"
     ]
    },
    {
     "name": "stdout",
     "output_type": "stream",
     "text": [
      "[CV] END .................................................... total time=   0.6s\n",
      "[CV] END .................................................... total time=   0.4s\n",
      "[CV] END .................................................... total time=   0.4s\n",
      "[CV] END .................................................... total time=   0.4s\n"
     ]
    },
    {
     "name": "stderr",
     "output_type": "stream",
     "text": [
      "[Parallel(n_jobs=1)]: Done   5 out of   5 | elapsed:    2.7s finished\n"
     ]
    },
    {
     "data": {
      "text/plain": [
       "(-0.549049869391234, -4.076352097368378)"
      ]
     },
     "execution_count": 172,
     "metadata": {},
     "output_type": "execute_result"
    }
   ],
   "source": [
    "(np.mean(cross_val_score(rf4, rfe_rfX, y, cv=KFold(5), verbose=2)),\n",
    " np.mean(cross_val_score(rf4, rfe_rfX, y, cv=KFold(5), verbose=2, scoring=\"neg_mean_absolute_error\")))"
   ]
  },
  {
   "cell_type": "code",
   "execution_count": null,
   "metadata": {
    "id": "vf2C4yN10Nhk"
   },
   "outputs": [],
   "source": [
    "rf4.fit(rfe_rfX_train, y_train)\n",
    "y4 = rf4.predict(rfe_rfX_test)"
   ]
  },
  {
   "cell_type": "code",
   "execution_count": null,
   "metadata": {
    "id": "cgGO3FWa0Nhk",
    "outputId": "826618d9-d929-4787-ae6b-37c0b58ad64c"
   },
   "outputs": [
    {
     "data": {
      "text/plain": [
       "array([32.60927 , 31.18014 , 35.145035, 35.31445 , 40.13027 , 36.878245,\n",
       "       31.97339 , 35.773065, 31.13415 , 33.11691 , 34.86476 , 30.73545 ,\n",
       "       34.28409 , 31.29424 , 30.42335 , 30.27531 , 37.989285, 33.75604 ,\n",
       "       36.09614 , 37.02593 , 41.199515, 29.25163 , 34.35284 , 37.46068 ])"
      ]
     },
     "execution_count": 174,
     "metadata": {},
     "output_type": "execute_result"
    }
   ],
   "source": [
    "y4"
   ]
  },
  {
   "cell_type": "code",
   "execution_count": null,
   "metadata": {
    "id": "4CY2UxFE0Nhk",
    "outputId": "104c8ed8-5129-4850-bda4-74931364e1fb"
   },
   "outputs": [
    {
     "data": {
      "text/plain": [
       "1.9280364583333707"
      ]
     },
     "execution_count": 175,
     "metadata": {},
     "output_type": "execute_result"
    }
   ],
   "source": [
    "mean_absolute_error(y4, y_test)"
   ]
  },
  {
   "cell_type": "code",
   "execution_count": null,
   "metadata": {
    "id": "5HJTmKuU0Nhl"
   },
   "outputs": [],
   "source": [
    "n_estimators = [i for i in range(100, 1001, 100)]\n",
    "# Number of features to consider at every split\n",
    "max_features = ['auto', 'sqrt']\n",
    "# Maximum number of levels in tree\n",
    "max_depth = [i for i in range(10, 101, 10)]\n",
    "max_depth.append(None)\n",
    "# Minimum number of samples required to split a node\n",
    "min_samples_split = [2, 3, 4, 5, 7, 10]\n",
    "# Minimum number of samples required at each leaf node\n",
    "min_samples_leaf = [1, 2, 4]\n",
    "# Method of selecting samples for training each tree\n",
    "bootstrap = [True, False]\n",
    "# Criterion to select scoring\n",
    "criterion = [\"absolute_error\", \"squared_error\", \"gini\"]\n",
    "# Create the random grid\n",
    "random_grid = {'n_estimators': n_estimators,\n",
    "               'max_features': max_features,\n",
    "               'max_depth': max_depth,\n",
    "               'min_samples_split': min_samples_split,\n",
    "               'min_samples_leaf': min_samples_leaf,\n",
    "               'bootstrap': bootstrap,\n",
    "               'criterion': criterion}"
   ]
  },
  {
   "cell_type": "code",
   "execution_count": null,
   "metadata": {
    "id": "BqDmbPQM0Nhl",
    "outputId": "23da11f7-397f-4ece-93ac-4150b9d1fe4a"
   },
   "outputs": [
    {
     "name": "stdout",
     "output_type": "stream",
     "text": [
      "Fitting 5 folds for each of 23760 candidates, totalling 118800 fits\n"
     ]
    },
    {
     "ename": "KeyboardInterrupt",
     "evalue": "",
     "output_type": "error",
     "traceback": [
      "\u001b[1;31m---------------------------------------------------------------------------\u001b[0m",
      "\u001b[1;31mKeyboardInterrupt\u001b[0m                         Traceback (most recent call last)",
      "Input \u001b[1;32mIn [177]\u001b[0m, in \u001b[0;36m<cell line: 9>\u001b[1;34m()\u001b[0m\n\u001b[0;32m      1\u001b[0m rf \u001b[38;5;241m=\u001b[39m RandomForestRegressor(random_state\u001b[38;5;241m=\u001b[39m\u001b[38;5;241m22122\u001b[39m,\n\u001b[0;32m      2\u001b[0m                            n_jobs\u001b[38;5;241m=\u001b[39m\u001b[38;5;241m-\u001b[39m\u001b[38;5;241m1\u001b[39m)\n\u001b[0;32m      4\u001b[0m gs_random \u001b[38;5;241m=\u001b[39m GridSearchCV(estimator \u001b[38;5;241m=\u001b[39m rf, param_grid \u001b[38;5;241m=\u001b[39m random_grid,\n\u001b[0;32m      5\u001b[0m                                scoring\u001b[38;5;241m=\u001b[39m\u001b[38;5;124m\"\u001b[39m\u001b[38;5;124mneg_mean_absolute_error\u001b[39m\u001b[38;5;124m\"\u001b[39m,\n\u001b[0;32m      6\u001b[0m                                n_jobs\u001b[38;5;241m=\u001b[39m\u001b[38;5;241m-\u001b[39m\u001b[38;5;241m1\u001b[39m, cv\u001b[38;5;241m=\u001b[39mKFold(\u001b[38;5;241m5\u001b[39m), return_train_score\u001b[38;5;241m=\u001b[39m\u001b[38;5;28;01mTrue\u001b[39;00m,\n\u001b[0;32m      7\u001b[0m                                verbose\u001b[38;5;241m=\u001b[39m\u001b[38;5;241m4\u001b[39m)\n\u001b[1;32m----> 9\u001b[0m \u001b[43mgs_random\u001b[49m\u001b[38;5;241;43m.\u001b[39;49m\u001b[43mfit\u001b[49m\u001b[43m(\u001b[49m\u001b[43mX\u001b[49m\u001b[43m,\u001b[49m\u001b[43m \u001b[49m\u001b[43my\u001b[49m\u001b[43m)\u001b[49m\n",
      "File \u001b[1;32m~\\AppData\\Local\\Programs\\Python\\Python310\\lib\\site-packages\\sklearn\\model_selection\\_search.py:891\u001b[0m, in \u001b[0;36mBaseSearchCV.fit\u001b[1;34m(self, X, y, groups, **fit_params)\u001b[0m\n\u001b[0;32m    885\u001b[0m     results \u001b[38;5;241m=\u001b[39m \u001b[38;5;28mself\u001b[39m\u001b[38;5;241m.\u001b[39m_format_results(\n\u001b[0;32m    886\u001b[0m         all_candidate_params, n_splits, all_out, all_more_results\n\u001b[0;32m    887\u001b[0m     )\n\u001b[0;32m    889\u001b[0m     \u001b[38;5;28;01mreturn\u001b[39;00m results\n\u001b[1;32m--> 891\u001b[0m \u001b[38;5;28;43mself\u001b[39;49m\u001b[38;5;241;43m.\u001b[39;49m\u001b[43m_run_search\u001b[49m\u001b[43m(\u001b[49m\u001b[43mevaluate_candidates\u001b[49m\u001b[43m)\u001b[49m\n\u001b[0;32m    893\u001b[0m \u001b[38;5;66;03m# multimetric is determined here because in the case of a callable\u001b[39;00m\n\u001b[0;32m    894\u001b[0m \u001b[38;5;66;03m# self.scoring the return type is only known after calling\u001b[39;00m\n\u001b[0;32m    895\u001b[0m first_test_score \u001b[38;5;241m=\u001b[39m all_out[\u001b[38;5;241m0\u001b[39m][\u001b[38;5;124m\"\u001b[39m\u001b[38;5;124mtest_scores\u001b[39m\u001b[38;5;124m\"\u001b[39m]\n",
      "File \u001b[1;32m~\\AppData\\Local\\Programs\\Python\\Python310\\lib\\site-packages\\sklearn\\model_selection\\_search.py:1392\u001b[0m, in \u001b[0;36mGridSearchCV._run_search\u001b[1;34m(self, evaluate_candidates)\u001b[0m\n\u001b[0;32m   1390\u001b[0m \u001b[38;5;28;01mdef\u001b[39;00m \u001b[38;5;21m_run_search\u001b[39m(\u001b[38;5;28mself\u001b[39m, evaluate_candidates):\n\u001b[0;32m   1391\u001b[0m     \u001b[38;5;124;03m\"\"\"Search all candidates in param_grid\"\"\"\u001b[39;00m\n\u001b[1;32m-> 1392\u001b[0m     \u001b[43mevaluate_candidates\u001b[49m\u001b[43m(\u001b[49m\u001b[43mParameterGrid\u001b[49m\u001b[43m(\u001b[49m\u001b[38;5;28;43mself\u001b[39;49m\u001b[38;5;241;43m.\u001b[39;49m\u001b[43mparam_grid\u001b[49m\u001b[43m)\u001b[49m\u001b[43m)\u001b[49m\n",
      "File \u001b[1;32m~\\AppData\\Local\\Programs\\Python\\Python310\\lib\\site-packages\\sklearn\\model_selection\\_search.py:838\u001b[0m, in \u001b[0;36mBaseSearchCV.fit.<locals>.evaluate_candidates\u001b[1;34m(candidate_params, cv, more_results)\u001b[0m\n\u001b[0;32m    830\u001b[0m \u001b[38;5;28;01mif\u001b[39;00m \u001b[38;5;28mself\u001b[39m\u001b[38;5;241m.\u001b[39mverbose \u001b[38;5;241m>\u001b[39m \u001b[38;5;241m0\u001b[39m:\n\u001b[0;32m    831\u001b[0m     \u001b[38;5;28mprint\u001b[39m(\n\u001b[0;32m    832\u001b[0m         \u001b[38;5;124m\"\u001b[39m\u001b[38;5;124mFitting \u001b[39m\u001b[38;5;132;01m{0}\u001b[39;00m\u001b[38;5;124m folds for each of \u001b[39m\u001b[38;5;132;01m{1}\u001b[39;00m\u001b[38;5;124m candidates,\u001b[39m\u001b[38;5;124m\"\u001b[39m\n\u001b[0;32m    833\u001b[0m         \u001b[38;5;124m\"\u001b[39m\u001b[38;5;124m totalling \u001b[39m\u001b[38;5;132;01m{2}\u001b[39;00m\u001b[38;5;124m fits\u001b[39m\u001b[38;5;124m\"\u001b[39m\u001b[38;5;241m.\u001b[39mformat(\n\u001b[0;32m    834\u001b[0m             n_splits, n_candidates, n_candidates \u001b[38;5;241m*\u001b[39m n_splits\n\u001b[0;32m    835\u001b[0m         )\n\u001b[0;32m    836\u001b[0m     )\n\u001b[1;32m--> 838\u001b[0m out \u001b[38;5;241m=\u001b[39m \u001b[43mparallel\u001b[49m\u001b[43m(\u001b[49m\n\u001b[0;32m    839\u001b[0m \u001b[43m    \u001b[49m\u001b[43mdelayed\u001b[49m\u001b[43m(\u001b[49m\u001b[43m_fit_and_score\u001b[49m\u001b[43m)\u001b[49m\u001b[43m(\u001b[49m\n\u001b[0;32m    840\u001b[0m \u001b[43m        \u001b[49m\u001b[43mclone\u001b[49m\u001b[43m(\u001b[49m\u001b[43mbase_estimator\u001b[49m\u001b[43m)\u001b[49m\u001b[43m,\u001b[49m\n\u001b[0;32m    841\u001b[0m \u001b[43m        \u001b[49m\u001b[43mX\u001b[49m\u001b[43m,\u001b[49m\n\u001b[0;32m    842\u001b[0m \u001b[43m        \u001b[49m\u001b[43my\u001b[49m\u001b[43m,\u001b[49m\n\u001b[0;32m    843\u001b[0m \u001b[43m        \u001b[49m\u001b[43mtrain\u001b[49m\u001b[38;5;241;43m=\u001b[39;49m\u001b[43mtrain\u001b[49m\u001b[43m,\u001b[49m\n\u001b[0;32m    844\u001b[0m \u001b[43m        \u001b[49m\u001b[43mtest\u001b[49m\u001b[38;5;241;43m=\u001b[39;49m\u001b[43mtest\u001b[49m\u001b[43m,\u001b[49m\n\u001b[0;32m    845\u001b[0m \u001b[43m        \u001b[49m\u001b[43mparameters\u001b[49m\u001b[38;5;241;43m=\u001b[39;49m\u001b[43mparameters\u001b[49m\u001b[43m,\u001b[49m\n\u001b[0;32m    846\u001b[0m \u001b[43m        \u001b[49m\u001b[43msplit_progress\u001b[49m\u001b[38;5;241;43m=\u001b[39;49m\u001b[43m(\u001b[49m\u001b[43msplit_idx\u001b[49m\u001b[43m,\u001b[49m\u001b[43m \u001b[49m\u001b[43mn_splits\u001b[49m\u001b[43m)\u001b[49m\u001b[43m,\u001b[49m\n\u001b[0;32m    847\u001b[0m \u001b[43m        \u001b[49m\u001b[43mcandidate_progress\u001b[49m\u001b[38;5;241;43m=\u001b[39;49m\u001b[43m(\u001b[49m\u001b[43mcand_idx\u001b[49m\u001b[43m,\u001b[49m\u001b[43m \u001b[49m\u001b[43mn_candidates\u001b[49m\u001b[43m)\u001b[49m\u001b[43m,\u001b[49m\n\u001b[0;32m    848\u001b[0m \u001b[43m        \u001b[49m\u001b[38;5;241;43m*\u001b[39;49m\u001b[38;5;241;43m*\u001b[39;49m\u001b[43mfit_and_score_kwargs\u001b[49m\u001b[43m,\u001b[49m\n\u001b[0;32m    849\u001b[0m \u001b[43m    \u001b[49m\u001b[43m)\u001b[49m\n\u001b[0;32m    850\u001b[0m \u001b[43m    \u001b[49m\u001b[38;5;28;43;01mfor\u001b[39;49;00m\u001b[43m \u001b[49m\u001b[43m(\u001b[49m\u001b[43mcand_idx\u001b[49m\u001b[43m,\u001b[49m\u001b[43m \u001b[49m\u001b[43mparameters\u001b[49m\u001b[43m)\u001b[49m\u001b[43m,\u001b[49m\u001b[43m \u001b[49m\u001b[43m(\u001b[49m\u001b[43msplit_idx\u001b[49m\u001b[43m,\u001b[49m\u001b[43m \u001b[49m\u001b[43m(\u001b[49m\u001b[43mtrain\u001b[49m\u001b[43m,\u001b[49m\u001b[43m \u001b[49m\u001b[43mtest\u001b[49m\u001b[43m)\u001b[49m\u001b[43m)\u001b[49m\u001b[43m \u001b[49m\u001b[38;5;129;43;01min\u001b[39;49;00m\u001b[43m \u001b[49m\u001b[43mproduct\u001b[49m\u001b[43m(\u001b[49m\n\u001b[0;32m    851\u001b[0m \u001b[43m        \u001b[49m\u001b[38;5;28;43menumerate\u001b[39;49m\u001b[43m(\u001b[49m\u001b[43mcandidate_params\u001b[49m\u001b[43m)\u001b[49m\u001b[43m,\u001b[49m\u001b[43m \u001b[49m\u001b[38;5;28;43menumerate\u001b[39;49m\u001b[43m(\u001b[49m\u001b[43mcv\u001b[49m\u001b[38;5;241;43m.\u001b[39;49m\u001b[43msplit\u001b[49m\u001b[43m(\u001b[49m\u001b[43mX\u001b[49m\u001b[43m,\u001b[49m\u001b[43m \u001b[49m\u001b[43my\u001b[49m\u001b[43m,\u001b[49m\u001b[43m \u001b[49m\u001b[43mgroups\u001b[49m\u001b[43m)\u001b[49m\u001b[43m)\u001b[49m\n\u001b[0;32m    852\u001b[0m \u001b[43m    \u001b[49m\u001b[43m)\u001b[49m\n\u001b[0;32m    853\u001b[0m \u001b[43m\u001b[49m\u001b[43m)\u001b[49m\n\u001b[0;32m    855\u001b[0m \u001b[38;5;28;01mif\u001b[39;00m \u001b[38;5;28mlen\u001b[39m(out) \u001b[38;5;241m<\u001b[39m \u001b[38;5;241m1\u001b[39m:\n\u001b[0;32m    856\u001b[0m     \u001b[38;5;28;01mraise\u001b[39;00m \u001b[38;5;167;01mValueError\u001b[39;00m(\n\u001b[0;32m    857\u001b[0m         \u001b[38;5;124m\"\u001b[39m\u001b[38;5;124mNo fits were performed. \u001b[39m\u001b[38;5;124m\"\u001b[39m\n\u001b[0;32m    858\u001b[0m         \u001b[38;5;124m\"\u001b[39m\u001b[38;5;124mWas the CV iterator empty? \u001b[39m\u001b[38;5;124m\"\u001b[39m\n\u001b[0;32m    859\u001b[0m         \u001b[38;5;124m\"\u001b[39m\u001b[38;5;124mWere there no candidates?\u001b[39m\u001b[38;5;124m\"\u001b[39m\n\u001b[0;32m    860\u001b[0m     )\n",
      "File \u001b[1;32m~\\AppData\\Local\\Programs\\Python\\Python310\\lib\\site-packages\\joblib\\parallel.py:1056\u001b[0m, in \u001b[0;36mParallel.__call__\u001b[1;34m(self, iterable)\u001b[0m\n\u001b[0;32m   1053\u001b[0m     \u001b[38;5;28mself\u001b[39m\u001b[38;5;241m.\u001b[39m_iterating \u001b[38;5;241m=\u001b[39m \u001b[38;5;28;01mFalse\u001b[39;00m\n\u001b[0;32m   1055\u001b[0m \u001b[38;5;28;01mwith\u001b[39;00m \u001b[38;5;28mself\u001b[39m\u001b[38;5;241m.\u001b[39m_backend\u001b[38;5;241m.\u001b[39mretrieval_context():\n\u001b[1;32m-> 1056\u001b[0m     \u001b[38;5;28;43mself\u001b[39;49m\u001b[38;5;241;43m.\u001b[39;49m\u001b[43mretrieve\u001b[49m\u001b[43m(\u001b[49m\u001b[43m)\u001b[49m\n\u001b[0;32m   1057\u001b[0m \u001b[38;5;66;03m# Make sure that we get a last message telling us we are done\u001b[39;00m\n\u001b[0;32m   1058\u001b[0m elapsed_time \u001b[38;5;241m=\u001b[39m time\u001b[38;5;241m.\u001b[39mtime() \u001b[38;5;241m-\u001b[39m \u001b[38;5;28mself\u001b[39m\u001b[38;5;241m.\u001b[39m_start_time\n",
      "File \u001b[1;32m~\\AppData\\Local\\Programs\\Python\\Python310\\lib\\site-packages\\joblib\\parallel.py:935\u001b[0m, in \u001b[0;36mParallel.retrieve\u001b[1;34m(self)\u001b[0m\n\u001b[0;32m    933\u001b[0m \u001b[38;5;28;01mtry\u001b[39;00m:\n\u001b[0;32m    934\u001b[0m     \u001b[38;5;28;01mif\u001b[39;00m \u001b[38;5;28mgetattr\u001b[39m(\u001b[38;5;28mself\u001b[39m\u001b[38;5;241m.\u001b[39m_backend, \u001b[38;5;124m'\u001b[39m\u001b[38;5;124msupports_timeout\u001b[39m\u001b[38;5;124m'\u001b[39m, \u001b[38;5;28;01mFalse\u001b[39;00m):\n\u001b[1;32m--> 935\u001b[0m         \u001b[38;5;28mself\u001b[39m\u001b[38;5;241m.\u001b[39m_output\u001b[38;5;241m.\u001b[39mextend(\u001b[43mjob\u001b[49m\u001b[38;5;241;43m.\u001b[39;49m\u001b[43mget\u001b[49m\u001b[43m(\u001b[49m\u001b[43mtimeout\u001b[49m\u001b[38;5;241;43m=\u001b[39;49m\u001b[38;5;28;43mself\u001b[39;49m\u001b[38;5;241;43m.\u001b[39;49m\u001b[43mtimeout\u001b[49m\u001b[43m)\u001b[49m)\n\u001b[0;32m    936\u001b[0m     \u001b[38;5;28;01melse\u001b[39;00m:\n\u001b[0;32m    937\u001b[0m         \u001b[38;5;28mself\u001b[39m\u001b[38;5;241m.\u001b[39m_output\u001b[38;5;241m.\u001b[39mextend(job\u001b[38;5;241m.\u001b[39mget())\n",
      "File \u001b[1;32m~\\AppData\\Local\\Programs\\Python\\Python310\\lib\\site-packages\\joblib\\_parallel_backends.py:542\u001b[0m, in \u001b[0;36mLokyBackend.wrap_future_result\u001b[1;34m(future, timeout)\u001b[0m\n\u001b[0;32m    539\u001b[0m \u001b[38;5;124;03m\"\"\"Wrapper for Future.result to implement the same behaviour as\u001b[39;00m\n\u001b[0;32m    540\u001b[0m \u001b[38;5;124;03mAsyncResults.get from multiprocessing.\"\"\"\u001b[39;00m\n\u001b[0;32m    541\u001b[0m \u001b[38;5;28;01mtry\u001b[39;00m:\n\u001b[1;32m--> 542\u001b[0m     \u001b[38;5;28;01mreturn\u001b[39;00m \u001b[43mfuture\u001b[49m\u001b[38;5;241;43m.\u001b[39;49m\u001b[43mresult\u001b[49m\u001b[43m(\u001b[49m\u001b[43mtimeout\u001b[49m\u001b[38;5;241;43m=\u001b[39;49m\u001b[43mtimeout\u001b[49m\u001b[43m)\u001b[49m\n\u001b[0;32m    543\u001b[0m \u001b[38;5;28;01mexcept\u001b[39;00m CfTimeoutError \u001b[38;5;28;01mas\u001b[39;00m e:\n\u001b[0;32m    544\u001b[0m     \u001b[38;5;28;01mraise\u001b[39;00m \u001b[38;5;167;01mTimeoutError\u001b[39;00m \u001b[38;5;28;01mfrom\u001b[39;00m \u001b[38;5;21;01me\u001b[39;00m\n",
      "File \u001b[1;32m~\\AppData\\Local\\Programs\\Python\\Python310\\lib\\concurrent\\futures\\_base.py:441\u001b[0m, in \u001b[0;36mFuture.result\u001b[1;34m(self, timeout)\u001b[0m\n\u001b[0;32m    438\u001b[0m \u001b[38;5;28;01melif\u001b[39;00m \u001b[38;5;28mself\u001b[39m\u001b[38;5;241m.\u001b[39m_state \u001b[38;5;241m==\u001b[39m FINISHED:\n\u001b[0;32m    439\u001b[0m     \u001b[38;5;28;01mreturn\u001b[39;00m \u001b[38;5;28mself\u001b[39m\u001b[38;5;241m.\u001b[39m__get_result()\n\u001b[1;32m--> 441\u001b[0m \u001b[38;5;28;43mself\u001b[39;49m\u001b[38;5;241;43m.\u001b[39;49m\u001b[43m_condition\u001b[49m\u001b[38;5;241;43m.\u001b[39;49m\u001b[43mwait\u001b[49m\u001b[43m(\u001b[49m\u001b[43mtimeout\u001b[49m\u001b[43m)\u001b[49m\n\u001b[0;32m    443\u001b[0m \u001b[38;5;28;01mif\u001b[39;00m \u001b[38;5;28mself\u001b[39m\u001b[38;5;241m.\u001b[39m_state \u001b[38;5;129;01min\u001b[39;00m [CANCELLED, CANCELLED_AND_NOTIFIED]:\n\u001b[0;32m    444\u001b[0m     \u001b[38;5;28;01mraise\u001b[39;00m CancelledError()\n",
      "File \u001b[1;32m~\\AppData\\Local\\Programs\\Python\\Python310\\lib\\threading.py:320\u001b[0m, in \u001b[0;36mCondition.wait\u001b[1;34m(self, timeout)\u001b[0m\n\u001b[0;32m    318\u001b[0m \u001b[38;5;28;01mtry\u001b[39;00m:    \u001b[38;5;66;03m# restore state no matter what (e.g., KeyboardInterrupt)\u001b[39;00m\n\u001b[0;32m    319\u001b[0m     \u001b[38;5;28;01mif\u001b[39;00m timeout \u001b[38;5;129;01mis\u001b[39;00m \u001b[38;5;28;01mNone\u001b[39;00m:\n\u001b[1;32m--> 320\u001b[0m         \u001b[43mwaiter\u001b[49m\u001b[38;5;241;43m.\u001b[39;49m\u001b[43macquire\u001b[49m\u001b[43m(\u001b[49m\u001b[43m)\u001b[49m\n\u001b[0;32m    321\u001b[0m         gotit \u001b[38;5;241m=\u001b[39m \u001b[38;5;28;01mTrue\u001b[39;00m\n\u001b[0;32m    322\u001b[0m     \u001b[38;5;28;01melse\u001b[39;00m:\n",
      "\u001b[1;31mKeyboardInterrupt\u001b[0m: "
     ]
    }
   ],
   "source": [
    "rf = RandomForestRegressor(random_state=22122,\n",
    "                           n_jobs=-1)\n",
    "\n",
    "gs_random = GridSearchCV(estimator = rf, param_grid = random_grid,\n",
    "                               scoring=\"neg_mean_absolute_error\",\n",
    "                               n_jobs=-1, cv=KFold(5), return_train_score=True,\n",
    "                               verbose=4)\n",
    "\n",
    "gs_random.fit(X, y)"
   ]
  },
  {
   "cell_type": "code",
   "execution_count": null,
   "metadata": {
    "id": "RpvZW1WY0Nhl"
   },
   "outputs": [],
   "source": [
    "rf_best = clone(gs_random.best_estimator_)"
   ]
  },
  {
   "cell_type": "markdown",
   "metadata": {
    "id": "h0uuI-N00Nhl"
   },
   "source": [
    "##### Cross validation (both accuracy and absolute error)"
   ]
  },
  {
   "cell_type": "code",
   "execution_count": null,
   "metadata": {
    "id": "X-fqs4WR0Nhl"
   },
   "outputs": [],
   "source": [
    "(np.mean(cross_val_score(rf_best, X, y, cv=KFold(5), verbose=2)),\n",
    " np.mean(cross_val_score(rf_best, X, y, cv=KFold(5), verbose=2, scoring=\"neg_mean_absolute_error\")))"
   ]
  },
  {
   "cell_type": "markdown",
   "metadata": {
    "id": "drcXSneu0Nhl"
   },
   "source": [
    "###### Fit"
   ]
  },
  {
   "cell_type": "code",
   "execution_count": null,
   "metadata": {
    "id": "vQ259xJ40Nhl"
   },
   "outputs": [],
   "source": [
    "rf_best.fit(X_train, y_train)\n",
    "ybrf = rf4.predict(X_test)"
   ]
  },
  {
   "cell_type": "markdown",
   "metadata": {
    "id": "bNJcpT_30Nhl"
   },
   "source": [
    "###### Results"
   ]
  },
  {
   "cell_type": "code",
   "execution_count": null,
   "metadata": {
    "id": "J5h8ltQ60Nhl"
   },
   "outputs": [],
   "source": [
    "ybrf"
   ]
  },
  {
   "cell_type": "markdown",
   "metadata": {
    "id": "lCyO-V220Nhl"
   },
   "source": [
    "###### Absolute error"
   ]
  },
  {
   "cell_type": "code",
   "execution_count": null,
   "metadata": {
    "id": "6uHsNwuQ0Nhl"
   },
   "outputs": [],
   "source": [
    "mean_absolute_error(ybrf, y_test)"
   ]
  },
  {
   "cell_type": "markdown",
   "metadata": {
    "id": "BXuMlY6P0Nhm"
   },
   "source": [
    "##### 4. Best model from 3 with RFE applied"
   ]
  },
  {
   "cell_type": "markdown",
   "metadata": {
    "id": "mIN-T_w10Nhm"
   },
   "source": [
    "##### Apply RFE (with cross-validation) "
   ]
  },
  {
   "cell_type": "code",
   "execution_count": null,
   "metadata": {
    "id": "e96bm6xE0Nhm"
   },
   "outputs": [],
   "source": [
    "#Clone best performing model of previous section\n",
    "rf_best2 = clone(rf_best)\n",
    "\n",
    "#Create Random Feature elimination for above model\n",
    "selector = RFECV(rf_best2, cv=5, step=1, n_jobs=-1, verbose=2, min_features_to_select=len(X.columns) // 2)\n",
    "\n",
    "#Fit all data\n",
    "selector.fit(X, y)"
   ]
  },
  {
   "cell_type": "code",
   "execution_count": null,
   "metadata": {
    "id": "XpGWgsnN0Nhm"
   },
   "outputs": [],
   "source": [
    "selector.ranking_"
   ]
  },
  {
   "cell_type": "code",
   "execution_count": null,
   "metadata": {
    "id": "IoENbTnn0Nhm"
   },
   "outputs": [],
   "source": [
    "X.columns"
   ]
  },
  {
   "cell_type": "markdown",
   "metadata": {
    "id": "VN_EFbmE0Nhm"
   },
   "source": [
    "##### Define model with new data"
   ]
  },
  {
   "cell_type": "code",
   "execution_count": null,
   "metadata": {
    "id": "ChzqhW7d0Nhm"
   },
   "outputs": [],
   "source": [
    "rankings = selector.ranking_\n",
    "columns_to_choose = [X.columns[i] for i in range(len(X.columns)) if rankings[i] == 1]\n",
    "rfe_rfX_best = X[columns_to_choose]\n",
    "rfe_rfX_best_train = X_train[columns_to_choose]\n",
    "rfe_rfX_best_test = X_test[columns_to_choose]"
   ]
  },
  {
   "cell_type": "markdown",
   "metadata": {
    "id": "gwC78jiI0Nhm"
   },
   "source": [
    "##### Cross validation (both accuracy and absolute error)"
   ]
  },
  {
   "cell_type": "code",
   "execution_count": null,
   "metadata": {
    "id": "4rJJaZUr0Nhm"
   },
   "outputs": [],
   "source": [
    "(np.mean(cross_val_score(rf_best2, rfe_rfX, y, cv=KFold(5), verbose=2)),\n",
    " np.mean(cross_val_score(rf_best2, rfe_rfX, y, cv=KFold(5), verbose=2, scoring=\"neg_mean_absolute_error\")))"
   ]
  },
  {
   "cell_type": "markdown",
   "metadata": {
    "id": "uFuSrc-L0Nhm"
   },
   "source": [
    "###### Fit"
   ]
  },
  {
   "cell_type": "code",
   "execution_count": null,
   "metadata": {
    "id": "E3IIcaUA0Nhn"
   },
   "outputs": [],
   "source": [
    "rf_best2.fit(rfe_rfX_best_train, y_train)\n",
    "ybrf2 = rf4.predict(rfe_rfX_best_test)"
   ]
  },
  {
   "cell_type": "markdown",
   "metadata": {
    "id": "5ksfu6Kr0Nhn"
   },
   "source": [
    "###### Results"
   ]
  },
  {
   "cell_type": "code",
   "execution_count": null,
   "metadata": {
    "id": "YOy_J00c0Nhn"
   },
   "outputs": [],
   "source": [
    "ybrf2"
   ]
  },
  {
   "cell_type": "markdown",
   "metadata": {
    "id": "loA6Qb4k0Nhn"
   },
   "source": [
    "###### Absolute error"
   ]
  },
  {
   "cell_type": "code",
   "execution_count": null,
   "metadata": {
    "id": "4VeZ1rkf0Nhn"
   },
   "outputs": [],
   "source": [
    "mean_absolute_error(ybrf2, y_test)"
   ]
  },
  {
   "cell_type": "markdown",
   "metadata": {
    "id": "nG5okD9F0Nhn"
   },
   "source": [
    "### K-Nearest Neighbour Regression"
   ]
  },
  {
   "cell_type": "markdown",
   "metadata": {
    "id": "kftXEx1v0Nhn"
   },
   "source": [
    "### 1. Basic test models with all features"
   ]
  },
  {
   "cell_type": "code",
   "execution_count": null,
   "metadata": {
    "id": "xJEO4kJo0Nhn"
   },
   "outputs": [],
   "source": [
    "#KNeighbors Regressor, default parameters\n",
    "knn1 = KNeighborsRegressor(n_jobs=-1)\n",
    "\n",
    "#KNeighbors Regressor, estimates from 10 nearest neighbours, each leaf has 10\n",
    "#samples\n",
    "knn2 = KNeighborsRegressor(n_neighbors=10, leaf_size=50, n_jobs=-1)\n",
    "\n",
    "#KNeighbors Regressor, estimates from 10 nearest neighbours\n",
    "knn3 = KNeighborsRegressor(n_neighbors=20, n_jobs=-1)"
   ]
  },
  {
   "cell_type": "markdown",
   "metadata": {
    "id": "sipcaPbX0Nhn"
   },
   "source": [
    "#### Cross validation tests (both accuracy and average error)"
   ]
  },
  {
   "cell_type": "code",
   "execution_count": null,
   "metadata": {
    "colab": {
     "base_uri": "https://localhost:8080/"
    },
    "executionInfo": {
     "elapsed": 1454,
     "status": "ok",
     "timestamp": 1649418905748,
     "user": {
      "displayName": "Brendan Crowley",
      "userId": "09355744342736110324"
     },
     "user_tz": -60
    },
    "id": "7DNEwi5X0Nhn",
    "outputId": "ccc4d570-7d8e-4d1a-a326-562d6214cb4c"
   },
   "outputs": [
    {
     "name": "stderr",
     "output_type": "stream",
     "text": [
      "[Parallel(n_jobs=1)]: Using backend SequentialBackend with 1 concurrent workers.\n",
      "[Parallel(n_jobs=1)]: Done   1 out of   1 | elapsed:    0.2s remaining:    0.0s\n"
     ]
    },
    {
     "name": "stdout",
     "output_type": "stream",
     "text": [
      "[CV] END .................................................... total time=   0.2s\n",
      "[CV] END .................................................... total time=   0.1s\n",
      "[CV] END .................................................... total time=   0.1s\n",
      "[CV] END .................................................... total time=   0.1s\n",
      "[CV] END .................................................... total time=   0.2s\n",
      "[CV] END .................................................... total time=   0.1s\n"
     ]
    },
    {
     "name": "stderr",
     "output_type": "stream",
     "text": [
      "[Parallel(n_jobs=1)]: Done   5 out of   5 | elapsed:    0.8s finished\n",
      "[Parallel(n_jobs=1)]: Using backend SequentialBackend with 1 concurrent workers.\n",
      "[Parallel(n_jobs=1)]: Done   1 out of   1 | elapsed:    0.1s remaining:    0.0s\n"
     ]
    },
    {
     "name": "stdout",
     "output_type": "stream",
     "text": [
      "[CV] END .................................................... total time=   0.1s\n",
      "[CV] END .................................................... total time=   0.1s\n",
      "[CV] END .................................................... total time=   0.1s\n",
      "[CV] END .................................................... total time=   0.1s\n"
     ]
    },
    {
     "name": "stderr",
     "output_type": "stream",
     "text": [
      "[Parallel(n_jobs=1)]: Done   5 out of   5 | elapsed:    0.7s finished\n"
     ]
    },
    {
     "data": {
      "text/plain": [
       "(0.9180921608506607, -368.379723482743)"
      ]
     },
     "execution_count": 69,
     "metadata": {},
     "output_type": "execute_result"
    }
   ],
   "source": [
    "(np.mean(cross_val_score(knn1, X, y, cv=KFold(5), verbose=2)),\n",
    " np.mean(cross_val_score(knn1, X, y, cv=KFold(5), verbose=2, scoring=\"neg_mean_absolute_error\")))"
   ]
  },
  {
   "cell_type": "code",
   "execution_count": null,
   "metadata": {
    "colab": {
     "base_uri": "https://localhost:8080/"
    },
    "executionInfo": {
     "elapsed": 1659,
     "status": "ok",
     "timestamp": 1649418907403,
     "user": {
      "displayName": "Brendan Crowley",
      "userId": "09355744342736110324"
     },
     "user_tz": -60
    },
    "id": "u-HOeT7f0Nho",
    "outputId": "da16a798-95ef-4753-c0ec-a5d87127dd59"
   },
   "outputs": [
    {
     "name": "stderr",
     "output_type": "stream",
     "text": [
      "[Parallel(n_jobs=1)]: Using backend SequentialBackend with 1 concurrent workers.\n",
      "[Parallel(n_jobs=1)]: Done   1 out of   1 | elapsed:    0.2s remaining:    0.0s\n"
     ]
    },
    {
     "name": "stdout",
     "output_type": "stream",
     "text": [
      "[CV] END .................................................... total time=   0.2s\n",
      "[CV] END .................................................... total time=   0.1s\n",
      "[CV] END .................................................... total time=   0.2s\n",
      "[CV] END .................................................... total time=   0.1s\n",
      "[CV] END .................................................... total time=   0.1s\n",
      "[CV] END .................................................... total time=   0.1s\n"
     ]
    },
    {
     "name": "stderr",
     "output_type": "stream",
     "text": [
      "[Parallel(n_jobs=1)]: Done   5 out of   5 | elapsed:    0.8s finished\n",
      "[Parallel(n_jobs=1)]: Using backend SequentialBackend with 1 concurrent workers.\n",
      "[Parallel(n_jobs=1)]: Done   1 out of   1 | elapsed:    0.1s remaining:    0.0s\n"
     ]
    },
    {
     "name": "stdout",
     "output_type": "stream",
     "text": [
      "[CV] END .................................................... total time=   0.2s\n",
      "[CV] END .................................................... total time=   0.1s\n",
      "[CV] END .................................................... total time=   0.1s\n",
      "[CV] END .................................................... total time=   0.2s\n"
     ]
    },
    {
     "name": "stderr",
     "output_type": "stream",
     "text": [
      "[Parallel(n_jobs=1)]: Done   5 out of   5 | elapsed:    0.8s finished\n"
     ]
    },
    {
     "data": {
      "text/plain": [
       "(0.9247140939410677, -350.91984476224167)"
      ]
     },
     "execution_count": 70,
     "metadata": {},
     "output_type": "execute_result"
    }
   ],
   "source": [
    "(np.mean(cross_val_score(knn2, X, y, cv=KFold(5), verbose=2)),\n",
    " np.mean(cross_val_score(knn2, X, y, cv=KFold(5), verbose=2, scoring=\"neg_mean_absolute_error\")))"
   ]
  },
  {
   "cell_type": "code",
   "execution_count": null,
   "metadata": {
    "colab": {
     "base_uri": "https://localhost:8080/"
    },
    "executionInfo": {
     "elapsed": 3428,
     "status": "ok",
     "timestamp": 1649418910825,
     "user": {
      "displayName": "Brendan Crowley",
      "userId": "09355744342736110324"
     },
     "user_tz": -60
    },
    "id": "hsftbHud0Nho",
    "outputId": "683ee76b-d9fe-42fd-b479-799ddc3dbe7c"
   },
   "outputs": [
    {
     "name": "stderr",
     "output_type": "stream",
     "text": [
      "[Parallel(n_jobs=1)]: Using backend SequentialBackend with 1 concurrent workers.\n",
      "[Parallel(n_jobs=1)]: Done   1 out of   1 | elapsed:    0.2s remaining:    0.0s\n"
     ]
    },
    {
     "name": "stdout",
     "output_type": "stream",
     "text": [
      "[CV] END .................................................... total time=   0.2s\n",
      "[CV] END .................................................... total time=   0.1s\n",
      "[CV] END .................................................... total time=   0.2s\n",
      "[CV] END .................................................... total time=   0.1s\n",
      "[CV] END .................................................... total time=   0.1s\n",
      "[CV] END .................................................... total time=   0.1s\n"
     ]
    },
    {
     "name": "stderr",
     "output_type": "stream",
     "text": [
      "[Parallel(n_jobs=1)]: Done   5 out of   5 | elapsed:    0.8s finished\n",
      "[Parallel(n_jobs=1)]: Using backend SequentialBackend with 1 concurrent workers.\n",
      "[Parallel(n_jobs=1)]: Done   1 out of   1 | elapsed:    0.1s remaining:    0.0s\n"
     ]
    },
    {
     "name": "stdout",
     "output_type": "stream",
     "text": [
      "[CV] END .................................................... total time=   0.2s\n",
      "[CV] END .................................................... total time=   0.1s\n",
      "[CV] END .................................................... total time=   0.1s\n",
      "[CV] END .................................................... total time=   0.1s\n"
     ]
    },
    {
     "name": "stderr",
     "output_type": "stream",
     "text": [
      "[Parallel(n_jobs=1)]: Done   5 out of   5 | elapsed:    0.8s finished\n"
     ]
    },
    {
     "data": {
      "text/plain": [
       "(0.9247140939410677, -350.91984476224167)"
      ]
     },
     "execution_count": 71,
     "metadata": {},
     "output_type": "execute_result"
    }
   ],
   "source": [
    "(np.mean(cross_val_score(knn2, X, y, cv=KFold(5), verbose=2)),\n",
    " np.mean(cross_val_score(knn2, X, y, cv=KFold(5), verbose=2, scoring=\"neg_mean_absolute_error\")))"
   ]
  },
  {
   "cell_type": "markdown",
   "metadata": {
    "id": "G5gyBKGI0Nho"
   },
   "source": [
    "#### KNeighbors Regressor 1"
   ]
  },
  {
   "cell_type": "markdown",
   "metadata": {
    "id": "-0vFw8Jh0Nho"
   },
   "source": [
    "###### Fit"
   ]
  },
  {
   "cell_type": "code",
   "execution_count": null,
   "metadata": {
    "id": "0cLXIWb_0Nho"
   },
   "outputs": [],
   "source": [
    "knn1.fit(X_train, y_train)\n",
    "yk1 = knn1.predict(X_test)"
   ]
  },
  {
   "cell_type": "markdown",
   "metadata": {
    "id": "BB7PhT990Nho"
   },
   "source": [
    "###### Results"
   ]
  },
  {
   "cell_type": "code",
   "execution_count": null,
   "metadata": {
    "colab": {
     "base_uri": "https://localhost:8080/"
    },
    "executionInfo": {
     "elapsed": 22,
     "status": "ok",
     "timestamp": 1649418910825,
     "user": {
      "displayName": "Brendan Crowley",
      "userId": "09355744342736110324"
     },
     "user_tz": -60
    },
    "id": "X3AFOv6R0Nho",
    "outputId": "ceec09d0-fc52-4f9b-d487-e1d6693fbe85"
   },
   "outputs": [
    {
     "data": {
      "text/plain": [
       "array([4944.2,  692.8, 2102.6, 3167.2, 3299.8, 5318. , 6853.8,  668.6,\n",
       "       1491. , 4594.8, 7215. , 6197.6, 4340.8, 4506. , 5739.2, 1372.8,\n",
       "       1601.6,  571. , 3981.2, 1243.4, 6257. , 4437.2,  686.2, 5202.8,\n",
       "       2200. , 6881.8,  550.4, 5128.2, 5024.4, 4883.8, 6692. , 5513.4,\n",
       "       2963.8, 6775.8, 5420.2, 6517.4, 4489. , 1334.8, 3688.4, 1923.4,\n",
       "       4225.4, 5793.6, 2972.6, 1856.8, 5006.2, 3305.6,  933.4, 2379.2,\n",
       "       6778.8, 6631.6, 5943. , 6861.8, 4980. , 4766.2, 6220.2, 5546.2,\n",
       "       5636.2,  691. , 1980.6, 1650.2, 1595.2, 4388.4, 5740.6, 4904.6,\n",
       "       6417.4, 5408.6, 3682.8,  601.4, 5088.4, 2728.8, 3186.2, 5343.8,\n",
       "        493.2,  673.2, 3244. , 3715.4, 1555.8, 4296.6, 1588.2, 3071.8,\n",
       "       6630.8, 3454.2, 1852.8, 6622.2, 1722. , 5907.2, 5768.8, 1785.6,\n",
       "       2684.2, 6338.6, 4792. , 2179. , 2830.6, 4069.2, 5125.4, 6479.8,\n",
       "       6954.4, 3680.8, 3090. , 4081.4, 2904.6, 2272.2, 1492. , 3108.8,\n",
       "       6630.6, 6145.4, 6076.6, 6489. , 2804.6, 5221.6, 6508. , 4055.8,\n",
       "       1637.2, 5191.2, 1585.2, 5756.8, 1298. , 5878.8, 4733.2, 5209. ,\n",
       "       3561.2, 3689.4, 5534.2, 1500.4, 5897.4, 3588. , 3896.6, 2066.4,\n",
       "       1757.2, 6214.4, 6780.4, 3001. , 2516.2,  702.2, 2894. , 4914.4,\n",
       "       2898. , 3626.8, 2816.4,  685.2, 7336.2,  701.6, 5332.6, 1566.2,\n",
       "       2904.6, 4695. , 6839.2, 1270. , 4089.8, 1571.4, 2821.6, 3900. ,\n",
       "       6985.2, 2425.4, 3104.2, 6259.6, 6035.6, 2080.4, 6080.2, 6327.4,\n",
       "       7150.8, 7129.2, 6572.2, 6819.8,  666.6, 5812.2, 4127.8, 3247.2,\n",
       "       1964. , 3805.6, 2793. , 6151.8, 6108.2, 7461.8,  880.6, 6968.4,\n",
       "       3022. , 5517.8, 2648.6, 4138.2, 4168.2,  836.4, 5443.2, 3555.6,\n",
       "        639.2, 1751.6, 5395.8,  630.4, 1530.6, 2860.2, 5749.2, 5495.4,\n",
       "       4056.4, 4615.4,  486.8, 5908.8, 5228.6, 2681.6, 3949.4, 2116. ,\n",
       "       6793.6, 5545.4, 3761.4, 5946.8, 3060.2, 1705.8, 5081.6, 1521. ,\n",
       "       2152.2, 1494.2, 5952.4, 3863.8, 1650. , 4052.6, 6184.6,  529.6,\n",
       "       2530.4, 3683.2, 7094.8, 4378.4, 5667.6, 4017. , 2806.8, 6685.8,\n",
       "        944.6, 1537.8, 5212.8, 4204.4, 5838.2, 4904.8, 3915. , 2667. ,\n",
       "       2039.4, 4706.4, 3326.6, 2649.8, 4510.8, 3001.8, 5383.2,  617.8,\n",
       "       4830.4, 2026.8, 7066.8, 3617.4, 4335.2, 5275.8,  649.8, 2817.6,\n",
       "       2726.4, 6002.8, 2425.6, 3304.6, 2607. , 5564.6, 3324.6, 6453.6,\n",
       "       4319.4, 4812.2, 5238.6, 5700.8, 1137. , 1615.8, 1741.8, 4569.2,\n",
       "       4721.4, 1569.4, 6196.6, 5451.2, 6577.2, 4466.8, 5604.6, 2479.4,\n",
       "       2520. , 5389.6, 1863.6,  699. , 2617.4, 6514.4, 3696.6, 2696.8,\n",
       "       1523.4, 5371.6, 4713.6, 2714.2, 1890.6, 3827. , 4231.2, 5367.4,\n",
       "       1224.6, 6191.8, 6390. , 3387.8, 3900.2,  286.6,  713. , 5697.6,\n",
       "       2893. , 1207. , 3335.6, 5799. , 2214. , 3583.4, 4973.2, 1245.2,\n",
       "       7457. ,  400.4,  619.8, 5733.2,  827.2, 5681.2, 3128. , 3662.8,\n",
       "       4947.8, 2808. , 4417. , 5919. , 2953. , 6376.6, 5127.4, 5753.6,\n",
       "       1442.4, 1826.6, 3946.4,  774.8, 6016.6, 6370.8,  383.2, 2056. ,\n",
       "        679.8, 1815.6, 1148.2, 3487.8, 2777.4, 5837.6, 1999. ,  473.8,\n",
       "       6188. ,  647.8, 6143.2, 4110.6, 1594. , 2382.6, 2346.6, 1441.8,\n",
       "       5221.6, 3460.8, 3559.2, 2738.2,  396.8, 6406.2, 6963.8, 3534. ,\n",
       "       6363.6, 3942.2, 5215.4, 4809.2, 6423.4,  925.2, 4682.4, 5388.8,\n",
       "       5853.2, 2408. , 2410. , 5975.2, 4025.2, 1535.2,  313.8, 4561.4,\n",
       "       5680.8,  930.4, 4968.6, 5459.4, 3999. , 6123.8, 6134.8, 2636.2,\n",
       "       5980. , 1338.2, 5314.8, 5985.8, 4295. , 2714. , 4008.2, 1593.8,\n",
       "       3716.6, 1530.4, 1944.2, 1561.6, 5573.6, 3805.8, 6110. , 3160.4,\n",
       "       4571.6,  681.8, 6065.2, 4532. , 6529.2, 4068.6, 3588. , 2725. ,\n",
       "       6853. , 1584.6, 5742.2, 5734. , 5067.4, 2122. , 4545.2, 3951. ,\n",
       "       4422.4, 6981.6,  704.2, 6203.4, 6378.2, 2836.6, 4111.2, 3625. ,\n",
       "       5208. , 1270.8, 2609.4, 5390.2, 6489. , 4453.4, 2821.6, 2200.6,\n",
       "       1625. , 6263. , 5405.8, 4891.8, 5004.4,  563. , 1926.6,  451.8,\n",
       "       5016.6, 5302. ,  601.2, 4227.2, 7329.4, 6839.2, 6399.6, 3124.6,\n",
       "       5976.2, 5976. , 3291. , 1437.2, 4400.4, 5049.2, 1928.4,  652. ,\n",
       "       2276. , 2267.8, 1339.2, 1458. , 4570.8, 3949.2, 5296.6,  562.2,\n",
       "       4152.2, 6091.2, 4019.6, 5498. , 1188.6, 3210.6, 6820. , 5467.2,\n",
       "       3994.6, 2515. , 5616. , 6515.4,  369.4, 5766.2,  417.6, 1718.4,\n",
       "       2321.4, 4313. , 3501.6, 2745.8, 6429.2, 5941.8, 4200.8, 1748. ,\n",
       "       5006.8, 1749. , 4934.2, 1905.4,  711.6, 2606.4,  684.8, 6710.6,\n",
       "       6116.4, 4839.4, 2082.2, 5927.2, 1633.6,  648.4, 2491.6, 5125.6,\n",
       "       4327.6,  436.6, 5256. , 6704.8,  678.4, 5393.8, 2784. , 6145. ,\n",
       "       5423.6,  696.8, 2193.6, 5846.8, 4949.6, 6595.6, 6426.4, 7207.4,\n",
       "       5274.8,  692.2, 1173.6, 1659.8, 4398.8, 5089.8, 2843.4, 2972.4,\n",
       "       2012.4, 5286.4, 5022.8,  368.4,  500.6, 3997.8, 5648.8, 1973.8,\n",
       "       3906.8, 6231.8, 2825.6, 5747.8, 6051.4, 3665.8, 1583.8,  457.6,\n",
       "       4623. , 6713.2, 2319.6, 4579.8, 5900.8, 2100.4, 5274.4, 5355.4,\n",
       "       5636.4, 3847.8, 5683.6, 6350.8, 1222.2, 6622. , 6279. , 2949.2,\n",
       "       2091.4, 3741. , 1331.2, 2328.2, 3938.4,  699.4, 3610. , 5990.6,\n",
       "       1769.8, 4081.4, 4265.2, 6765.8, 5498.4, 3156.2, 5617.6, 6405.2,\n",
       "       5242.6, 5796. , 3965.2, 1947.4,  724. , 4150.4, 5720.2, 1489. ,\n",
       "       3973.2, 4265. , 1608.4, 2032. , 4954.2, 1408.8, 6015. , 3798.2,\n",
       "       5968.2, 2782.8, 6646.2, 6148.4, 6337. , 3604.4, 4995.2, 5262. ,\n",
       "       5752.6, 3668.2, 6310.2,  645.4,  396.4, 4899.2, 7145. , 7006.2,\n",
       "       3796.6, 1480.6, 6043.8, 3708.2, 1429.8, 6005.4, 6682.2, 3884.4,\n",
       "       6365. ,  412.6, 3561.8, 6698.4, 1980.8, 2667. , 5268.6, 2138. ,\n",
       "       5316.2, 1431.2, 4071.6, 5723.8, 1661.4, 5391. , 4442.2, 6082. ,\n",
       "       7233.8, 6952.4, 4890.8, 4363.8, 4497.2, 4354. , 4896.8, 4071.4,\n",
       "       4068.6, 2845.8, 5426.2, 4699. , 1584.2, 2522.2, 3885.6, 5145. ,\n",
       "       5395.6, 1763. , 1423.8, 6795.2, 4692. , 3601.6, 5199.2, 5503.6,\n",
       "       2928.8, 5602.8, 4798.2, 2109.8, 2619.8, 5256.8, 4231.4, 2116. ,\n",
       "       4699.4, 1257.2, 4223.4, 7195.4, 6616.6, 1589.8, 2539.4, 5363.4,\n",
       "       2350.2, 6697.6, 5828. , 1594.6, 2914.6, 6237. , 5003.2, 4282. ,\n",
       "       6231.2, 1536.6, 3224.4, 4433.4, 6375.6, 4084.2, 7049.4, 4050.6,\n",
       "       2620.4, 3820.6, 5347.8, 6040.6, 1571.8, 1475. , 5884. , 7409.6,\n",
       "       3536.4, 3733.4, 1559.4, 6299.2, 1023. , 2401. , 4797.2, 6464.8,\n",
       "       2384.8, 2845.8,  669.8, 5105.8, 1704.4, 6886.8, 5515.4, 5331.2,\n",
       "       3845.4, 5986.6, 5307.8,  757. , 4897.4,  687.8, 6146.6, 6391. ,\n",
       "       5446.8, 6898.2, 3962. , 5165.2, 6408.2, 7029.6, 6589.8, 2611.6,\n",
       "       1969.2, 4145.6, 2606.2, 6992.6, 5116.4, 4741.4, 7261. , 2767.6,\n",
       "       7016.8, 5293.6, 5353.4, 3513.8, 1675.4, 2869. , 3000.6, 5341.2,\n",
       "        553.4, 5415. , 6152.2, 5307.4, 5791.8, 2519.4, 2138. , 6352.2,\n",
       "       5453.8, 3353.4, 6823.4, 3690.2, 5199.8, 2188.4, 4458.8, 5107.6,\n",
       "       4073. , 5511. , 4099.6, 5864.6, 2119.2,  312.4, 4374.6, 5137.8,\n",
       "       2288.2, 3006. , 3647.6, 5366. ,  681.8, 5288. , 5662.6, 5102.4,\n",
       "       3290.8, 6807.6, 4459.6,  698.2, 2412.2, 5315.8, 6112.4, 4976.6,\n",
       "       4381.2, 5461.2,  335.8,  866.2, 5068.6, 6532.4, 1372. , 3706.2,\n",
       "       2045.6, 6167.4, 5897.4, 1650.4, 4206.2, 2590.4, 4267.6, 6369. ,\n",
       "       5221.6, 6797.4, 2838.2, 4458. , 3968.6, 5744.2, 5048.6, 5171.8,\n",
       "       1555.2, 5378.4, 4017.6,  692.2, 3305.2, 5594. , 5399.4, 4395.8,\n",
       "       5602.2,  698.6, 1441.4, 1314.2, 4934.4, 5870.4, 1884. , 1361.4,\n",
       "       6574.4, 2526.6, 1570.4, 1764.4, 2778. , 1474. , 2317.8, 2933.6,\n",
       "       5394.4, 3621.8, 3210.6, 5375.8, 1587.2, 3198.6, 4545.6, 4158.4,\n",
       "       1914.8, 5453.8, 4365. ,  689.2, 4636.6, 5662.2, 3600.4,  341.4,\n",
       "       2733.6, 2698.2, 4381.4, 1300.6, 4264.6, 3880. , 2684.2, 6168.4,\n",
       "       3173.4, 2457.2, 6622.8, 4708.6, 5837.2, 4146. , 4182. , 5550.8,\n",
       "       1798.6, 4017.6, 3734.8, 4100.2, 2689.8,  666.8, 2197.6, 2889. ,\n",
       "       2870.2, 6081.4, 5435.4, 1875. , 2512.2, 2916.8,  644.8, 3953.2,\n",
       "        378.4, 5777.8, 2893.8,  662.6, 6979.2, 6527.4,  701.6, 5270.2,\n",
       "       3805. , 5461.4, 2594.2, 4699.8, 1541.4, 1425. , 1616.8, 6091. ,\n",
       "       1735.6, 3911.6, 4004.4, 6453.8, 2686.8, 2533.4, 4762. , 6105. ,\n",
       "       1011. , 3715.2, 1551. , 3613.4, 3092.6, 5021. , 5318.6, 1915.6,\n",
       "       7300.6, 2217. , 5130.6, 4319.2, 2025.2, 4054.4, 3807.2, 2698.6,\n",
       "       2375.8, 5636.2, 1730.2, 4916.2, 5977.4, 1309.4, 2205.8, 4550.2,\n",
       "       1523.4, 3580.8, 4413.8, 2884.4, 6534.4, 1426.8,  278.2, 5352.8,\n",
       "       6967.6, 5684.4,  383.4, 3148.4, 5347. , 1888.6, 4814.2, 5251.6,\n",
       "       6654.8, 4914.8, 1448. , 5165.4, 4660.6, 1599.8, 5733.2, 3787.2,\n",
       "       1581.8,  887.4, 1394.4, 3480.8, 4645.6, 1599.2, 5409.2, 3397.4,\n",
       "       6666.8, 6619. ,  700.4, 2860.2, 5304. ,  868.2, 5686.8, 6037.8,\n",
       "       6145.8, 6742.6, 6479. ])"
      ]
     },
     "execution_count": 73,
     "metadata": {},
     "output_type": "execute_result"
    }
   ],
   "source": [
    "yk1"
   ]
  },
  {
   "cell_type": "markdown",
   "metadata": {
    "id": "RYIEfCsJ0Nho"
   },
   "source": [
    "###### Absolute error"
   ]
  },
  {
   "cell_type": "code",
   "execution_count": null,
   "metadata": {
    "colab": {
     "base_uri": "https://localhost:8080/"
    },
    "executionInfo": {
     "elapsed": 20,
     "status": "ok",
     "timestamp": 1649418910825,
     "user": {
      "displayName": "Brendan Crowley",
      "userId": "09355744342736110324"
     },
     "user_tz": -60
    },
    "id": "VGGSwPDw0Nhp",
    "outputId": "a17a89c6-f091-436e-9d69-eda29b7c6390"
   },
   "outputs": [
    {
     "data": {
      "text/plain": [
       "311.5599169262721"
      ]
     },
     "execution_count": 74,
     "metadata": {},
     "output_type": "execute_result"
    }
   ],
   "source": [
    "mean_absolute_error(yk1, y_test)"
   ]
  },
  {
   "cell_type": "markdown",
   "metadata": {
    "id": "z6p04H8T0Nhp"
   },
   "source": [
    "#### KNeighbors Regressor 2"
   ]
  },
  {
   "cell_type": "markdown",
   "metadata": {
    "id": "P59YUL2M0Nhp"
   },
   "source": [
    "###### Fit"
   ]
  },
  {
   "cell_type": "code",
   "execution_count": null,
   "metadata": {
    "id": "ZQeQwJ_s0Nhp"
   },
   "outputs": [],
   "source": [
    "knn2.fit(X_train, y_train)\n",
    "yk2 = knn2.predict(X_test)"
   ]
  },
  {
   "cell_type": "markdown",
   "metadata": {
    "id": "Cn_dEDUM0Nhp"
   },
   "source": [
    "###### Results"
   ]
  },
  {
   "cell_type": "code",
   "execution_count": null,
   "metadata": {
    "colab": {
     "base_uri": "https://localhost:8080/"
    },
    "executionInfo": {
     "elapsed": 17,
     "status": "ok",
     "timestamp": 1649418910826,
     "user": {
      "displayName": "Brendan Crowley",
      "userId": "09355744342736110324"
     },
     "user_tz": -60
    },
    "id": "LofTrETF0Nhp",
    "outputId": "89706d23-5810-4cd5-d137-bedc497c09d2"
   },
   "outputs": [
    {
     "data": {
      "text/plain": [
       "array([4911.3,  690.3, 2109.4, 3204.6, 3353.4, 5688.3, 6481.2,  692.5,\n",
       "       1533.9, 4616.5, 7034.2, 5783.6, 4442.9, 4831.4, 5801.3, 1341.8,\n",
       "       1566.8,  576.4, 4167.7, 1325.5, 6277.8, 4377.6,  669.8, 5185.4,\n",
       "       2063.1, 6811.3,  592.6, 5090.9, 5224.2, 5037.7, 6529.5, 5418.8,\n",
       "       3002. , 6761.3, 5423.6, 6033.8, 4664.3, 1322.8, 3648.3, 1907. ,\n",
       "       4281.4, 5391.1, 2823.7, 1798.8, 5044.9, 3241.6,  864.5, 2440.8,\n",
       "       6385.3, 6340. , 6213.1, 6885.7, 5334.2, 4661.3, 5971.5, 5202. ,\n",
       "       5381.2,  668.2, 1906.9, 1575.3, 1601.4, 4173.6, 5617.6, 4949.6,\n",
       "       6412.9, 5451.4, 3615.6,  575.6, 5138.3, 2750.7, 3124. , 5390.1,\n",
       "        436. ,  688.7, 3199.6, 3832. , 1567.3, 4376.6, 1530.8, 3396. ,\n",
       "       6644.2, 3470.2, 1930.1, 6505.5, 1789.8, 5910.8, 5534.3, 1813.4,\n",
       "       2694.5, 6161.2, 4858.6, 2307.6, 2791.4, 4184.7, 4945.7, 6347.7,\n",
       "       6942.9, 3862.2, 2836.6, 3897.4, 2968.4, 2194.8, 1522.8, 3066.3,\n",
       "       6534.1, 5708.3, 5353.6, 6218.7, 2856.6, 5272. , 5964.3, 4004.4,\n",
       "       1606.1, 5271.6, 1615.9, 5902.2, 1326.7, 5969.2, 4766.2, 5260.7,\n",
       "       3653.5, 3802. , 5319.9, 1547.9, 6038.6, 3680.8, 4029. , 2170.9,\n",
       "       1922.3, 6239.7, 6906.2, 3414.2, 2526.8,  701. , 2834.5, 4521.9,\n",
       "       2758.5, 3704.1, 2821.7,  685.6, 7163.6,  701.2, 4886.1, 1606.5,\n",
       "       2902.9, 4561.9, 6743.5, 1204.2, 4143.4, 1544.4, 2752.5, 3842.4,\n",
       "       6835. , 2513.2, 3263.9, 6202.5, 6126.7, 2066.8, 6451.2, 6504.2,\n",
       "       7200.6, 6809.6, 6567.5, 6504.2,  677.7, 5969.3, 4235.2, 3378.2,\n",
       "       1969.7, 3697.8, 2757.3, 6244.4, 5710.3, 7264.6,  982.3, 7120.6,\n",
       "       2931.2, 5493.2, 2667.3, 4005.4, 4100.6,  888.7, 5886.6, 3686.2,\n",
       "        636.9, 1723.5, 5256.4,  645.1, 1587.2, 2819.6, 5822.7, 5475.8,\n",
       "       4120.9, 4522.5,  507.8, 5595.8, 5750. , 2647.2, 3910.1, 2090.6,\n",
       "       6566.5, 5487.4, 3963.9, 5756. , 3060. , 1612.2, 5641.9, 1552.2,\n",
       "       2148.8, 1451.7, 5641.1, 3843.8, 1600.3, 3966.4, 6196.5,  522.4,\n",
       "       2499.8, 3675. , 7135. , 4605.4, 5492.9, 4151.4, 2840.2, 6476. ,\n",
       "        941.3, 1526. , 5127.6, 4369. , 6060.7, 4799.8, 4009.3, 2549.5,\n",
       "       2067.9, 4854.9, 3034.9, 2780.8, 4235.2, 3110.6, 5403.6,  572.6,\n",
       "       4580.4, 2055.4, 7035.1, 3623.3, 4017.5, 5483.7,  661. , 2828. ,\n",
       "       2738.5, 6161.8, 2657.6, 3509.5, 2680.3, 5325.1, 3205.4, 6627.5,\n",
       "       4471.8, 5142.9, 5261.7, 5743.2, 1242.5, 1584.5, 1756.8, 5021.7,\n",
       "       4518.6, 1587.8, 6004.3, 5635.3, 6598.7, 4338.2, 5757.9, 2476.4,\n",
       "       2426.2, 5412.5, 1954.7,  700.4, 2653.6, 6364.4, 3706. , 2753. ,\n",
       "       1617.9, 5546.8, 4836.3, 2706.5, 1804.4, 3898.3, 4250.8, 5688.7,\n",
       "       1261.2, 6137.7, 6634.8, 3462.5, 3882. ,  305.3,  709.7, 5718.1,\n",
       "       2955.3, 1268.9, 3460.1, 5730.2, 2393.6, 3691.3, 4777. , 1262.3,\n",
       "       7283.3,  502.1,  630.8, 5700.7,  843.1, 5554.8, 3294.3, 3770.4,\n",
       "       5160.8, 2733.9, 4246.7, 5747.4, 2914.9, 6235.9, 5274.1, 5766.4,\n",
       "       1384.7, 1559.6, 3917.4,  758.2, 5980.7, 6199.8,  395.6, 2168.2,\n",
       "        686.5, 1940.2, 1315. , 3575.7, 2795.8, 5766. , 2148. ,  507.8,\n",
       "       6028.1,  662.9, 6226. , 4006.7, 1587.2, 2393.9, 2377.4, 1498.7,\n",
       "       5511.4, 3445.6, 3638.7, 2736.1,  498.4, 6515. , 6737.4, 3629.6,\n",
       "       6547.1, 4195.8, 4949.8, 4930.1, 6204.6,  983.8, 4610. , 5335.9,\n",
       "       5436.2, 2448.5, 2538.5, 5965.1, 3782.8, 1459.4,  350.5, 4840.3,\n",
       "       5748.9,  911. , 4811.3, 5304. , 4102. , 6177.4, 5773.3, 2524.1,\n",
       "       6095.7, 1346.1, 5469.3, 5990.4, 4218.8, 2736.7, 4030.8, 1650.1,\n",
       "       4086.2, 1597.6, 1976.4, 1559.1, 5622. , 3786.7, 5902.8, 3207.8,\n",
       "       4379.8,  678.8, 5896.9, 4886.5, 6516.2, 4068.6, 3984.1, 2720.6,\n",
       "       6889.8, 1696.2, 5762.4, 5652.5, 5260.9, 2116.9, 4396.1, 4263.2,\n",
       "       4409.7, 6786.6,  699.3, 6019.2, 6369.5, 2872. , 4078.3, 3610.6,\n",
       "       5183. , 1342. , 2731.1, 5185.4, 6539. , 4847.4, 2802.2, 2296.7,\n",
       "       1649.6, 5890.7, 5546.3, 5142. , 5104.6,  572.2, 2078.3,  444.7,\n",
       "       5108.6, 5553.9,  597. , 4134.6, 7130.1, 6943.5, 6116.1, 2961.4,\n",
       "       5726.7, 6131.7, 3062.4, 1485.6, 4739.1, 5372.6, 2039.8,  634.1,\n",
       "       2282.2, 2292.4, 1360.7, 1496.5, 4929.3, 4040.2, 5160.4,  546. ,\n",
       "       3887.6, 5737.7, 4189.3, 5617.9,  954.1, 3243.8, 6881.5, 5776. ,\n",
       "       3722.5, 2500. , 5397.9, 6218.7,  359.4, 5320.2,  424.8, 1724.5,\n",
       "       2399.9, 4152.8, 3310.7, 2750.4, 6567.2, 6029.7, 4218. , 1687.6,\n",
       "       4742.6, 1648.5, 4986.5, 2069.4,  698.7, 2517.1,  689.7, 6513.1,\n",
       "       6202.6, 4890.9, 2056.2, 5766.4, 1597.6,  661.7, 2693.5, 5300.6,\n",
       "       4354.9,  437.6, 5321.2, 7001.8,  669. , 5480.2, 2788.1, 6029.5,\n",
       "       5463.5,  700.6, 2136.9, 5750.4, 5023.3, 6805.3, 6416.4, 6719.5,\n",
       "       5352.9,  681. , 1271.8, 1593.2, 4434. , 5158.6, 2804.5, 2933.2,\n",
       "       1980.6, 5418.3, 5095. ,  343.7,  567.8, 3958.7, 5713.9, 2045.6,\n",
       "       3846.3, 6119.1, 2799.5, 5808.1, 6134.1, 3600. , 1581.1,  460.8,\n",
       "       4619.5, 6427.9, 2359.8, 4776.9, 5478.8, 2130.6, 5184.1, 5208.3,\n",
       "       5359.7, 3973.1, 6395.4, 6248.9, 1207.1, 6745.1, 6518.2, 2883.2,\n",
       "       1990.3, 3781.1, 1325.1, 2319.5, 3819. ,  699.4, 3466.3, 5853.3,\n",
       "       1779.1, 4117.1, 4356.2, 6639.3, 5088.2, 3358.7, 5854.9, 6281.4,\n",
       "       5207.7, 6131.9, 4004.7, 1777.1,  688.6, 4243. , 5595.2, 1581.1,\n",
       "       4062.8, 4290.6, 1552.2, 2062.5, 5031.9, 1330.5, 6248.2, 3771.6,\n",
       "       6160.5, 2733.2, 6725.3, 6010.3, 6498.3, 3543.9, 4981.3, 5390.2,\n",
       "       5481.1, 3627.3, 6286.3,  656.5,  414. , 4987.1, 7072.6, 7014.7,\n",
       "       3978.7, 1521.7, 5813.8, 3950.1, 1455.4, 5913.3, 6741.9, 3837.3,\n",
       "       6383.5,  424.5, 3709.9, 6667.2, 1952.5, 2686.5, 5523.9, 2244.3,\n",
       "       5440.8, 1517.5, 4228.2, 5574.6, 1605.9, 5460.4, 4549.8, 6143.8,\n",
       "       7245.8, 6943.5, 4795.9, 4444.7, 4687.2, 4442.4, 4889.7, 3845.2,\n",
       "       3804.6, 2735.4, 5467.9, 4954.7, 1574.5, 2388.8, 3726.8, 5101.9,\n",
       "       5486.3, 1751.2, 1207.1, 6489.6, 4473.2, 3358.4, 4846.4, 5355.5,\n",
       "       2837.9, 5661.4, 4960.6, 2114. , 2559.6, 5489.9, 4200.9, 2213. ,\n",
       "       4621.4, 1211.9, 4368.3, 7126.8, 6749.4, 1584. , 2633.5, 5103.4,\n",
       "       2489.9, 6829.3, 5482.4, 1649.4, 2813.3, 6270.5, 4994.3, 4342.3,\n",
       "       5868.5, 1688.6, 3117.7, 4496.3, 6380.9, 4043.3, 7165.1, 3919. ,\n",
       "       2650.1, 3825.4, 5124.4, 5733.1, 1550. , 1525.9, 5892. , 7250.1,\n",
       "       3575.9, 3833.5, 1560.5, 6173.5, 1000.5, 2504. , 4679.5, 6537.9,\n",
       "       2478.1, 2854.1,  648.3, 5265.9, 1731.5, 7048.2, 5578.3, 5278.6,\n",
       "       3670.5, 5864.4, 5396.8,  761.3, 4981.8,  668.2, 6328.9, 6405.8,\n",
       "       5721.2, 6781.6, 3750. , 5009.5, 6306.9, 6838.6, 6480.9, 2681.8,\n",
       "       1879.9, 4437.6, 2744.9, 6887.2, 5106.5, 4726.6, 7099.1, 2584.3,\n",
       "       7001.7, 5200.1, 5369.4, 3557.1, 1731.5, 2875.9, 2720.7, 5393.8,\n",
       "        545.5, 5994.8, 6190.2, 5357.5, 5526.9, 2597.7, 1892.9, 6523.1,\n",
       "       5515.1, 3532.3, 6659.6, 3700.7, 5089.8, 2128.2, 4270.5, 5114.9,\n",
       "       4086.2, 5516.4, 4134.3, 5680.4, 2122.2,  311.4, 4344.8, 5134.9,\n",
       "       2254.1, 3043.1, 3796.4, 5371.5,  663.6, 6049.7, 5363.4, 5164.3,\n",
       "       3514. , 6678.3, 4420. ,  699.3, 2413.3, 5618.1, 6203.4, 4823.5,\n",
       "       4195.1, 5631.2,  387.9,  826.7, 5027.4, 6516. , 1225.9, 3449.9,\n",
       "       2043.7, 6289.8, 5689. , 1702.5, 4120.6, 2668.9, 4024.4, 6744.4,\n",
       "       5273.5, 6399.3, 2835.3, 4440.5, 3895.2, 5840.7, 5704.3, 4847.4,\n",
       "       1563.4, 5371.8, 3873.1,  698.9, 3098.9, 5598.1, 5175.9, 4472.8,\n",
       "       5686.3,  702.1, 1250.2, 1293.4, 5477.2, 5988.9, 1984. , 1415.3,\n",
       "       6659.2, 2554.2, 1593.6, 1772.7, 2719.8, 1542.7, 2377.9, 3022.9,\n",
       "       5776.6, 3861.8, 3423.8, 5034.4, 1573.3, 3092.2, 4479.5, 4123.3,\n",
       "       1885.6, 5537.3, 4186.6,  630.8, 4549.6, 5234.1, 3608.3,  369.5,\n",
       "       2751.8, 2815.8, 4308.1, 1250.2, 4190.2, 3929.9, 2408.3, 5910.2,\n",
       "       3108.1, 2633.3, 6609.4, 4616.3, 5546.1, 3993.1, 4110.2, 6065.2,\n",
       "       1763.1, 3847.2, 3644.5, 3990.2, 2690. ,  648.4, 2311.2, 2767.3,\n",
       "       2696.3, 6159.3, 5457.7, 2134.8, 2572.2, 2931.2,  572.6, 3814.2,\n",
       "        345.8, 5509.8, 2968.4,  654.2, 6767.4, 6537.1,  715.3, 5551.4,\n",
       "       3857.3, 5597.4, 2598.5, 4393.4, 1567.3, 1444.7, 1579.3, 6120.2,\n",
       "       1963.4, 3840.7, 4247.7, 6603.1, 2706.3, 2575.4, 5264.9, 6322.7,\n",
       "       1169.8, 3635.4, 1543.8, 3567.3, 3406.9, 5111.7, 5354.8, 1797. ,\n",
       "       7099.5, 2308.6, 5069.1, 4360.5, 1853. , 4076. , 3772.3, 2774.3,\n",
       "       2410.8, 5298.4, 1769.7, 4914.4, 6411.8, 1351.4, 2381.2, 4719.9,\n",
       "       1573.5, 3584.4, 4542.4, 2836.2, 6507.2, 1494.4,  291.5, 4923.5,\n",
       "       6590.5, 5648.3,  384.9, 3165.3, 5342.4, 2048.6, 4962.3, 5368.2,\n",
       "       6552.4, 4587.6, 1498.7, 5213.6, 4757.8, 1547.2, 5632.1, 3801.4,\n",
       "       1594.5,  898.4, 1356.3, 4314.7, 4784.9, 1595.1, 5546.3, 3485.4,\n",
       "       6594.2, 6560. ,  645.2, 2707.9, 5220.2,  874.5, 5418.3, 6065.4,\n",
       "       6082.4, 6952.5, 6176.2])"
      ]
     },
     "execution_count": 76,
     "metadata": {},
     "output_type": "execute_result"
    }
   ],
   "source": [
    "yk2"
   ]
  },
  {
   "cell_type": "markdown",
   "metadata": {
    "id": "-9PLmtGH0Nhp"
   },
   "source": [
    "###### Absolute error"
   ]
  },
  {
   "cell_type": "code",
   "execution_count": null,
   "metadata": {
    "colab": {
     "base_uri": "https://localhost:8080/"
    },
    "executionInfo": {
     "elapsed": 15,
     "status": "ok",
     "timestamp": 1649418910826,
     "user": {
      "displayName": "Brendan Crowley",
      "userId": "09355744342736110324"
     },
     "user_tz": -60
    },
    "id": "GvlMCO540Nhp",
    "outputId": "eb4b1b5a-be4d-475d-b8cf-bae1a927dffc"
   },
   "outputs": [
    {
     "data": {
      "text/plain": [
       "306.98068535825547"
      ]
     },
     "execution_count": 77,
     "metadata": {},
     "output_type": "execute_result"
    }
   ],
   "source": [
    "mean_absolute_error(yk2, y_test)"
   ]
  },
  {
   "cell_type": "markdown",
   "metadata": {
    "id": "-ndNo6kd0Nhp"
   },
   "source": [
    "#### KNeighbors Regressor 3"
   ]
  },
  {
   "cell_type": "markdown",
   "metadata": {
    "id": "kN1MtxGP0Nhq"
   },
   "source": [
    "###### Fit"
   ]
  },
  {
   "cell_type": "code",
   "execution_count": null,
   "metadata": {
    "id": "uyd5ZXXe0Nhq"
   },
   "outputs": [],
   "source": [
    "knn3.fit(X_train, y_train)\n",
    "yk3 = knn3.predict(X_test)"
   ]
  },
  {
   "cell_type": "markdown",
   "metadata": {
    "id": "VCScdG2W0Nhq"
   },
   "source": [
    "###### Results"
   ]
  },
  {
   "cell_type": "code",
   "execution_count": null,
   "metadata": {
    "colab": {
     "base_uri": "https://localhost:8080/"
    },
    "executionInfo": {
     "elapsed": 11,
     "status": "ok",
     "timestamp": 1649418910826,
     "user": {
      "displayName": "Brendan Crowley",
      "userId": "09355744342736110324"
     },
     "user_tz": -60
    },
    "id": "ozqTU40a0Nhq",
    "outputId": "ea381433-447b-4ba9-9b25-87a361d7b11d"
   },
   "outputs": [
    {
     "data": {
      "text/plain": [
       "array([5178.35,  671.2 , 2075.75, 3040.35, 3402.15, 5539.  , 6439.  ,\n",
       "        695.  , 1582.65, 4600.4 , 6848.95, 5727.  , 4457.8 , 5088.  ,\n",
       "       5802.15, 1346.95, 1609.3 ,  564.35, 3972.7 , 1377.5 , 6279.7 ,\n",
       "       4416.5 ,  672.25, 4971.  , 2106.4 , 6635.3 ,  618.8 , 5276.05,\n",
       "       5253.9 , 4903.1 , 6425.75, 5540.15, 3189.4 , 7008.85, 5453.65,\n",
       "       6225.15, 4547.2 , 1299.75, 3713.2 , 1892.3 , 4417.6 , 5407.35,\n",
       "       2832.45, 1828.4 , 5349.6 , 3239.25,  837.  , 2510.1 , 6577.15,\n",
       "       6403.35, 6375.6 , 6727.4 , 5129.35, 4661.15, 5929.3 , 5308.25,\n",
       "       5312.05,  650.15, 1946.55, 1590.2 , 1579.95, 4108.4 , 5538.15,\n",
       "       5082.85, 6339.55, 5742.15, 3711.95,  581.65, 5494.15, 2754.1 ,\n",
       "       3134.75, 5558.25,  426.95,  691.4 , 3416.95, 3764.4 , 1573.25,\n",
       "       4191.2 , 1524.55, 4070.9 , 6717.9 , 3486.5 , 2012.3 , 6337.1 ,\n",
       "       1777.05, 5811.55, 5448.25, 1946.1 , 2704.1 , 6256.5 , 4760.8 ,\n",
       "       2287.4 , 2717.2 , 4048.3 , 4512.7 , 6378.55, 6944.5 , 3864.6 ,\n",
       "       2861.1 , 3840.9 , 2864.6 , 2286.65, 1561.8 , 3123.25, 6516.8 ,\n",
       "       5900.55, 5611.7 , 6091.  , 2803.1 , 5343.5 , 6510.9 , 4147.95,\n",
       "       1631.25, 5204.95, 1686.45, 6135.35, 1367.75, 6027.  , 4354.1 ,\n",
       "       4992.75, 3671.55, 3710.65, 5233.85, 1537.15, 6124.95, 3879.05,\n",
       "       4023.  , 2167.75, 1875.95, 6056.7 , 6909.2 , 3604.8 , 2660.75,\n",
       "        692.85, 2820.15, 4483.4 , 2825.15, 3669.  , 2815.  ,  687.6 ,\n",
       "       6840.35,  692.7 , 4729.35, 1577.  , 2837.3 , 4557.2 , 6791.  ,\n",
       "       1255.65, 4215.4 , 1506.3 , 2833.55, 3864.8 , 6671.4 , 2591.45,\n",
       "       3264.8 , 6201.  , 5942.9 , 2007.35, 6561.45, 6492.7 , 7264.7 ,\n",
       "       6803.1 , 6365.85, 6692.6 ,  673.  , 6085.1 , 4229.6 , 3619.15,\n",
       "       1888.55, 3633.05, 2756.25, 6176.5 , 5912.2 , 6871.65, 1007.8 ,\n",
       "       6948.5 , 3008.95, 5615.45, 2664.15, 3970.45, 4061.3 , 1084.75,\n",
       "       6075.15, 3663.6 ,  653.1 , 1901.55, 5260.3 ,  623.45, 1611.15,\n",
       "       2845.05, 5715.35, 5314.65, 4114.35, 4410.35,  510.1 , 5660.  ,\n",
       "       5585.15, 2588.55, 3859.7 , 2136.1 , 6279.55, 5513.75, 3929.6 ,\n",
       "       5782.3 , 3045.85, 1700.95, 5860.95, 1713.55, 2313.8 , 1450.15,\n",
       "       5681.45, 4042.2 , 1576.9 , 4058.4 , 6328.8 ,  524.15, 2564.55,\n",
       "       3698.65, 6941.15, 4731.5 , 5562.8 , 4100.55, 2792.25, 6440.  ,\n",
       "        950.  , 1538.05, 5204.05, 4220.  , 6101.3 , 4743.75, 4218.65,\n",
       "       2510.65, 2050.05, 4590.7 , 2932.55, 2741.  , 4250.9 , 2927.25,\n",
       "       5479.1 ,  653.55, 4562.35, 2040.35, 7044.35, 3714.15, 4095.45,\n",
       "       5824.05,  649.85, 2783.25, 2740.65, 6172.05, 2581.  , 3753.7 ,\n",
       "       2669.25, 5663.95, 3165.75, 6614.35, 4720.75, 4761.5 , 5085.9 ,\n",
       "       6018.45, 1214.7 , 1603.1 , 1829.35, 5158.3 , 4471.8 , 1583.85,\n",
       "       5981.45, 5697.7 , 6535.55, 4092.05, 5576.45, 2437.85, 2523.55,\n",
       "       5336.3 , 1884.95,  697.7 , 2696.95, 6502.  , 3685.45, 2713.9 ,\n",
       "       1586.9 , 5266.75, 4785.55, 2708.65, 1852.15, 3695.15, 4258.8 ,\n",
       "       5549.1 , 1318.15, 6180.35, 6887.7 , 3499.45, 3934.45,  331.65,\n",
       "        689.45, 5425.7 , 2897.8 , 1216.8 , 3436.85, 5696.05, 2587.45,\n",
       "       3632.25, 4768.7 , 1307.2 , 6949.55,  493.95,  574.15, 5856.5 ,\n",
       "        810.05, 5506.75, 3372.35, 3773.35, 5373.45, 2855.05, 4138.3 ,\n",
       "       5715.45, 2907.7 , 6034.65, 5260.6 , 6084.85, 1422.55, 1574.85,\n",
       "       4042.05,  785.35, 6025.8 , 6230.65,  416.7 , 2160.65,  674.45,\n",
       "       1937.75, 1285.6 , 3478.15, 2764.3 , 5771.85, 2104.8 ,  510.1 ,\n",
       "       6079.05,  676.3 , 6304.5 , 4036.75, 1586.05, 2465.5 , 2393.95,\n",
       "       1593.2 , 5541.  , 3491.1 , 3700.45, 2647.55,  429.05, 6278.9 ,\n",
       "       6508.3 , 3718.7 , 6644.45, 4225.7 , 4986.35, 5048.9 , 5774.75,\n",
       "        963.1 , 4722.85, 5470.5 , 5647.4 , 2522.6 , 2590.  , 5880.85,\n",
       "       3722.1 , 1453.65,  377.4 , 4911.65, 5515.1 ,  909.4 , 4765.2 ,\n",
       "       5231.95, 3938.55, 6007.2 , 6077.1 , 2613.8 , 5993.75, 1317.55,\n",
       "       5403.75, 6370.25, 4409.9 , 2703.45, 3975.9 , 1660.3 , 4225.6 ,\n",
       "       1519.6 , 1912.9 , 1530.1 , 5447.9 , 3810.05, 5551.95, 3170.4 ,\n",
       "       4457.3 ,  678.3 , 5757.65, 5150.2 , 6533.45, 4028.8 , 3776.2 ,\n",
       "       2651.95, 6957.15, 1718.95, 5598.95, 5587.85, 4987.75, 2106.4 ,\n",
       "       4537.  , 4189.8 , 4483.45, 6864.1 ,  705.  , 5990.6 , 6048.35,\n",
       "       2878.95, 3971.4 , 3588.85, 5198.25, 1330.25, 2717.15, 5210.25,\n",
       "       6507.9 , 4770.4 , 2804.1 , 2323.55, 1706.15, 5977.8 , 5198.4 ,\n",
       "       4948.3 , 4809.8 ,  549.15, 2082.6 ,  462.6 , 5168.85, 5547.  ,\n",
       "        593.8 , 4130.95, 7003.35, 6848.9 , 5952.55, 2959.45, 5613.05,\n",
       "       6033.  , 2957.05, 1471.55, 5275.8 , 5203.8 , 2024.  ,  614.1 ,\n",
       "       2234.5 , 2276.15, 1376.3 , 1497.25, 5201.85, 4049.45, 5115.15,\n",
       "        569.6 , 3958.7 , 5855.05, 4211.3 , 5575.05,  854.65, 3405.7 ,\n",
       "       6712.65, 5797.3 , 3819.75, 2588.8 , 5431.6 , 6158.05,  371.5 ,\n",
       "       5133.95,  479.8 , 1698.25, 2327.05, 4114.8 , 3467.9 , 2709.95,\n",
       "       6612.05, 6239.5 , 4144.  , 1744.8 , 4905.  , 1687.05, 5030.  ,\n",
       "       2100.85,  693.75, 2777.5 ,  688.55, 6580.1 , 6287.25, 4993.05,\n",
       "       2168.8 , 5712.55, 1633.65,  674.05, 2675.6 , 5522.6 , 4230.75,\n",
       "        455.35, 5258.95, 7026.25,  672.35, 5717.65, 2819.6 , 6052.4 ,\n",
       "       5077.45,  696.1 , 2132.4 , 5686.1 , 4869.05, 6547.55, 6438.  ,\n",
       "       6839.5 , 5238.05,  675.4 , 1306.9 , 1610.15, 4309.65, 5318.3 ,\n",
       "       2783.35, 2667.65, 2091.45, 5227.35, 5053.35,  357.35,  596.65,\n",
       "       3965.8 , 5909.1 , 2050.1 , 4052.3 , 5802.05, 2671.5 , 5611.25,\n",
       "       6368.45, 3738.25, 1587.15,  435.45, 4602.25, 6715.85, 2455.7 ,\n",
       "       4864.9 , 5375.15, 2031.85, 5206.35, 5403.85, 5283.2 , 4106.75,\n",
       "       6594.35, 6398.65, 1208.95, 6880.  , 6460.45, 2922.45, 1866.25,\n",
       "       3834.05, 1238.9 , 2382.95, 3878.05,  701.  , 3559.9 , 5827.95,\n",
       "       1768.  , 4387.95, 4501.05, 6705.5 , 5258.5 , 3610.95, 5960.75,\n",
       "       6224.2 , 5116.95, 6123.25, 4007.25, 1787.15,  704.85, 4293.05,\n",
       "       5679.65, 1555.4 , 3951.8 , 4275.9 , 1540.4 , 2105.6 , 5187.25,\n",
       "       1462.8 , 6058.9 , 3696.  , 6158.65, 2755.1 , 6611.15, 5902.7 ,\n",
       "       6440.2 , 3660.9 , 4771.65, 5509.35, 5576.1 , 3694.25, 6179.95,\n",
       "        641.1 ,  417.65, 4909.7 , 7100.6 , 6718.45, 3992.35, 1526.4 ,\n",
       "       5449.9 , 3872.45, 1604.65, 5535.55, 6541.75, 3863.6 , 6510.15,\n",
       "        459.6 , 3801.35, 6581.35, 1894.05, 2711.4 , 5599.75, 2240.85,\n",
       "       5265.85, 1547.05, 4205.  , 5566.25, 1541.55, 5611.75, 4331.15,\n",
       "       6020.75, 6882.9 , 6803.25, 4784.55, 4340.55, 4802.95, 4284.1 ,\n",
       "       5003.35, 3800.15, 3809.15, 2827.95, 5365.  , 5104.5 , 1538.9 ,\n",
       "       2351.6 , 3778.55, 5227.7 , 5642.05, 1842.6 , 1185.3 , 6534.05,\n",
       "       4587.6 , 3227.3 , 4928.3 , 5515.9 , 2908.35, 5568.4 , 5174.85,\n",
       "       2116.25, 2784.25, 5674.75, 4236.  , 2307.75, 4863.15, 1168.85,\n",
       "       4239.3 , 7018.15, 6687.5 , 1599.4 , 2750.  , 5067.15, 2635.5 ,\n",
       "       6844.2 , 5295.6 , 1627.3 , 2793.45, 6484.75, 5043.55, 4409.05,\n",
       "       5946.  , 1780.65, 3098.6 , 4594.5 , 6571.95, 4113.5 , 7023.6 ,\n",
       "       3942.25, 2713.05, 3811.25, 5122.9 , 5624.45, 1479.85, 1800.7 ,\n",
       "       5917.1 , 7236.45, 3565.65, 3786.9 , 1576.6 , 6317.9 , 1054.85,\n",
       "       2387.55, 4629.9 , 6656.75, 2404.  , 2659.2 ,  653.9 , 5267.  ,\n",
       "       1850.05, 6973.6 , 5455.9 , 5650.65, 3624.5 , 5788.65, 5389.35,\n",
       "        760.9 , 4962.95,  676.95, 6320.1 , 6276.05, 5781.  , 6827.9 ,\n",
       "       3757.9 , 4906.75, 6513.4 , 6689.3 , 6332.8 , 2568.2 , 1984.85,\n",
       "       4478.95, 2767.15, 6896.5 , 5112.5 , 4793.95, 6796.3 , 2625.25,\n",
       "       6902.85, 5110.3 , 5136.8 , 3637.85, 1830.75, 2879.15, 2739.55,\n",
       "       5120.7 ,  566.7 , 6157.9 , 6241.2 , 5234.7 , 5682.75, 2538.2 ,\n",
       "       1871.4 , 6643.1 , 5742.75, 3440.7 , 6542.15, 3772.6 , 4971.95,\n",
       "       2047.8 , 4025.55, 5080.85, 4362.35, 5370.05, 4134.85, 5744.95,\n",
       "       2105.55,  313.55, 4307.95, 5018.55, 2147.75, 2942.35, 3807.1 ,\n",
       "       5484.25,  680.95, 6222.  , 5411.75, 5269.55, 3530.3 , 6370.4 ,\n",
       "       4296.05,  700.6 , 2420.85, 5675.9 , 6207.55, 5032.85, 4288.35,\n",
       "       5559.95,  403.7 ,  830.75, 4950.55, 6521.  , 1190.45, 3301.65,\n",
       "       1926.8 , 5753.35, 5740.2 , 1639.9 , 4058.6 , 2719.55, 3943.45,\n",
       "       6876.2 , 5542.5 , 6524.45, 2764.7 , 4420.7 , 3868.4 , 5931.45,\n",
       "       5857.15, 5253.05, 1569.25, 5323.9 , 3919.95,  683.55, 3186.85,\n",
       "       5592.8 , 5315.7 , 4367.95, 5696.4 ,  691.75, 1243.35, 1313.25,\n",
       "       5477.05, 6019.4 , 2070.  , 1742.35, 6522.4 , 2699.25, 1673.9 ,\n",
       "       1879.85, 2819.25, 1614.25, 2231.8 , 3153.75, 6002.75, 3749.  ,\n",
       "       3438.85, 5192.1 , 1654.3 , 3251.35, 4417.15, 4316.05, 1862.15,\n",
       "       5497.25, 4252.  ,  655.75, 4638.95, 5196.95, 3668.35,  360.6 ,\n",
       "       2747.1 , 2831.8 , 4236.  , 1299.6 , 4133.3 , 3806.35, 2563.8 ,\n",
       "       5931.35, 3036.3 , 2654.5 , 6482.25, 4543.95, 5711.8 , 4058.75,\n",
       "       4159.35, 6467.9 , 1966.05, 3831.35, 3709.9 , 3982.6 , 2777.9 ,\n",
       "        612.6 , 2342.35, 2697.6 , 2813.5 , 6205.2 , 5294.9 , 2024.55,\n",
       "       2618.9 , 2795.4 ,  680.4 , 3818.2 ,  349.2 , 5636.7 , 2901.45,\n",
       "        650.35, 6844.55, 6486.55,  692.25, 5617.65, 3757.85, 5549.85,\n",
       "       2709.45, 4406.15, 1559.85, 1443.65, 1586.8 , 6252.05, 1949.7 ,\n",
       "       3922.45, 4128.75, 6601.05, 2632.75, 2539.15, 4881.35, 6224.  ,\n",
       "       1285.35, 3572.05, 1582.1 , 3601.1 , 3505.4 , 5167.55, 5235.55,\n",
       "       1803.55, 7146.9 , 2320.15, 5187.55, 4230.25, 1833.7 , 4053.  ,\n",
       "       3811.3 , 2748.2 , 2390.05, 5089.7 , 1665.85, 4978.15, 5980.4 ,\n",
       "       1406.2 , 2478.95, 4754.45, 1627.2 , 3617.65, 4123.3 , 2767.25,\n",
       "       6592.9 , 1491.6 ,  318.95, 4979.9 , 6621.7 , 5739.8 ,  378.4 ,\n",
       "       3284.05, 5232.5 , 2123.35, 5161.4 , 5274.95, 6670.85, 4539.  ,\n",
       "       1463.45, 5238.35, 5052.1 , 1475.7 , 5652.25, 3878.1 , 1584.35,\n",
       "        873.  , 1363.85, 4555.  , 4616.2 , 1575.7 , 5383.95, 3548.8 ,\n",
       "       6509.55, 6574.55,  645.25, 2724.25, 5307.1 ,  845.85, 5454.5 ,\n",
       "       6160.75, 6163.45, 6759.95, 5873.05])"
      ]
     },
     "execution_count": 79,
     "metadata": {},
     "output_type": "execute_result"
    }
   ],
   "source": [
    "yk3"
   ]
  },
  {
   "cell_type": "markdown",
   "metadata": {
    "id": "2mWtDSvB0Nhq"
   },
   "source": [
    "###### Absolute error"
   ]
  },
  {
   "cell_type": "code",
   "execution_count": null,
   "metadata": {
    "colab": {
     "base_uri": "https://localhost:8080/"
    },
    "executionInfo": {
     "elapsed": 7,
     "status": "ok",
     "timestamp": 1649418911118,
     "user": {
      "displayName": "Brendan Crowley",
      "userId": "09355744342736110324"
     },
     "user_tz": -60
    },
    "id": "yayqnPxP0Nhq",
    "outputId": "47b29ca8-c50f-43c1-d53e-f0e5ae1c02b7"
   },
   "outputs": [
    {
     "data": {
      "text/plain": [
       "301.3296469366563"
      ]
     },
     "execution_count": 80,
     "metadata": {},
     "output_type": "execute_result"
    }
   ],
   "source": [
    "mean_absolute_error(yk3, y_test)"
   ]
  },
  {
   "cell_type": "markdown",
   "metadata": {
    "id": "SUDB6VPZ0Nhq"
   },
   "source": [
    "### GridSearchCV"
   ]
  },
  {
   "cell_type": "markdown",
   "metadata": {
    "id": "tw3S2Fom0Nhq"
   },
   "source": [
    "##### Parameter grid"
   ]
  },
  {
   "cell_type": "code",
   "execution_count": null,
   "metadata": {
    "id": "rQcUa6MQ0Nhq"
   },
   "outputs": [],
   "source": [
    "# Loss\n",
    "weights = [\"uniform\", \"distance\"]\n",
    "# Number of estimators\n",
    "n_neighbours = [1, 2, 5, 7, 10, 14, 15, 20]\n",
    "# Criterion for measuring quality of split\n",
    "p = [1, 2]\n",
    "# Minimum number of samples required to split a node\n",
    "leaf_size = [i for i in range(10, 50, 10)]\n",
    "# Create the random grid\n",
    "knn_grid = {'weights': weights,\n",
    "            'n_neighbors': n_neighbours,\n",
    "            'p': p,\n",
    "            'leaf_size': leaf_size}"
   ]
  },
  {
   "cell_type": "markdown",
   "metadata": {
    "id": "E5HTGwoz0Nhr"
   },
   "source": [
    "##### GridSearchCV algorithm"
   ]
  },
  {
   "cell_type": "code",
   "execution_count": null,
   "metadata": {
    "colab": {
     "base_uri": "https://localhost:8080/"
    },
    "executionInfo": {
     "elapsed": 156262,
     "status": "ok",
     "timestamp": 1648983529417,
     "user": {
      "displayName": "Brendan Crowley",
      "userId": "09355744342736110324"
     },
     "user_tz": -60
    },
    "id": "NoTpZ3u70Nhr",
    "outputId": "6ec4d270-7bd6-412e-9792-04da8b2f6bbf"
   },
   "outputs": [
    {
     "name": "stdout",
     "output_type": "stream",
     "text": [
      "Fitting 5 folds for each of 128 candidates, totalling 640 fits\n"
     ]
    },
    {
     "data": {
      "text/plain": [
       "GridSearchCV(cv=KFold(n_splits=5, random_state=None, shuffle=False),\n",
       "             estimator=KNeighborsRegressor(n_jobs=-1), n_jobs=-1,\n",
       "             param_grid={'leaf_size': [10, 20, 30, 40],\n",
       "                         'n_neighbors': [1, 2, 5, 7, 10, 14, 15, 20],\n",
       "                         'p': [1, 2], 'weights': ['uniform', 'distance']},\n",
       "             return_train_score=True, scoring='neg_mean_absolute_error',\n",
       "             verbose=4)"
      ]
     },
     "execution_count": 21,
     "metadata": {},
     "output_type": "execute_result"
    }
   ],
   "source": [
    "knn = KNeighborsRegressor(n_jobs=-1)\n",
    "\n",
    "knn_gs = GridSearchCV(estimator = knn, param_grid = knn_grid,\n",
    "                      scoring=\"neg_mean_absolute_error\",\n",
    "                      n_jobs=-1, cv=KFold(5), return_train_score=True,\n",
    "                      verbose=4)\n",
    "\n",
    "knn_gs.fit(X, y)"
   ]
  },
  {
   "cell_type": "code",
   "execution_count": null,
   "metadata": {
    "colab": {
     "base_uri": "https://localhost:8080/"
    },
    "executionInfo": {
     "elapsed": 39,
     "status": "ok",
     "timestamp": 1648983529418,
     "user": {
      "displayName": "Brendan Crowley",
      "userId": "09355744342736110324"
     },
     "user_tz": -60
    },
    "id": "scCsPszf0Nhr",
    "outputId": "0e1be035-6755-4206-ebbb-2904b4e7fc9a"
   },
   "outputs": [
    {
     "data": {
      "text/plain": [
       "{'algorithm': 'auto',\n",
       " 'leaf_size': 10,\n",
       " 'metric': 'minkowski',\n",
       " 'metric_params': None,\n",
       " 'n_jobs': -1,\n",
       " 'n_neighbors': 20,\n",
       " 'p': 1,\n",
       " 'weights': 'distance'}"
      ]
     },
     "execution_count": 22,
     "metadata": {},
     "output_type": "execute_result"
    }
   ],
   "source": [
    "knn_gs.best_estimator_.get_params()"
   ]
  },
  {
   "cell_type": "markdown",
   "metadata": {
    "id": "k2g2bhik0Nhr"
   },
   "source": [
    "### 2. Best model"
   ]
  },
  {
   "cell_type": "markdown",
   "metadata": {
    "id": "gV7IfKnJ0Nhr"
   },
   "source": [
    "##### Defining best model"
   ]
  },
  {
   "cell_type": "code",
   "execution_count": null,
   "metadata": {
    "id": "WZktVFb20Nhr"
   },
   "outputs": [],
   "source": [
    "knn_best = KNeighborsRegressor(algorithm='auto', leaf_size=10, \n",
    "                               metric='minkowski', metric_params=None, \n",
    "                               n_jobs=-1, p=1, weights='distance')"
   ]
  },
  {
   "cell_type": "markdown",
   "metadata": {
    "id": "svZk55bM0Nhr"
   },
   "source": [
    "##### Cross validation (both accuracy and absolute error)"
   ]
  },
  {
   "cell_type": "code",
   "execution_count": null,
   "metadata": {
    "colab": {
     "base_uri": "https://localhost:8080/"
    },
    "executionInfo": {
     "elapsed": 1968,
     "status": "ok",
     "timestamp": 1649418867651,
     "user": {
      "displayName": "Brendan Crowley",
      "userId": "09355744342736110324"
     },
     "user_tz": -60
    },
    "id": "FxT4Vdi00Nhr",
    "outputId": "f04d3951-2ced-48eb-9afa-cad7b969497d"
   },
   "outputs": [
    {
     "name": "stderr",
     "output_type": "stream",
     "text": [
      "[Parallel(n_jobs=1)]: Using backend SequentialBackend with 1 concurrent workers.\n",
      "[Parallel(n_jobs=1)]: Done   1 out of   1 | elapsed:    0.2s remaining:    0.0s\n"
     ]
    },
    {
     "name": "stdout",
     "output_type": "stream",
     "text": [
      "[CV] END .................................................... total time=   0.2s\n",
      "[CV] END .................................................... total time=   0.2s\n",
      "[CV] END .................................................... total time=   0.2s\n",
      "[CV] END .................................................... total time=   0.2s\n",
      "[CV] END .................................................... total time=   0.2s\n",
      "[CV] END .................................................... total time=   0.2s\n"
     ]
    },
    {
     "name": "stderr",
     "output_type": "stream",
     "text": [
      "[Parallel(n_jobs=1)]: Done   5 out of   5 | elapsed:    0.8s finished\n",
      "[Parallel(n_jobs=1)]: Using backend SequentialBackend with 1 concurrent workers.\n",
      "[Parallel(n_jobs=1)]: Done   1 out of   1 | elapsed:    0.2s remaining:    0.0s\n"
     ]
    },
    {
     "name": "stdout",
     "output_type": "stream",
     "text": [
      "[CV] END .................................................... total time=   0.2s\n",
      "[CV] END .................................................... total time=   0.2s\n",
      "[CV] END .................................................... total time=   0.2s\n",
      "[CV] END .................................................... total time=   0.2s\n"
     ]
    },
    {
     "name": "stderr",
     "output_type": "stream",
     "text": [
      "[Parallel(n_jobs=1)]: Done   5 out of   5 | elapsed:    0.9s finished\n"
     ]
    },
    {
     "data": {
      "text/plain": [
       "(0.9238901692717343, -346.3115188195462)"
      ]
     },
     "execution_count": 64,
     "metadata": {},
     "output_type": "execute_result"
    }
   ],
   "source": [
    "(np.mean(cross_val_score(knn_best, X, y, cv=KFold(5), verbose=2)),\n",
    " np.mean(cross_val_score(knn_best, X, y, cv=KFold(5), verbose=2, scoring=\"neg_mean_absolute_error\")))"
   ]
  },
  {
   "cell_type": "markdown",
   "metadata": {
    "id": "f4w8QCgy0Nhr"
   },
   "source": [
    "###### Fit"
   ]
  },
  {
   "cell_type": "code",
   "execution_count": null,
   "metadata": {
    "id": "N1DjAQ620Nhs"
   },
   "outputs": [],
   "source": [
    "knn_best.fit(X_train, y_train)\n",
    "ybknn = knn_best.predict(X_test)"
   ]
  },
  {
   "cell_type": "markdown",
   "metadata": {
    "id": "-cgLbhWD0Nhs"
   },
   "source": [
    "###### Results"
   ]
  },
  {
   "cell_type": "code",
   "execution_count": null,
   "metadata": {
    "colab": {
     "base_uri": "https://localhost:8080/"
    },
    "executionInfo": {
     "elapsed": 280,
     "status": "ok",
     "timestamp": 1649418870719,
     "user": {
      "displayName": "Brendan Crowley",
      "userId": "09355744342736110324"
     },
     "user_tz": -60
    },
    "id": "-emeQ8YO0Nhs",
    "outputId": "b83e2654-361e-4a15-cffd-d939c10fc658"
   },
   "outputs": [
    {
     "data": {
      "text/plain": [
       "array([5376.44979017,  701.87257425, 2153.51084861, 3161.75779251,\n",
       "       3334.66238808, 5343.21560057, 6250.23689914,  675.00320328,\n",
       "       1496.26840723, 4304.83403693, 7140.27682663, 6200.1926661 ,\n",
       "       4648.13800993, 4554.63431667, 5539.92262326, 1399.84225884,\n",
       "       1617.86121026,  566.03552037, 4162.23938629, 1222.5059959 ,\n",
       "       6269.71984667, 4490.68095016,  677.91166079, 5336.6500824 ,\n",
       "       2445.38607356, 6905.20173927,  340.86180087, 5109.01010211,\n",
       "       5327.22182454, 5154.64671932, 6346.03993582, 5515.24103973,\n",
       "       2917.13351733, 6677.33379093, 5613.70154255, 6525.10301698,\n",
       "       4291.19712643, 1249.52236649, 3666.96027792, 1849.03001107,\n",
       "       4271.46528147, 5655.68225431, 2615.0679525 , 1847.7436953 ,\n",
       "       5142.28434374, 3187.04836719,  947.55259071, 2242.50985428,\n",
       "       6777.34732875, 6197.96978902, 6440.72152239, 6774.8255985 ,\n",
       "       5023.9617116 , 4913.9856626 , 6130.83415221, 5559.73018772,\n",
       "       5446.7599344 ,  694.9110202 , 1975.98957356, 1654.19028643,\n",
       "       1595.94984724, 4408.83485135, 5746.30430972, 4832.92292496,\n",
       "       6574.49863889, 5364.07807291, 3642.66936796,  631.71810248,\n",
       "       5080.65931921, 2774.82259914, 3114.14333999, 5451.74587038,\n",
       "        466.44552131,  672.52697174, 3180.04586093, 3819.14022139,\n",
       "       1556.61662891, 4586.46176245, 1535.53138251, 3907.9414682 ,\n",
       "       6594.37006629, 3414.36977333, 1867.66239486, 6118.15931986,\n",
       "       1778.23547884, 5967.38916165, 5267.27247974, 1905.41866338,\n",
       "       2664.77066211, 6328.64256361, 4639.49742236, 2506.78601539,\n",
       "       2734.69496586, 4062.14980937, 5140.53949152, 6418.40183073,\n",
       "       6824.0508081 , 3730.64352329, 3049.09109884, 4045.19723015,\n",
       "       2864.30485484, 2215.26689767, 1511.94076585, 3039.81634083,\n",
       "       6736.1636257 , 6144.72021514, 5840.12591519, 6410.16356977,\n",
       "       2847.42162846, 5223.34628242, 6318.44126551, 4038.7324115 ,\n",
       "       1639.43737488, 5130.62296033, 1725.66906083, 5522.36991262,\n",
       "       1248.80323184, 6096.41156872, 4716.00189234, 5230.71083091,\n",
       "       3549.55876197, 3642.03547262, 5458.44326924, 1504.50752699,\n",
       "       6481.54115578, 3898.83961121, 4188.68011222, 2137.10527138,\n",
       "       1806.02175296, 6247.73748676, 7004.06857521, 3155.78349532,\n",
       "       2640.6659546 ,  713.54887426, 2918.92874795, 4922.72647534,\n",
       "       2844.47901662, 3658.67635901, 2805.77619207,  665.31335391,\n",
       "       7274.13824426,  704.09012987, 5295.76815725, 1609.34989362,\n",
       "       2884.76850972, 4793.32247275, 6752.59311624, 1266.37565853,\n",
       "       4081.79966221, 1539.10716362, 2829.77262068, 3935.6502757 ,\n",
       "       7006.05177786, 2407.66978832, 3264.71799177, 6134.15192133,\n",
       "       5740.31102458, 2124.70903945, 6125.09384746, 6488.14249462,\n",
       "       7095.78924016, 7028.53723305, 6591.20138601, 6873.6633491 ,\n",
       "        664.36622809, 5568.1142249 , 4079.82336312, 3283.41660381,\n",
       "       1874.26226319, 3665.79033626, 2777.84924476, 6117.4161643 ,\n",
       "       6104.98283903, 7254.16354344,  813.66748912, 6939.1755427 ,\n",
       "       2981.89274992, 5713.172487  , 2646.67348919, 3938.67294829,\n",
       "       4162.04615138,  922.07674277, 5567.26369829, 3613.34220602,\n",
       "        638.38906908, 1442.33918189, 5162.68202665,  647.37285052,\n",
       "       1652.33170212, 2871.05380811, 5788.25210573, 5556.09588887,\n",
       "       4115.94211746, 4518.94850633,  490.45803863, 5878.56160619,\n",
       "       5309.04317367, 2593.77615668, 3721.98802143, 2137.57783885,\n",
       "       6762.84832993, 5493.77381317, 3582.69476335, 6141.12553451,\n",
       "       3062.03056303, 1581.8146273 , 5452.40700916, 1471.84935588,\n",
       "       2302.95444973, 1486.50768953, 5536.63898987, 3823.76591602,\n",
       "       1563.41365703, 4090.49745945, 6355.39535467,  462.33950994,\n",
       "       2517.84870352, 3500.27737846, 7074.09865403, 4658.84568289,\n",
       "       5558.73998735, 4051.5792291 , 2816.13553393, 6524.90619611,\n",
       "        934.36970103, 1568.79023946, 5127.62518794, 4242.65751312,\n",
       "       5585.70091093, 4370.4665829 , 4007.01296933, 2662.35551022,\n",
       "       2034.25348095, 4671.53421722, 3061.9827221 , 2804.11548085,\n",
       "       4259.80250422, 3000.07950036, 5453.86961515,  557.90364232,\n",
       "       4543.98923058, 2001.47353049, 7149.321804  , 3642.87545159,\n",
       "       4375.41073569, 5462.04836386,  649.51553217, 2819.12866115,\n",
       "       2706.14304425, 6143.93071373, 2331.21371741, 3267.58607559,\n",
       "       2589.61368383, 5495.82519391, 3365.5948326 , 6505.2938362 ,\n",
       "       4203.4427382 , 4907.96504459, 5361.42371496, 5775.45901187,\n",
       "       1152.36001907, 1574.25286375, 1777.03747061, 5453.43868092,\n",
       "       4613.87182593, 1569.79513801, 5984.64961692, 5466.68440526,\n",
       "       6589.67827286, 4493.40004487, 5719.34577864, 2607.00832999,\n",
       "       2497.38210149, 5443.40738331, 1951.71627307,  698.37725053,\n",
       "       2618.01812367, 6482.308807  , 3602.03859062, 2734.0083009 ,\n",
       "       1494.15730896, 5344.76943602, 4581.96854734, 2694.7659687 ,\n",
       "       1836.13885355, 3786.67796669, 4278.12774795, 5822.18678913,\n",
       "       1241.05916162, 6190.20762181, 7227.75284871, 3373.88487332,\n",
       "       3826.59290742,  277.90983189,  704.21916776, 5423.05690534,\n",
       "       2908.54506285, 1192.98703551, 3236.14445693, 5567.0130539 ,\n",
       "       2226.95540301, 3746.99403548, 5060.0046403 , 1310.69188482,\n",
       "       7266.89871644,  380.95221249,  580.39641595, 6086.30480516,\n",
       "        827.99736068, 5656.32812658, 3111.42001643, 3664.10775349,\n",
       "       4879.13309681, 2867.08668828, 4392.70271041, 5766.2545785 ,\n",
       "       3038.5277197 , 6261.20558655, 4976.64688587, 5483.65545131,\n",
       "       1442.95386765, 1747.32489352, 4131.65008974,  529.61390753,\n",
       "       6043.11213103, 6057.57516951,  381.53439899, 2183.43042064,\n",
       "        695.08068175, 1685.82549424, 1242.65730129, 3608.8800987 ,\n",
       "       2790.90630883, 5847.77394309, 2034.96507386,  472.89038988,\n",
       "       6300.63014516,  653.0925907 , 6165.08631689, 4271.9761216 ,\n",
       "       1596.32583839, 2336.92850204, 2360.06498636, 1468.73312904,\n",
       "       5365.07527491, 3499.47642761, 3681.40178933, 2729.39934302,\n",
       "        278.05619053, 6409.17645661, 6838.12481662, 3523.81074779,\n",
       "       6744.45929374, 4300.3101502 , 5224.2514115 , 4807.04416295,\n",
       "       6416.54096299,  933.04185046, 4557.86469554, 5462.7865712 ,\n",
       "       6053.44522287, 2451.91018867, 2561.85912745, 5911.73186828,\n",
       "       3810.08158711, 1561.30715823,  303.57368914, 4558.90562993,\n",
       "       5709.87338436,  922.35217855, 4778.50905111, 5344.08073363,\n",
       "       4024.63914634, 6495.25404561, 6070.23603517, 2573.08280075,\n",
       "       5993.79897386, 1323.19537738, 5199.21479655, 6138.84282025,\n",
       "       4309.1838734 , 2712.5084841 , 3920.50427808, 1570.80969471,\n",
       "       3768.42941567, 1533.17073046, 1990.24903201, 1572.49352965,\n",
       "       5605.90861641, 3820.62758651, 5899.7281806 , 3156.75490976,\n",
       "       4635.75158008,  678.45907025, 6188.00613672, 4408.38194465,\n",
       "       6394.49748696, 4135.96235822, 3782.49281126, 2728.49018302,\n",
       "       7107.13378411, 1595.53536122, 5747.56819517, 5789.2744382 ,\n",
       "       5099.76846393, 2245.50850055, 4593.94521227, 4292.10793687,\n",
       "       4347.06546074, 6731.05659765,  704.50214168, 6154.55859125,\n",
       "       6295.83925872, 2759.98367805, 4110.33227454, 3735.07127521,\n",
       "       5124.40881349, 1266.34934978, 2635.0055865 , 4957.47806311,\n",
       "       6629.76690253, 4657.0472937 , 2814.27688949, 2254.64493639,\n",
       "       1646.88074613, 6440.85071125, 5546.6336787 , 4779.72227977,\n",
       "       5026.06830284,  547.63801319, 1936.46420387,  471.4419989 ,\n",
       "       5108.49682804, 5232.11973724,  515.39314485, 4581.80742174,\n",
       "       7046.67986447, 6897.28894984, 6065.85995924, 2886.73466095,\n",
       "       5772.64135385, 6090.33944172, 3186.52619847, 1431.24821436,\n",
       "       4098.05068303, 5185.34645751, 1929.65249824,  648.57075051,\n",
       "       2252.27063209, 2097.54711243, 1330.16167942, 1459.29554088,\n",
       "       4555.34767807, 3937.60158378, 5020.65503123,  518.1533105 ,\n",
       "       4155.71115601, 5912.95362097, 4079.49073501, 5402.62900186,\n",
       "        808.09182568, 3326.74061812, 6758.05102536, 5645.13025897,\n",
       "       3849.32649808, 2358.63531555, 5317.13764522, 6423.41805079,\n",
       "        353.05318741, 5345.53226415,  430.77871944, 1728.85299194,\n",
       "       2266.29238738, 4378.67686434, 3384.63123118, 2740.5720803 ,\n",
       "       6601.3509936 , 6161.11605535, 4109.56447312, 1805.33705751,\n",
       "       5002.19286507, 1789.49040814, 5186.3692823 , 1896.27301519,\n",
       "        719.02080337, 2702.98968806,  680.06141962, 6716.43707978,\n",
       "       6270.2575868 , 4840.22193135, 2012.83773984, 6031.86036178,\n",
       "       1406.76765819,  670.77264467, 2482.27994455, 5047.60199024,\n",
       "       4556.82183657,  435.82355913, 5385.06792606, 7066.69232335,\n",
       "        677.78422587, 5137.11409248, 2774.51102854, 6128.4995014 ,\n",
       "       5421.64504657,  695.32144352, 2173.40350036, 5712.38261072,\n",
       "       4930.11045312, 6636.76323242, 6423.08707873, 7241.5751857 ,\n",
       "       5645.81969554,  684.6231724 , 1222.47674661, 1657.81859466,\n",
       "       4327.03153518, 5049.27927069, 2744.46036867, 3003.39977011,\n",
       "       2033.38146052, 5258.23496653, 5110.37300216,  353.89531091,\n",
       "        487.23872891, 3987.62052029, 6035.09533994, 1875.38772314,\n",
       "       4125.59919353, 6248.23045474, 2948.90933258, 5721.69735225,\n",
       "       6284.57176378, 3536.13800804, 1598.73463164,  475.49331655,\n",
       "       4739.70650625, 6804.03540633, 2522.40404292, 4936.76295553,\n",
       "       5853.24280439, 2103.05184619, 5212.72134185, 5166.30819166,\n",
       "       5464.93481089, 3844.98267953, 6438.93105345, 6105.97508291,\n",
       "       1249.71175345, 6777.91999432, 6279.59567687, 2956.90987293,\n",
       "       2134.9039728 , 3419.27072489, 1320.70335484, 2500.43249751,\n",
       "       3864.07505085,  698.46171301, 3527.33938317, 6225.21080828,\n",
       "       1827.93282435, 3995.88818874, 4045.28323823, 6991.75840069,\n",
       "       5661.10866409, 3017.01183272, 6190.5153355 , 6467.95443348,\n",
       "       5254.50812396, 6250.17084348, 3920.30113215, 1852.84724752,\n",
       "        744.00587541, 4138.15343894, 5702.59449835, 1478.66351611,\n",
       "       3980.40716632, 4330.11070542, 1551.8578681 , 2069.01131071,\n",
       "       5634.66421223, 1352.06287669, 6016.98791684, 3658.84285886,\n",
       "       6594.67783453, 2769.53059246, 6658.5283951 , 6173.21192083,\n",
       "       6204.25350044, 3452.98311768, 5171.34315652, 5365.52498004,\n",
       "       5358.81339504, 3651.79249998, 6208.81384145,  652.49762792,\n",
       "        419.7856133 , 4854.22409055, 7196.47163099, 6943.81917336,\n",
       "       3818.36393263, 1547.09518412, 5954.30654037, 3822.74191602,\n",
       "       1486.91257803, 6063.67100197, 6643.52040675, 3649.80806681,\n",
       "       6312.08406039,  432.9512487 , 3493.8362302 , 6810.7852659 ,\n",
       "       2009.23725808, 2678.28013276, 5645.62207521, 2175.7950534 ,\n",
       "       5224.05050095, 1363.76695954, 4217.19878993, 5655.92774414,\n",
       "       1650.68913773, 5352.58476918, 4463.47178522, 6123.57841374,\n",
       "       6951.50796686, 6918.49466462, 5025.74941307, 4313.10535192,\n",
       "       4820.7493008 , 4332.9137198 , 4867.68660311, 3926.70392026,\n",
       "       3895.39997097, 2902.60047585, 5576.54987843, 4676.72828448,\n",
       "       1576.43913023, 2287.31136949, 3799.4282446 , 5160.85500707,\n",
       "       5289.66873607, 1902.68320694, 1287.05299899, 6838.76515936,\n",
       "       4588.67888209, 3493.07653225, 5079.03703401, 5651.99202904,\n",
       "       2915.32200848, 5766.15488873, 5253.53805137, 2227.18187548,\n",
       "       2897.87097016, 5092.31518094, 4283.81639784, 2321.4489926 ,\n",
       "       4646.33941765, 1227.38222794, 4239.58228766, 7095.34356987,\n",
       "       6737.31420513, 1633.85248394, 2461.47564926, 5329.26560739,\n",
       "       2481.41962709, 6663.64322708, 5852.87202937, 1563.49952392,\n",
       "       2921.55982436, 6269.81580745, 4815.06601412, 4335.33206952,\n",
       "       6193.9145769 , 1553.13570442, 3316.44521443, 4734.17293754,\n",
       "       6718.11555162, 4354.5421163 , 7232.25193333, 4009.35867845,\n",
       "       2612.9805863 , 3849.39918855, 5295.96125888, 6420.85079687,\n",
       "       1581.85905302, 1776.54444381, 5763.67125696, 7554.02822016,\n",
       "       3622.68828756, 3550.26999257, 1540.13953059, 6224.45795728,\n",
       "        718.10269085, 2555.72987658, 4615.5529985 , 6430.66778834,\n",
       "       2232.89181395, 2842.28041578,  633.04924699, 5226.57809088,\n",
       "       1720.10837456, 7201.67123759, 5349.91684913, 5835.98628391,\n",
       "       3782.76848151, 5829.41788823, 5407.61130574,  716.63790598,\n",
       "       4802.09684543,  675.49579433, 6154.17088632, 6608.50307166,\n",
       "       5493.95402637, 6820.17289048, 3771.38024744, 4938.14885645,\n",
       "       6370.39525802, 6879.05935569, 6559.36687042, 2610.74501178,\n",
       "       2019.52154171, 4318.16829122, 2699.88804828, 7155.30527684,\n",
       "       5435.99121186, 4859.76972358, 7352.36080663, 2675.00635771,\n",
       "       7002.12304161, 5198.73026806, 5155.08627362, 3508.32254854,\n",
       "       1669.58170501, 2870.58872891, 2922.79518256, 4995.39397177,\n",
       "        543.87645866, 5389.96522477, 6359.43875629, 5298.64036025,\n",
       "       5810.11734887, 2642.03159085, 2204.97381917, 6107.46799355,\n",
       "       5499.6985543 , 3148.98076286, 6841.42170852, 3768.47559044,\n",
       "       5212.5736245 , 2041.26583577, 4365.65260985, 4890.33856383,\n",
       "       3875.18629143, 5435.76096552, 4245.41157812, 6032.30607347,\n",
       "       2060.74092954,  337.87535225, 4193.43847829, 4921.98949313,\n",
       "       2238.60338364, 3051.27127103, 3940.39763842, 4997.11562337,\n",
       "        680.35938922, 6304.04509613, 5173.85321744, 5131.71710492,\n",
       "       3682.10068842, 6793.69288136, 4220.77411727,  696.33134592,\n",
       "       2405.38129831, 5107.32906798, 6103.52436639, 4837.70019518,\n",
       "       4366.29261046, 5585.21483875,  385.16591342,  773.3857588 ,\n",
       "       5002.71818711, 6499.77462269, 1369.19798118, 3550.94702233,\n",
       "       2030.34402624, 6145.5196538 , 5686.23000057, 1661.88523187,\n",
       "       4163.81739545, 2652.95193095, 4088.96732471, 7057.25603012,\n",
       "       5674.36329548, 6593.97619322, 2840.19166323, 4396.3653238 ,\n",
       "       4039.95240841, 5681.43358647, 5353.32598678, 5268.59252349,\n",
       "       1586.13423525, 5255.44927634, 3717.47446258,  695.57219378,\n",
       "       3166.9284354 , 5806.63576503, 5204.85806385, 4404.17355885,\n",
       "       5602.02222014,  693.62635587, 1330.01066305, 1314.77281551,\n",
       "       5063.11259304, 6316.11402814, 1935.80978594, 1504.38989295,\n",
       "       6755.45176704, 2672.83965681, 1570.68859135, 1764.9274996 ,\n",
       "       2901.94134045, 1591.37673024, 2383.67333076, 2947.01273475,\n",
       "       5777.90030551, 3556.67789101, 3126.21868259, 5177.95677833,\n",
       "       1590.91320777, 3205.43472805, 4535.98103539, 4188.81510077,\n",
       "       1932.02020225, 6407.93915018, 4355.27996292,  671.79509609,\n",
       "       4238.21740062, 5667.56746501, 3523.0999912 ,  336.83394895,\n",
       "       2730.99684075, 2727.79848711, 4388.5013399 , 1242.91225473,\n",
       "       4178.91666789, 3796.74027811, 2611.30676912, 5527.45704297,\n",
       "       2972.42598176, 2714.57607176, 6486.16939303, 4329.72642868,\n",
       "       5938.75280083, 4135.93591659, 4236.46819739, 6220.44906904,\n",
       "       1792.83743453, 3824.58345027, 3659.16450693, 4019.86443235,\n",
       "       2674.02265576,  662.32068631, 2203.15637216, 2866.81093898,\n",
       "       2906.54860022, 6069.21427966, 5407.29187702, 1897.97624795,\n",
       "       2535.07934976, 2923.2360004 ,  625.99756091, 3987.97119417,\n",
       "        350.03220692, 5870.21518248, 2957.95760553,  651.50387017,\n",
       "       7054.60912444, 6244.76069868,  702.13325063, 5286.03375674,\n",
       "       3780.64157237, 5688.44243354, 2595.83168393, 4492.97471576,\n",
       "       1558.2645743 , 1450.42489403, 1625.1301983 , 6033.71212787,\n",
       "       1731.66385203, 3830.63752839, 4000.9072037 , 6473.82702222,\n",
       "       2545.20988808, 2768.72311033, 3332.90343838, 6012.23651238,\n",
       "        996.38769199, 3701.58721235, 1474.35900334, 3664.31269233,\n",
       "       3067.36633288, 5071.38210487, 5325.31982105, 1555.54879295,\n",
       "       7445.7505531 , 2248.57820704, 5106.56509682, 4499.35576987,\n",
       "       1855.33543523, 3979.78009257, 3620.77569978, 2853.20455266,\n",
       "       2433.82109702, 5636.79419687, 1844.72222888, 4922.82656006,\n",
       "       6023.89394787, 1319.64725672, 2218.21862604, 4570.74624528,\n",
       "       1621.94368998, 3531.89043101, 4468.13666605, 2820.99063985,\n",
       "       6738.17872502, 1423.52759822,  277.82565593, 5110.92486225,\n",
       "       6816.98640237, 5463.56019906,  344.27535015, 3146.82177143,\n",
       "       5212.66546593, 2040.74145226, 4791.3863188 , 5257.50527478,\n",
       "       6737.48885507, 4773.01246115, 1359.78457029, 5302.28561775,\n",
       "       5084.46479845, 1600.54525674, 5991.32907862, 3822.63537436,\n",
       "       1591.59269935,  893.37935492, 1237.61306627, 3255.9180015 ,\n",
       "       4637.3119288 , 1596.64906943, 5356.59116315, 3383.7512445 ,\n",
       "       6727.56579681, 6443.66432682,  688.82287524, 2860.48870019,\n",
       "       5172.66062394,  858.18502143, 5675.17192781, 6056.47655732,\n",
       "       6316.53361105, 6468.38338644, 6566.67257048])"
      ]
     },
     "execution_count": 66,
     "metadata": {},
     "output_type": "execute_result"
    }
   ],
   "source": [
    "ybknn"
   ]
  },
  {
   "cell_type": "markdown",
   "metadata": {
    "id": "_LKgiKwS0Nhs"
   },
   "source": [
    "###### Absolute error"
   ]
  },
  {
   "cell_type": "code",
   "execution_count": null,
   "metadata": {
    "colab": {
     "base_uri": "https://localhost:8080/"
    },
    "executionInfo": {
     "elapsed": 7,
     "status": "ok",
     "timestamp": 1649418871714,
     "user": {
      "displayName": "Brendan Crowley",
      "userId": "09355744342736110324"
     },
     "user_tz": -60
    },
    "id": "FVSQL0d90Nhs",
    "outputId": "65ac334a-6067-44c8-fb80-082fc11bf011"
   },
   "outputs": [
    {
     "data": {
      "text/plain": [
       "290.824070365135"
      ]
     },
     "execution_count": 67,
     "metadata": {},
     "output_type": "execute_result"
    }
   ],
   "source": [
    "mean_absolute_error(ybknn, y_test)"
   ]
  }
 ],
 "metadata": {
  "colab": {
   "name": "MachineLearning.ipynb",
   "provenance": []
  },
  "kernelspec": {
   "display_name": "Python 3 (ipykernel)",
   "language": "python",
   "name": "python3"
  },
  "language_info": {
   "codemirror_mode": {
    "name": "ipython",
    "version": 3
   },
   "file_extension": ".py",
   "mimetype": "text/x-python",
   "name": "python",
   "nbconvert_exporter": "python",
   "pygments_lexer": "ipython3",
   "version": "3.10.4"
  }
 },
 "nbformat": 4,
 "nbformat_minor": 1
}
